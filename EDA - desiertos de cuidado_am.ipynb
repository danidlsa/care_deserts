{
 "cells": [
  {
   "cell_type": "markdown",
   "metadata": {},
   "source": [
    "# Desiertos de cuidado en Lima metropolitana y Callao\n",
    "## Estadísticas descriptivas"
   ]
  },
  {
   "cell_type": "code",
   "execution_count": 1,
   "metadata": {},
   "outputs": [],
   "source": [
    "import pandas as pd\n",
    "from matplotlib import pyplot as plt\n",
    "import geopandas as gpd\n",
    "import numpy as np\n",
    "import pandas as pd\n",
    "import shapely\n",
    "import plotly.express as px\n",
    "import osmnx as ox"
   ]
  },
  {
   "cell_type": "markdown",
   "metadata": {},
   "source": [
    "## - Personas adultas mayores"
   ]
  },
  {
   "cell_type": "markdown",
   "metadata": {},
   "source": [
    "Importar bbdd y mergear "
   ]
  },
  {
   "cell_type": "code",
   "execution_count": 2,
   "metadata": {},
   "outputs": [],
   "source": [
    "gdf = gpd.read_file('results - desiertos/desiertos_ajustados/desiertos_am_recalc.geojson')\n"
   ]
  },
  {
   "cell_type": "code",
   "execution_count": 3,
   "metadata": {},
   "outputs": [
    {
     "data": {
      "text/plain": [
       "Index(['Mz', 'UBIGEO', 'AREA', 'CODCCPP', 'ZONA', 'MANZANA_ID', 'MANZANA_A',\n",
       "       'pobma60_mz', 'distancia_a_centro_am', 'duracion_a_centro_am',\n",
       "       'alta_demanda', 'desierto_am_recalc', 'umbral_t_dinamico', 'geometry'],\n",
       "      dtype='object')"
      ]
     },
     "execution_count": 3,
     "metadata": {},
     "output_type": "execute_result"
    }
   ],
   "source": [
    "gdf.columns"
   ]
  },
  {
   "cell_type": "code",
   "execution_count": 4,
   "metadata": {},
   "outputs": [],
   "source": [
    "\n",
    "manzanas = gpd.read_file('data/lima_manzanas.gpkg')\n"
   ]
  },
  {
   "cell_type": "code",
   "execution_count": 5,
   "metadata": {},
   "outputs": [],
   "source": [
    "gdf = gdf.drop(columns='geometry')"
   ]
  },
  {
   "cell_type": "code",
   "execution_count": 6,
   "metadata": {},
   "outputs": [
    {
     "name": "stdout",
     "output_type": "stream",
     "text": [
      "(98911, 10)\n"
     ]
    },
    {
     "data": {
      "text/html": [
       "<div>\n",
       "<style scoped>\n",
       "    .dataframe tbody tr th:only-of-type {\n",
       "        vertical-align: middle;\n",
       "    }\n",
       "\n",
       "    .dataframe tbody tr th {\n",
       "        vertical-align: top;\n",
       "    }\n",
       "\n",
       "    .dataframe thead th {\n",
       "        text-align: right;\n",
       "    }\n",
       "</style>\n",
       "<table border=\"1\" class=\"dataframe\">\n",
       "  <thead>\n",
       "    <tr style=\"text-align: right;\">\n",
       "      <th></th>\n",
       "      <th>FID</th>\n",
       "      <th>idmanzana</th>\n",
       "      <th>Ubigeo</th>\n",
       "      <th>Departamento</th>\n",
       "      <th>Provincia</th>\n",
       "      <th>Distrito</th>\n",
       "      <th>Hogares</th>\n",
       "      <th>Población</th>\n",
       "      <th>Estrato</th>\n",
       "      <th>geom</th>\n",
       "    </tr>\n",
       "  </thead>\n",
       "  <tbody>\n",
       "    <tr>\n",
       "      <th>0</th>\n",
       "      <td>peru_estratos_ingresos.14645</td>\n",
       "      <td>150106092000020</td>\n",
       "      <td>150106</td>\n",
       "      <td>LIMA</td>\n",
       "      <td>LIMA</td>\n",
       "      <td>CARABAYLLO</td>\n",
       "      <td>4</td>\n",
       "      <td>10</td>\n",
       "      <td>2</td>\n",
       "      <td>MULTIPOLYGON (((-77.02289224399993 -11.8951647...</td>\n",
       "    </tr>\n",
       "    <tr>\n",
       "      <th>1</th>\n",
       "      <td>peru_estratos_ingresos.14646</td>\n",
       "      <td>150106092000010</td>\n",
       "      <td>150106</td>\n",
       "      <td>LIMA</td>\n",
       "      <td>LIMA</td>\n",
       "      <td>CARABAYLLO</td>\n",
       "      <td>31</td>\n",
       "      <td>129</td>\n",
       "      <td>2</td>\n",
       "      <td>MULTIPOLYGON (((-77.02352222499997 -11.8947903...</td>\n",
       "    </tr>\n",
       "    <tr>\n",
       "      <th>2</th>\n",
       "      <td>peru_estratos_ingresos.14647</td>\n",
       "      <td>150106035000100</td>\n",
       "      <td>150106</td>\n",
       "      <td>LIMA</td>\n",
       "      <td>LIMA</td>\n",
       "      <td>CARABAYLLO</td>\n",
       "      <td>14</td>\n",
       "      <td>50</td>\n",
       "      <td>1</td>\n",
       "      <td>MULTIPOLYGON (((-77.07526241299996 -11.8439180...</td>\n",
       "    </tr>\n",
       "    <tr>\n",
       "      <th>3</th>\n",
       "      <td>peru_estratos_ingresos.14648</td>\n",
       "      <td>150106092000450</td>\n",
       "      <td>150106</td>\n",
       "      <td>LIMA</td>\n",
       "      <td>LIMA</td>\n",
       "      <td>CARABAYLLO</td>\n",
       "      <td>32</td>\n",
       "      <td>149</td>\n",
       "      <td>2</td>\n",
       "      <td>MULTIPOLYGON (((-77.02031777899998 -11.8968804...</td>\n",
       "    </tr>\n",
       "    <tr>\n",
       "      <th>4</th>\n",
       "      <td>peru_estratos_ingresos.14649</td>\n",
       "      <td>150106092000080</td>\n",
       "      <td>150106</td>\n",
       "      <td>LIMA</td>\n",
       "      <td>LIMA</td>\n",
       "      <td>CARABAYLLO</td>\n",
       "      <td>55</td>\n",
       "      <td>263</td>\n",
       "      <td>2</td>\n",
       "      <td>MULTIPOLYGON (((-77.02249469799995 -11.8977410...</td>\n",
       "    </tr>\n",
       "  </tbody>\n",
       "</table>\n",
       "</div>"
      ],
      "text/plain": [
       "                            FID        idmanzana  Ubigeo Departamento  \\\n",
       "0  peru_estratos_ingresos.14645  150106092000020  150106         LIMA   \n",
       "1  peru_estratos_ingresos.14646  150106092000010  150106         LIMA   \n",
       "2  peru_estratos_ingresos.14647  150106035000100  150106         LIMA   \n",
       "3  peru_estratos_ingresos.14648  150106092000450  150106         LIMA   \n",
       "4  peru_estratos_ingresos.14649  150106092000080  150106         LIMA   \n",
       "\n",
       "  Provincia    Distrito  Hogares  Población  Estrato  \\\n",
       "0      LIMA  CARABAYLLO        4         10        2   \n",
       "1      LIMA  CARABAYLLO       31        129        2   \n",
       "2      LIMA  CARABAYLLO       14         50        1   \n",
       "3      LIMA  CARABAYLLO       32        149        2   \n",
       "4      LIMA  CARABAYLLO       55        263        2   \n",
       "\n",
       "                                                geom  \n",
       "0  MULTIPOLYGON (((-77.02289224399993 -11.8951647...  \n",
       "1  MULTIPOLYGON (((-77.02352222499997 -11.8947903...  \n",
       "2  MULTIPOLYGON (((-77.07526241299996 -11.8439180...  \n",
       "3  MULTIPOLYGON (((-77.02031777899998 -11.8968804...  \n",
       "4  MULTIPOLYGON (((-77.02249469799995 -11.8977410...  "
      ]
     },
     "execution_count": 6,
     "metadata": {},
     "output_type": "execute_result"
    }
   ],
   "source": [
    "pobreza = pd.read_csv(\"data/BBDD pobreza/peru_estratos_ingresos.csv\")\n",
    "print(pobreza.shape)\n",
    "pobreza.head()\n",
    "\n"
   ]
  },
  {
   "cell_type": "code",
   "execution_count": 7,
   "metadata": {},
   "outputs": [
    {
     "name": "stdout",
     "output_type": "stream",
     "text": [
      "(178853, 20)\n"
     ]
    },
    {
     "data": {
      "text/html": [
       "<div>\n",
       "<style scoped>\n",
       "    .dataframe tbody tr th:only-of-type {\n",
       "        vertical-align: middle;\n",
       "    }\n",
       "\n",
       "    .dataframe tbody tr th {\n",
       "        vertical-align: top;\n",
       "    }\n",
       "\n",
       "    .dataframe thead th {\n",
       "        text-align: right;\n",
       "    }\n",
       "</style>\n",
       "<table border=\"1\" class=\"dataframe\">\n",
       "  <thead>\n",
       "    <tr style=\"text-align: right;\">\n",
       "      <th></th>\n",
       "      <th>Mz</th>\n",
       "      <th>T_TOTAL</th>\n",
       "      <th>T_MUJERES</th>\n",
       "      <th>NOMBDEP</th>\n",
       "      <th>NOMBPROV</th>\n",
       "      <th>NOMBDIST</th>\n",
       "      <th>CAPITAL</th>\n",
       "      <th>geometry</th>\n",
       "      <th>UBIGEO</th>\n",
       "      <th>AREA</th>\n",
       "      <th>CODCCPP</th>\n",
       "      <th>ZONA</th>\n",
       "      <th>MANZANA_ID</th>\n",
       "      <th>MANZANA_A</th>\n",
       "      <th>pobma60_mz</th>\n",
       "      <th>distancia_a_centro_am</th>\n",
       "      <th>duracion_a_centro_am</th>\n",
       "      <th>alta_demanda</th>\n",
       "      <th>desierto_am_recalc</th>\n",
       "      <th>umbral_t_dinamico</th>\n",
       "    </tr>\n",
       "  </thead>\n",
       "  <tbody>\n",
       "    <tr>\n",
       "      <th>178848</th>\n",
       "      <td>151009000100100026A</td>\n",
       "      <td>11.0</td>\n",
       "      <td>5.0</td>\n",
       "      <td>LIMA</td>\n",
       "      <td>YAUYOS</td>\n",
       "      <td>None</td>\n",
       "      <td>None</td>\n",
       "      <td>MULTIPOLYGON (((-75.86358 -12.91501, -75.86360...</td>\n",
       "      <td>151009</td>\n",
       "      <td>1</td>\n",
       "      <td>0001</td>\n",
       "      <td>00100</td>\n",
       "      <td>026</td>\n",
       "      <td>A</td>\n",
       "      <td>0.0</td>\n",
       "      <td>419.9535</td>\n",
       "      <td>5039.515000</td>\n",
       "      <td>0</td>\n",
       "      <td>0</td>\n",
       "      <td>20.000000</td>\n",
       "    </tr>\n",
       "    <tr>\n",
       "      <th>178849</th>\n",
       "      <td>151022004300000</td>\n",
       "      <td>2.0</td>\n",
       "      <td>1.0</td>\n",
       "      <td>LIMA</td>\n",
       "      <td>YAUYOS</td>\n",
       "      <td>None</td>\n",
       "      <td>None</td>\n",
       "      <td>MULTIPOLYGON (((-76.16561 -12.43728, -76.16553...</td>\n",
       "      <td>151022</td>\n",
       "      <td>2</td>\n",
       "      <td>0043</td>\n",
       "      <td>00000</td>\n",
       "      <td>None</td>\n",
       "      <td>None</td>\n",
       "      <td>0.0</td>\n",
       "      <td>173.5583</td>\n",
       "      <td>2082.741667</td>\n",
       "      <td>0</td>\n",
       "      <td>0</td>\n",
       "      <td>37.164705</td>\n",
       "    </tr>\n",
       "    <tr>\n",
       "      <th>178850</th>\n",
       "      <td>151007000100100017</td>\n",
       "      <td>8.0</td>\n",
       "      <td>4.0</td>\n",
       "      <td>LIMA</td>\n",
       "      <td>YAUYOS</td>\n",
       "      <td>None</td>\n",
       "      <td>None</td>\n",
       "      <td>MULTIPOLYGON (((-75.87091 -12.34471, -75.87092...</td>\n",
       "      <td>151007</td>\n",
       "      <td>1</td>\n",
       "      <td>0001</td>\n",
       "      <td>00100</td>\n",
       "      <td>017</td>\n",
       "      <td>None</td>\n",
       "      <td>0.0</td>\n",
       "      <td>211.6314</td>\n",
       "      <td>2572.025000</td>\n",
       "      <td>0</td>\n",
       "      <td>0</td>\n",
       "      <td>20.000000</td>\n",
       "    </tr>\n",
       "    <tr>\n",
       "      <th>178851</th>\n",
       "      <td>151022002700000</td>\n",
       "      <td>1.0</td>\n",
       "      <td>0.0</td>\n",
       "      <td>LIMA</td>\n",
       "      <td>YAUYOS</td>\n",
       "      <td>None</td>\n",
       "      <td>None</td>\n",
       "      <td>MULTIPOLYGON (((-76.29371 -12.52059, -76.29363...</td>\n",
       "      <td>151022</td>\n",
       "      <td>2</td>\n",
       "      <td>0027</td>\n",
       "      <td>00000</td>\n",
       "      <td>None</td>\n",
       "      <td>None</td>\n",
       "      <td>0.0</td>\n",
       "      <td>184.5107</td>\n",
       "      <td>2214.206667</td>\n",
       "      <td>0</td>\n",
       "      <td>0</td>\n",
       "      <td>37.394611</td>\n",
       "    </tr>\n",
       "    <tr>\n",
       "      <th>178852</th>\n",
       "      <td>151004000100100009</td>\n",
       "      <td>11.0</td>\n",
       "      <td>5.0</td>\n",
       "      <td>LIMA</td>\n",
       "      <td>YAUYOS</td>\n",
       "      <td>None</td>\n",
       "      <td>None</td>\n",
       "      <td>MULTIPOLYGON (((-76.13725 -12.38264, -76.13743...</td>\n",
       "      <td>151004</td>\n",
       "      <td>1</td>\n",
       "      <td>0001</td>\n",
       "      <td>00100</td>\n",
       "      <td>009</td>\n",
       "      <td>None</td>\n",
       "      <td>0.0</td>\n",
       "      <td>170.9955</td>\n",
       "      <td>2051.980000</td>\n",
       "      <td>0</td>\n",
       "      <td>0</td>\n",
       "      <td>20.000000</td>\n",
       "    </tr>\n",
       "  </tbody>\n",
       "</table>\n",
       "</div>"
      ],
      "text/plain": [
       "                         Mz  T_TOTAL  T_MUJERES NOMBDEP NOMBPROV NOMBDIST  \\\n",
       "178848  151009000100100026A     11.0        5.0    LIMA   YAUYOS     None   \n",
       "178849      151022004300000      2.0        1.0    LIMA   YAUYOS     None   \n",
       "178850   151007000100100017      8.0        4.0    LIMA   YAUYOS     None   \n",
       "178851      151022002700000      1.0        0.0    LIMA   YAUYOS     None   \n",
       "178852   151004000100100009     11.0        5.0    LIMA   YAUYOS     None   \n",
       "\n",
       "       CAPITAL                                           geometry  UBIGEO  \\\n",
       "178848    None  MULTIPOLYGON (((-75.86358 -12.91501, -75.86360...  151009   \n",
       "178849    None  MULTIPOLYGON (((-76.16561 -12.43728, -76.16553...  151022   \n",
       "178850    None  MULTIPOLYGON (((-75.87091 -12.34471, -75.87092...  151007   \n",
       "178851    None  MULTIPOLYGON (((-76.29371 -12.52059, -76.29363...  151022   \n",
       "178852    None  MULTIPOLYGON (((-76.13725 -12.38264, -76.13743...  151004   \n",
       "\n",
       "       AREA CODCCPP   ZONA MANZANA_ID MANZANA_A  pobma60_mz  \\\n",
       "178848    1    0001  00100        026         A         0.0   \n",
       "178849    2    0043  00000       None      None         0.0   \n",
       "178850    1    0001  00100        017      None         0.0   \n",
       "178851    2    0027  00000       None      None         0.0   \n",
       "178852    1    0001  00100        009      None         0.0   \n",
       "\n",
       "        distancia_a_centro_am  duracion_a_centro_am  alta_demanda  \\\n",
       "178848               419.9535           5039.515000             0   \n",
       "178849               173.5583           2082.741667             0   \n",
       "178850               211.6314           2572.025000             0   \n",
       "178851               184.5107           2214.206667             0   \n",
       "178852               170.9955           2051.980000             0   \n",
       "\n",
       "        desierto_am_recalc  umbral_t_dinamico  \n",
       "178848                   0          20.000000  \n",
       "178849                   0          37.164705  \n",
       "178850                   0          20.000000  \n",
       "178851                   0          37.394611  \n",
       "178852                   0          20.000000  "
      ]
     },
     "execution_count": 7,
     "metadata": {},
     "output_type": "execute_result"
    }
   ],
   "source": [
    "base_merged = pd.merge(manzanas[[\"Mz\", \"T_TOTAL\", \"T_MUJERES\", \"NOMBDEP\", \"NOMBPROV\", \"NOMBDIST\", \"CAPITAL\", \n",
    "                                \"geometry\"]], gdf, on='Mz', how=\"left\")\n",
    "print(base_merged.shape)\n",
    "base_merged.tail()"
   ]
  },
  {
   "cell_type": "code",
   "execution_count": 8,
   "metadata": {},
   "outputs": [
    {
     "name": "stdout",
     "output_type": "stream",
     "text": [
      "(178853, 22)\n"
     ]
    },
    {
     "data": {
      "text/html": [
       "<div>\n",
       "<style scoped>\n",
       "    .dataframe tbody tr th:only-of-type {\n",
       "        vertical-align: middle;\n",
       "    }\n",
       "\n",
       "    .dataframe tbody tr th {\n",
       "        vertical-align: top;\n",
       "    }\n",
       "\n",
       "    .dataframe thead th {\n",
       "        text-align: right;\n",
       "    }\n",
       "</style>\n",
       "<table border=\"1\" class=\"dataframe\">\n",
       "  <thead>\n",
       "    <tr style=\"text-align: right;\">\n",
       "      <th></th>\n",
       "      <th>Mz</th>\n",
       "      <th>T_TOTAL</th>\n",
       "      <th>T_MUJERES</th>\n",
       "      <th>NOMBDEP</th>\n",
       "      <th>NOMBPROV</th>\n",
       "      <th>NOMBDIST</th>\n",
       "      <th>CAPITAL</th>\n",
       "      <th>geometry</th>\n",
       "      <th>UBIGEO</th>\n",
       "      <th>AREA</th>\n",
       "      <th>...</th>\n",
       "      <th>MANZANA_ID</th>\n",
       "      <th>MANZANA_A</th>\n",
       "      <th>pobma60_mz</th>\n",
       "      <th>distancia_a_centro_am</th>\n",
       "      <th>duracion_a_centro_am</th>\n",
       "      <th>alta_demanda</th>\n",
       "      <th>desierto_am_recalc</th>\n",
       "      <th>umbral_t_dinamico</th>\n",
       "      <th>Estrato</th>\n",
       "      <th>geom</th>\n",
       "    </tr>\n",
       "  </thead>\n",
       "  <tbody>\n",
       "    <tr>\n",
       "      <th>0</th>\n",
       "      <td>150102000102100023</td>\n",
       "      <td>18.0</td>\n",
       "      <td>11.0</td>\n",
       "      <td>LIMA</td>\n",
       "      <td>LIMA</td>\n",
       "      <td>ANCON</td>\n",
       "      <td>ANCON</td>\n",
       "      <td>MULTIPOLYGON (((-77.12763 -11.81363, -77.12723...</td>\n",
       "      <td>150102</td>\n",
       "      <td>1</td>\n",
       "      <td>...</td>\n",
       "      <td>023</td>\n",
       "      <td>None</td>\n",
       "      <td>0.0</td>\n",
       "      <td>2.7854</td>\n",
       "      <td>33.421667</td>\n",
       "      <td>0</td>\n",
       "      <td>0</td>\n",
       "      <td>20.000000</td>\n",
       "      <td>2.0</td>\n",
       "      <td>MULTIPOLYGON (((-77.12763 -11.81363, -77.12723...</td>\n",
       "    </tr>\n",
       "    <tr>\n",
       "      <th>1</th>\n",
       "      <td>150102000101101010</td>\n",
       "      <td>31.0</td>\n",
       "      <td>17.0</td>\n",
       "      <td>LIMA</td>\n",
       "      <td>LIMA</td>\n",
       "      <td>ANCON</td>\n",
       "      <td>ANCON</td>\n",
       "      <td>MULTIPOLYGON (((-77.15185 -11.73780, -77.15151...</td>\n",
       "      <td>150102</td>\n",
       "      <td>1</td>\n",
       "      <td>...</td>\n",
       "      <td>010</td>\n",
       "      <td>None</td>\n",
       "      <td>0.0</td>\n",
       "      <td>7.7934</td>\n",
       "      <td>93.521667</td>\n",
       "      <td>0</td>\n",
       "      <td>0</td>\n",
       "      <td>20.000000</td>\n",
       "      <td>1.0</td>\n",
       "      <td>MULTIPOLYGON (((-77.15185 -11.73780, -77.15151...</td>\n",
       "    </tr>\n",
       "    <tr>\n",
       "      <th>2</th>\n",
       "      <td>150102000100600037</td>\n",
       "      <td>71.0</td>\n",
       "      <td>39.0</td>\n",
       "      <td>LIMA</td>\n",
       "      <td>LIMA</td>\n",
       "      <td>ANCON</td>\n",
       "      <td>ANCON</td>\n",
       "      <td>MULTIPOLYGON (((-77.16978 -11.77796, -77.16981...</td>\n",
       "      <td>150102</td>\n",
       "      <td>1</td>\n",
       "      <td>...</td>\n",
       "      <td>037</td>\n",
       "      <td>None</td>\n",
       "      <td>3.0</td>\n",
       "      <td>0.4401</td>\n",
       "      <td>5.280000</td>\n",
       "      <td>1</td>\n",
       "      <td>0</td>\n",
       "      <td>20.000000</td>\n",
       "      <td>2.0</td>\n",
       "      <td>MULTIPOLYGON (((-77.16978 -11.77796, -77.16981...</td>\n",
       "    </tr>\n",
       "    <tr>\n",
       "      <th>3</th>\n",
       "      <td>150102000101202048</td>\n",
       "      <td>12.0</td>\n",
       "      <td>7.0</td>\n",
       "      <td>LIMA</td>\n",
       "      <td>LIMA</td>\n",
       "      <td>ANCON</td>\n",
       "      <td>ANCON</td>\n",
       "      <td>MULTIPOLYGON (((-77.15222 -11.74137, -77.15140...</td>\n",
       "      <td>150102</td>\n",
       "      <td>1</td>\n",
       "      <td>...</td>\n",
       "      <td>048</td>\n",
       "      <td>None</td>\n",
       "      <td>0.0</td>\n",
       "      <td>7.2304</td>\n",
       "      <td>86.766667</td>\n",
       "      <td>0</td>\n",
       "      <td>0</td>\n",
       "      <td>20.000000</td>\n",
       "      <td>1.0</td>\n",
       "      <td>MULTIPOLYGON (((-77.15222 -11.74137, -77.15140...</td>\n",
       "    </tr>\n",
       "    <tr>\n",
       "      <th>4</th>\n",
       "      <td>150102000101202010A</td>\n",
       "      <td>2.0</td>\n",
       "      <td>2.0</td>\n",
       "      <td>LIMA</td>\n",
       "      <td>LIMA</td>\n",
       "      <td>ANCON</td>\n",
       "      <td>ANCON</td>\n",
       "      <td>MULTIPOLYGON (((-77.16253 -11.73364, -77.16255...</td>\n",
       "      <td>150102</td>\n",
       "      <td>1</td>\n",
       "      <td>...</td>\n",
       "      <td>010</td>\n",
       "      <td>A</td>\n",
       "      <td>0.0</td>\n",
       "      <td>8.6044</td>\n",
       "      <td>103.258333</td>\n",
       "      <td>0</td>\n",
       "      <td>0</td>\n",
       "      <td>21.833519</td>\n",
       "      <td>3.0</td>\n",
       "      <td>MULTIPOLYGON (((-77.16253 -11.73364, -77.16255...</td>\n",
       "    </tr>\n",
       "  </tbody>\n",
       "</table>\n",
       "<p>5 rows × 22 columns</p>\n",
       "</div>"
      ],
      "text/plain": [
       "                    Mz  T_TOTAL  T_MUJERES NOMBDEP NOMBPROV NOMBDIST CAPITAL  \\\n",
       "0   150102000102100023     18.0       11.0    LIMA     LIMA    ANCON   ANCON   \n",
       "1   150102000101101010     31.0       17.0    LIMA     LIMA    ANCON   ANCON   \n",
       "2   150102000100600037     71.0       39.0    LIMA     LIMA    ANCON   ANCON   \n",
       "3   150102000101202048     12.0        7.0    LIMA     LIMA    ANCON   ANCON   \n",
       "4  150102000101202010A      2.0        2.0    LIMA     LIMA    ANCON   ANCON   \n",
       "\n",
       "                                            geometry  UBIGEO AREA  ...  \\\n",
       "0  MULTIPOLYGON (((-77.12763 -11.81363, -77.12723...  150102    1  ...   \n",
       "1  MULTIPOLYGON (((-77.15185 -11.73780, -77.15151...  150102    1  ...   \n",
       "2  MULTIPOLYGON (((-77.16978 -11.77796, -77.16981...  150102    1  ...   \n",
       "3  MULTIPOLYGON (((-77.15222 -11.74137, -77.15140...  150102    1  ...   \n",
       "4  MULTIPOLYGON (((-77.16253 -11.73364, -77.16255...  150102    1  ...   \n",
       "\n",
       "  MANZANA_ID MANZANA_A pobma60_mz distancia_a_centro_am  duracion_a_centro_am  \\\n",
       "0        023      None        0.0                2.7854             33.421667   \n",
       "1        010      None        0.0                7.7934             93.521667   \n",
       "2        037      None        3.0                0.4401              5.280000   \n",
       "3        048      None        0.0                7.2304             86.766667   \n",
       "4        010         A        0.0                8.6044            103.258333   \n",
       "\n",
       "   alta_demanda  desierto_am_recalc  umbral_t_dinamico  Estrato  \\\n",
       "0             0                   0          20.000000      2.0   \n",
       "1             0                   0          20.000000      1.0   \n",
       "2             1                   0          20.000000      2.0   \n",
       "3             0                   0          20.000000      1.0   \n",
       "4             0                   0          21.833519      3.0   \n",
       "\n",
       "                                                geom  \n",
       "0  MULTIPOLYGON (((-77.12763 -11.81363, -77.12723...  \n",
       "1  MULTIPOLYGON (((-77.15185 -11.73780, -77.15151...  \n",
       "2  MULTIPOLYGON (((-77.16978 -11.77796, -77.16981...  \n",
       "3  MULTIPOLYGON (((-77.15222 -11.74137, -77.15140...  \n",
       "4  MULTIPOLYGON (((-77.16253 -11.73364, -77.16255...  \n",
       "\n",
       "[5 rows x 22 columns]"
      ]
     },
     "execution_count": 8,
     "metadata": {},
     "output_type": "execute_result"
    }
   ],
   "source": [
    "from shapely import wkt\n",
    "import geopandas as gpd\n",
    "\n",
    "# Convert the 'geom' column from WKT to shapely objects\n",
    "pobreza['geom'] = pobreza['geom'].apply(wkt.loads)\n",
    "\n",
    "# Now create the GeoDataFrame\n",
    "pobreza = gpd.GeoDataFrame(pobreza, geometry='geom')\n",
    "\n",
    "manzanas_merged = pd.merge(base_merged, pobreza[[\"Estrato\", \"geom\"]], left_on='geometry', right_on=\"geom\", how=\"left\")\n",
    "print(manzanas_merged.shape)\n",
    "manzanas_merged.head()"
   ]
  },
  {
   "cell_type": "code",
   "execution_count": 9,
   "metadata": {},
   "outputs": [],
   "source": [
    "manzanas_merged = manzanas_merged.drop_duplicates()"
   ]
  },
  {
   "cell_type": "code",
   "execution_count": 10,
   "metadata": {},
   "outputs": [
    {
     "name": "stdout",
     "output_type": "stream",
     "text": [
      "<class 'geopandas.geodataframe.GeoDataFrame'>\n",
      "Index: 124084 entries, 0 to 178852\n",
      "Data columns (total 22 columns):\n",
      " #   Column                 Non-Null Count   Dtype   \n",
      "---  ------                 --------------   -----   \n",
      " 0   Mz                     124084 non-null  object  \n",
      " 1   T_TOTAL                124084 non-null  float64 \n",
      " 2   T_MUJERES              124084 non-null  float64 \n",
      " 3   NOMBDEP                124084 non-null  object  \n",
      " 4   NOMBPROV               124084 non-null  object  \n",
      " 5   NOMBDIST               92376 non-null   object  \n",
      " 6   CAPITAL                92376 non-null   object  \n",
      " 7   geometry               124084 non-null  geometry\n",
      " 8   UBIGEO                 124084 non-null  object  \n",
      " 9   AREA                   124084 non-null  object  \n",
      " 10  CODCCPP                124084 non-null  object  \n",
      " 11  ZONA                   124084 non-null  object  \n",
      " 12  MANZANA_ID             121332 non-null  object  \n",
      " 13  MANZANA_A              45532 non-null   object  \n",
      " 14  pobma60_mz             124084 non-null  float64 \n",
      " 15  distancia_a_centro_am  119558 non-null  float64 \n",
      " 16  duracion_a_centro_am   119558 non-null  float64 \n",
      " 17  alta_demanda           124084 non-null  int64   \n",
      " 18  desierto_am_recalc     124084 non-null  int64   \n",
      " 19  umbral_t_dinamico      124084 non-null  float64 \n",
      " 20  Estrato                96836 non-null   float64 \n",
      " 21  geom                   96836 non-null   geometry\n",
      "dtypes: float64(7), geometry(2), int64(2), object(11)\n",
      "memory usage: 21.8+ MB\n"
     ]
    }
   ],
   "source": [
    "manzanas_merged.info()"
   ]
  },
  {
   "cell_type": "code",
   "execution_count": 11,
   "metadata": {},
   "outputs": [
    {
     "data": {
      "text/plain": [
       "Index(['Mz', 'T_TOTAL', 'T_MUJERES', 'NOMBDEP', 'NOMBPROV', 'NOMBDIST',\n",
       "       'CAPITAL', 'geometry', 'UBIGEO', 'AREA', 'CODCCPP', 'ZONA',\n",
       "       'MANZANA_ID', 'MANZANA_A', 'pobma60_mz', 'distancia_a_centro_am',\n",
       "       'duracion_a_centro_am', 'alta_demanda', 'desierto_am_recalc',\n",
       "       'umbral_t_dinamico', 'Estrato', 'geom'],\n",
       "      dtype='object')"
      ]
     },
     "execution_count": 11,
     "metadata": {},
     "output_type": "execute_result"
    }
   ],
   "source": [
    "manzanas_merged.columns"
   ]
  },
  {
   "cell_type": "markdown",
   "metadata": {},
   "source": [
    "N° de desiertos por distrito"
   ]
  },
  {
   "cell_type": "code",
   "execution_count": 12,
   "metadata": {},
   "outputs": [],
   "source": [
    "# Convert the GeoDataFrame to a Pandas DataFrame\n",
    "# Note: This will drop the geometry column.\n",
    "df = pd.DataFrame(manzanas_merged.drop(columns=['geometry', 'geom']))\n",
    "\n"
   ]
  },
  {
   "cell_type": "code",
   "execution_count": 13,
   "metadata": {},
   "outputs": [
    {
     "data": {
      "text/plain": [
       "Index(['Mz', 'T_TOTAL', 'T_MUJERES', 'NOMBDEP', 'NOMBPROV', 'NOMBDIST',\n",
       "       'CAPITAL', 'UBIGEO', 'AREA', 'CODCCPP', 'ZONA', 'MANZANA_ID',\n",
       "       'MANZANA_A', 'pobma60_mz', 'distancia_a_centro_am',\n",
       "       'duracion_a_centro_am', 'alta_demanda', 'desierto_am_recalc',\n",
       "       'umbral_t_dinamico', 'Estrato'],\n",
       "      dtype='object')"
      ]
     },
     "execution_count": 13,
     "metadata": {},
     "output_type": "execute_result"
    }
   ],
   "source": [
    "df.columns"
   ]
  },
  {
   "cell_type": "code",
   "execution_count": 14,
   "metadata": {},
   "outputs": [
    {
     "data": {
      "text/html": [
       "<div>\n",
       "<style scoped>\n",
       "    .dataframe tbody tr th:only-of-type {\n",
       "        vertical-align: middle;\n",
       "    }\n",
       "\n",
       "    .dataframe tbody tr th {\n",
       "        vertical-align: top;\n",
       "    }\n",
       "\n",
       "    .dataframe thead th {\n",
       "        text-align: right;\n",
       "    }\n",
       "</style>\n",
       "<table border=\"1\" class=\"dataframe\">\n",
       "  <thead>\n",
       "    <tr style=\"text-align: right;\">\n",
       "      <th></th>\n",
       "      <th>NOMBDIST</th>\n",
       "      <th>desierto_am_recalc</th>\n",
       "    </tr>\n",
       "  </thead>\n",
       "  <tbody>\n",
       "    <tr>\n",
       "      <th>4</th>\n",
       "      <td>CARABAYLLO</td>\n",
       "      <td>634</td>\n",
       "    </tr>\n",
       "    <tr>\n",
       "      <th>17</th>\n",
       "      <td>LURIGANCHO</td>\n",
       "      <td>428</td>\n",
       "    </tr>\n",
       "    <tr>\n",
       "      <th>31</th>\n",
       "      <td>SAN JUAN DE LURIGANCHO</td>\n",
       "      <td>421</td>\n",
       "    </tr>\n",
       "    <tr>\n",
       "      <th>1</th>\n",
       "      <td>ATE</td>\n",
       "      <td>272</td>\n",
       "    </tr>\n",
       "    <tr>\n",
       "      <th>8</th>\n",
       "      <td>COMAS</td>\n",
       "      <td>208</td>\n",
       "    </tr>\n",
       "    <tr>\n",
       "      <th>10</th>\n",
       "      <td>INDEPENDENCIA</td>\n",
       "      <td>199</td>\n",
       "    </tr>\n",
       "    <tr>\n",
       "      <th>34</th>\n",
       "      <td>SAN MARTIN DE PORRES</td>\n",
       "      <td>170</td>\n",
       "    </tr>\n",
       "    <tr>\n",
       "      <th>24</th>\n",
       "      <td>PUENTE PIEDRA</td>\n",
       "      <td>167</td>\n",
       "    </tr>\n",
       "    <tr>\n",
       "      <th>41</th>\n",
       "      <td>VILLA EL SALVADOR</td>\n",
       "      <td>143</td>\n",
       "    </tr>\n",
       "    <tr>\n",
       "      <th>42</th>\n",
       "      <td>VILLA MARIA DEL TRIUNFO</td>\n",
       "      <td>129</td>\n",
       "    </tr>\n",
       "    <tr>\n",
       "      <th>0</th>\n",
       "      <td>ANCON</td>\n",
       "      <td>104</td>\n",
       "    </tr>\n",
       "    <tr>\n",
       "      <th>21</th>\n",
       "      <td>PACHACAMAC</td>\n",
       "      <td>96</td>\n",
       "    </tr>\n",
       "    <tr>\n",
       "      <th>14</th>\n",
       "      <td>LIMA</td>\n",
       "      <td>91</td>\n",
       "    </tr>\n",
       "    <tr>\n",
       "      <th>9</th>\n",
       "      <td>EL AGUSTINO</td>\n",
       "      <td>78</td>\n",
       "    </tr>\n",
       "    <tr>\n",
       "      <th>36</th>\n",
       "      <td>SANTA ANITA</td>\n",
       "      <td>75</td>\n",
       "    </tr>\n",
       "    <tr>\n",
       "      <th>12</th>\n",
       "      <td>LA MOLINA</td>\n",
       "      <td>71</td>\n",
       "    </tr>\n",
       "    <tr>\n",
       "      <th>16</th>\n",
       "      <td>LOS OLIVOS</td>\n",
       "      <td>58</td>\n",
       "    </tr>\n",
       "    <tr>\n",
       "      <th>38</th>\n",
       "      <td>SANTA ROSA</td>\n",
       "      <td>51</td>\n",
       "    </tr>\n",
       "    <tr>\n",
       "      <th>32</th>\n",
       "      <td>SAN JUAN DE MIRAFLORES</td>\n",
       "      <td>41</td>\n",
       "    </tr>\n",
       "    <tr>\n",
       "      <th>18</th>\n",
       "      <td>LURIN</td>\n",
       "      <td>37</td>\n",
       "    </tr>\n",
       "    <tr>\n",
       "      <th>25</th>\n",
       "      <td>PUNTA HERMOSA</td>\n",
       "      <td>37</td>\n",
       "    </tr>\n",
       "    <tr>\n",
       "      <th>7</th>\n",
       "      <td>CIENEGUILLA</td>\n",
       "      <td>33</td>\n",
       "    </tr>\n",
       "    <tr>\n",
       "      <th>6</th>\n",
       "      <td>CHORRILLOS</td>\n",
       "      <td>28</td>\n",
       "    </tr>\n",
       "    <tr>\n",
       "      <th>39</th>\n",
       "      <td>SANTIAGO DE SURCO</td>\n",
       "      <td>24</td>\n",
       "    </tr>\n",
       "    <tr>\n",
       "      <th>27</th>\n",
       "      <td>RIMAC</td>\n",
       "      <td>12</td>\n",
       "    </tr>\n",
       "    <tr>\n",
       "      <th>26</th>\n",
       "      <td>PUNTA NEGRA</td>\n",
       "      <td>9</td>\n",
       "    </tr>\n",
       "    <tr>\n",
       "      <th>22</th>\n",
       "      <td>PUCUSANA</td>\n",
       "      <td>8</td>\n",
       "    </tr>\n",
       "    <tr>\n",
       "      <th>5</th>\n",
       "      <td>CHACLACAYO</td>\n",
       "      <td>7</td>\n",
       "    </tr>\n",
       "    <tr>\n",
       "      <th>30</th>\n",
       "      <td>SAN ISIDRO</td>\n",
       "      <td>2</td>\n",
       "    </tr>\n",
       "    <tr>\n",
       "      <th>23</th>\n",
       "      <td>PUEBLO LIBRE</td>\n",
       "      <td>0</td>\n",
       "    </tr>\n",
       "    <tr>\n",
       "      <th>19</th>\n",
       "      <td>MAGDALENA DEL MAR</td>\n",
       "      <td>0</td>\n",
       "    </tr>\n",
       "    <tr>\n",
       "      <th>2</th>\n",
       "      <td>BARRANCO</td>\n",
       "      <td>0</td>\n",
       "    </tr>\n",
       "    <tr>\n",
       "      <th>40</th>\n",
       "      <td>SURQUILLO</td>\n",
       "      <td>0</td>\n",
       "    </tr>\n",
       "    <tr>\n",
       "      <th>13</th>\n",
       "      <td>LA VICTORIA</td>\n",
       "      <td>0</td>\n",
       "    </tr>\n",
       "    <tr>\n",
       "      <th>15</th>\n",
       "      <td>LINCE</td>\n",
       "      <td>0</td>\n",
       "    </tr>\n",
       "    <tr>\n",
       "      <th>37</th>\n",
       "      <td>SANTA MARIA DEL MAR</td>\n",
       "      <td>0</td>\n",
       "    </tr>\n",
       "    <tr>\n",
       "      <th>3</th>\n",
       "      <td>BREÑA</td>\n",
       "      <td>0</td>\n",
       "    </tr>\n",
       "    <tr>\n",
       "      <th>35</th>\n",
       "      <td>SAN MIGUEL</td>\n",
       "      <td>0</td>\n",
       "    </tr>\n",
       "    <tr>\n",
       "      <th>33</th>\n",
       "      <td>SAN LUIS</td>\n",
       "      <td>0</td>\n",
       "    </tr>\n",
       "    <tr>\n",
       "      <th>20</th>\n",
       "      <td>MIRAFLORES</td>\n",
       "      <td>0</td>\n",
       "    </tr>\n",
       "    <tr>\n",
       "      <th>29</th>\n",
       "      <td>SAN BORJA</td>\n",
       "      <td>0</td>\n",
       "    </tr>\n",
       "    <tr>\n",
       "      <th>28</th>\n",
       "      <td>SAN BARTOLO</td>\n",
       "      <td>0</td>\n",
       "    </tr>\n",
       "    <tr>\n",
       "      <th>11</th>\n",
       "      <td>JESUS MARIA</td>\n",
       "      <td>0</td>\n",
       "    </tr>\n",
       "  </tbody>\n",
       "</table>\n",
       "</div>"
      ],
      "text/plain": [
       "                   NOMBDIST  desierto_am_recalc\n",
       "4                CARABAYLLO                 634\n",
       "17               LURIGANCHO                 428\n",
       "31   SAN JUAN DE LURIGANCHO                 421\n",
       "1                       ATE                 272\n",
       "8                     COMAS                 208\n",
       "10            INDEPENDENCIA                 199\n",
       "34     SAN MARTIN DE PORRES                 170\n",
       "24            PUENTE PIEDRA                 167\n",
       "41        VILLA EL SALVADOR                 143\n",
       "42  VILLA MARIA DEL TRIUNFO                 129\n",
       "0                     ANCON                 104\n",
       "21               PACHACAMAC                  96\n",
       "14                     LIMA                  91\n",
       "9               EL AGUSTINO                  78\n",
       "36              SANTA ANITA                  75\n",
       "12                LA MOLINA                  71\n",
       "16               LOS OLIVOS                  58\n",
       "38               SANTA ROSA                  51\n",
       "32   SAN JUAN DE MIRAFLORES                  41\n",
       "18                    LURIN                  37\n",
       "25            PUNTA HERMOSA                  37\n",
       "7               CIENEGUILLA                  33\n",
       "6                CHORRILLOS                  28\n",
       "39        SANTIAGO DE SURCO                  24\n",
       "27                    RIMAC                  12\n",
       "26              PUNTA NEGRA                   9\n",
       "22                 PUCUSANA                   8\n",
       "5                CHACLACAYO                   7\n",
       "30               SAN ISIDRO                   2\n",
       "23             PUEBLO LIBRE                   0\n",
       "19        MAGDALENA DEL MAR                   0\n",
       "2                  BARRANCO                   0\n",
       "40                SURQUILLO                   0\n",
       "13              LA VICTORIA                   0\n",
       "15                    LINCE                   0\n",
       "37      SANTA MARIA DEL MAR                   0\n",
       "3                    BREÑA                   0\n",
       "35               SAN MIGUEL                   0\n",
       "33                 SAN LUIS                   0\n",
       "20               MIRAFLORES                   0\n",
       "29                SAN BORJA                   0\n",
       "28              SAN BARTOLO                   0\n",
       "11              JESUS MARIA                   0"
      ]
     },
     "execution_count": 14,
     "metadata": {},
     "output_type": "execute_result"
    }
   ],
   "source": [
    "summary_table = df.groupby('NOMBDIST')['desierto_am_recalc'].sum().reset_index()\n",
    "\n",
    "summary_table = summary_table.sort_values(by='desierto_am_recalc', ascending=False)\n",
    "\n",
    "summary_table\n"
   ]
  },
  {
   "cell_type": "code",
   "execution_count": 15,
   "metadata": {},
   "outputs": [
    {
     "data": {
      "application/vnd.plotly.v1+json": {
       "config": {
        "plotlyServerURL": "https://plot.ly"
       },
       "data": [
        {
         "alignmentgroup": "True",
         "hovertemplate": "Distrito=%{x}<br>N° de desiertos=%{y}<extra></extra>",
         "legendgroup": "",
         "marker": {
          "color": "#636efa",
          "pattern": {
           "shape": ""
          }
         },
         "name": "",
         "offsetgroup": "",
         "orientation": "v",
         "showlegend": false,
         "textposition": "auto",
         "type": "bar",
         "x": [
          "CARABAYLLO",
          "LURIGANCHO",
          "SAN JUAN DE LURIGANCHO",
          "ATE",
          "COMAS",
          "INDEPENDENCIA",
          "SAN MARTIN DE PORRES",
          "PUENTE PIEDRA",
          "VILLA EL SALVADOR",
          "VILLA MARIA DEL TRIUNFO",
          "ANCON",
          "PACHACAMAC",
          "LIMA",
          "EL AGUSTINO",
          "SANTA ANITA",
          "LA MOLINA",
          "LOS OLIVOS",
          "SANTA ROSA",
          "SAN JUAN DE MIRAFLORES",
          "LURIN",
          "PUNTA HERMOSA",
          "CIENEGUILLA",
          "CHORRILLOS",
          "SANTIAGO DE SURCO",
          "RIMAC",
          "PUNTA NEGRA",
          "PUCUSANA",
          "CHACLACAYO",
          "SAN ISIDRO",
          "PUEBLO LIBRE",
          "MAGDALENA DEL MAR",
          "BARRANCO",
          "SURQUILLO",
          "LA VICTORIA",
          "LINCE",
          "SANTA MARIA DEL MAR",
          "BREÑA",
          "SAN MIGUEL",
          "SAN LUIS",
          "MIRAFLORES",
          "SAN BORJA",
          "SAN BARTOLO",
          "JESUS MARIA"
         ],
         "xaxis": "x",
         "y": [
          634,
          428,
          421,
          272,
          208,
          199,
          170,
          167,
          143,
          129,
          104,
          96,
          91,
          78,
          75,
          71,
          58,
          51,
          41,
          37,
          37,
          33,
          28,
          24,
          12,
          9,
          8,
          7,
          2,
          0,
          0,
          0,
          0,
          0,
          0,
          0,
          0,
          0,
          0,
          0,
          0,
          0,
          0
         ],
         "yaxis": "y"
        }
       ],
       "layout": {
        "barmode": "relative",
        "legend": {
         "tracegroupgap": 0
        },
        "template": {
         "data": {
          "bar": [
           {
            "error_x": {
             "color": "#2a3f5f"
            },
            "error_y": {
             "color": "#2a3f5f"
            },
            "marker": {
             "line": {
              "color": "#E5ECF6",
              "width": 0.5
             },
             "pattern": {
              "fillmode": "overlay",
              "size": 10,
              "solidity": 0.2
             }
            },
            "type": "bar"
           }
          ],
          "barpolar": [
           {
            "marker": {
             "line": {
              "color": "#E5ECF6",
              "width": 0.5
             },
             "pattern": {
              "fillmode": "overlay",
              "size": 10,
              "solidity": 0.2
             }
            },
            "type": "barpolar"
           }
          ],
          "carpet": [
           {
            "aaxis": {
             "endlinecolor": "#2a3f5f",
             "gridcolor": "white",
             "linecolor": "white",
             "minorgridcolor": "white",
             "startlinecolor": "#2a3f5f"
            },
            "baxis": {
             "endlinecolor": "#2a3f5f",
             "gridcolor": "white",
             "linecolor": "white",
             "minorgridcolor": "white",
             "startlinecolor": "#2a3f5f"
            },
            "type": "carpet"
           }
          ],
          "choropleth": [
           {
            "colorbar": {
             "outlinewidth": 0,
             "ticks": ""
            },
            "type": "choropleth"
           }
          ],
          "contour": [
           {
            "colorbar": {
             "outlinewidth": 0,
             "ticks": ""
            },
            "colorscale": [
             [
              0,
              "#0d0887"
             ],
             [
              0.1111111111111111,
              "#46039f"
             ],
             [
              0.2222222222222222,
              "#7201a8"
             ],
             [
              0.3333333333333333,
              "#9c179e"
             ],
             [
              0.4444444444444444,
              "#bd3786"
             ],
             [
              0.5555555555555556,
              "#d8576b"
             ],
             [
              0.6666666666666666,
              "#ed7953"
             ],
             [
              0.7777777777777778,
              "#fb9f3a"
             ],
             [
              0.8888888888888888,
              "#fdca26"
             ],
             [
              1,
              "#f0f921"
             ]
            ],
            "type": "contour"
           }
          ],
          "contourcarpet": [
           {
            "colorbar": {
             "outlinewidth": 0,
             "ticks": ""
            },
            "type": "contourcarpet"
           }
          ],
          "heatmap": [
           {
            "colorbar": {
             "outlinewidth": 0,
             "ticks": ""
            },
            "colorscale": [
             [
              0,
              "#0d0887"
             ],
             [
              0.1111111111111111,
              "#46039f"
             ],
             [
              0.2222222222222222,
              "#7201a8"
             ],
             [
              0.3333333333333333,
              "#9c179e"
             ],
             [
              0.4444444444444444,
              "#bd3786"
             ],
             [
              0.5555555555555556,
              "#d8576b"
             ],
             [
              0.6666666666666666,
              "#ed7953"
             ],
             [
              0.7777777777777778,
              "#fb9f3a"
             ],
             [
              0.8888888888888888,
              "#fdca26"
             ],
             [
              1,
              "#f0f921"
             ]
            ],
            "type": "heatmap"
           }
          ],
          "heatmapgl": [
           {
            "colorbar": {
             "outlinewidth": 0,
             "ticks": ""
            },
            "colorscale": [
             [
              0,
              "#0d0887"
             ],
             [
              0.1111111111111111,
              "#46039f"
             ],
             [
              0.2222222222222222,
              "#7201a8"
             ],
             [
              0.3333333333333333,
              "#9c179e"
             ],
             [
              0.4444444444444444,
              "#bd3786"
             ],
             [
              0.5555555555555556,
              "#d8576b"
             ],
             [
              0.6666666666666666,
              "#ed7953"
             ],
             [
              0.7777777777777778,
              "#fb9f3a"
             ],
             [
              0.8888888888888888,
              "#fdca26"
             ],
             [
              1,
              "#f0f921"
             ]
            ],
            "type": "heatmapgl"
           }
          ],
          "histogram": [
           {
            "marker": {
             "pattern": {
              "fillmode": "overlay",
              "size": 10,
              "solidity": 0.2
             }
            },
            "type": "histogram"
           }
          ],
          "histogram2d": [
           {
            "colorbar": {
             "outlinewidth": 0,
             "ticks": ""
            },
            "colorscale": [
             [
              0,
              "#0d0887"
             ],
             [
              0.1111111111111111,
              "#46039f"
             ],
             [
              0.2222222222222222,
              "#7201a8"
             ],
             [
              0.3333333333333333,
              "#9c179e"
             ],
             [
              0.4444444444444444,
              "#bd3786"
             ],
             [
              0.5555555555555556,
              "#d8576b"
             ],
             [
              0.6666666666666666,
              "#ed7953"
             ],
             [
              0.7777777777777778,
              "#fb9f3a"
             ],
             [
              0.8888888888888888,
              "#fdca26"
             ],
             [
              1,
              "#f0f921"
             ]
            ],
            "type": "histogram2d"
           }
          ],
          "histogram2dcontour": [
           {
            "colorbar": {
             "outlinewidth": 0,
             "ticks": ""
            },
            "colorscale": [
             [
              0,
              "#0d0887"
             ],
             [
              0.1111111111111111,
              "#46039f"
             ],
             [
              0.2222222222222222,
              "#7201a8"
             ],
             [
              0.3333333333333333,
              "#9c179e"
             ],
             [
              0.4444444444444444,
              "#bd3786"
             ],
             [
              0.5555555555555556,
              "#d8576b"
             ],
             [
              0.6666666666666666,
              "#ed7953"
             ],
             [
              0.7777777777777778,
              "#fb9f3a"
             ],
             [
              0.8888888888888888,
              "#fdca26"
             ],
             [
              1,
              "#f0f921"
             ]
            ],
            "type": "histogram2dcontour"
           }
          ],
          "mesh3d": [
           {
            "colorbar": {
             "outlinewidth": 0,
             "ticks": ""
            },
            "type": "mesh3d"
           }
          ],
          "parcoords": [
           {
            "line": {
             "colorbar": {
              "outlinewidth": 0,
              "ticks": ""
             }
            },
            "type": "parcoords"
           }
          ],
          "pie": [
           {
            "automargin": true,
            "type": "pie"
           }
          ],
          "scatter": [
           {
            "fillpattern": {
             "fillmode": "overlay",
             "size": 10,
             "solidity": 0.2
            },
            "type": "scatter"
           }
          ],
          "scatter3d": [
           {
            "line": {
             "colorbar": {
              "outlinewidth": 0,
              "ticks": ""
             }
            },
            "marker": {
             "colorbar": {
              "outlinewidth": 0,
              "ticks": ""
             }
            },
            "type": "scatter3d"
           }
          ],
          "scattercarpet": [
           {
            "marker": {
             "colorbar": {
              "outlinewidth": 0,
              "ticks": ""
             }
            },
            "type": "scattercarpet"
           }
          ],
          "scattergeo": [
           {
            "marker": {
             "colorbar": {
              "outlinewidth": 0,
              "ticks": ""
             }
            },
            "type": "scattergeo"
           }
          ],
          "scattergl": [
           {
            "marker": {
             "colorbar": {
              "outlinewidth": 0,
              "ticks": ""
             }
            },
            "type": "scattergl"
           }
          ],
          "scattermapbox": [
           {
            "marker": {
             "colorbar": {
              "outlinewidth": 0,
              "ticks": ""
             }
            },
            "type": "scattermapbox"
           }
          ],
          "scatterpolar": [
           {
            "marker": {
             "colorbar": {
              "outlinewidth": 0,
              "ticks": ""
             }
            },
            "type": "scatterpolar"
           }
          ],
          "scatterpolargl": [
           {
            "marker": {
             "colorbar": {
              "outlinewidth": 0,
              "ticks": ""
             }
            },
            "type": "scatterpolargl"
           }
          ],
          "scatterternary": [
           {
            "marker": {
             "colorbar": {
              "outlinewidth": 0,
              "ticks": ""
             }
            },
            "type": "scatterternary"
           }
          ],
          "surface": [
           {
            "colorbar": {
             "outlinewidth": 0,
             "ticks": ""
            },
            "colorscale": [
             [
              0,
              "#0d0887"
             ],
             [
              0.1111111111111111,
              "#46039f"
             ],
             [
              0.2222222222222222,
              "#7201a8"
             ],
             [
              0.3333333333333333,
              "#9c179e"
             ],
             [
              0.4444444444444444,
              "#bd3786"
             ],
             [
              0.5555555555555556,
              "#d8576b"
             ],
             [
              0.6666666666666666,
              "#ed7953"
             ],
             [
              0.7777777777777778,
              "#fb9f3a"
             ],
             [
              0.8888888888888888,
              "#fdca26"
             ],
             [
              1,
              "#f0f921"
             ]
            ],
            "type": "surface"
           }
          ],
          "table": [
           {
            "cells": {
             "fill": {
              "color": "#EBF0F8"
             },
             "line": {
              "color": "white"
             }
            },
            "header": {
             "fill": {
              "color": "#C8D4E3"
             },
             "line": {
              "color": "white"
             }
            },
            "type": "table"
           }
          ]
         },
         "layout": {
          "annotationdefaults": {
           "arrowcolor": "#2a3f5f",
           "arrowhead": 0,
           "arrowwidth": 1
          },
          "autotypenumbers": "strict",
          "coloraxis": {
           "colorbar": {
            "outlinewidth": 0,
            "ticks": ""
           }
          },
          "colorscale": {
           "diverging": [
            [
             0,
             "#8e0152"
            ],
            [
             0.1,
             "#c51b7d"
            ],
            [
             0.2,
             "#de77ae"
            ],
            [
             0.3,
             "#f1b6da"
            ],
            [
             0.4,
             "#fde0ef"
            ],
            [
             0.5,
             "#f7f7f7"
            ],
            [
             0.6,
             "#e6f5d0"
            ],
            [
             0.7,
             "#b8e186"
            ],
            [
             0.8,
             "#7fbc41"
            ],
            [
             0.9,
             "#4d9221"
            ],
            [
             1,
             "#276419"
            ]
           ],
           "sequential": [
            [
             0,
             "#0d0887"
            ],
            [
             0.1111111111111111,
             "#46039f"
            ],
            [
             0.2222222222222222,
             "#7201a8"
            ],
            [
             0.3333333333333333,
             "#9c179e"
            ],
            [
             0.4444444444444444,
             "#bd3786"
            ],
            [
             0.5555555555555556,
             "#d8576b"
            ],
            [
             0.6666666666666666,
             "#ed7953"
            ],
            [
             0.7777777777777778,
             "#fb9f3a"
            ],
            [
             0.8888888888888888,
             "#fdca26"
            ],
            [
             1,
             "#f0f921"
            ]
           ],
           "sequentialminus": [
            [
             0,
             "#0d0887"
            ],
            [
             0.1111111111111111,
             "#46039f"
            ],
            [
             0.2222222222222222,
             "#7201a8"
            ],
            [
             0.3333333333333333,
             "#9c179e"
            ],
            [
             0.4444444444444444,
             "#bd3786"
            ],
            [
             0.5555555555555556,
             "#d8576b"
            ],
            [
             0.6666666666666666,
             "#ed7953"
            ],
            [
             0.7777777777777778,
             "#fb9f3a"
            ],
            [
             0.8888888888888888,
             "#fdca26"
            ],
            [
             1,
             "#f0f921"
            ]
           ]
          },
          "colorway": [
           "#636efa",
           "#EF553B",
           "#00cc96",
           "#ab63fa",
           "#FFA15A",
           "#19d3f3",
           "#FF6692",
           "#B6E880",
           "#FF97FF",
           "#FECB52"
          ],
          "font": {
           "color": "#2a3f5f"
          },
          "geo": {
           "bgcolor": "white",
           "lakecolor": "white",
           "landcolor": "#E5ECF6",
           "showlakes": true,
           "showland": true,
           "subunitcolor": "white"
          },
          "hoverlabel": {
           "align": "left"
          },
          "hovermode": "closest",
          "mapbox": {
           "style": "light"
          },
          "paper_bgcolor": "white",
          "plot_bgcolor": "#E5ECF6",
          "polar": {
           "angularaxis": {
            "gridcolor": "white",
            "linecolor": "white",
            "ticks": ""
           },
           "bgcolor": "#E5ECF6",
           "radialaxis": {
            "gridcolor": "white",
            "linecolor": "white",
            "ticks": ""
           }
          },
          "scene": {
           "xaxis": {
            "backgroundcolor": "#E5ECF6",
            "gridcolor": "white",
            "gridwidth": 2,
            "linecolor": "white",
            "showbackground": true,
            "ticks": "",
            "zerolinecolor": "white"
           },
           "yaxis": {
            "backgroundcolor": "#E5ECF6",
            "gridcolor": "white",
            "gridwidth": 2,
            "linecolor": "white",
            "showbackground": true,
            "ticks": "",
            "zerolinecolor": "white"
           },
           "zaxis": {
            "backgroundcolor": "#E5ECF6",
            "gridcolor": "white",
            "gridwidth": 2,
            "linecolor": "white",
            "showbackground": true,
            "ticks": "",
            "zerolinecolor": "white"
           }
          },
          "shapedefaults": {
           "line": {
            "color": "#2a3f5f"
           }
          },
          "ternary": {
           "aaxis": {
            "gridcolor": "white",
            "linecolor": "white",
            "ticks": ""
           },
           "baxis": {
            "gridcolor": "white",
            "linecolor": "white",
            "ticks": ""
           },
           "bgcolor": "#E5ECF6",
           "caxis": {
            "gridcolor": "white",
            "linecolor": "white",
            "ticks": ""
           }
          },
          "title": {
           "x": 0.05
          },
          "xaxis": {
           "automargin": true,
           "gridcolor": "white",
           "linecolor": "white",
           "ticks": "",
           "title": {
            "standoff": 15
           },
           "zerolinecolor": "white",
           "zerolinewidth": 2
          },
          "yaxis": {
           "automargin": true,
           "gridcolor": "white",
           "linecolor": "white",
           "ticks": "",
           "title": {
            "standoff": 15
           },
           "zerolinecolor": "white",
           "zerolinewidth": 2
          }
         }
        },
        "title": {
         "text": "N° de desiertos de cuidado por distrito (personas adultas mayores)"
        },
        "xaxis": {
         "anchor": "y",
         "domain": [
          0,
          1
         ],
         "tickangle": -45,
         "title": {
          "text": "Distrito"
         }
        },
        "yaxis": {
         "anchor": "x",
         "domain": [
          0,
          1
         ],
         "title": {
          "text": "N° de desiertos"
         }
        }
       }
      }
     },
     "metadata": {},
     "output_type": "display_data"
    }
   ],
   "source": [
    "# Create an interactive bar chart using Plotly\n",
    "fig = px.bar(summary_table, x='NOMBDIST', y='desierto_am_recalc',\n",
    "             labels={'desierto_am_recalc': 'N° de desiertos', 'NOMBDIST': 'Distrito'},\n",
    "             title='N° de desiertos de cuidado por distrito (personas adultas mayores)')\n",
    "\n",
    "# Improve layout for better readability\n",
    "fig.update_layout(xaxis_tickangle=-45)\n",
    "\n",
    "# Show the plot\n",
    "fig.show()"
   ]
  },
  {
   "cell_type": "code",
   "execution_count": 16,
   "metadata": {},
   "outputs": [
    {
     "data": {
      "text/html": [
       "<div>\n",
       "<style scoped>\n",
       "    .dataframe tbody tr th:only-of-type {\n",
       "        vertical-align: middle;\n",
       "    }\n",
       "\n",
       "    .dataframe tbody tr th {\n",
       "        vertical-align: top;\n",
       "    }\n",
       "\n",
       "    .dataframe thead th {\n",
       "        text-align: right;\n",
       "    }\n",
       "</style>\n",
       "<table border=\"1\" class=\"dataframe\">\n",
       "  <thead>\n",
       "    <tr style=\"text-align: right;\">\n",
       "      <th></th>\n",
       "      <th>NOMBDEP</th>\n",
       "      <th>desierto_am_recalc</th>\n",
       "    </tr>\n",
       "  </thead>\n",
       "  <tbody>\n",
       "    <tr>\n",
       "      <th>1</th>\n",
       "      <td>LIMA</td>\n",
       "      <td>3633</td>\n",
       "    </tr>\n",
       "    <tr>\n",
       "      <th>0</th>\n",
       "      <td>CALLAO</td>\n",
       "      <td>552</td>\n",
       "    </tr>\n",
       "  </tbody>\n",
       "</table>\n",
       "</div>"
      ],
      "text/plain": [
       "  NOMBDEP  desierto_am_recalc\n",
       "1    LIMA                3633\n",
       "0  CALLAO                 552"
      ]
     },
     "execution_count": 16,
     "metadata": {},
     "output_type": "execute_result"
    }
   ],
   "source": [
    "summary_table = df.groupby('NOMBDEP')['desierto_am_recalc'].sum().reset_index()\n",
    "\n",
    "summary_table = summary_table.sort_values(by='desierto_am_recalc', ascending=False)\n",
    "\n",
    "summary_table.to_clipboard(index=False)\n",
    "\n",
    "summary_table"
   ]
  },
  {
   "cell_type": "markdown",
   "metadata": {},
   "source": [
    "N° personas que viven en desiertos de cuidado"
   ]
  },
  {
   "cell_type": "code",
   "execution_count": 17,
   "metadata": {},
   "outputs": [
    {
     "data": {
      "text/html": [
       "<div>\n",
       "<style scoped>\n",
       "    .dataframe tbody tr th:only-of-type {\n",
       "        vertical-align: middle;\n",
       "    }\n",
       "\n",
       "    .dataframe tbody tr th {\n",
       "        vertical-align: top;\n",
       "    }\n",
       "\n",
       "    .dataframe thead th {\n",
       "        text-align: right;\n",
       "    }\n",
       "</style>\n",
       "<table border=\"1\" class=\"dataframe\">\n",
       "  <thead>\n",
       "    <tr style=\"text-align: right;\">\n",
       "      <th></th>\n",
       "      <th>desierto_am_recalc</th>\n",
       "      <th>T_TOTAL</th>\n",
       "      <th>Porcentaje población</th>\n",
       "    </tr>\n",
       "  </thead>\n",
       "  <tbody>\n",
       "    <tr>\n",
       "      <th>0</th>\n",
       "      <td>0</td>\n",
       "      <td>9842786.0</td>\n",
       "      <td>94.526442</td>\n",
       "    </tr>\n",
       "    <tr>\n",
       "      <th>1</th>\n",
       "      <td>1</td>\n",
       "      <td>569947.0</td>\n",
       "      <td>5.473558</td>\n",
       "    </tr>\n",
       "  </tbody>\n",
       "</table>\n",
       "</div>"
      ],
      "text/plain": [
       "   desierto_am_recalc    T_TOTAL  Porcentaje población\n",
       "0                   0  9842786.0             94.526442\n",
       "1                   1   569947.0              5.473558"
      ]
     },
     "execution_count": 17,
     "metadata": {},
     "output_type": "execute_result"
    }
   ],
   "source": [
    "summary_table = df.groupby('desierto_am_recalc')['T_TOTAL'].sum().reset_index()\n",
    "\n",
    "total_sum = summary_table['T_TOTAL'].sum()\n",
    "\n",
    "summary_table['Porcentaje población'] = (summary_table['T_TOTAL'] / total_sum) * 100\n",
    "\n",
    "# Assuming summary_table is your DataFrame\n",
    "summary_table.to_clipboard(index=False)\n",
    "\n",
    "summary_table\n",
    "\n"
   ]
  },
  {
   "cell_type": "code",
   "execution_count": 18,
   "metadata": {},
   "outputs": [
    {
     "data": {
      "text/html": [
       "<div>\n",
       "<style scoped>\n",
       "    .dataframe tbody tr th:only-of-type {\n",
       "        vertical-align: middle;\n",
       "    }\n",
       "\n",
       "    .dataframe tbody tr th {\n",
       "        vertical-align: top;\n",
       "    }\n",
       "\n",
       "    .dataframe thead th {\n",
       "        text-align: right;\n",
       "    }\n",
       "</style>\n",
       "<table border=\"1\" class=\"dataframe\">\n",
       "  <thead>\n",
       "    <tr style=\"text-align: right;\">\n",
       "      <th></th>\n",
       "      <th>desierto_am_recalc</th>\n",
       "      <th>pobma60_mz</th>\n",
       "      <th>Porcentaje población objetivo</th>\n",
       "    </tr>\n",
       "  </thead>\n",
       "  <tbody>\n",
       "    <tr>\n",
       "      <th>0</th>\n",
       "      <td>0</td>\n",
       "      <td>246464.0</td>\n",
       "      <td>91.561718</td>\n",
       "    </tr>\n",
       "    <tr>\n",
       "      <th>1</th>\n",
       "      <td>1</td>\n",
       "      <td>22714.0</td>\n",
       "      <td>8.438282</td>\n",
       "    </tr>\n",
       "  </tbody>\n",
       "</table>\n",
       "</div>"
      ],
      "text/plain": [
       "   desierto_am_recalc  pobma60_mz  Porcentaje población objetivo\n",
       "0                   0    246464.0                      91.561718\n",
       "1                   1     22714.0                       8.438282"
      ]
     },
     "execution_count": 18,
     "metadata": {},
     "output_type": "execute_result"
    }
   ],
   "source": [
    "summary_table = df.groupby('desierto_am_recalc')['pobma60_mz'].sum().reset_index()\n",
    "\n",
    "total_sum = summary_table['pobma60_mz'].sum()\n",
    "\n",
    "summary_table['Porcentaje población objetivo'] = (summary_table['pobma60_mz'] / total_sum) * 100\n",
    "\n",
    "# Assuming summary_table is your DataFrame\n",
    "summary_table.to_clipboard(index=False)\n",
    "\n",
    "summary_table\n",
    "\n"
   ]
  },
  {
   "cell_type": "markdown",
   "metadata": {},
   "source": [
    "Según estrato de ingresos"
   ]
  },
  {
   "cell_type": "code",
   "execution_count": 19,
   "metadata": {},
   "outputs": [
    {
     "data": {
      "text/html": [
       "<div>\n",
       "<style scoped>\n",
       "    .dataframe tbody tr th:only-of-type {\n",
       "        vertical-align: middle;\n",
       "    }\n",
       "\n",
       "    .dataframe tbody tr th {\n",
       "        vertical-align: top;\n",
       "    }\n",
       "\n",
       "    .dataframe thead th {\n",
       "        text-align: right;\n",
       "    }\n",
       "</style>\n",
       "<table border=\"1\" class=\"dataframe\">\n",
       "  <thead>\n",
       "    <tr style=\"text-align: right;\">\n",
       "      <th></th>\n",
       "      <th>Estrato</th>\n",
       "      <th>desierto_am_recalc</th>\n",
       "    </tr>\n",
       "  </thead>\n",
       "  <tbody>\n",
       "    <tr>\n",
       "      <th>1</th>\n",
       "      <td>2.0</td>\n",
       "      <td>1520</td>\n",
       "    </tr>\n",
       "    <tr>\n",
       "      <th>2</th>\n",
       "      <td>3.0</td>\n",
       "      <td>1093</td>\n",
       "    </tr>\n",
       "    <tr>\n",
       "      <th>0</th>\n",
       "      <td>1.0</td>\n",
       "      <td>1025</td>\n",
       "    </tr>\n",
       "    <tr>\n",
       "      <th>3</th>\n",
       "      <td>4.0</td>\n",
       "      <td>290</td>\n",
       "    </tr>\n",
       "    <tr>\n",
       "      <th>4</th>\n",
       "      <td>5.0</td>\n",
       "      <td>77</td>\n",
       "    </tr>\n",
       "  </tbody>\n",
       "</table>\n",
       "</div>"
      ],
      "text/plain": [
       "   Estrato  desierto_am_recalc\n",
       "1      2.0                1520\n",
       "2      3.0                1093\n",
       "0      1.0                1025\n",
       "3      4.0                 290\n",
       "4      5.0                  77"
      ]
     },
     "execution_count": 19,
     "metadata": {},
     "output_type": "execute_result"
    }
   ],
   "source": [
    "summary_table = df.groupby('Estrato')['desierto_am_recalc'].sum().reset_index()\n",
    "\n",
    "summary_table = summary_table.sort_values(by='desierto_am_recalc', ascending=False)\n",
    "\n",
    "summary_table"
   ]
  },
  {
   "cell_type": "code",
   "execution_count": 20,
   "metadata": {},
   "outputs": [
    {
     "data": {
      "application/vnd.plotly.v1+json": {
       "config": {
        "plotlyServerURL": "https://plot.ly"
       },
       "data": [
        {
         "alignmentgroup": "True",
         "hovertemplate": "Estrato de ingresos=%{x}<br>N° de desiertos=%{y}<extra></extra>",
         "legendgroup": "",
         "marker": {
          "color": "#636efa",
          "pattern": {
           "shape": ""
          }
         },
         "name": "",
         "offsetgroup": "",
         "orientation": "v",
         "showlegend": false,
         "textposition": "auto",
         "type": "bar",
         "x": [
          2,
          3,
          1,
          4,
          5
         ],
         "xaxis": "x",
         "y": [
          1520,
          1093,
          1025,
          290,
          77
         ],
         "yaxis": "y"
        }
       ],
       "layout": {
        "barmode": "relative",
        "legend": {
         "tracegroupgap": 0
        },
        "template": {
         "data": {
          "bar": [
           {
            "error_x": {
             "color": "#2a3f5f"
            },
            "error_y": {
             "color": "#2a3f5f"
            },
            "marker": {
             "line": {
              "color": "#E5ECF6",
              "width": 0.5
             },
             "pattern": {
              "fillmode": "overlay",
              "size": 10,
              "solidity": 0.2
             }
            },
            "type": "bar"
           }
          ],
          "barpolar": [
           {
            "marker": {
             "line": {
              "color": "#E5ECF6",
              "width": 0.5
             },
             "pattern": {
              "fillmode": "overlay",
              "size": 10,
              "solidity": 0.2
             }
            },
            "type": "barpolar"
           }
          ],
          "carpet": [
           {
            "aaxis": {
             "endlinecolor": "#2a3f5f",
             "gridcolor": "white",
             "linecolor": "white",
             "minorgridcolor": "white",
             "startlinecolor": "#2a3f5f"
            },
            "baxis": {
             "endlinecolor": "#2a3f5f",
             "gridcolor": "white",
             "linecolor": "white",
             "minorgridcolor": "white",
             "startlinecolor": "#2a3f5f"
            },
            "type": "carpet"
           }
          ],
          "choropleth": [
           {
            "colorbar": {
             "outlinewidth": 0,
             "ticks": ""
            },
            "type": "choropleth"
           }
          ],
          "contour": [
           {
            "colorbar": {
             "outlinewidth": 0,
             "ticks": ""
            },
            "colorscale": [
             [
              0,
              "#0d0887"
             ],
             [
              0.1111111111111111,
              "#46039f"
             ],
             [
              0.2222222222222222,
              "#7201a8"
             ],
             [
              0.3333333333333333,
              "#9c179e"
             ],
             [
              0.4444444444444444,
              "#bd3786"
             ],
             [
              0.5555555555555556,
              "#d8576b"
             ],
             [
              0.6666666666666666,
              "#ed7953"
             ],
             [
              0.7777777777777778,
              "#fb9f3a"
             ],
             [
              0.8888888888888888,
              "#fdca26"
             ],
             [
              1,
              "#f0f921"
             ]
            ],
            "type": "contour"
           }
          ],
          "contourcarpet": [
           {
            "colorbar": {
             "outlinewidth": 0,
             "ticks": ""
            },
            "type": "contourcarpet"
           }
          ],
          "heatmap": [
           {
            "colorbar": {
             "outlinewidth": 0,
             "ticks": ""
            },
            "colorscale": [
             [
              0,
              "#0d0887"
             ],
             [
              0.1111111111111111,
              "#46039f"
             ],
             [
              0.2222222222222222,
              "#7201a8"
             ],
             [
              0.3333333333333333,
              "#9c179e"
             ],
             [
              0.4444444444444444,
              "#bd3786"
             ],
             [
              0.5555555555555556,
              "#d8576b"
             ],
             [
              0.6666666666666666,
              "#ed7953"
             ],
             [
              0.7777777777777778,
              "#fb9f3a"
             ],
             [
              0.8888888888888888,
              "#fdca26"
             ],
             [
              1,
              "#f0f921"
             ]
            ],
            "type": "heatmap"
           }
          ],
          "heatmapgl": [
           {
            "colorbar": {
             "outlinewidth": 0,
             "ticks": ""
            },
            "colorscale": [
             [
              0,
              "#0d0887"
             ],
             [
              0.1111111111111111,
              "#46039f"
             ],
             [
              0.2222222222222222,
              "#7201a8"
             ],
             [
              0.3333333333333333,
              "#9c179e"
             ],
             [
              0.4444444444444444,
              "#bd3786"
             ],
             [
              0.5555555555555556,
              "#d8576b"
             ],
             [
              0.6666666666666666,
              "#ed7953"
             ],
             [
              0.7777777777777778,
              "#fb9f3a"
             ],
             [
              0.8888888888888888,
              "#fdca26"
             ],
             [
              1,
              "#f0f921"
             ]
            ],
            "type": "heatmapgl"
           }
          ],
          "histogram": [
           {
            "marker": {
             "pattern": {
              "fillmode": "overlay",
              "size": 10,
              "solidity": 0.2
             }
            },
            "type": "histogram"
           }
          ],
          "histogram2d": [
           {
            "colorbar": {
             "outlinewidth": 0,
             "ticks": ""
            },
            "colorscale": [
             [
              0,
              "#0d0887"
             ],
             [
              0.1111111111111111,
              "#46039f"
             ],
             [
              0.2222222222222222,
              "#7201a8"
             ],
             [
              0.3333333333333333,
              "#9c179e"
             ],
             [
              0.4444444444444444,
              "#bd3786"
             ],
             [
              0.5555555555555556,
              "#d8576b"
             ],
             [
              0.6666666666666666,
              "#ed7953"
             ],
             [
              0.7777777777777778,
              "#fb9f3a"
             ],
             [
              0.8888888888888888,
              "#fdca26"
             ],
             [
              1,
              "#f0f921"
             ]
            ],
            "type": "histogram2d"
           }
          ],
          "histogram2dcontour": [
           {
            "colorbar": {
             "outlinewidth": 0,
             "ticks": ""
            },
            "colorscale": [
             [
              0,
              "#0d0887"
             ],
             [
              0.1111111111111111,
              "#46039f"
             ],
             [
              0.2222222222222222,
              "#7201a8"
             ],
             [
              0.3333333333333333,
              "#9c179e"
             ],
             [
              0.4444444444444444,
              "#bd3786"
             ],
             [
              0.5555555555555556,
              "#d8576b"
             ],
             [
              0.6666666666666666,
              "#ed7953"
             ],
             [
              0.7777777777777778,
              "#fb9f3a"
             ],
             [
              0.8888888888888888,
              "#fdca26"
             ],
             [
              1,
              "#f0f921"
             ]
            ],
            "type": "histogram2dcontour"
           }
          ],
          "mesh3d": [
           {
            "colorbar": {
             "outlinewidth": 0,
             "ticks": ""
            },
            "type": "mesh3d"
           }
          ],
          "parcoords": [
           {
            "line": {
             "colorbar": {
              "outlinewidth": 0,
              "ticks": ""
             }
            },
            "type": "parcoords"
           }
          ],
          "pie": [
           {
            "automargin": true,
            "type": "pie"
           }
          ],
          "scatter": [
           {
            "fillpattern": {
             "fillmode": "overlay",
             "size": 10,
             "solidity": 0.2
            },
            "type": "scatter"
           }
          ],
          "scatter3d": [
           {
            "line": {
             "colorbar": {
              "outlinewidth": 0,
              "ticks": ""
             }
            },
            "marker": {
             "colorbar": {
              "outlinewidth": 0,
              "ticks": ""
             }
            },
            "type": "scatter3d"
           }
          ],
          "scattercarpet": [
           {
            "marker": {
             "colorbar": {
              "outlinewidth": 0,
              "ticks": ""
             }
            },
            "type": "scattercarpet"
           }
          ],
          "scattergeo": [
           {
            "marker": {
             "colorbar": {
              "outlinewidth": 0,
              "ticks": ""
             }
            },
            "type": "scattergeo"
           }
          ],
          "scattergl": [
           {
            "marker": {
             "colorbar": {
              "outlinewidth": 0,
              "ticks": ""
             }
            },
            "type": "scattergl"
           }
          ],
          "scattermapbox": [
           {
            "marker": {
             "colorbar": {
              "outlinewidth": 0,
              "ticks": ""
             }
            },
            "type": "scattermapbox"
           }
          ],
          "scatterpolar": [
           {
            "marker": {
             "colorbar": {
              "outlinewidth": 0,
              "ticks": ""
             }
            },
            "type": "scatterpolar"
           }
          ],
          "scatterpolargl": [
           {
            "marker": {
             "colorbar": {
              "outlinewidth": 0,
              "ticks": ""
             }
            },
            "type": "scatterpolargl"
           }
          ],
          "scatterternary": [
           {
            "marker": {
             "colorbar": {
              "outlinewidth": 0,
              "ticks": ""
             }
            },
            "type": "scatterternary"
           }
          ],
          "surface": [
           {
            "colorbar": {
             "outlinewidth": 0,
             "ticks": ""
            },
            "colorscale": [
             [
              0,
              "#0d0887"
             ],
             [
              0.1111111111111111,
              "#46039f"
             ],
             [
              0.2222222222222222,
              "#7201a8"
             ],
             [
              0.3333333333333333,
              "#9c179e"
             ],
             [
              0.4444444444444444,
              "#bd3786"
             ],
             [
              0.5555555555555556,
              "#d8576b"
             ],
             [
              0.6666666666666666,
              "#ed7953"
             ],
             [
              0.7777777777777778,
              "#fb9f3a"
             ],
             [
              0.8888888888888888,
              "#fdca26"
             ],
             [
              1,
              "#f0f921"
             ]
            ],
            "type": "surface"
           }
          ],
          "table": [
           {
            "cells": {
             "fill": {
              "color": "#EBF0F8"
             },
             "line": {
              "color": "white"
             }
            },
            "header": {
             "fill": {
              "color": "#C8D4E3"
             },
             "line": {
              "color": "white"
             }
            },
            "type": "table"
           }
          ]
         },
         "layout": {
          "annotationdefaults": {
           "arrowcolor": "#2a3f5f",
           "arrowhead": 0,
           "arrowwidth": 1
          },
          "autotypenumbers": "strict",
          "coloraxis": {
           "colorbar": {
            "outlinewidth": 0,
            "ticks": ""
           }
          },
          "colorscale": {
           "diverging": [
            [
             0,
             "#8e0152"
            ],
            [
             0.1,
             "#c51b7d"
            ],
            [
             0.2,
             "#de77ae"
            ],
            [
             0.3,
             "#f1b6da"
            ],
            [
             0.4,
             "#fde0ef"
            ],
            [
             0.5,
             "#f7f7f7"
            ],
            [
             0.6,
             "#e6f5d0"
            ],
            [
             0.7,
             "#b8e186"
            ],
            [
             0.8,
             "#7fbc41"
            ],
            [
             0.9,
             "#4d9221"
            ],
            [
             1,
             "#276419"
            ]
           ],
           "sequential": [
            [
             0,
             "#0d0887"
            ],
            [
             0.1111111111111111,
             "#46039f"
            ],
            [
             0.2222222222222222,
             "#7201a8"
            ],
            [
             0.3333333333333333,
             "#9c179e"
            ],
            [
             0.4444444444444444,
             "#bd3786"
            ],
            [
             0.5555555555555556,
             "#d8576b"
            ],
            [
             0.6666666666666666,
             "#ed7953"
            ],
            [
             0.7777777777777778,
             "#fb9f3a"
            ],
            [
             0.8888888888888888,
             "#fdca26"
            ],
            [
             1,
             "#f0f921"
            ]
           ],
           "sequentialminus": [
            [
             0,
             "#0d0887"
            ],
            [
             0.1111111111111111,
             "#46039f"
            ],
            [
             0.2222222222222222,
             "#7201a8"
            ],
            [
             0.3333333333333333,
             "#9c179e"
            ],
            [
             0.4444444444444444,
             "#bd3786"
            ],
            [
             0.5555555555555556,
             "#d8576b"
            ],
            [
             0.6666666666666666,
             "#ed7953"
            ],
            [
             0.7777777777777778,
             "#fb9f3a"
            ],
            [
             0.8888888888888888,
             "#fdca26"
            ],
            [
             1,
             "#f0f921"
            ]
           ]
          },
          "colorway": [
           "#636efa",
           "#EF553B",
           "#00cc96",
           "#ab63fa",
           "#FFA15A",
           "#19d3f3",
           "#FF6692",
           "#B6E880",
           "#FF97FF",
           "#FECB52"
          ],
          "font": {
           "color": "#2a3f5f"
          },
          "geo": {
           "bgcolor": "white",
           "lakecolor": "white",
           "landcolor": "#E5ECF6",
           "showlakes": true,
           "showland": true,
           "subunitcolor": "white"
          },
          "hoverlabel": {
           "align": "left"
          },
          "hovermode": "closest",
          "mapbox": {
           "style": "light"
          },
          "paper_bgcolor": "white",
          "plot_bgcolor": "#E5ECF6",
          "polar": {
           "angularaxis": {
            "gridcolor": "white",
            "linecolor": "white",
            "ticks": ""
           },
           "bgcolor": "#E5ECF6",
           "radialaxis": {
            "gridcolor": "white",
            "linecolor": "white",
            "ticks": ""
           }
          },
          "scene": {
           "xaxis": {
            "backgroundcolor": "#E5ECF6",
            "gridcolor": "white",
            "gridwidth": 2,
            "linecolor": "white",
            "showbackground": true,
            "ticks": "",
            "zerolinecolor": "white"
           },
           "yaxis": {
            "backgroundcolor": "#E5ECF6",
            "gridcolor": "white",
            "gridwidth": 2,
            "linecolor": "white",
            "showbackground": true,
            "ticks": "",
            "zerolinecolor": "white"
           },
           "zaxis": {
            "backgroundcolor": "#E5ECF6",
            "gridcolor": "white",
            "gridwidth": 2,
            "linecolor": "white",
            "showbackground": true,
            "ticks": "",
            "zerolinecolor": "white"
           }
          },
          "shapedefaults": {
           "line": {
            "color": "#2a3f5f"
           }
          },
          "ternary": {
           "aaxis": {
            "gridcolor": "white",
            "linecolor": "white",
            "ticks": ""
           },
           "baxis": {
            "gridcolor": "white",
            "linecolor": "white",
            "ticks": ""
           },
           "bgcolor": "#E5ECF6",
           "caxis": {
            "gridcolor": "white",
            "linecolor": "white",
            "ticks": ""
           }
          },
          "title": {
           "x": 0.05
          },
          "xaxis": {
           "automargin": true,
           "gridcolor": "white",
           "linecolor": "white",
           "ticks": "",
           "title": {
            "standoff": 15
           },
           "zerolinecolor": "white",
           "zerolinewidth": 2
          },
          "yaxis": {
           "automargin": true,
           "gridcolor": "white",
           "linecolor": "white",
           "ticks": "",
           "title": {
            "standoff": 15
           },
           "zerolinecolor": "white",
           "zerolinewidth": 2
          }
         }
        },
        "title": {
         "text": "N° de desiertos de cuidado (pob adulta mayor) por estrato de ingreso de las manzanas"
        },
        "xaxis": {
         "anchor": "y",
         "domain": [
          0,
          1
         ],
         "tickangle": -45,
         "title": {
          "text": "Estrato de ingresos"
         }
        },
        "yaxis": {
         "anchor": "x",
         "domain": [
          0,
          1
         ],
         "title": {
          "text": "N° de desiertos"
         }
        }
       }
      }
     },
     "metadata": {},
     "output_type": "display_data"
    }
   ],
   "source": [
    "# Create an interactive bar chart using Plotly\n",
    "fig = px.bar(summary_table, x='Estrato', y='desierto_am_recalc',\n",
    "             labels={'desierto_am_recalc': 'N° de desiertos', 'Estrato': 'Estrato de ingresos'},\n",
    "             title='N° de desiertos de cuidado (pob adulta mayor) por estrato de ingreso de las manzanas')\n",
    "\n",
    "# Improve layout for better readability\n",
    "fig.update_layout(xaxis_tickangle=-45)\n",
    "\n",
    "# Show the plot\n",
    "fig.show()"
   ]
  }
 ],
 "metadata": {
  "kernelspec": {
   "display_name": "accesibility_undp",
   "language": "python",
   "name": "python3"
  },
  "language_info": {
   "codemirror_mode": {
    "name": "ipython",
    "version": 3
   },
   "file_extension": ".py",
   "mimetype": "text/x-python",
   "name": "python",
   "nbconvert_exporter": "python",
   "pygments_lexer": "ipython3",
   "version": "3.12.0"
  }
 },
 "nbformat": 4,
 "nbformat_minor": 2
}
