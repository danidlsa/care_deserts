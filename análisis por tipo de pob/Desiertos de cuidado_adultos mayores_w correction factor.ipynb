{
 "cells": [
  {
   "cell_type": "code",
   "execution_count": 1,
   "metadata": {},
   "outputs": [],
   "source": [
    "import pandas as pd\n",
    "from matplotlib import pyplot as plt\n",
    "import geopandas as gpd\n",
    "import numpy as np\n",
    "import pandas as pd\n",
    "import shapely\n",
    "import plotly.express as px\n",
    "import osmnx as ox\n",
    "from adjustment_formula import *"
   ]
  },
  {
   "cell_type": "markdown",
   "metadata": {},
   "source": [
    "## Importación de BBDD"
   ]
  },
  {
   "cell_type": "markdown",
   "metadata": {},
   "source": [
    "### Manzanas y tiempos de viaje"
   ]
  },
  {
   "cell_type": "code",
   "execution_count": 2,
   "metadata": {},
   "outputs": [],
   "source": [
    "manzanas = gpd.read_file('../data/lima_manzanas.gpkg')"
   ]
  },
  {
   "cell_type": "code",
   "execution_count": 3,
   "metadata": {},
   "outputs": [],
   "source": [
    "manzanas_tiempos = gpd.read_file('../data/BBDD Perú accesibilidad/manzanas_y_tiempos_AM.geojson')"
   ]
  },
  {
   "cell_type": "code",
   "execution_count": 4,
   "metadata": {},
   "outputs": [
    {
     "name": "stdout",
     "output_type": "stream",
     "text": [
      "<class 'geopandas.geodataframe.GeoDataFrame'>\n",
      "RangeIndex: 145953 entries, 0 to 145952\n",
      "Data columns (total 7 columns):\n",
      " #   Column                 Non-Null Count   Dtype   \n",
      "---  ------                 --------------   -----   \n",
      " 0   Mz                     145953 non-null  object  \n",
      " 1   InputID                145953 non-null  object  \n",
      " 2   TargetID               145953 non-null  int64   \n",
      " 3   Distance               145953 non-null  float64 \n",
      " 4   distancia_a_centro_05  141202 non-null  float64 \n",
      " 5   duracion_a_centro_05   141202 non-null  float64 \n",
      " 6   geometry               145953 non-null  geometry\n",
      "dtypes: float64(3), geometry(1), int64(1), object(2)\n",
      "memory usage: 7.8+ MB\n"
     ]
    }
   ],
   "source": [
    "manzanas_tiempos.info()"
   ]
  },
  {
   "cell_type": "code",
   "execution_count": 5,
   "metadata": {},
   "outputs": [],
   "source": [
    "manzanas_tiempos = manzanas_tiempos.drop(columns=\"geometry\")"
   ]
  },
  {
   "cell_type": "code",
   "execution_count": 6,
   "metadata": {},
   "outputs": [],
   "source": [
    "manzanas_tiempos = manzanas_tiempos.rename(columns={\"distancia_a_centro_05\": \"distancia_a_centro_am\", \"duracion_a_centro_05\": \"duracion_a_centro_am\"})"
   ]
  },
  {
   "cell_type": "code",
   "execution_count": 7,
   "metadata": {},
   "outputs": [
    {
     "name": "stdout",
     "output_type": "stream",
     "text": [
      "(124903, 31)\n"
     ]
    },
    {
     "data": {
      "text/html": [
       "<div>\n",
       "<style scoped>\n",
       "    .dataframe tbody tr th:only-of-type {\n",
       "        vertical-align: middle;\n",
       "    }\n",
       "\n",
       "    .dataframe tbody tr th {\n",
       "        vertical-align: top;\n",
       "    }\n",
       "\n",
       "    .dataframe thead th {\n",
       "        text-align: right;\n",
       "    }\n",
       "</style>\n",
       "<table border=\"1\" class=\"dataframe\">\n",
       "  <thead>\n",
       "    <tr style=\"text-align: right;\">\n",
       "      <th></th>\n",
       "      <th>Mz</th>\n",
       "      <th>UBIGEO</th>\n",
       "      <th>AREA</th>\n",
       "      <th>CODCCPP</th>\n",
       "      <th>ZONA</th>\n",
       "      <th>MANZANA_ID</th>\n",
       "      <th>MANZANA_A</th>\n",
       "      <th>T_TOTAL</th>\n",
       "      <th>T_HOMBRES</th>\n",
       "      <th>T_MUJERES</th>\n",
       "      <th>...</th>\n",
       "      <th>CCPP</th>\n",
       "      <th>CCDI</th>\n",
       "      <th>NOMBDIST</th>\n",
       "      <th>CAPITAL</th>\n",
       "      <th>CODIGO</th>\n",
       "      <th>CNT_CCPP</th>\n",
       "      <th>DESCRIPCIO</th>\n",
       "      <th>layer</th>\n",
       "      <th>path</th>\n",
       "      <th>geometry</th>\n",
       "    </tr>\n",
       "  </thead>\n",
       "  <tbody>\n",
       "    <tr>\n",
       "      <th>0</th>\n",
       "      <td>150102000102100023</td>\n",
       "      <td>150102</td>\n",
       "      <td>1</td>\n",
       "      <td>0001</td>\n",
       "      <td>02100</td>\n",
       "      <td>023</td>\n",
       "      <td>None</td>\n",
       "      <td>18.0</td>\n",
       "      <td>7.0</td>\n",
       "      <td>11.0</td>\n",
       "      <td>...</td>\n",
       "      <td>01</td>\n",
       "      <td>02</td>\n",
       "      <td>ANCON</td>\n",
       "      <td>ANCON</td>\n",
       "      <td>150102</td>\n",
       "      <td>1.0</td>\n",
       "      <td>ANCON</td>\n",
       "      <td>ANCON_LIMA_150102_Manzanas_Poblacion_JuanPablo...</td>\n",
       "      <td>C:/Users/Abril/Desktop/IEP/MAPAS/Manzanas/ANCO...</td>\n",
       "      <td>MULTIPOLYGON (((-77.12763 -11.81363, -77.12723...</td>\n",
       "    </tr>\n",
       "    <tr>\n",
       "      <th>1</th>\n",
       "      <td>150102000101101010</td>\n",
       "      <td>150102</td>\n",
       "      <td>1</td>\n",
       "      <td>0001</td>\n",
       "      <td>01101</td>\n",
       "      <td>010</td>\n",
       "      <td>None</td>\n",
       "      <td>31.0</td>\n",
       "      <td>14.0</td>\n",
       "      <td>17.0</td>\n",
       "      <td>...</td>\n",
       "      <td>01</td>\n",
       "      <td>02</td>\n",
       "      <td>ANCON</td>\n",
       "      <td>ANCON</td>\n",
       "      <td>150102</td>\n",
       "      <td>1.0</td>\n",
       "      <td>ANCON</td>\n",
       "      <td>ANCON_LIMA_150102_Manzanas_Poblacion_JuanPablo...</td>\n",
       "      <td>C:/Users/Abril/Desktop/IEP/MAPAS/Manzanas/ANCO...</td>\n",
       "      <td>MULTIPOLYGON (((-77.15185 -11.73780, -77.15151...</td>\n",
       "    </tr>\n",
       "    <tr>\n",
       "      <th>2</th>\n",
       "      <td>150102000100600037</td>\n",
       "      <td>150102</td>\n",
       "      <td>1</td>\n",
       "      <td>0001</td>\n",
       "      <td>00600</td>\n",
       "      <td>037</td>\n",
       "      <td>None</td>\n",
       "      <td>71.0</td>\n",
       "      <td>32.0</td>\n",
       "      <td>39.0</td>\n",
       "      <td>...</td>\n",
       "      <td>01</td>\n",
       "      <td>02</td>\n",
       "      <td>ANCON</td>\n",
       "      <td>ANCON</td>\n",
       "      <td>150102</td>\n",
       "      <td>1.0</td>\n",
       "      <td>ANCON</td>\n",
       "      <td>ANCON_LIMA_150102_Manzanas_Poblacion_JuanPablo...</td>\n",
       "      <td>C:/Users/Abril/Desktop/IEP/MAPAS/Manzanas/ANCO...</td>\n",
       "      <td>MULTIPOLYGON (((-77.16978 -11.77796, -77.16981...</td>\n",
       "    </tr>\n",
       "    <tr>\n",
       "      <th>3</th>\n",
       "      <td>150102000101202048</td>\n",
       "      <td>150102</td>\n",
       "      <td>1</td>\n",
       "      <td>0001</td>\n",
       "      <td>01202</td>\n",
       "      <td>048</td>\n",
       "      <td>None</td>\n",
       "      <td>12.0</td>\n",
       "      <td>5.0</td>\n",
       "      <td>7.0</td>\n",
       "      <td>...</td>\n",
       "      <td>01</td>\n",
       "      <td>02</td>\n",
       "      <td>ANCON</td>\n",
       "      <td>ANCON</td>\n",
       "      <td>150102</td>\n",
       "      <td>1.0</td>\n",
       "      <td>ANCON</td>\n",
       "      <td>ANCON_LIMA_150102_Manzanas_Poblacion_JuanPablo...</td>\n",
       "      <td>C:/Users/Abril/Desktop/IEP/MAPAS/Manzanas/ANCO...</td>\n",
       "      <td>MULTIPOLYGON (((-77.15222 -11.74137, -77.15140...</td>\n",
       "    </tr>\n",
       "    <tr>\n",
       "      <th>4</th>\n",
       "      <td>150102000101202010A</td>\n",
       "      <td>150102</td>\n",
       "      <td>1</td>\n",
       "      <td>0001</td>\n",
       "      <td>01202</td>\n",
       "      <td>010</td>\n",
       "      <td>A</td>\n",
       "      <td>2.0</td>\n",
       "      <td>0.0</td>\n",
       "      <td>2.0</td>\n",
       "      <td>...</td>\n",
       "      <td>01</td>\n",
       "      <td>02</td>\n",
       "      <td>ANCON</td>\n",
       "      <td>ANCON</td>\n",
       "      <td>150102</td>\n",
       "      <td>1.0</td>\n",
       "      <td>ANCON</td>\n",
       "      <td>ANCON_LIMA_150102_Manzanas_Poblacion_JuanPablo...</td>\n",
       "      <td>C:/Users/Abril/Desktop/IEP/MAPAS/Manzanas/ANCO...</td>\n",
       "      <td>MULTIPOLYGON (((-77.16253 -11.73364, -77.16255...</td>\n",
       "    </tr>\n",
       "  </tbody>\n",
       "</table>\n",
       "<p>5 rows × 31 columns</p>\n",
       "</div>"
      ],
      "text/plain": [
       "                    Mz  UBIGEO AREA CODCCPP   ZONA MANZANA_ID MANZANA_A  \\\n",
       "0   150102000102100023  150102    1    0001  02100        023      None   \n",
       "1   150102000101101010  150102    1    0001  01101        010      None   \n",
       "2   150102000100600037  150102    1    0001  00600        037      None   \n",
       "3   150102000101202048  150102    1    0001  01202        048      None   \n",
       "4  150102000101202010A  150102    1    0001  01202        010         A   \n",
       "\n",
       "   T_TOTAL  T_HOMBRES  T_MUJERES  ... CCPP CCDI NOMBDIST  CAPITAL  CODIGO  \\\n",
       "0     18.0        7.0       11.0  ...   01   02    ANCON    ANCON  150102   \n",
       "1     31.0       14.0       17.0  ...   01   02    ANCON    ANCON  150102   \n",
       "2     71.0       32.0       39.0  ...   01   02    ANCON    ANCON  150102   \n",
       "3     12.0        5.0        7.0  ...   01   02    ANCON    ANCON  150102   \n",
       "4      2.0        0.0        2.0  ...   01   02    ANCON    ANCON  150102   \n",
       "\n",
       "  CNT_CCPP DESCRIPCIO                                              layer  \\\n",
       "0      1.0      ANCON  ANCON_LIMA_150102_Manzanas_Poblacion_JuanPablo...   \n",
       "1      1.0      ANCON  ANCON_LIMA_150102_Manzanas_Poblacion_JuanPablo...   \n",
       "2      1.0      ANCON  ANCON_LIMA_150102_Manzanas_Poblacion_JuanPablo...   \n",
       "3      1.0      ANCON  ANCON_LIMA_150102_Manzanas_Poblacion_JuanPablo...   \n",
       "4      1.0      ANCON  ANCON_LIMA_150102_Manzanas_Poblacion_JuanPablo...   \n",
       "\n",
       "                                                path  \\\n",
       "0  C:/Users/Abril/Desktop/IEP/MAPAS/Manzanas/ANCO...   \n",
       "1  C:/Users/Abril/Desktop/IEP/MAPAS/Manzanas/ANCO...   \n",
       "2  C:/Users/Abril/Desktop/IEP/MAPAS/Manzanas/ANCO...   \n",
       "3  C:/Users/Abril/Desktop/IEP/MAPAS/Manzanas/ANCO...   \n",
       "4  C:/Users/Abril/Desktop/IEP/MAPAS/Manzanas/ANCO...   \n",
       "\n",
       "                                            geometry  \n",
       "0  MULTIPOLYGON (((-77.12763 -11.81363, -77.12723...  \n",
       "1  MULTIPOLYGON (((-77.15185 -11.73780, -77.15151...  \n",
       "2  MULTIPOLYGON (((-77.16978 -11.77796, -77.16981...  \n",
       "3  MULTIPOLYGON (((-77.15222 -11.74137, -77.15140...  \n",
       "4  MULTIPOLYGON (((-77.16253 -11.73364, -77.16255...  \n",
       "\n",
       "[5 rows x 31 columns]"
      ]
     },
     "execution_count": 7,
     "metadata": {},
     "output_type": "execute_result"
    }
   ],
   "source": [
    "print(manzanas.shape)\n",
    "manzanas.head()"
   ]
  },
  {
   "cell_type": "code",
   "execution_count": 8,
   "metadata": {},
   "outputs": [],
   "source": [
    "manzanas_merge = pd.merge(manzanas, manzanas_tiempos, on=\"Mz\", how=\"left\")"
   ]
  },
  {
   "cell_type": "code",
   "execution_count": 9,
   "metadata": {},
   "outputs": [
    {
     "data": {
      "text/html": [
       "<div>\n",
       "<style scoped>\n",
       "    .dataframe tbody tr th:only-of-type {\n",
       "        vertical-align: middle;\n",
       "    }\n",
       "\n",
       "    .dataframe tbody tr th {\n",
       "        vertical-align: top;\n",
       "    }\n",
       "\n",
       "    .dataframe thead th {\n",
       "        text-align: right;\n",
       "    }\n",
       "</style>\n",
       "<table border=\"1\" class=\"dataframe\">\n",
       "  <thead>\n",
       "    <tr style=\"text-align: right;\">\n",
       "      <th></th>\n",
       "      <th>Mz</th>\n",
       "      <th>UBIGEO</th>\n",
       "      <th>AREA</th>\n",
       "      <th>CODCCPP</th>\n",
       "      <th>ZONA</th>\n",
       "      <th>MANZANA_ID</th>\n",
       "      <th>MANZANA_A</th>\n",
       "      <th>T_TOTAL</th>\n",
       "      <th>T_HOMBRES</th>\n",
       "      <th>T_MUJERES</th>\n",
       "      <th>...</th>\n",
       "      <th>CNT_CCPP</th>\n",
       "      <th>DESCRIPCIO</th>\n",
       "      <th>layer</th>\n",
       "      <th>path</th>\n",
       "      <th>geometry</th>\n",
       "      <th>InputID</th>\n",
       "      <th>TargetID</th>\n",
       "      <th>Distance</th>\n",
       "      <th>distancia_a_centro_am</th>\n",
       "      <th>duracion_a_centro_am</th>\n",
       "    </tr>\n",
       "  </thead>\n",
       "  <tbody>\n",
       "    <tr>\n",
       "      <th>0</th>\n",
       "      <td>150102000102100023</td>\n",
       "      <td>150102</td>\n",
       "      <td>1</td>\n",
       "      <td>0001</td>\n",
       "      <td>02100</td>\n",
       "      <td>023</td>\n",
       "      <td>None</td>\n",
       "      <td>18.0</td>\n",
       "      <td>7.0</td>\n",
       "      <td>11.0</td>\n",
       "      <td>...</td>\n",
       "      <td>1.0</td>\n",
       "      <td>ANCON</td>\n",
       "      <td>ANCON_LIMA_150102_Manzanas_Poblacion_JuanPablo...</td>\n",
       "      <td>C:/Users/Abril/Desktop/IEP/MAPAS/Manzanas/ANCO...</td>\n",
       "      <td>MULTIPOLYGON (((-77.12763 -11.81363, -77.12723...</td>\n",
       "      <td>150102000102100023</td>\n",
       "      <td>111</td>\n",
       "      <td>1889.113655</td>\n",
       "      <td>2.7854</td>\n",
       "      <td>33.421667</td>\n",
       "    </tr>\n",
       "    <tr>\n",
       "      <th>1</th>\n",
       "      <td>150102000101101010</td>\n",
       "      <td>150102</td>\n",
       "      <td>1</td>\n",
       "      <td>0001</td>\n",
       "      <td>01101</td>\n",
       "      <td>010</td>\n",
       "      <td>None</td>\n",
       "      <td>31.0</td>\n",
       "      <td>14.0</td>\n",
       "      <td>17.0</td>\n",
       "      <td>...</td>\n",
       "      <td>1.0</td>\n",
       "      <td>ANCON</td>\n",
       "      <td>ANCON_LIMA_150102_Manzanas_Poblacion_JuanPablo...</td>\n",
       "      <td>C:/Users/Abril/Desktop/IEP/MAPAS/Manzanas/ANCO...</td>\n",
       "      <td>MULTIPOLYGON (((-77.15185 -11.73780, -77.15151...</td>\n",
       "      <td>150102000101101010</td>\n",
       "      <td>841</td>\n",
       "      <td>2291.062646</td>\n",
       "      <td>7.7934</td>\n",
       "      <td>93.521667</td>\n",
       "    </tr>\n",
       "    <tr>\n",
       "      <th>2</th>\n",
       "      <td>150102000100600037</td>\n",
       "      <td>150102</td>\n",
       "      <td>1</td>\n",
       "      <td>0001</td>\n",
       "      <td>00600</td>\n",
       "      <td>037</td>\n",
       "      <td>None</td>\n",
       "      <td>71.0</td>\n",
       "      <td>32.0</td>\n",
       "      <td>39.0</td>\n",
       "      <td>...</td>\n",
       "      <td>1.0</td>\n",
       "      <td>ANCON</td>\n",
       "      <td>ANCON_LIMA_150102_Manzanas_Poblacion_JuanPablo...</td>\n",
       "      <td>C:/Users/Abril/Desktop/IEP/MAPAS/Manzanas/ANCO...</td>\n",
       "      <td>MULTIPOLYGON (((-77.16978 -11.77796, -77.16981...</td>\n",
       "      <td>150102000100600037</td>\n",
       "      <td>840</td>\n",
       "      <td>347.438585</td>\n",
       "      <td>0.4401</td>\n",
       "      <td>5.280000</td>\n",
       "    </tr>\n",
       "    <tr>\n",
       "      <th>3</th>\n",
       "      <td>150102000101202048</td>\n",
       "      <td>150102</td>\n",
       "      <td>1</td>\n",
       "      <td>0001</td>\n",
       "      <td>01202</td>\n",
       "      <td>048</td>\n",
       "      <td>None</td>\n",
       "      <td>12.0</td>\n",
       "      <td>5.0</td>\n",
       "      <td>7.0</td>\n",
       "      <td>...</td>\n",
       "      <td>1.0</td>\n",
       "      <td>ANCON</td>\n",
       "      <td>ANCON_LIMA_150102_Manzanas_Poblacion_JuanPablo...</td>\n",
       "      <td>C:/Users/Abril/Desktop/IEP/MAPAS/Manzanas/ANCO...</td>\n",
       "      <td>MULTIPOLYGON (((-77.15222 -11.74137, -77.15140...</td>\n",
       "      <td>150102000101202048</td>\n",
       "      <td>841</td>\n",
       "      <td>2027.844261</td>\n",
       "      <td>7.2304</td>\n",
       "      <td>86.766667</td>\n",
       "    </tr>\n",
       "    <tr>\n",
       "      <th>4</th>\n",
       "      <td>150102000101202010A</td>\n",
       "      <td>150102</td>\n",
       "      <td>1</td>\n",
       "      <td>0001</td>\n",
       "      <td>01202</td>\n",
       "      <td>010</td>\n",
       "      <td>A</td>\n",
       "      <td>2.0</td>\n",
       "      <td>0.0</td>\n",
       "      <td>2.0</td>\n",
       "      <td>...</td>\n",
       "      <td>1.0</td>\n",
       "      <td>ANCON</td>\n",
       "      <td>ANCON_LIMA_150102_Manzanas_Poblacion_JuanPablo...</td>\n",
       "      <td>C:/Users/Abril/Desktop/IEP/MAPAS/Manzanas/ANCO...</td>\n",
       "      <td>MULTIPOLYGON (((-77.16253 -11.73364, -77.16255...</td>\n",
       "      <td>150102000101202010A</td>\n",
       "      <td>841</td>\n",
       "      <td>2138.211917</td>\n",
       "      <td>8.6044</td>\n",
       "      <td>103.258333</td>\n",
       "    </tr>\n",
       "    <tr>\n",
       "      <th>...</th>\n",
       "      <td>...</td>\n",
       "      <td>...</td>\n",
       "      <td>...</td>\n",
       "      <td>...</td>\n",
       "      <td>...</td>\n",
       "      <td>...</td>\n",
       "      <td>...</td>\n",
       "      <td>...</td>\n",
       "      <td>...</td>\n",
       "      <td>...</td>\n",
       "      <td>...</td>\n",
       "      <td>...</td>\n",
       "      <td>...</td>\n",
       "      <td>...</td>\n",
       "      <td>...</td>\n",
       "      <td>...</td>\n",
       "      <td>...</td>\n",
       "      <td>...</td>\n",
       "      <td>...</td>\n",
       "      <td>...</td>\n",
       "      <td>...</td>\n",
       "    </tr>\n",
       "    <tr>\n",
       "      <th>149464</th>\n",
       "      <td>151009000100100026A</td>\n",
       "      <td>151009</td>\n",
       "      <td>1</td>\n",
       "      <td>0001</td>\n",
       "      <td>00100</td>\n",
       "      <td>026</td>\n",
       "      <td>A</td>\n",
       "      <td>11.0</td>\n",
       "      <td>6.0</td>\n",
       "      <td>5.0</td>\n",
       "      <td>...</td>\n",
       "      <td>NaN</td>\n",
       "      <td>None</td>\n",
       "      <td>YAUYOS_LIMA_1510_Manzanas_Poblacion_JP_SuyoPom...</td>\n",
       "      <td>C:/Users/Abril/Desktop/IEP/MAPAS/Manzanas/YAUY...</td>\n",
       "      <td>MULTIPOLYGON (((-75.86358 -12.91501, -75.86360...</td>\n",
       "      <td>151009000100100026A</td>\n",
       "      <td>143</td>\n",
       "      <td>112057.743757</td>\n",
       "      <td>419.9535</td>\n",
       "      <td>5039.515000</td>\n",
       "    </tr>\n",
       "    <tr>\n",
       "      <th>149465</th>\n",
       "      <td>151022004300000</td>\n",
       "      <td>151022</td>\n",
       "      <td>2</td>\n",
       "      <td>0043</td>\n",
       "      <td>00000</td>\n",
       "      <td>None</td>\n",
       "      <td>None</td>\n",
       "      <td>2.0</td>\n",
       "      <td>1.0</td>\n",
       "      <td>1.0</td>\n",
       "      <td>...</td>\n",
       "      <td>NaN</td>\n",
       "      <td>None</td>\n",
       "      <td>YAUYOS_LIMA_1510_Manzanas_Poblacion_JP_SuyoPom...</td>\n",
       "      <td>C:/Users/Abril/Desktop/IEP/MAPAS/Manzanas/YAUY...</td>\n",
       "      <td>MULTIPOLYGON (((-76.16561 -12.43728, -76.16553...</td>\n",
       "      <td>151022004300000</td>\n",
       "      <td>704</td>\n",
       "      <td>66102.143212</td>\n",
       "      <td>173.5583</td>\n",
       "      <td>2082.741667</td>\n",
       "    </tr>\n",
       "    <tr>\n",
       "      <th>149466</th>\n",
       "      <td>151007000100100017</td>\n",
       "      <td>151007</td>\n",
       "      <td>1</td>\n",
       "      <td>0001</td>\n",
       "      <td>00100</td>\n",
       "      <td>017</td>\n",
       "      <td>None</td>\n",
       "      <td>8.0</td>\n",
       "      <td>4.0</td>\n",
       "      <td>4.0</td>\n",
       "      <td>...</td>\n",
       "      <td>NaN</td>\n",
       "      <td>None</td>\n",
       "      <td>YAUYOS_LIMA_1510_Manzanas_Poblacion_JP_SuyoPom...</td>\n",
       "      <td>C:/Users/Abril/Desktop/IEP/MAPAS/Manzanas/YAUY...</td>\n",
       "      <td>MULTIPOLYGON (((-75.87091 -12.34471, -75.87092...</td>\n",
       "      <td>151007000100100017</td>\n",
       "      <td>704</td>\n",
       "      <td>97995.053803</td>\n",
       "      <td>211.6314</td>\n",
       "      <td>2572.025000</td>\n",
       "    </tr>\n",
       "    <tr>\n",
       "      <th>149467</th>\n",
       "      <td>151022002700000</td>\n",
       "      <td>151022</td>\n",
       "      <td>2</td>\n",
       "      <td>0027</td>\n",
       "      <td>00000</td>\n",
       "      <td>None</td>\n",
       "      <td>None</td>\n",
       "      <td>1.0</td>\n",
       "      <td>1.0</td>\n",
       "      <td>0.0</td>\n",
       "      <td>...</td>\n",
       "      <td>NaN</td>\n",
       "      <td>None</td>\n",
       "      <td>YAUYOS_LIMA_1510_Manzanas_Poblacion_JP_SuyoPom...</td>\n",
       "      <td>C:/Users/Abril/Desktop/IEP/MAPAS/Manzanas/YAUY...</td>\n",
       "      <td>MULTIPOLYGON (((-76.29371 -12.52059, -76.29363...</td>\n",
       "      <td>151022002700000</td>\n",
       "      <td>704</td>\n",
       "      <td>54029.885308</td>\n",
       "      <td>184.5107</td>\n",
       "      <td>2214.206667</td>\n",
       "    </tr>\n",
       "    <tr>\n",
       "      <th>149468</th>\n",
       "      <td>151004000100100009</td>\n",
       "      <td>151004</td>\n",
       "      <td>1</td>\n",
       "      <td>0001</td>\n",
       "      <td>00100</td>\n",
       "      <td>009</td>\n",
       "      <td>None</td>\n",
       "      <td>11.0</td>\n",
       "      <td>6.0</td>\n",
       "      <td>5.0</td>\n",
       "      <td>...</td>\n",
       "      <td>NaN</td>\n",
       "      <td>None</td>\n",
       "      <td>YAUYOS_LIMA_1510_Manzanas_Poblacion_JP_SuyoPom...</td>\n",
       "      <td>C:/Users/Abril/Desktop/IEP/MAPAS/Manzanas/YAUY...</td>\n",
       "      <td>MULTIPOLYGON (((-76.13725 -12.38264, -76.13743...</td>\n",
       "      <td>151004000100100009</td>\n",
       "      <td>704</td>\n",
       "      <td>68942.475423</td>\n",
       "      <td>170.9955</td>\n",
       "      <td>2051.980000</td>\n",
       "    </tr>\n",
       "  </tbody>\n",
       "</table>\n",
       "<p>149469 rows × 36 columns</p>\n",
       "</div>"
      ],
      "text/plain": [
       "                         Mz  UBIGEO AREA CODCCPP   ZONA MANZANA_ID MANZANA_A  \\\n",
       "0        150102000102100023  150102    1    0001  02100        023      None   \n",
       "1        150102000101101010  150102    1    0001  01101        010      None   \n",
       "2        150102000100600037  150102    1    0001  00600        037      None   \n",
       "3        150102000101202048  150102    1    0001  01202        048      None   \n",
       "4       150102000101202010A  150102    1    0001  01202        010         A   \n",
       "...                     ...     ...  ...     ...    ...        ...       ...   \n",
       "149464  151009000100100026A  151009    1    0001  00100        026         A   \n",
       "149465      151022004300000  151022    2    0043  00000       None      None   \n",
       "149466   151007000100100017  151007    1    0001  00100        017      None   \n",
       "149467      151022002700000  151022    2    0027  00000       None      None   \n",
       "149468   151004000100100009  151004    1    0001  00100        009      None   \n",
       "\n",
       "        T_TOTAL  T_HOMBRES  T_MUJERES  ... CNT_CCPP DESCRIPCIO  \\\n",
       "0          18.0        7.0       11.0  ...      1.0      ANCON   \n",
       "1          31.0       14.0       17.0  ...      1.0      ANCON   \n",
       "2          71.0       32.0       39.0  ...      1.0      ANCON   \n",
       "3          12.0        5.0        7.0  ...      1.0      ANCON   \n",
       "4           2.0        0.0        2.0  ...      1.0      ANCON   \n",
       "...         ...        ...        ...  ...      ...        ...   \n",
       "149464     11.0        6.0        5.0  ...      NaN       None   \n",
       "149465      2.0        1.0        1.0  ...      NaN       None   \n",
       "149466      8.0        4.0        4.0  ...      NaN       None   \n",
       "149467      1.0        1.0        0.0  ...      NaN       None   \n",
       "149468     11.0        6.0        5.0  ...      NaN       None   \n",
       "\n",
       "                                                    layer  \\\n",
       "0       ANCON_LIMA_150102_Manzanas_Poblacion_JuanPablo...   \n",
       "1       ANCON_LIMA_150102_Manzanas_Poblacion_JuanPablo...   \n",
       "2       ANCON_LIMA_150102_Manzanas_Poblacion_JuanPablo...   \n",
       "3       ANCON_LIMA_150102_Manzanas_Poblacion_JuanPablo...   \n",
       "4       ANCON_LIMA_150102_Manzanas_Poblacion_JuanPablo...   \n",
       "...                                                   ...   \n",
       "149464  YAUYOS_LIMA_1510_Manzanas_Poblacion_JP_SuyoPom...   \n",
       "149465  YAUYOS_LIMA_1510_Manzanas_Poblacion_JP_SuyoPom...   \n",
       "149466  YAUYOS_LIMA_1510_Manzanas_Poblacion_JP_SuyoPom...   \n",
       "149467  YAUYOS_LIMA_1510_Manzanas_Poblacion_JP_SuyoPom...   \n",
       "149468  YAUYOS_LIMA_1510_Manzanas_Poblacion_JP_SuyoPom...   \n",
       "\n",
       "                                                     path  \\\n",
       "0       C:/Users/Abril/Desktop/IEP/MAPAS/Manzanas/ANCO...   \n",
       "1       C:/Users/Abril/Desktop/IEP/MAPAS/Manzanas/ANCO...   \n",
       "2       C:/Users/Abril/Desktop/IEP/MAPAS/Manzanas/ANCO...   \n",
       "3       C:/Users/Abril/Desktop/IEP/MAPAS/Manzanas/ANCO...   \n",
       "4       C:/Users/Abril/Desktop/IEP/MAPAS/Manzanas/ANCO...   \n",
       "...                                                   ...   \n",
       "149464  C:/Users/Abril/Desktop/IEP/MAPAS/Manzanas/YAUY...   \n",
       "149465  C:/Users/Abril/Desktop/IEP/MAPAS/Manzanas/YAUY...   \n",
       "149466  C:/Users/Abril/Desktop/IEP/MAPAS/Manzanas/YAUY...   \n",
       "149467  C:/Users/Abril/Desktop/IEP/MAPAS/Manzanas/YAUY...   \n",
       "149468  C:/Users/Abril/Desktop/IEP/MAPAS/Manzanas/YAUY...   \n",
       "\n",
       "                                                 geometry  \\\n",
       "0       MULTIPOLYGON (((-77.12763 -11.81363, -77.12723...   \n",
       "1       MULTIPOLYGON (((-77.15185 -11.73780, -77.15151...   \n",
       "2       MULTIPOLYGON (((-77.16978 -11.77796, -77.16981...   \n",
       "3       MULTIPOLYGON (((-77.15222 -11.74137, -77.15140...   \n",
       "4       MULTIPOLYGON (((-77.16253 -11.73364, -77.16255...   \n",
       "...                                                   ...   \n",
       "149464  MULTIPOLYGON (((-75.86358 -12.91501, -75.86360...   \n",
       "149465  MULTIPOLYGON (((-76.16561 -12.43728, -76.16553...   \n",
       "149466  MULTIPOLYGON (((-75.87091 -12.34471, -75.87092...   \n",
       "149467  MULTIPOLYGON (((-76.29371 -12.52059, -76.29363...   \n",
       "149468  MULTIPOLYGON (((-76.13725 -12.38264, -76.13743...   \n",
       "\n",
       "                    InputID TargetID       Distance distancia_a_centro_am  \\\n",
       "0        150102000102100023      111    1889.113655                2.7854   \n",
       "1        150102000101101010      841    2291.062646                7.7934   \n",
       "2        150102000100600037      840     347.438585                0.4401   \n",
       "3        150102000101202048      841    2027.844261                7.2304   \n",
       "4       150102000101202010A      841    2138.211917                8.6044   \n",
       "...                     ...      ...            ...                   ...   \n",
       "149464  151009000100100026A      143  112057.743757              419.9535   \n",
       "149465      151022004300000      704   66102.143212              173.5583   \n",
       "149466   151007000100100017      704   97995.053803              211.6314   \n",
       "149467      151022002700000      704   54029.885308              184.5107   \n",
       "149468   151004000100100009      704   68942.475423              170.9955   \n",
       "\n",
       "       duracion_a_centro_am  \n",
       "0                 33.421667  \n",
       "1                 93.521667  \n",
       "2                  5.280000  \n",
       "3                 86.766667  \n",
       "4                103.258333  \n",
       "...                     ...  \n",
       "149464          5039.515000  \n",
       "149465          2082.741667  \n",
       "149466          2572.025000  \n",
       "149467          2214.206667  \n",
       "149468          2051.980000  \n",
       "\n",
       "[149469 rows x 36 columns]"
      ]
     },
     "execution_count": 9,
     "metadata": {},
     "output_type": "execute_result"
    }
   ],
   "source": [
    "manzanas_merge"
   ]
  },
  {
   "cell_type": "markdown",
   "metadata": {},
   "source": [
    "### Demanda"
   ]
  },
  {
   "cell_type": "code",
   "execution_count": 10,
   "metadata": {},
   "outputs": [
    {
     "name": "stdout",
     "output_type": "stream",
     "text": [
      "(55078, 7)\n"
     ]
    },
    {
     "data": {
      "text/html": [
       "<div>\n",
       "<style scoped>\n",
       "    .dataframe tbody tr th:only-of-type {\n",
       "        vertical-align: middle;\n",
       "    }\n",
       "\n",
       "    .dataframe tbody tr th {\n",
       "        vertical-align: top;\n",
       "    }\n",
       "\n",
       "    .dataframe thead th {\n",
       "        text-align: right;\n",
       "    }\n",
       "</style>\n",
       "<table border=\"1\" class=\"dataframe\">\n",
       "  <thead>\n",
       "    <tr style=\"text-align: right;\">\n",
       "      <th></th>\n",
       "      <th>id</th>\n",
       "      <th>ubigeo</th>\n",
       "      <th>nombdist</th>\n",
       "      <th>cod_mz</th>\n",
       "      <th>pobma60_mz</th>\n",
       "      <th>pobma60_dist</th>\n",
       "      <th>geom</th>\n",
       "    </tr>\n",
       "  </thead>\n",
       "  <tbody>\n",
       "    <tr>\n",
       "      <th>0</th>\n",
       "      <td>9.0</td>\n",
       "      <td>150102</td>\n",
       "      <td>ANCON</td>\n",
       "      <td>150102000101101009B</td>\n",
       "      <td>5</td>\n",
       "      <td>1481</td>\n",
       "      <td>0106000020E6100000010000000103000000010000000D...</td>\n",
       "    </tr>\n",
       "    <tr>\n",
       "      <th>1</th>\n",
       "      <td>11.0</td>\n",
       "      <td>150102</td>\n",
       "      <td>ANCON</td>\n",
       "      <td>150102000101600020B</td>\n",
       "      <td>2</td>\n",
       "      <td>1481</td>\n",
       "      <td>0106000020E6100000010000000103000000010000000E...</td>\n",
       "    </tr>\n",
       "    <tr>\n",
       "      <th>2</th>\n",
       "      <td>12.0</td>\n",
       "      <td>150102</td>\n",
       "      <td>ANCON</td>\n",
       "      <td>150102000100500030</td>\n",
       "      <td>1</td>\n",
       "      <td>1481</td>\n",
       "      <td>0106000020E61000000100000001030000000100000005...</td>\n",
       "    </tr>\n",
       "    <tr>\n",
       "      <th>3</th>\n",
       "      <td>14.0</td>\n",
       "      <td>150102</td>\n",
       "      <td>ANCON</td>\n",
       "      <td>150102000100400044</td>\n",
       "      <td>2</td>\n",
       "      <td>1481</td>\n",
       "      <td>0106000020E61000000100000001030000000100000006...</td>\n",
       "    </tr>\n",
       "    <tr>\n",
       "      <th>4</th>\n",
       "      <td>15.0</td>\n",
       "      <td>150102</td>\n",
       "      <td>ANCON</td>\n",
       "      <td>150102000100200012</td>\n",
       "      <td>2</td>\n",
       "      <td>1481</td>\n",
       "      <td>0106000020E61000000100000001030000000100000009...</td>\n",
       "    </tr>\n",
       "  </tbody>\n",
       "</table>\n",
       "</div>"
      ],
      "text/plain": [
       "     id  ubigeo nombdist               cod_mz  pobma60_mz  pobma60_dist  \\\n",
       "0   9.0  150102    ANCON  150102000101101009B           5          1481   \n",
       "1  11.0  150102    ANCON  150102000101600020B           2          1481   \n",
       "2  12.0  150102    ANCON   150102000100500030           1          1481   \n",
       "3  14.0  150102    ANCON   150102000100400044           2          1481   \n",
       "4  15.0  150102    ANCON   150102000100200012           2          1481   \n",
       "\n",
       "                                                geom  \n",
       "0  0106000020E6100000010000000103000000010000000D...  \n",
       "1  0106000020E6100000010000000103000000010000000E...  \n",
       "2  0106000020E61000000100000001030000000100000005...  \n",
       "3  0106000020E61000000100000001030000000100000006...  \n",
       "4  0106000020E61000000100000001030000000100000009...  "
      ]
     },
     "execution_count": 10,
     "metadata": {},
     "output_type": "execute_result"
    }
   ],
   "source": [
    "demanda = pd.read_csv(\"../data/BBDD Perú demanda/1_vm_limamet_pobma60_mz.csv\")\n",
    "print(demanda.shape)\n",
    "demanda.head()"
   ]
  },
  {
   "cell_type": "code",
   "execution_count": 11,
   "metadata": {},
   "outputs": [
    {
     "data": {
      "text/plain": [
       "Index(['id', 'ubigeo', 'nombdist', 'cod_mz', 'pobma60_mz', 'pobma60_dist',\n",
       "       'geom'],\n",
       "      dtype='object')"
      ]
     },
     "execution_count": 11,
     "metadata": {},
     "output_type": "execute_result"
    }
   ],
   "source": [
    "demanda.columns"
   ]
  },
  {
   "cell_type": "code",
   "execution_count": 12,
   "metadata": {},
   "outputs": [
    {
     "name": "stdout",
     "output_type": "stream",
     "text": [
      "<class 'geopandas.geodataframe.GeoDataFrame'>\n",
      "RangeIndex: 151541 entries, 0 to 151540\n",
      "Data columns (total 39 columns):\n",
      " #   Column                 Non-Null Count   Dtype   \n",
      "---  ------                 --------------   -----   \n",
      " 0   Mz                     151541 non-null  object  \n",
      " 1   UBIGEO                 151541 non-null  object  \n",
      " 2   AREA                   151541 non-null  object  \n",
      " 3   CODCCPP                151541 non-null  object  \n",
      " 4   ZONA                   151541 non-null  object  \n",
      " 5   MANZANA_ID             148783 non-null  object  \n",
      " 6   MANZANA_A              53897 non-null   object  \n",
      " 7   T_TOTAL                151541 non-null  float64 \n",
      " 8   T_HOMBRES              151541 non-null  float64 \n",
      " 9   T_MUJERES              151541 non-null  float64 \n",
      " 10  LLAVE_MZS              151541 non-null  object  \n",
      " 11  contacto               151541 non-null  object  \n",
      " 12  descargar              151541 non-null  object  \n",
      " 13  whatsapp               151541 non-null  float64 \n",
      " 14  NOMBDEP                151541 non-null  object  \n",
      " 15  NOMBPROV               151541 non-null  object  \n",
      " 16  IDPROV                 151541 non-null  object  \n",
      " 17  ARCHIVO                151541 non-null  object  \n",
      " 18  Nombre                 115912 non-null  object  \n",
      " 19  Apellido               115912 non-null  object  \n",
      " 20  CCDD                   115912 non-null  object  \n",
      " 21  CCPP                   115912 non-null  object  \n",
      " 22  CCDI                   115912 non-null  object  \n",
      " 23  NOMBDIST               115912 non-null  object  \n",
      " 24  CAPITAL                115912 non-null  object  \n",
      " 25  CODIGO                 115912 non-null  object  \n",
      " 26  CNT_CCPP               115912 non-null  float64 \n",
      " 27  DESCRIPCIO             115912 non-null  object  \n",
      " 28  layer                  151541 non-null  object  \n",
      " 29  path                   151541 non-null  object  \n",
      " 30  geometry               151541 non-null  geometry\n",
      " 31  InputID                151541 non-null  object  \n",
      " 32  TargetID               151541 non-null  int64   \n",
      " 33  Distance               151541 non-null  float64 \n",
      " 34  distancia_a_centro_am  146490 non-null  float64 \n",
      " 35  duracion_a_centro_am   146490 non-null  float64 \n",
      " 36  cod_mz                 71586 non-null   object  \n",
      " 37  pobma60_mz             71586 non-null   float64 \n",
      " 38  pobma60_dist           71586 non-null   float64 \n",
      "dtypes: float64(10), geometry(1), int64(1), object(27)\n",
      "memory usage: 45.1+ MB\n"
     ]
    }
   ],
   "source": [
    "demanda_reduc = demanda[[ 'cod_mz', 'pobma60_mz', 'pobma60_dist']]\n",
    "manzanas_merged = pd.merge(manzanas_merge, demanda_reduc, left_on=\"Mz\", right_on=\"cod_mz\", how=\"left\")\n",
    "\n",
    "manzanas_merged.info()"
   ]
  },
  {
   "cell_type": "markdown",
   "metadata": {},
   "source": [
    "### Oferta"
   ]
  },
  {
   "cell_type": "code",
   "execution_count": 13,
   "metadata": {},
   "outputs": [
    {
     "data": {
      "text/html": [
       "<div>\n",
       "<style scoped>\n",
       "    .dataframe tbody tr th:only-of-type {\n",
       "        vertical-align: middle;\n",
       "    }\n",
       "\n",
       "    .dataframe tbody tr th {\n",
       "        vertical-align: top;\n",
       "    }\n",
       "\n",
       "    .dataframe thead th {\n",
       "        text-align: right;\n",
       "    }\n",
       "</style>\n",
       "<table border=\"1\" class=\"dataframe\">\n",
       "  <thead>\n",
       "    <tr style=\"text-align: right;\">\n",
       "      <th></th>\n",
       "      <th>nombre</th>\n",
       "      <th>lat</th>\n",
       "      <th>lng</th>\n",
       "      <th>id</th>\n",
       "    </tr>\n",
       "  </thead>\n",
       "  <tbody>\n",
       "    <tr>\n",
       "      <th>0</th>\n",
       "      <td>0003 NUESTRA SEÑORA DEL CARMEN</td>\n",
       "      <td>-12.045920</td>\n",
       "      <td>-77.030495</td>\n",
       "      <td>1</td>\n",
       "    </tr>\n",
       "    <tr>\n",
       "      <th>1</th>\n",
       "      <td>8</td>\n",
       "      <td>-12.045920</td>\n",
       "      <td>-77.030495</td>\n",
       "      <td>2</td>\n",
       "    </tr>\n",
       "    <tr>\n",
       "      <th>2</th>\n",
       "      <td>003 SEÑORA DEL CARMEN</td>\n",
       "      <td>-12.045920</td>\n",
       "      <td>-77.030495</td>\n",
       "      <td>3</td>\n",
       "    </tr>\n",
       "    <tr>\n",
       "      <th>3</th>\n",
       "      <td>1008</td>\n",
       "      <td>-12.045920</td>\n",
       "      <td>-77.030495</td>\n",
       "      <td>4</td>\n",
       "    </tr>\n",
       "    <tr>\n",
       "      <th>4</th>\n",
       "      <td>0071 NUESTRA SEÑORA DE LA MERCED</td>\n",
       "      <td>-12.016740</td>\n",
       "      <td>-77.013370</td>\n",
       "      <td>5</td>\n",
       "    </tr>\n",
       "    <tr>\n",
       "      <th>...</th>\n",
       "      <td>...</td>\n",
       "      <td>...</td>\n",
       "      <td>...</td>\n",
       "      <td>...</td>\n",
       "    </tr>\n",
       "    <tr>\n",
       "      <th>854</th>\n",
       "      <td>CASA DE YESSENIA</td>\n",
       "      <td>-11.995960</td>\n",
       "      <td>-77.097140</td>\n",
       "      <td>855</td>\n",
       "    </tr>\n",
       "    <tr>\n",
       "      <th>855</th>\n",
       "      <td>Salud y Hogar</td>\n",
       "      <td>-11.995456</td>\n",
       "      <td>-77.095007</td>\n",
       "      <td>856</td>\n",
       "    </tr>\n",
       "    <tr>\n",
       "      <th>856</th>\n",
       "      <td>C.A.M San Martin De Porres</td>\n",
       "      <td>-12.033301</td>\n",
       "      <td>-77.059505</td>\n",
       "      <td>857</td>\n",
       "    </tr>\n",
       "    <tr>\n",
       "      <th>857</th>\n",
       "      <td>Centro Geriatrico La Casita del Abuelo</td>\n",
       "      <td>-12.022581</td>\n",
       "      <td>-77.084577</td>\n",
       "      <td>858</td>\n",
       "    </tr>\n",
       "    <tr>\n",
       "      <th>858</th>\n",
       "      <td>servicios geriatricos (gerservice)</td>\n",
       "      <td>-12.026743</td>\n",
       "      <td>-77.050622</td>\n",
       "      <td>859</td>\n",
       "    </tr>\n",
       "  </tbody>\n",
       "</table>\n",
       "<p>859 rows × 4 columns</p>\n",
       "</div>"
      ],
      "text/plain": [
       "                                     nombre        lat        lng   id\n",
       "0            0003 NUESTRA SEÑORA DEL CARMEN -12.045920 -77.030495    1\n",
       "1                                         8 -12.045920 -77.030495    2\n",
       "2                     003 SEÑORA DEL CARMEN -12.045920 -77.030495    3\n",
       "3                                      1008 -12.045920 -77.030495    4\n",
       "4          0071 NUESTRA SEÑORA DE LA MERCED -12.016740 -77.013370    5\n",
       "..                                      ...        ...        ...  ...\n",
       "854                        CASA DE YESSENIA -11.995960 -77.097140  855\n",
       "855                           Salud y Hogar -11.995456 -77.095007  856\n",
       "856              C.A.M San Martin De Porres -12.033301 -77.059505  857\n",
       "857  Centro Geriatrico La Casita del Abuelo -12.022581 -77.084577  858\n",
       "858      servicios geriatricos (gerservice) -12.026743 -77.050622  859\n",
       "\n",
       "[859 rows x 4 columns]"
      ]
     },
     "execution_count": 13,
     "metadata": {},
     "output_type": "execute_result"
    }
   ],
   "source": [
    "oferta = pd.read_csv(\"../data/BBDD Perú oferta/clean/oferta_AM_clean.csv\")\n",
    "oferta"
   ]
  },
  {
   "cell_type": "markdown",
   "metadata": {},
   "source": [
    "### Tiempos de viaje\n",
    "\n",
    "El dataset contiene 2 variables:  \n",
    "0 corresponde a la distancia  \n",
    "1 corresponde a la duración del recorrido  "
   ]
  },
  {
   "cell_type": "code",
   "execution_count": 14,
   "metadata": {},
   "outputs": [],
   "source": [
    "# tiempos = pd.read_csv(\"../data/BBDD Perú accesibilidad/distance_duration_adulto_mayor.csv\")\n",
    "# print(tiempos.shape)\n",
    "# tiempos.head()"
   ]
  },
  {
   "cell_type": "markdown",
   "metadata": {},
   "source": [
    "#### Matcheo de bases a manzanas"
   ]
  },
  {
   "cell_type": "code",
   "execution_count": 15,
   "metadata": {},
   "outputs": [],
   "source": [
    "# manzanas_merged['distancia_a_centro_am60'] =  tiempos[\"0\"] / 1000 # metros a km\n",
    "# manzanas_merged['duracion_a_centro_am60'] = tiempos[\"1\"] / 60 # segundos a minutos"
   ]
  },
  {
   "cell_type": "markdown",
   "metadata": {},
   "source": [
    "# Desiertos de cuidado"
   ]
  },
  {
   "cell_type": "code",
   "execution_count": 16,
   "metadata": {},
   "outputs": [
    {
     "data": {
      "text/plain": [
       "Index(['Mz', 'UBIGEO', 'AREA', 'CODCCPP', 'ZONA', 'MANZANA_ID', 'MANZANA_A',\n",
       "       'T_TOTAL', 'T_HOMBRES', 'T_MUJERES', 'LLAVE_MZS', 'contacto',\n",
       "       'descargar', 'whatsapp', 'NOMBDEP', 'NOMBPROV', 'IDPROV', 'ARCHIVO',\n",
       "       'Nombre', 'Apellido', 'CCDD', 'CCPP', 'CCDI', 'NOMBDIST', 'CAPITAL',\n",
       "       'CODIGO', 'CNT_CCPP', 'DESCRIPCIO', 'layer', 'path', 'geometry',\n",
       "       'InputID', 'TargetID', 'Distance', 'distancia_a_centro_am',\n",
       "       'duracion_a_centro_am', 'cod_mz', 'pobma60_mz', 'pobma60_dist'],\n",
       "      dtype='object')"
      ]
     },
     "execution_count": 16,
     "metadata": {},
     "output_type": "execute_result"
    }
   ],
   "source": [
    "manzanas_merged.columns"
   ]
  },
  {
   "cell_type": "code",
   "execution_count": 31,
   "metadata": {},
   "outputs": [],
   "source": [
    "df = pd.DataFrame(manzanas_merged.drop(columns=['Mz', 'UBIGEO', 'AREA', 'CODCCPP', 'ZONA', 'MANZANA_ID', 'MANZANA_A',  'LLAVE_MZS', 'contacto',\n",
    "       'descargar', 'whatsapp', 'NOMBDEP', 'NOMBPROV', 'IDPROV', 'ARCHIVO',\n",
    "       'Nombre', 'Apellido', 'CCDD', 'CCPP', 'CCDI', 'NOMBDIST', 'CAPITAL',\n",
    "       'CODIGO', 'CNT_CCPP', 'DESCRIPCIO', 'layer', 'path', 'cod_mz', 'T_HOMBRES', 'T_MUJERES', 'pobma60_dist', \"InputID\", \"TargetID\"]))\n",
    "\n",
    "# Dejo geometry para dropear despues de quitar nulls\n",
    "\n",
    "df['pobma60_mz'] = df['pobma60_mz'].fillna(0)\n",
    "\n",
    "# df = df.dropna()"
   ]
  },
  {
   "cell_type": "code",
   "execution_count": 32,
   "metadata": {},
   "outputs": [
    {
     "name": "stdout",
     "output_type": "stream",
     "text": [
      "<class 'pandas.core.frame.DataFrame'>\n",
      "RangeIndex: 151541 entries, 0 to 151540\n",
      "Data columns (total 6 columns):\n",
      " #   Column                 Non-Null Count   Dtype   \n",
      "---  ------                 --------------   -----   \n",
      " 0   T_TOTAL                151541 non-null  float64 \n",
      " 1   geometry               151541 non-null  geometry\n",
      " 2   Distance               151541 non-null  float64 \n",
      " 3   distancia_a_centro_am  146490 non-null  float64 \n",
      " 4   duracion_a_centro_am   146490 non-null  float64 \n",
      " 5   pobma60_mz             151541 non-null  float64 \n",
      "dtypes: float64(5), geometry(1)\n",
      "memory usage: 6.9 MB\n"
     ]
    }
   ],
   "source": [
    "df.info()"
   ]
  },
  {
   "cell_type": "markdown",
   "metadata": {},
   "source": [
    "Defino como zonas 'problemáticas' aquellas donde el tiempo caminando es mayor a 20 minutos (considerando que esta caminata se da cargando hijos pequeños). Un 3% de los territorios termina caracterizado como zona a prestarle atención."
   ]
  },
  {
   "cell_type": "code",
   "execution_count": 33,
   "metadata": {},
   "outputs": [
    {
     "data": {
      "text/plain": [
       "desierto\n",
       "0    87866\n",
       "1    63675\n",
       "Name: count, dtype: int64"
      ]
     },
     "execution_count": 33,
     "metadata": {},
     "output_type": "execute_result"
    }
   ],
   "source": [
    "df['desierto'] = (df['duracion_a_centro_am'] > 20).astype(int)\n",
    "df.desierto.value_counts()"
   ]
  },
  {
   "cell_type": "markdown",
   "metadata": {},
   "source": [
    "Para clasificar la población, normalizamos la data y estudiamos criterios empíricos."
   ]
  },
  {
   "cell_type": "code",
   "execution_count": 34,
   "metadata": {},
   "outputs": [
    {
     "name": "stdout",
     "output_type": "stream",
     "text": [
      "0.0\n"
     ]
    },
    {
     "data": {
      "text/plain": [
       "count    151541.000000\n",
       "mean          2.439868\n",
       "std           4.734560\n",
       "min           0.000000\n",
       "25%           0.000000\n",
       "50%           0.000000\n",
       "75%           3.000000\n",
       "max         260.000000\n",
       "Name: pobma60_mz, dtype: float64"
      ]
     },
     "execution_count": 34,
     "metadata": {},
     "output_type": "execute_result"
    }
   ],
   "source": [
    "print(df.pobma60_mz.median())\n",
    "df.pobma60_mz.describe()\n"
   ]
  },
  {
   "cell_type": "code",
   "execution_count": 35,
   "metadata": {},
   "outputs": [],
   "source": [
    "from sklearn.preprocessing import StandardScaler\n",
    "\n",
    "columns_to_scale = ['pobma60_mz']  \n",
    "\n",
    "scaler = StandardScaler()\n",
    "\n",
    "df_scaled = scaler.fit_transform(df[columns_to_scale])\n",
    "\n"
   ]
  },
  {
   "cell_type": "code",
   "execution_count": 36,
   "metadata": {},
   "outputs": [],
   "source": [
    "df[\"pob_am60_mz_normal\"]= df_scaled"
   ]
  },
  {
   "cell_type": "code",
   "execution_count": 37,
   "metadata": {},
   "outputs": [
    {
     "data": {
      "text/plain": [
       "count    1.515410e+05\n",
       "mean    -1.500410e-18\n",
       "std      1.000003e+00\n",
       "min     -5.153332e-01\n",
       "25%     -5.153332e-01\n",
       "50%     -5.153332e-01\n",
       "75%      1.183075e-01\n",
       "max      5.440020e+01\n",
       "Name: pob_am60_mz_normal, dtype: float64"
      ]
     },
     "execution_count": 37,
     "metadata": {},
     "output_type": "execute_result"
    }
   ],
   "source": [
    "df.pob_am60_mz_normal.describe()"
   ]
  },
  {
   "cell_type": "markdown",
   "metadata": {},
   "source": [
    "Estudio tres posibilidades:"
   ]
  },
  {
   "cell_type": "code",
   "execution_count": 38,
   "metadata": {},
   "outputs": [],
   "source": [
    "umbral1 = df.pob_am60_mz_normal.mean()\n",
    "umbral2 = df.pob_am60_mz_normal.mean() + df.pob_am60_mz_normal.std()\n",
    "umbral3 = df.pob_am60_mz_normal.median()"
   ]
  },
  {
   "cell_type": "code",
   "execution_count": 39,
   "metadata": {},
   "outputs": [
    {
     "name": "stdout",
     "output_type": "stream",
     "text": [
      "alta_demanda\n",
      "0    109676\n",
      "1     41865\n",
      "Name: count, dtype: int64\n"
     ]
    }
   ],
   "source": [
    "df['alta_demanda'] = (df['pob_am60_mz_normal'] >= umbral1).astype(int)\n",
    "#df['alta_demanda_2'] = (df['pob_0a5_mz_normal'] >= umbral2).astype(int)\n",
    "#df['alta_demanda'] = (df['pob_am60_mz_normal'] >= umbral3).astype(int)\n",
    "\n",
    "print(df.alta_demanda.value_counts())\n",
    "#print(df.alta_demanda_2.value_counts())\n",
    "#print(df.alta_demanda.value_counts())"
   ]
  },
  {
   "cell_type": "markdown",
   "metadata": {},
   "source": [
    "En este caso elijo la media, ya que la mediana es 0."
   ]
  },
  {
   "cell_type": "code",
   "execution_count": 40,
   "metadata": {},
   "outputs": [
    {
     "data": {
      "text/plain": [
       "desierto_am60\n",
       "0    145318\n",
       "1      6223\n",
       "Name: count, dtype: int64"
      ]
     },
     "execution_count": 40,
     "metadata": {},
     "output_type": "execute_result"
    }
   ],
   "source": [
    "df[\"desierto_am60\"] = df[\"desierto\"] * df[\"alta_demanda\"]\n",
    "df.desierto_am60.value_counts()"
   ]
  },
  {
   "cell_type": "code",
   "execution_count": 41,
   "metadata": {},
   "outputs": [
    {
     "data": {
      "text/plain": [
       "Index(['T_TOTAL', 'geometry', 'Distance', 'distancia_a_centro_am',\n",
       "       'duracion_a_centro_am', 'pobma60_mz', 'desierto', 'pob_am60_mz_normal',\n",
       "       'alta_demanda', 'desierto_am60'],\n",
       "      dtype='object')"
      ]
     },
     "execution_count": 41,
     "metadata": {},
     "output_type": "execute_result"
    }
   ],
   "source": [
    "df.columns"
   ]
  },
  {
   "cell_type": "code",
   "execution_count": 43,
   "metadata": {},
   "outputs": [
    {
     "data": {
      "text/html": [
       "<div>\n",
       "<style scoped>\n",
       "    .dataframe tbody tr th:only-of-type {\n",
       "        vertical-align: middle;\n",
       "    }\n",
       "\n",
       "    .dataframe tbody tr th {\n",
       "        vertical-align: top;\n",
       "    }\n",
       "\n",
       "    .dataframe thead th {\n",
       "        text-align: right;\n",
       "    }\n",
       "</style>\n",
       "<table border=\"1\" class=\"dataframe\">\n",
       "  <thead>\n",
       "    <tr style=\"text-align: right;\">\n",
       "      <th></th>\n",
       "      <th>geometry</th>\n",
       "      <th>T_TOTAL</th>\n",
       "      <th>pobma60_mz</th>\n",
       "      <th>distancia_a_centro_am</th>\n",
       "      <th>duracion_a_centro_am</th>\n",
       "      <th>alta_demanda</th>\n",
       "      <th>desierto_am60</th>\n",
       "    </tr>\n",
       "  </thead>\n",
       "  <tbody>\n",
       "    <tr>\n",
       "      <th>0</th>\n",
       "      <td>MULTIPOLYGON (((-77.12763 -11.81363, -77.12723...</td>\n",
       "      <td>18.0</td>\n",
       "      <td>0.0</td>\n",
       "      <td>2.7854</td>\n",
       "      <td>33.421667</td>\n",
       "      <td>0</td>\n",
       "      <td>0</td>\n",
       "    </tr>\n",
       "    <tr>\n",
       "      <th>1</th>\n",
       "      <td>MULTIPOLYGON (((-77.15185 -11.73780, -77.15151...</td>\n",
       "      <td>31.0</td>\n",
       "      <td>0.0</td>\n",
       "      <td>7.7934</td>\n",
       "      <td>93.521667</td>\n",
       "      <td>0</td>\n",
       "      <td>0</td>\n",
       "    </tr>\n",
       "    <tr>\n",
       "      <th>2</th>\n",
       "      <td>MULTIPOLYGON (((-77.16978 -11.77796, -77.16981...</td>\n",
       "      <td>71.0</td>\n",
       "      <td>3.0</td>\n",
       "      <td>0.4401</td>\n",
       "      <td>5.280000</td>\n",
       "      <td>1</td>\n",
       "      <td>0</td>\n",
       "    </tr>\n",
       "    <tr>\n",
       "      <th>3</th>\n",
       "      <td>MULTIPOLYGON (((-77.15222 -11.74137, -77.15140...</td>\n",
       "      <td>12.0</td>\n",
       "      <td>0.0</td>\n",
       "      <td>7.2304</td>\n",
       "      <td>86.766667</td>\n",
       "      <td>0</td>\n",
       "      <td>0</td>\n",
       "    </tr>\n",
       "    <tr>\n",
       "      <th>4</th>\n",
       "      <td>MULTIPOLYGON (((-77.16253 -11.73364, -77.16255...</td>\n",
       "      <td>2.0</td>\n",
       "      <td>0.0</td>\n",
       "      <td>8.6044</td>\n",
       "      <td>103.258333</td>\n",
       "      <td>0</td>\n",
       "      <td>0</td>\n",
       "    </tr>\n",
       "  </tbody>\n",
       "</table>\n",
       "</div>"
      ],
      "text/plain": [
       "                                            geometry  T_TOTAL  pobma60_mz  \\\n",
       "0  MULTIPOLYGON (((-77.12763 -11.81363, -77.12723...     18.0         0.0   \n",
       "1  MULTIPOLYGON (((-77.15185 -11.73780, -77.15151...     31.0         0.0   \n",
       "2  MULTIPOLYGON (((-77.16978 -11.77796, -77.16981...     71.0         3.0   \n",
       "3  MULTIPOLYGON (((-77.15222 -11.74137, -77.15140...     12.0         0.0   \n",
       "4  MULTIPOLYGON (((-77.16253 -11.73364, -77.16255...      2.0         0.0   \n",
       "\n",
       "   distancia_a_centro_am  duracion_a_centro_am  alta_demanda  desierto_am60  \n",
       "0                 2.7854             33.421667             0              0  \n",
       "1                 7.7934             93.521667             0              0  \n",
       "2                 0.4401              5.280000             1              0  \n",
       "3                 7.2304             86.766667             0              0  \n",
       "4                 8.6044            103.258333             0              0  "
      ]
     },
     "execution_count": 43,
     "metadata": {},
     "output_type": "execute_result"
    }
   ],
   "source": [
    "df_for_csv = df[[\"geometry\", \"T_TOTAL\", \"pobma60_mz\", \"distancia_a_centro_am\", \"duracion_a_centro_am\", \"alta_demanda\", \"desierto_am60\"]]\n",
    "df_for_csv.head()"
   ]
  },
  {
   "cell_type": "code",
   "execution_count": 44,
   "metadata": {},
   "outputs": [
    {
     "name": "stdout",
     "output_type": "stream",
     "text": [
      "(160645, 14)\n"
     ]
    },
    {
     "data": {
      "text/html": [
       "<div>\n",
       "<style scoped>\n",
       "    .dataframe tbody tr th:only-of-type {\n",
       "        vertical-align: middle;\n",
       "    }\n",
       "\n",
       "    .dataframe tbody tr th {\n",
       "        vertical-align: top;\n",
       "    }\n",
       "\n",
       "    .dataframe thead th {\n",
       "        text-align: right;\n",
       "    }\n",
       "</style>\n",
       "<table border=\"1\" class=\"dataframe\">\n",
       "  <thead>\n",
       "    <tr style=\"text-align: right;\">\n",
       "      <th></th>\n",
       "      <th>geometry</th>\n",
       "      <th>T_TOTAL</th>\n",
       "      <th>pobma60_mz</th>\n",
       "      <th>distancia_a_centro_am</th>\n",
       "      <th>duracion_a_centro_am</th>\n",
       "      <th>alta_demanda</th>\n",
       "      <th>desierto_am60</th>\n",
       "      <th>Mz</th>\n",
       "      <th>UBIGEO</th>\n",
       "      <th>AREA</th>\n",
       "      <th>CODCCPP</th>\n",
       "      <th>ZONA</th>\n",
       "      <th>MANZANA_ID</th>\n",
       "      <th>MANZANA_A</th>\n",
       "    </tr>\n",
       "  </thead>\n",
       "  <tbody>\n",
       "    <tr>\n",
       "      <th>0</th>\n",
       "      <td>MULTIPOLYGON (((-77.12763 -11.81363, -77.12723...</td>\n",
       "      <td>18.0</td>\n",
       "      <td>0.0</td>\n",
       "      <td>2.7854</td>\n",
       "      <td>33.421667</td>\n",
       "      <td>0</td>\n",
       "      <td>0</td>\n",
       "      <td>150102000102100023</td>\n",
       "      <td>150102</td>\n",
       "      <td>1</td>\n",
       "      <td>0001</td>\n",
       "      <td>02100</td>\n",
       "      <td>023</td>\n",
       "      <td>None</td>\n",
       "    </tr>\n",
       "    <tr>\n",
       "      <th>1</th>\n",
       "      <td>MULTIPOLYGON (((-77.15185 -11.73780, -77.15151...</td>\n",
       "      <td>31.0</td>\n",
       "      <td>0.0</td>\n",
       "      <td>7.7934</td>\n",
       "      <td>93.521667</td>\n",
       "      <td>0</td>\n",
       "      <td>0</td>\n",
       "      <td>150102000101101010</td>\n",
       "      <td>150102</td>\n",
       "      <td>1</td>\n",
       "      <td>0001</td>\n",
       "      <td>01101</td>\n",
       "      <td>010</td>\n",
       "      <td>None</td>\n",
       "    </tr>\n",
       "    <tr>\n",
       "      <th>2</th>\n",
       "      <td>MULTIPOLYGON (((-77.16978 -11.77796, -77.16981...</td>\n",
       "      <td>71.0</td>\n",
       "      <td>3.0</td>\n",
       "      <td>0.4401</td>\n",
       "      <td>5.280000</td>\n",
       "      <td>1</td>\n",
       "      <td>0</td>\n",
       "      <td>150102000100600037</td>\n",
       "      <td>150102</td>\n",
       "      <td>1</td>\n",
       "      <td>0001</td>\n",
       "      <td>00600</td>\n",
       "      <td>037</td>\n",
       "      <td>None</td>\n",
       "    </tr>\n",
       "    <tr>\n",
       "      <th>3</th>\n",
       "      <td>MULTIPOLYGON (((-77.15222 -11.74137, -77.15140...</td>\n",
       "      <td>12.0</td>\n",
       "      <td>0.0</td>\n",
       "      <td>7.2304</td>\n",
       "      <td>86.766667</td>\n",
       "      <td>0</td>\n",
       "      <td>0</td>\n",
       "      <td>150102000101202048</td>\n",
       "      <td>150102</td>\n",
       "      <td>1</td>\n",
       "      <td>0001</td>\n",
       "      <td>01202</td>\n",
       "      <td>048</td>\n",
       "      <td>None</td>\n",
       "    </tr>\n",
       "    <tr>\n",
       "      <th>4</th>\n",
       "      <td>MULTIPOLYGON (((-77.16253 -11.73364, -77.16255...</td>\n",
       "      <td>2.0</td>\n",
       "      <td>0.0</td>\n",
       "      <td>8.6044</td>\n",
       "      <td>103.258333</td>\n",
       "      <td>0</td>\n",
       "      <td>0</td>\n",
       "      <td>150102000101202010A</td>\n",
       "      <td>150102</td>\n",
       "      <td>1</td>\n",
       "      <td>0001</td>\n",
       "      <td>01202</td>\n",
       "      <td>010</td>\n",
       "      <td>A</td>\n",
       "    </tr>\n",
       "  </tbody>\n",
       "</table>\n",
       "</div>"
      ],
      "text/plain": [
       "                                            geometry  T_TOTAL  pobma60_mz  \\\n",
       "0  MULTIPOLYGON (((-77.12763 -11.81363, -77.12723...     18.0         0.0   \n",
       "1  MULTIPOLYGON (((-77.15185 -11.73780, -77.15151...     31.0         0.0   \n",
       "2  MULTIPOLYGON (((-77.16978 -11.77796, -77.16981...     71.0         3.0   \n",
       "3  MULTIPOLYGON (((-77.15222 -11.74137, -77.15140...     12.0         0.0   \n",
       "4  MULTIPOLYGON (((-77.16253 -11.73364, -77.16255...      2.0         0.0   \n",
       "\n",
       "   distancia_a_centro_am  duracion_a_centro_am  alta_demanda  desierto_am60  \\\n",
       "0                 2.7854             33.421667             0              0   \n",
       "1                 7.7934             93.521667             0              0   \n",
       "2                 0.4401              5.280000             1              0   \n",
       "3                 7.2304             86.766667             0              0   \n",
       "4                 8.6044            103.258333             0              0   \n",
       "\n",
       "                    Mz  UBIGEO AREA CODCCPP   ZONA MANZANA_ID MANZANA_A  \n",
       "0   150102000102100023  150102    1    0001  02100        023      None  \n",
       "1   150102000101101010  150102    1    0001  01101        010      None  \n",
       "2   150102000100600037  150102    1    0001  00600        037      None  \n",
       "3   150102000101202048  150102    1    0001  01202        048      None  \n",
       "4  150102000101202010A  150102    1    0001  01202        010         A  "
      ]
     },
     "execution_count": 44,
     "metadata": {},
     "output_type": "execute_result"
    }
   ],
   "source": [
    "#df_for_csv['geometry'] = df_for_csv['geometry'].apply(wkt.loads)\n",
    "\n",
    "# Now create the GeoDataFrame\n",
    "gdf = gpd.GeoDataFrame(df_for_csv, geometry='geometry')\n",
    "\n",
    "manzanas_merged_2 = pd.merge(gdf, manzanas[[\"Mz\", \"UBIGEO\", 'AREA', 'CODCCPP', 'ZONA', 'MANZANA_ID', 'MANZANA_A', 'geometry']], on=\"geometry\", how=\"left\")\n",
    "print(manzanas_merged_2.shape)\n",
    "manzanas_merged_2.head()"
   ]
  },
  {
   "cell_type": "code",
   "execution_count": 45,
   "metadata": {},
   "outputs": [
    {
     "name": "stdout",
     "output_type": "stream",
     "text": [
      "<class 'geopandas.geodataframe.GeoDataFrame'>\n",
      "RangeIndex: 160645 entries, 0 to 160644\n",
      "Data columns (total 14 columns):\n",
      " #   Column                 Non-Null Count   Dtype   \n",
      "---  ------                 --------------   -----   \n",
      " 0   geometry               160645 non-null  geometry\n",
      " 1   T_TOTAL                160645 non-null  float64 \n",
      " 2   pobma60_mz             160645 non-null  float64 \n",
      " 3   distancia_a_centro_am  154994 non-null  float64 \n",
      " 4   duracion_a_centro_am   154994 non-null  float64 \n",
      " 5   alta_demanda           160645 non-null  int32   \n",
      " 6   desierto_am60          160645 non-null  int32   \n",
      " 7   Mz                     160645 non-null  object  \n",
      " 8   UBIGEO                 160645 non-null  object  \n",
      " 9   AREA                   160645 non-null  object  \n",
      " 10  CODCCPP                160645 non-null  object  \n",
      " 11  ZONA                   160645 non-null  object  \n",
      " 12  MANZANA_ID             157887 non-null  object  \n",
      " 13  MANZANA_A              58521 non-null   object  \n",
      "dtypes: float64(4), geometry(1), int32(2), object(7)\n",
      "memory usage: 15.9+ MB\n"
     ]
    }
   ],
   "source": [
    "manzanas_merged_2.info()"
   ]
  },
  {
   "cell_type": "markdown",
   "metadata": {},
   "source": [
    "### Population density calculations"
   ]
  },
  {
   "cell_type": "code",
   "execution_count": 46,
   "metadata": {},
   "outputs": [],
   "source": [
    "gdf_projected = pop_density(gdf=manzanas_merged_2, projected_crs='EPSG:24891', tot_pob_col='T_TOTAL')"
   ]
  },
  {
   "cell_type": "code",
   "execution_count": 48,
   "metadata": {},
   "outputs": [
    {
     "data": {
      "text/plain": [
       "desierto_am60\n",
       "0     6187.597683\n",
       "1    12811.001250\n",
       "Name: area_manzana, dtype: float64"
      ]
     },
     "execution_count": 48,
     "metadata": {},
     "output_type": "execute_result"
    }
   ],
   "source": [
    "gdf_projected.groupby('desierto_am60')['area_manzana'].mean()"
   ]
  },
  {
   "cell_type": "markdown",
   "metadata": {},
   "source": [
    "### Desert recalculation with adjustment formula"
   ]
  },
  {
   "cell_type": "code",
   "execution_count": 55,
   "metadata": {},
   "outputs": [],
   "source": [
    "manzanas_am_recalc = adjustment_factor(gdf_projected, beta=10, gamma=5, umbral_area=0.80, \n",
    "                                         nombre_col_desierto='desierto_am_recalc',\n",
    "                                         travel_time_col='duracion_a_centro_am')"
   ]
  },
  {
   "cell_type": "code",
   "execution_count": 56,
   "metadata": {},
   "outputs": [
    {
     "name": "stdout",
     "output_type": "stream",
     "text": [
      "Care deserts recalculated with adjustment:\n",
      "desierto_am_recalc\n",
      "0    154473\n",
      "1      6172\n",
      "Name: count, dtype: int64\n",
      "\n",
      "Original care deserts classification:\n",
      "desierto_am60\n",
      "0    153910\n",
      "1      6735\n",
      "Name: count, dtype: int64\n"
     ]
    }
   ],
   "source": [
    "# Compare results\n",
    "print(\"Care deserts recalculated with adjustment:\")\n",
    "print(manzanas_am_recalc[\"desierto_am_recalc\"].value_counts())\n",
    "\n",
    "print(\"\\nOriginal care deserts classification:\")\n",
    "print(manzanas_am_recalc[\"desierto_am60\"].value_counts())"
   ]
  },
  {
   "cell_type": "code",
   "execution_count": 57,
   "metadata": {},
   "outputs": [
    {
     "data": {
      "image/png": "[encoded data removed]",
      "text/plain": [
       "<Figure size 640x480 with 1 Axes>"
      ]
     },
     "metadata": {},
     "output_type": "display_data"
    }
   ],
   "source": [
    "import matplotlib\n",
    "#geopan = gpd.GeoDataFrame(df, geometry='geometry')\n",
    "\n",
    "# Define a custom color map: red for 1, grey for 0\n",
    "cmap = matplotlib.colors.ListedColormap(['grey', 'red'])\n",
    "\n",
    "# Create a normalization object that maps your data values (0 and 1) to the colormap\n",
    "norm = matplotlib.colors.BoundaryNorm([0, 0.5, 1], cmap.N)\n",
    "\n",
    "fig, ax = plt.subplots(1, 1)\n",
    "\n",
    "# Plot using the custom colormap and normalization\n",
    "manzanas_am_recalc.plot(column='desierto_am_recalc', ax=ax, legend=True, categorical=True, cmap=cmap, norm=norm)\n",
    "\n",
    "# Remove longitude and latitude ticks\n",
    "ax.set_xticks([])\n",
    "ax.set_yticks([])\n",
    "\n",
    "ax.set_title('Desiertos de cuidado (personas adultas mayores)')\n",
    "\n",
    "# Save the figure with high resolution\n",
    "plt.savefig('../figs/desiertos_de_cuidado_am60.png', format='png', dpi=1500)\n",
    "\n",
    "plt.show()"
   ]
  },
  {
   "cell_type": "code",
   "execution_count": 58,
   "metadata": {},
   "outputs": [
    {
     "data": {
      "text/plain": [
       "Index(['geometry', 'T_TOTAL', 'pobma60_mz', 'distancia_a_centro_am',\n",
       "       'duracion_a_centro_am', 'alta_demanda', 'desierto_am60', 'Mz', 'UBIGEO',\n",
       "       'AREA', 'CODCCPP', 'ZONA', 'MANZANA_ID', 'MANZANA_A', 'area_manzana',\n",
       "       'densidad_pob', 'combined_adjustment', 'adjusted_threshold',\n",
       "       'desierto_2', 'desierto_am_recalc'],\n",
       "      dtype='object')"
      ]
     },
     "execution_count": 58,
     "metadata": {},
     "output_type": "execute_result"
    }
   ],
   "source": [
    "manzanas_am_recalc.columns"
   ]
  },
  {
   "cell_type": "code",
   "execution_count": 59,
   "metadata": {},
   "outputs": [
    {
     "name": "stdout",
     "output_type": "stream",
     "text": [
      "<class 'geopandas.geodataframe.GeoDataFrame'>\n",
      "RangeIndex: 160645 entries, 0 to 160644\n",
      "Data columns (total 14 columns):\n",
      " #   Column                 Non-Null Count   Dtype   \n",
      "---  ------                 --------------   -----   \n",
      " 0   Mz                     160645 non-null  object  \n",
      " 1   UBIGEO                 160645 non-null  object  \n",
      " 2   AREA                   160645 non-null  object  \n",
      " 3   CODCCPP                160645 non-null  object  \n",
      " 4   ZONA                   160645 non-null  object  \n",
      " 5   MANZANA_ID             157887 non-null  object  \n",
      " 6   MANZANA_A              58521 non-null   object  \n",
      " 7   geometry               160645 non-null  geometry\n",
      " 8   pobma60_mz             160645 non-null  float64 \n",
      " 9   distancia_a_centro_am  154994 non-null  float64 \n",
      " 10  duracion_a_centro_am   154994 non-null  float64 \n",
      " 11  alta_demanda           160645 non-null  int32   \n",
      " 12  desierto_am_recalc     160645 non-null  int32   \n",
      " 13  umbral_t_dinamico      160645 non-null  float64 \n",
      "dtypes: float64(4), geometry(1), int32(2), object(7)\n",
      "memory usage: 15.9+ MB\n"
     ]
    }
   ],
   "source": [
    "manzanas_am_recalc = manzanas_am_recalc[['Mz', 'UBIGEO', 'AREA', 'CODCCPP',\n",
    "       'ZONA', 'MANZANA_ID', 'MANZANA_A', 'geometry', 'pobma60_mz', 'distancia_a_centro_am',\n",
    "       'duracion_a_centro_am', 'alta_demanda', 'desierto_am_recalc', 'adjusted_threshold']]\n",
    "\n",
    "manzanas_am_recalc = manzanas_am_recalc.rename(columns={\"adjusted_threshold\": \"umbral_t_dinamico\"})\n",
    "\n",
    "manzanas_am_recalc.info()"
   ]
  },
  {
   "cell_type": "code",
   "execution_count": 60,
   "metadata": {},
   "outputs": [],
   "source": [
    "manzanas_am_recalc.to_csv(\"../results - desiertos/desiertos_ajustados/desiertos_am_recalc.csv\", index=False, sep=\";\", decimal=\",\")\n",
    "\n",
    "manzanas_am_recalc.to_file(\"../results - desiertos/desiertos_ajustados/desiertos_am_recalc.geojson\", driver='GeoJSON')"
   ]
  }
 ],
 "metadata": {
  "kernelspec": {
   "display_name": "accesibility_undp",
   "language": "python",
   "name": "python3"
  },
  "language_info": {
   "codemirror_mode": {
    "name": "ipython",
    "version": 3
   },
   "file_extension": ".py",
   "mimetype": "text/x-python",
   "name": "python",
   "nbconvert_exporter": "python",
   "pygments_lexer": "ipython3",
   "version": "3.12.0"
  }
 },
 "nbformat": 4,
 "nbformat_minor": 2
}
