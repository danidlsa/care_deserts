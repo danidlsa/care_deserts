{
 "cells": [
  {
   "cell_type": "code",
   "execution_count": 1,
   "metadata": {},
   "outputs": [],
   "source": [
    "import pandas as pd\n",
    "from matplotlib import pyplot as plt\n",
    "import geopandas as gpd\n",
    "import numpy as np\n",
    "import pandas as pd\n",
    "import shapely\n",
    "import plotly.express as px\n",
    "import osmnx as ox"
   ]
  },
  {
   "cell_type": "markdown",
   "metadata": {},
   "source": [
    "## Importación de BBDD"
   ]
  },
  {
   "cell_type": "markdown",
   "metadata": {},
   "source": [
    "### Manzanas"
   ]
  },
  {
   "cell_type": "code",
   "execution_count": 2,
   "metadata": {},
   "outputs": [],
   "source": [
    "manzanas = gpd.read_file('../data/lima_manzanas.gpkg')"
   ]
  },
  {
   "cell_type": "code",
   "execution_count": 3,
   "metadata": {},
   "outputs": [
    {
     "name": "stdout",
     "output_type": "stream",
     "text": [
      "(124903, 31)\n"
     ]
    },
    {
     "data": {
      "text/html": [
       "<div>\n",
       "<style scoped>\n",
       "    .dataframe tbody tr th:only-of-type {\n",
       "        vertical-align: middle;\n",
       "    }\n",
       "\n",
       "    .dataframe tbody tr th {\n",
       "        vertical-align: top;\n",
       "    }\n",
       "\n",
       "    .dataframe thead th {\n",
       "        text-align: right;\n",
       "    }\n",
       "</style>\n",
       "<table border=\"1\" class=\"dataframe\">\n",
       "  <thead>\n",
       "    <tr style=\"text-align: right;\">\n",
       "      <th></th>\n",
       "      <th>Mz</th>\n",
       "      <th>UBIGEO</th>\n",
       "      <th>AREA</th>\n",
       "      <th>CODCCPP</th>\n",
       "      <th>ZONA</th>\n",
       "      <th>MANZANA_ID</th>\n",
       "      <th>MANZANA_A</th>\n",
       "      <th>T_TOTAL</th>\n",
       "      <th>T_HOMBRES</th>\n",
       "      <th>T_MUJERES</th>\n",
       "      <th>...</th>\n",
       "      <th>CCPP</th>\n",
       "      <th>CCDI</th>\n",
       "      <th>NOMBDIST</th>\n",
       "      <th>CAPITAL</th>\n",
       "      <th>CODIGO</th>\n",
       "      <th>CNT_CCPP</th>\n",
       "      <th>DESCRIPCIO</th>\n",
       "      <th>layer</th>\n",
       "      <th>path</th>\n",
       "      <th>geometry</th>\n",
       "    </tr>\n",
       "  </thead>\n",
       "  <tbody>\n",
       "    <tr>\n",
       "      <th>0</th>\n",
       "      <td>150102000102100023</td>\n",
       "      <td>150102</td>\n",
       "      <td>1</td>\n",
       "      <td>0001</td>\n",
       "      <td>02100</td>\n",
       "      <td>023</td>\n",
       "      <td>None</td>\n",
       "      <td>18.0</td>\n",
       "      <td>7.0</td>\n",
       "      <td>11.0</td>\n",
       "      <td>...</td>\n",
       "      <td>01</td>\n",
       "      <td>02</td>\n",
       "      <td>ANCON</td>\n",
       "      <td>ANCON</td>\n",
       "      <td>150102</td>\n",
       "      <td>1.0</td>\n",
       "      <td>ANCON</td>\n",
       "      <td>ANCON_LIMA_150102_Manzanas_Poblacion_JuanPablo...</td>\n",
       "      <td>C:/Users/Abril/Desktop/IEP/MAPAS/Manzanas/ANCO...</td>\n",
       "      <td>MULTIPOLYGON (((-77.12763 -11.81363, -77.12723...</td>\n",
       "    </tr>\n",
       "    <tr>\n",
       "      <th>1</th>\n",
       "      <td>150102000101101010</td>\n",
       "      <td>150102</td>\n",
       "      <td>1</td>\n",
       "      <td>0001</td>\n",
       "      <td>01101</td>\n",
       "      <td>010</td>\n",
       "      <td>None</td>\n",
       "      <td>31.0</td>\n",
       "      <td>14.0</td>\n",
       "      <td>17.0</td>\n",
       "      <td>...</td>\n",
       "      <td>01</td>\n",
       "      <td>02</td>\n",
       "      <td>ANCON</td>\n",
       "      <td>ANCON</td>\n",
       "      <td>150102</td>\n",
       "      <td>1.0</td>\n",
       "      <td>ANCON</td>\n",
       "      <td>ANCON_LIMA_150102_Manzanas_Poblacion_JuanPablo...</td>\n",
       "      <td>C:/Users/Abril/Desktop/IEP/MAPAS/Manzanas/ANCO...</td>\n",
       "      <td>MULTIPOLYGON (((-77.15185 -11.73780, -77.15151...</td>\n",
       "    </tr>\n",
       "    <tr>\n",
       "      <th>2</th>\n",
       "      <td>150102000100600037</td>\n",
       "      <td>150102</td>\n",
       "      <td>1</td>\n",
       "      <td>0001</td>\n",
       "      <td>00600</td>\n",
       "      <td>037</td>\n",
       "      <td>None</td>\n",
       "      <td>71.0</td>\n",
       "      <td>32.0</td>\n",
       "      <td>39.0</td>\n",
       "      <td>...</td>\n",
       "      <td>01</td>\n",
       "      <td>02</td>\n",
       "      <td>ANCON</td>\n",
       "      <td>ANCON</td>\n",
       "      <td>150102</td>\n",
       "      <td>1.0</td>\n",
       "      <td>ANCON</td>\n",
       "      <td>ANCON_LIMA_150102_Manzanas_Poblacion_JuanPablo...</td>\n",
       "      <td>C:/Users/Abril/Desktop/IEP/MAPAS/Manzanas/ANCO...</td>\n",
       "      <td>MULTIPOLYGON (((-77.16978 -11.77796, -77.16981...</td>\n",
       "    </tr>\n",
       "    <tr>\n",
       "      <th>3</th>\n",
       "      <td>150102000101202048</td>\n",
       "      <td>150102</td>\n",
       "      <td>1</td>\n",
       "      <td>0001</td>\n",
       "      <td>01202</td>\n",
       "      <td>048</td>\n",
       "      <td>None</td>\n",
       "      <td>12.0</td>\n",
       "      <td>5.0</td>\n",
       "      <td>7.0</td>\n",
       "      <td>...</td>\n",
       "      <td>01</td>\n",
       "      <td>02</td>\n",
       "      <td>ANCON</td>\n",
       "      <td>ANCON</td>\n",
       "      <td>150102</td>\n",
       "      <td>1.0</td>\n",
       "      <td>ANCON</td>\n",
       "      <td>ANCON_LIMA_150102_Manzanas_Poblacion_JuanPablo...</td>\n",
       "      <td>C:/Users/Abril/Desktop/IEP/MAPAS/Manzanas/ANCO...</td>\n",
       "      <td>MULTIPOLYGON (((-77.15222 -11.74137, -77.15140...</td>\n",
       "    </tr>\n",
       "    <tr>\n",
       "      <th>4</th>\n",
       "      <td>150102000101202010A</td>\n",
       "      <td>150102</td>\n",
       "      <td>1</td>\n",
       "      <td>0001</td>\n",
       "      <td>01202</td>\n",
       "      <td>010</td>\n",
       "      <td>A</td>\n",
       "      <td>2.0</td>\n",
       "      <td>0.0</td>\n",
       "      <td>2.0</td>\n",
       "      <td>...</td>\n",
       "      <td>01</td>\n",
       "      <td>02</td>\n",
       "      <td>ANCON</td>\n",
       "      <td>ANCON</td>\n",
       "      <td>150102</td>\n",
       "      <td>1.0</td>\n",
       "      <td>ANCON</td>\n",
       "      <td>ANCON_LIMA_150102_Manzanas_Poblacion_JuanPablo...</td>\n",
       "      <td>C:/Users/Abril/Desktop/IEP/MAPAS/Manzanas/ANCO...</td>\n",
       "      <td>MULTIPOLYGON (((-77.16253 -11.73364, -77.16255...</td>\n",
       "    </tr>\n",
       "  </tbody>\n",
       "</table>\n",
       "<p>5 rows × 31 columns</p>\n",
       "</div>"
      ],
      "text/plain": [
       "                    Mz  UBIGEO AREA CODCCPP   ZONA MANZANA_ID MANZANA_A  \\\n",
       "0   150102000102100023  150102    1    0001  02100        023      None   \n",
       "1   150102000101101010  150102    1    0001  01101        010      None   \n",
       "2   150102000100600037  150102    1    0001  00600        037      None   \n",
       "3   150102000101202048  150102    1    0001  01202        048      None   \n",
       "4  150102000101202010A  150102    1    0001  01202        010         A   \n",
       "\n",
       "   T_TOTAL  T_HOMBRES  T_MUJERES  ... CCPP CCDI NOMBDIST  CAPITAL  CODIGO  \\\n",
       "0     18.0        7.0       11.0  ...   01   02    ANCON    ANCON  150102   \n",
       "1     31.0       14.0       17.0  ...   01   02    ANCON    ANCON  150102   \n",
       "2     71.0       32.0       39.0  ...   01   02    ANCON    ANCON  150102   \n",
       "3     12.0        5.0        7.0  ...   01   02    ANCON    ANCON  150102   \n",
       "4      2.0        0.0        2.0  ...   01   02    ANCON    ANCON  150102   \n",
       "\n",
       "  CNT_CCPP DESCRIPCIO                                              layer  \\\n",
       "0      1.0      ANCON  ANCON_LIMA_150102_Manzanas_Poblacion_JuanPablo...   \n",
       "1      1.0      ANCON  ANCON_LIMA_150102_Manzanas_Poblacion_JuanPablo...   \n",
       "2      1.0      ANCON  ANCON_LIMA_150102_Manzanas_Poblacion_JuanPablo...   \n",
       "3      1.0      ANCON  ANCON_LIMA_150102_Manzanas_Poblacion_JuanPablo...   \n",
       "4      1.0      ANCON  ANCON_LIMA_150102_Manzanas_Poblacion_JuanPablo...   \n",
       "\n",
       "                                                path  \\\n",
       "0  C:/Users/Abril/Desktop/IEP/MAPAS/Manzanas/ANCO...   \n",
       "1  C:/Users/Abril/Desktop/IEP/MAPAS/Manzanas/ANCO...   \n",
       "2  C:/Users/Abril/Desktop/IEP/MAPAS/Manzanas/ANCO...   \n",
       "3  C:/Users/Abril/Desktop/IEP/MAPAS/Manzanas/ANCO...   \n",
       "4  C:/Users/Abril/Desktop/IEP/MAPAS/Manzanas/ANCO...   \n",
       "\n",
       "                                            geometry  \n",
       "0  MULTIPOLYGON (((-77.12763 -11.81363, -77.12723...  \n",
       "1  MULTIPOLYGON (((-77.15185 -11.73780, -77.15151...  \n",
       "2  MULTIPOLYGON (((-77.16978 -11.77796, -77.16981...  \n",
       "3  MULTIPOLYGON (((-77.15222 -11.74137, -77.15140...  \n",
       "4  MULTIPOLYGON (((-77.16253 -11.73364, -77.16255...  \n",
       "\n",
       "[5 rows x 31 columns]"
      ]
     },
     "execution_count": 3,
     "metadata": {},
     "output_type": "execute_result"
    }
   ],
   "source": [
    "print(manzanas.shape)\n",
    "manzanas.head()"
   ]
  },
  {
   "cell_type": "markdown",
   "metadata": {},
   "source": [
    "### Demanda"
   ]
  },
  {
   "cell_type": "code",
   "execution_count": 4,
   "metadata": {},
   "outputs": [
    {
     "name": "stdout",
     "output_type": "stream",
     "text": [
      "(55078, 7)\n"
     ]
    },
    {
     "data": {
      "text/html": [
       "<div>\n",
       "<style scoped>\n",
       "    .dataframe tbody tr th:only-of-type {\n",
       "        vertical-align: middle;\n",
       "    }\n",
       "\n",
       "    .dataframe tbody tr th {\n",
       "        vertical-align: top;\n",
       "    }\n",
       "\n",
       "    .dataframe thead th {\n",
       "        text-align: right;\n",
       "    }\n",
       "</style>\n",
       "<table border=\"1\" class=\"dataframe\">\n",
       "  <thead>\n",
       "    <tr style=\"text-align: right;\">\n",
       "      <th></th>\n",
       "      <th>id</th>\n",
       "      <th>ubigeo</th>\n",
       "      <th>nombdist</th>\n",
       "      <th>cod_mz</th>\n",
       "      <th>pobma60_mz</th>\n",
       "      <th>pobma60_dist</th>\n",
       "      <th>geom</th>\n",
       "    </tr>\n",
       "  </thead>\n",
       "  <tbody>\n",
       "    <tr>\n",
       "      <th>0</th>\n",
       "      <td>9.0</td>\n",
       "      <td>150102</td>\n",
       "      <td>ANCON</td>\n",
       "      <td>150102000101101009B</td>\n",
       "      <td>5</td>\n",
       "      <td>1481</td>\n",
       "      <td>0106000020E6100000010000000103000000010000000D...</td>\n",
       "    </tr>\n",
       "    <tr>\n",
       "      <th>1</th>\n",
       "      <td>11.0</td>\n",
       "      <td>150102</td>\n",
       "      <td>ANCON</td>\n",
       "      <td>150102000101600020B</td>\n",
       "      <td>2</td>\n",
       "      <td>1481</td>\n",
       "      <td>0106000020E6100000010000000103000000010000000E...</td>\n",
       "    </tr>\n",
       "    <tr>\n",
       "      <th>2</th>\n",
       "      <td>12.0</td>\n",
       "      <td>150102</td>\n",
       "      <td>ANCON</td>\n",
       "      <td>150102000100500030</td>\n",
       "      <td>1</td>\n",
       "      <td>1481</td>\n",
       "      <td>0106000020E61000000100000001030000000100000005...</td>\n",
       "    </tr>\n",
       "    <tr>\n",
       "      <th>3</th>\n",
       "      <td>14.0</td>\n",
       "      <td>150102</td>\n",
       "      <td>ANCON</td>\n",
       "      <td>150102000100400044</td>\n",
       "      <td>2</td>\n",
       "      <td>1481</td>\n",
       "      <td>0106000020E61000000100000001030000000100000006...</td>\n",
       "    </tr>\n",
       "    <tr>\n",
       "      <th>4</th>\n",
       "      <td>15.0</td>\n",
       "      <td>150102</td>\n",
       "      <td>ANCON</td>\n",
       "      <td>150102000100200012</td>\n",
       "      <td>2</td>\n",
       "      <td>1481</td>\n",
       "      <td>0106000020E61000000100000001030000000100000009...</td>\n",
       "    </tr>\n",
       "  </tbody>\n",
       "</table>\n",
       "</div>"
      ],
      "text/plain": [
       "     id  ubigeo nombdist               cod_mz  pobma60_mz  pobma60_dist  \\\n",
       "0   9.0  150102    ANCON  150102000101101009B           5          1481   \n",
       "1  11.0  150102    ANCON  150102000101600020B           2          1481   \n",
       "2  12.0  150102    ANCON   150102000100500030           1          1481   \n",
       "3  14.0  150102    ANCON   150102000100400044           2          1481   \n",
       "4  15.0  150102    ANCON   150102000100200012           2          1481   \n",
       "\n",
       "                                                geom  \n",
       "0  0106000020E6100000010000000103000000010000000D...  \n",
       "1  0106000020E6100000010000000103000000010000000E...  \n",
       "2  0106000020E61000000100000001030000000100000005...  \n",
       "3  0106000020E61000000100000001030000000100000006...  \n",
       "4  0106000020E61000000100000001030000000100000009...  "
      ]
     },
     "execution_count": 4,
     "metadata": {},
     "output_type": "execute_result"
    }
   ],
   "source": [
    "demanda = pd.read_csv(\"../data/BBDD Perú demanda/1_vm_limamet_pobma60_mz.csv\")\n",
    "print(demanda.shape)\n",
    "demanda.head()"
   ]
  },
  {
   "cell_type": "code",
   "execution_count": 5,
   "metadata": {},
   "outputs": [
    {
     "data": {
      "text/plain": [
       "Index(['id', 'ubigeo', 'nombdist', 'cod_mz', 'pobma60_mz', 'pobma60_dist',\n",
       "       'geom'],\n",
       "      dtype='object')"
      ]
     },
     "execution_count": 5,
     "metadata": {},
     "output_type": "execute_result"
    }
   ],
   "source": [
    "demanda.columns"
   ]
  },
  {
   "cell_type": "code",
   "execution_count": 7,
   "metadata": {},
   "outputs": [
    {
     "name": "stdout",
     "output_type": "stream",
     "text": [
      "<class 'geopandas.geodataframe.GeoDataFrame'>\n",
      "RangeIndex: 125385 entries, 0 to 125384\n",
      "Data columns (total 34 columns):\n",
      " #   Column        Non-Null Count   Dtype   \n",
      "---  ------        --------------   -----   \n",
      " 0   Mz            125385 non-null  object  \n",
      " 1   UBIGEO        125385 non-null  object  \n",
      " 2   AREA          125385 non-null  object  \n",
      " 3   CODCCPP       125385 non-null  object  \n",
      " 4   ZONA          125385 non-null  object  \n",
      " 5   MANZANA_ID    122633 non-null  object  \n",
      " 6   MANZANA_A     46125 non-null   object  \n",
      " 7   T_TOTAL       125385 non-null  float64 \n",
      " 8   T_HOMBRES     125385 non-null  float64 \n",
      " 9   T_MUJERES     125385 non-null  float64 \n",
      " 10  LLAVE_MZS     125385 non-null  object  \n",
      " 11  contacto      125385 non-null  object  \n",
      " 12  descargar     125385 non-null  object  \n",
      " 13  whatsapp      125385 non-null  float64 \n",
      " 14  NOMBDEP       125385 non-null  object  \n",
      " 15  NOMBPROV      125385 non-null  object  \n",
      " 16  IDPROV        125385 non-null  object  \n",
      " 17  ARCHIVO       125385 non-null  object  \n",
      " 18  Nombre        93535 non-null   object  \n",
      " 19  Apellido      93535 non-null   object  \n",
      " 20  CCDD          93535 non-null   object  \n",
      " 21  CCPP          93535 non-null   object  \n",
      " 22  CCDI          93535 non-null   object  \n",
      " 23  NOMBDIST      93535 non-null   object  \n",
      " 24  CAPITAL       93535 non-null   object  \n",
      " 25  CODIGO        93535 non-null   object  \n",
      " 26  CNT_CCPP      93535 non-null   float64 \n",
      " 27  DESCRIPCIO    93535 non-null   object  \n",
      " 28  layer         125385 non-null  object  \n",
      " 29  path          125385 non-null  object  \n",
      " 30  geometry      125385 non-null  geometry\n",
      " 31  cod_mz        55349 non-null   object  \n",
      " 32  pobma60_mz    55349 non-null   float64 \n",
      " 33  pobma60_dist  55349 non-null   float64 \n",
      "dtypes: float64(7), geometry(1), object(26)\n",
      "memory usage: 32.5+ MB\n"
     ]
    }
   ],
   "source": [
    "demanda_reduc = demanda[[ 'cod_mz', 'pobma60_mz', 'pobma60_dist']]\n",
    "manzanas_merged = pd.merge(manzanas, demanda_reduc, left_on=\"Mz\", right_on=\"cod_mz\", how=\"left\")\n",
    "\n",
    "manzanas_merged.info()"
   ]
  },
  {
   "cell_type": "markdown",
   "metadata": {},
   "source": [
    "### Oferta"
   ]
  },
  {
   "cell_type": "code",
   "execution_count": 9,
   "metadata": {},
   "outputs": [
    {
     "name": "stdout",
     "output_type": "stream",
     "text": [
      "(859, 3)\n"
     ]
    },
    {
     "data": {
      "text/html": [
       "<div>\n",
       "<style scoped>\n",
       "    .dataframe tbody tr th:only-of-type {\n",
       "        vertical-align: middle;\n",
       "    }\n",
       "\n",
       "    .dataframe tbody tr th {\n",
       "        vertical-align: top;\n",
       "    }\n",
       "\n",
       "    .dataframe thead th {\n",
       "        text-align: right;\n",
       "    }\n",
       "</style>\n",
       "<table border=\"1\" class=\"dataframe\">\n",
       "  <thead>\n",
       "    <tr style=\"text-align: right;\">\n",
       "      <th></th>\n",
       "      <th>nombre</th>\n",
       "      <th>lat</th>\n",
       "      <th>lng</th>\n",
       "    </tr>\n",
       "  </thead>\n",
       "  <tbody>\n",
       "    <tr>\n",
       "      <th>0</th>\n",
       "      <td>0003 NUESTRA SEÑORA DEL CARMEN</td>\n",
       "      <td>-12.04592</td>\n",
       "      <td>-77.030495</td>\n",
       "    </tr>\n",
       "    <tr>\n",
       "      <th>1</th>\n",
       "      <td>8</td>\n",
       "      <td>-12.04592</td>\n",
       "      <td>-77.030495</td>\n",
       "    </tr>\n",
       "    <tr>\n",
       "      <th>2</th>\n",
       "      <td>003 SEÑORA DEL CARMEN</td>\n",
       "      <td>-12.04592</td>\n",
       "      <td>-77.030495</td>\n",
       "    </tr>\n",
       "    <tr>\n",
       "      <th>3</th>\n",
       "      <td>1008</td>\n",
       "      <td>-12.04592</td>\n",
       "      <td>-77.030495</td>\n",
       "    </tr>\n",
       "    <tr>\n",
       "      <th>4</th>\n",
       "      <td>0071 NUESTRA SEÑORA DE LA MERCED</td>\n",
       "      <td>-12.01674</td>\n",
       "      <td>-77.013370</td>\n",
       "    </tr>\n",
       "  </tbody>\n",
       "</table>\n",
       "</div>"
      ],
      "text/plain": [
       "                             nombre       lat        lng\n",
       "0    0003 NUESTRA SEÑORA DEL CARMEN -12.04592 -77.030495\n",
       "1                                 8 -12.04592 -77.030495\n",
       "2             003 SEÑORA DEL CARMEN -12.04592 -77.030495\n",
       "3                              1008 -12.04592 -77.030495\n",
       "4  0071 NUESTRA SEÑORA DE LA MERCED -12.01674 -77.013370"
      ]
     },
     "execution_count": 9,
     "metadata": {},
     "output_type": "execute_result"
    }
   ],
   "source": [
    "oferta = pd.read_excel(\"../data/BBDD Perú oferta/padron_consolidado_adultos_mayores_modif.xlsx\", usecols=[\"nombre\", \"nlatie\", \"nlongie\", \"lat\", \"lng\"])\n",
    "\n",
    "\n",
    "oferta[\"nlatie\"].fillna(oferta[\"lat\"], inplace=True)\n",
    "oferta[\"nlongie\"].fillna(oferta[\"lng\"], inplace=True)\n",
    "\n",
    "cols_drop = [\"lat\", \"lng\"]\n",
    "oferta.drop(cols_drop, axis=1, inplace=True)\n",
    "newnames = {'nlatie':'lat',\n",
    "            'nlongie':'lng'}\n",
    "oferta.rename(columns=newnames, inplace=True)\n",
    "print(oferta.shape)\n",
    "oferta.head()"
   ]
  },
  {
   "cell_type": "code",
   "execution_count": 10,
   "metadata": {},
   "outputs": [
    {
     "name": "stdout",
     "output_type": "stream",
     "text": [
      "<class 'pandas.core.frame.DataFrame'>\n",
      "RangeIndex: 859 entries, 0 to 858\n",
      "Data columns (total 3 columns):\n",
      " #   Column  Non-Null Count  Dtype  \n",
      "---  ------  --------------  -----  \n",
      " 0   nombre  859 non-null    object \n",
      " 1   lat     859 non-null    float64\n",
      " 2   lng     859 non-null    float64\n",
      "dtypes: float64(2), object(1)\n",
      "memory usage: 20.3+ KB\n"
     ]
    }
   ],
   "source": [
    "oferta.info()"
   ]
  },
  {
   "cell_type": "markdown",
   "metadata": {},
   "source": [
    "### Tiempos de viaje\n",
    "\n",
    "El dataset contiene 2 variables:  \n",
    "0 corresponde a la distancia  \n",
    "1 corresponde a la duración del recorrido  "
   ]
  },
  {
   "cell_type": "code",
   "execution_count": 11,
   "metadata": {},
   "outputs": [
    {
     "name": "stdout",
     "output_type": "stream",
     "text": [
      "(124903, 2)\n"
     ]
    },
    {
     "data": {
      "text/html": [
       "<div>\n",
       "<style scoped>\n",
       "    .dataframe tbody tr th:only-of-type {\n",
       "        vertical-align: middle;\n",
       "    }\n",
       "\n",
       "    .dataframe tbody tr th {\n",
       "        vertical-align: top;\n",
       "    }\n",
       "\n",
       "    .dataframe thead th {\n",
       "        text-align: right;\n",
       "    }\n",
       "</style>\n",
       "<table border=\"1\" class=\"dataframe\">\n",
       "  <thead>\n",
       "    <tr style=\"text-align: right;\">\n",
       "      <th></th>\n",
       "      <th>0</th>\n",
       "      <th>1</th>\n",
       "    </tr>\n",
       "  </thead>\n",
       "  <tbody>\n",
       "    <tr>\n",
       "      <th>0</th>\n",
       "      <td>2785.4</td>\n",
       "      <td>2005.3</td>\n",
       "    </tr>\n",
       "    <tr>\n",
       "      <th>1</th>\n",
       "      <td>7793.4</td>\n",
       "      <td>5611.3</td>\n",
       "    </tr>\n",
       "    <tr>\n",
       "      <th>2</th>\n",
       "      <td>440.1</td>\n",
       "      <td>316.8</td>\n",
       "    </tr>\n",
       "    <tr>\n",
       "      <th>3</th>\n",
       "      <td>7230.4</td>\n",
       "      <td>5206.0</td>\n",
       "    </tr>\n",
       "    <tr>\n",
       "      <th>4</th>\n",
       "      <td>8604.4</td>\n",
       "      <td>6195.5</td>\n",
       "    </tr>\n",
       "  </tbody>\n",
       "</table>\n",
       "</div>"
      ],
      "text/plain": [
       "        0       1\n",
       "0  2785.4  2005.3\n",
       "1  7793.4  5611.3\n",
       "2   440.1   316.8\n",
       "3  7230.4  5206.0\n",
       "4  8604.4  6195.5"
      ]
     },
     "execution_count": 11,
     "metadata": {},
     "output_type": "execute_result"
    }
   ],
   "source": [
    "tiempos = pd.read_csv(\"../data/BBDD Perú accesibilidad/distance_duration_adulto_mayor.csv\")\n",
    "print(tiempos.shape)\n",
    "tiempos.head()"
   ]
  },
  {
   "cell_type": "markdown",
   "metadata": {},
   "source": [
    "#### Matcheo de bases a manzanas"
   ]
  },
  {
   "cell_type": "code",
   "execution_count": 12,
   "metadata": {},
   "outputs": [],
   "source": [
    "manzanas_merged['distancia_a_centro_am60'] =  tiempos[\"0\"] / 1000 # metros a km\n",
    "manzanas_merged['duracion_a_centro_am60'] = tiempos[\"1\"] / 60 # segundos a minutos"
   ]
  },
  {
   "cell_type": "markdown",
   "metadata": {},
   "source": [
    "### Pobreza"
   ]
  },
  {
   "cell_type": "code",
   "execution_count": 13,
   "metadata": {},
   "outputs": [
    {
     "name": "stdout",
     "output_type": "stream",
     "text": [
      "(98911, 10)\n"
     ]
    },
    {
     "data": {
      "text/html": [
       "<div>\n",
       "<style scoped>\n",
       "    .dataframe tbody tr th:only-of-type {\n",
       "        vertical-align: middle;\n",
       "    }\n",
       "\n",
       "    .dataframe tbody tr th {\n",
       "        vertical-align: top;\n",
       "    }\n",
       "\n",
       "    .dataframe thead th {\n",
       "        text-align: right;\n",
       "    }\n",
       "</style>\n",
       "<table border=\"1\" class=\"dataframe\">\n",
       "  <thead>\n",
       "    <tr style=\"text-align: right;\">\n",
       "      <th></th>\n",
       "      <th>FID</th>\n",
       "      <th>idmanzana</th>\n",
       "      <th>Ubigeo</th>\n",
       "      <th>Departamento</th>\n",
       "      <th>Provincia</th>\n",
       "      <th>Distrito</th>\n",
       "      <th>Hogares</th>\n",
       "      <th>Población</th>\n",
       "      <th>Estrato</th>\n",
       "      <th>geom</th>\n",
       "    </tr>\n",
       "  </thead>\n",
       "  <tbody>\n",
       "    <tr>\n",
       "      <th>0</th>\n",
       "      <td>peru_estratos_ingresos.14645</td>\n",
       "      <td>150106092000020</td>\n",
       "      <td>150106</td>\n",
       "      <td>LIMA</td>\n",
       "      <td>LIMA</td>\n",
       "      <td>CARABAYLLO</td>\n",
       "      <td>4</td>\n",
       "      <td>10</td>\n",
       "      <td>2</td>\n",
       "      <td>MULTIPOLYGON (((-77.02289224399993 -11.8951647...</td>\n",
       "    </tr>\n",
       "    <tr>\n",
       "      <th>1</th>\n",
       "      <td>peru_estratos_ingresos.14646</td>\n",
       "      <td>150106092000010</td>\n",
       "      <td>150106</td>\n",
       "      <td>LIMA</td>\n",
       "      <td>LIMA</td>\n",
       "      <td>CARABAYLLO</td>\n",
       "      <td>31</td>\n",
       "      <td>129</td>\n",
       "      <td>2</td>\n",
       "      <td>MULTIPOLYGON (((-77.02352222499997 -11.8947903...</td>\n",
       "    </tr>\n",
       "    <tr>\n",
       "      <th>2</th>\n",
       "      <td>peru_estratos_ingresos.14647</td>\n",
       "      <td>150106035000100</td>\n",
       "      <td>150106</td>\n",
       "      <td>LIMA</td>\n",
       "      <td>LIMA</td>\n",
       "      <td>CARABAYLLO</td>\n",
       "      <td>14</td>\n",
       "      <td>50</td>\n",
       "      <td>1</td>\n",
       "      <td>MULTIPOLYGON (((-77.07526241299996 -11.8439180...</td>\n",
       "    </tr>\n",
       "    <tr>\n",
       "      <th>3</th>\n",
       "      <td>peru_estratos_ingresos.14648</td>\n",
       "      <td>150106092000450</td>\n",
       "      <td>150106</td>\n",
       "      <td>LIMA</td>\n",
       "      <td>LIMA</td>\n",
       "      <td>CARABAYLLO</td>\n",
       "      <td>32</td>\n",
       "      <td>149</td>\n",
       "      <td>2</td>\n",
       "      <td>MULTIPOLYGON (((-77.02031777899998 -11.8968804...</td>\n",
       "    </tr>\n",
       "    <tr>\n",
       "      <th>4</th>\n",
       "      <td>peru_estratos_ingresos.14649</td>\n",
       "      <td>150106092000080</td>\n",
       "      <td>150106</td>\n",
       "      <td>LIMA</td>\n",
       "      <td>LIMA</td>\n",
       "      <td>CARABAYLLO</td>\n",
       "      <td>55</td>\n",
       "      <td>263</td>\n",
       "      <td>2</td>\n",
       "      <td>MULTIPOLYGON (((-77.02249469799995 -11.8977410...</td>\n",
       "    </tr>\n",
       "  </tbody>\n",
       "</table>\n",
       "</div>"
      ],
      "text/plain": [
       "                            FID        idmanzana  Ubigeo Departamento  \\\n",
       "0  peru_estratos_ingresos.14645  150106092000020  150106         LIMA   \n",
       "1  peru_estratos_ingresos.14646  150106092000010  150106         LIMA   \n",
       "2  peru_estratos_ingresos.14647  150106035000100  150106         LIMA   \n",
       "3  peru_estratos_ingresos.14648  150106092000450  150106         LIMA   \n",
       "4  peru_estratos_ingresos.14649  150106092000080  150106         LIMA   \n",
       "\n",
       "  Provincia    Distrito  Hogares  Población  Estrato  \\\n",
       "0      LIMA  CARABAYLLO        4         10        2   \n",
       "1      LIMA  CARABAYLLO       31        129        2   \n",
       "2      LIMA  CARABAYLLO       14         50        1   \n",
       "3      LIMA  CARABAYLLO       32        149        2   \n",
       "4      LIMA  CARABAYLLO       55        263        2   \n",
       "\n",
       "                                                geom  \n",
       "0  MULTIPOLYGON (((-77.02289224399993 -11.8951647...  \n",
       "1  MULTIPOLYGON (((-77.02352222499997 -11.8947903...  \n",
       "2  MULTIPOLYGON (((-77.07526241299996 -11.8439180...  \n",
       "3  MULTIPOLYGON (((-77.02031777899998 -11.8968804...  \n",
       "4  MULTIPOLYGON (((-77.02249469799995 -11.8977410...  "
      ]
     },
     "execution_count": 13,
     "metadata": {},
     "output_type": "execute_result"
    }
   ],
   "source": [
    "pobreza = pd.read_csv(\"../data/BBDD pobreza/peru_estratos_ingresos.csv\")\n",
    "print(pobreza.shape)\n",
    "pobreza.head()"
   ]
  },
  {
   "cell_type": "code",
   "execution_count": 14,
   "metadata": {},
   "outputs": [
    {
     "name": "stdout",
     "output_type": "stream",
     "text": [
      "(125385, 41)\n"
     ]
    },
    {
     "data": {
      "text/html": [
       "<div>\n",
       "<style scoped>\n",
       "    .dataframe tbody tr th:only-of-type {\n",
       "        vertical-align: middle;\n",
       "    }\n",
       "\n",
       "    .dataframe tbody tr th {\n",
       "        vertical-align: top;\n",
       "    }\n",
       "\n",
       "    .dataframe thead th {\n",
       "        text-align: right;\n",
       "    }\n",
       "</style>\n",
       "<table border=\"1\" class=\"dataframe\">\n",
       "  <thead>\n",
       "    <tr style=\"text-align: right;\">\n",
       "      <th></th>\n",
       "      <th>Mz</th>\n",
       "      <th>UBIGEO</th>\n",
       "      <th>AREA</th>\n",
       "      <th>CODCCPP</th>\n",
       "      <th>ZONA</th>\n",
       "      <th>MANZANA_ID</th>\n",
       "      <th>MANZANA_A</th>\n",
       "      <th>T_TOTAL</th>\n",
       "      <th>T_HOMBRES</th>\n",
       "      <th>T_MUJERES</th>\n",
       "      <th>...</th>\n",
       "      <th>cod_mz</th>\n",
       "      <th>pobma60_mz</th>\n",
       "      <th>pobma60_dist</th>\n",
       "      <th>distancia_a_centro_am60</th>\n",
       "      <th>duracion_a_centro_am60</th>\n",
       "      <th>idmanzana</th>\n",
       "      <th>Hogares</th>\n",
       "      <th>Población</th>\n",
       "      <th>Estrato</th>\n",
       "      <th>geom</th>\n",
       "    </tr>\n",
       "  </thead>\n",
       "  <tbody>\n",
       "    <tr>\n",
       "      <th>0</th>\n",
       "      <td>150102000102100023</td>\n",
       "      <td>150102</td>\n",
       "      <td>1</td>\n",
       "      <td>0001</td>\n",
       "      <td>02100</td>\n",
       "      <td>023</td>\n",
       "      <td>None</td>\n",
       "      <td>18.0</td>\n",
       "      <td>7.0</td>\n",
       "      <td>11.0</td>\n",
       "      <td>...</td>\n",
       "      <td>NaN</td>\n",
       "      <td>NaN</td>\n",
       "      <td>NaN</td>\n",
       "      <td>2.7854</td>\n",
       "      <td>33.421667</td>\n",
       "      <td>150102021000230</td>\n",
       "      <td>7.0</td>\n",
       "      <td>18.0</td>\n",
       "      <td>2.0</td>\n",
       "      <td>MULTIPOLYGON (((-77.12763 -11.81363, -77.12723...</td>\n",
       "    </tr>\n",
       "    <tr>\n",
       "      <th>1</th>\n",
       "      <td>150102000101101010</td>\n",
       "      <td>150102</td>\n",
       "      <td>1</td>\n",
       "      <td>0001</td>\n",
       "      <td>01101</td>\n",
       "      <td>010</td>\n",
       "      <td>None</td>\n",
       "      <td>31.0</td>\n",
       "      <td>14.0</td>\n",
       "      <td>17.0</td>\n",
       "      <td>...</td>\n",
       "      <td>NaN</td>\n",
       "      <td>NaN</td>\n",
       "      <td>NaN</td>\n",
       "      <td>7.7934</td>\n",
       "      <td>93.521667</td>\n",
       "      <td>150102011010100</td>\n",
       "      <td>9.0</td>\n",
       "      <td>31.0</td>\n",
       "      <td>1.0</td>\n",
       "      <td>MULTIPOLYGON (((-77.15185 -11.73780, -77.15151...</td>\n",
       "    </tr>\n",
       "    <tr>\n",
       "      <th>2</th>\n",
       "      <td>150102000100600037</td>\n",
       "      <td>150102</td>\n",
       "      <td>1</td>\n",
       "      <td>0001</td>\n",
       "      <td>00600</td>\n",
       "      <td>037</td>\n",
       "      <td>None</td>\n",
       "      <td>71.0</td>\n",
       "      <td>32.0</td>\n",
       "      <td>39.0</td>\n",
       "      <td>...</td>\n",
       "      <td>150102000100600037</td>\n",
       "      <td>3.0</td>\n",
       "      <td>1481.0</td>\n",
       "      <td>0.4401</td>\n",
       "      <td>5.280000</td>\n",
       "      <td>150102006000370</td>\n",
       "      <td>20.0</td>\n",
       "      <td>71.0</td>\n",
       "      <td>2.0</td>\n",
       "      <td>MULTIPOLYGON (((-77.16978 -11.77796, -77.16981...</td>\n",
       "    </tr>\n",
       "    <tr>\n",
       "      <th>3</th>\n",
       "      <td>150102000101202048</td>\n",
       "      <td>150102</td>\n",
       "      <td>1</td>\n",
       "      <td>0001</td>\n",
       "      <td>01202</td>\n",
       "      <td>048</td>\n",
       "      <td>None</td>\n",
       "      <td>12.0</td>\n",
       "      <td>5.0</td>\n",
       "      <td>7.0</td>\n",
       "      <td>...</td>\n",
       "      <td>NaN</td>\n",
       "      <td>NaN</td>\n",
       "      <td>NaN</td>\n",
       "      <td>7.2304</td>\n",
       "      <td>86.766667</td>\n",
       "      <td>150102012020480</td>\n",
       "      <td>4.0</td>\n",
       "      <td>12.0</td>\n",
       "      <td>1.0</td>\n",
       "      <td>MULTIPOLYGON (((-77.15222 -11.74137, -77.15140...</td>\n",
       "    </tr>\n",
       "    <tr>\n",
       "      <th>4</th>\n",
       "      <td>150102000101202010A</td>\n",
       "      <td>150102</td>\n",
       "      <td>1</td>\n",
       "      <td>0001</td>\n",
       "      <td>01202</td>\n",
       "      <td>010</td>\n",
       "      <td>A</td>\n",
       "      <td>2.0</td>\n",
       "      <td>0.0</td>\n",
       "      <td>2.0</td>\n",
       "      <td>...</td>\n",
       "      <td>NaN</td>\n",
       "      <td>NaN</td>\n",
       "      <td>NaN</td>\n",
       "      <td>8.6044</td>\n",
       "      <td>103.258333</td>\n",
       "      <td>15010201202010A</td>\n",
       "      <td>1.0</td>\n",
       "      <td>2.0</td>\n",
       "      <td>3.0</td>\n",
       "      <td>MULTIPOLYGON (((-77.16253 -11.73364, -77.16255...</td>\n",
       "    </tr>\n",
       "  </tbody>\n",
       "</table>\n",
       "<p>5 rows × 41 columns</p>\n",
       "</div>"
      ],
      "text/plain": [
       "                    Mz  UBIGEO AREA CODCCPP   ZONA MANZANA_ID MANZANA_A  \\\n",
       "0   150102000102100023  150102    1    0001  02100        023      None   \n",
       "1   150102000101101010  150102    1    0001  01101        010      None   \n",
       "2   150102000100600037  150102    1    0001  00600        037      None   \n",
       "3   150102000101202048  150102    1    0001  01202        048      None   \n",
       "4  150102000101202010A  150102    1    0001  01202        010         A   \n",
       "\n",
       "   T_TOTAL  T_HOMBRES  T_MUJERES  ...              cod_mz pobma60_mz  \\\n",
       "0     18.0        7.0       11.0  ...                 NaN        NaN   \n",
       "1     31.0       14.0       17.0  ...                 NaN        NaN   \n",
       "2     71.0       32.0       39.0  ...  150102000100600037        3.0   \n",
       "3     12.0        5.0        7.0  ...                 NaN        NaN   \n",
       "4      2.0        0.0        2.0  ...                 NaN        NaN   \n",
       "\n",
       "  pobma60_dist  distancia_a_centro_am60 duracion_a_centro_am60  \\\n",
       "0          NaN                   2.7854              33.421667   \n",
       "1          NaN                   7.7934              93.521667   \n",
       "2       1481.0                   0.4401               5.280000   \n",
       "3          NaN                   7.2304              86.766667   \n",
       "4          NaN                   8.6044             103.258333   \n",
       "\n",
       "         idmanzana Hogares Población Estrato  \\\n",
       "0  150102021000230     7.0      18.0     2.0   \n",
       "1  150102011010100     9.0      31.0     1.0   \n",
       "2  150102006000370    20.0      71.0     2.0   \n",
       "3  150102012020480     4.0      12.0     1.0   \n",
       "4  15010201202010A     1.0       2.0     3.0   \n",
       "\n",
       "                                                geom  \n",
       "0  MULTIPOLYGON (((-77.12763 -11.81363, -77.12723...  \n",
       "1  MULTIPOLYGON (((-77.15185 -11.73780, -77.15151...  \n",
       "2  MULTIPOLYGON (((-77.16978 -11.77796, -77.16981...  \n",
       "3  MULTIPOLYGON (((-77.15222 -11.74137, -77.15140...  \n",
       "4  MULTIPOLYGON (((-77.16253 -11.73364, -77.16255...  \n",
       "\n",
       "[5 rows x 41 columns]"
      ]
     },
     "execution_count": 14,
     "metadata": {},
     "output_type": "execute_result"
    }
   ],
   "source": [
    "from shapely import wkt\n",
    "import geopandas as gpd\n",
    "\n",
    "# Convert the 'geom' column from WKT to shapely objects\n",
    "pobreza['geom'] = pobreza['geom'].apply(wkt.loads)\n",
    "\n",
    "# Now create the GeoDataFrame\n",
    "gdf = gpd.GeoDataFrame(pobreza, geometry='geom')\n",
    "\n",
    "manzanas_merged = pd.merge(manzanas_merged, gdf[[\"idmanzana\", \"Hogares\", \"Población\", \"Estrato\", \"geom\"]], left_on='geometry', right_on=\"geom\", how=\"left\")\n",
    "print(manzanas_merged.shape)\n",
    "manzanas_merged.head()"
   ]
  },
  {
   "cell_type": "code",
   "execution_count": 15,
   "metadata": {},
   "outputs": [
    {
     "name": "stdout",
     "output_type": "stream",
     "text": [
      "<class 'geopandas.geodataframe.GeoDataFrame'>\n",
      "RangeIndex: 125385 entries, 0 to 125384\n",
      "Data columns (total 41 columns):\n",
      " #   Column                   Non-Null Count   Dtype   \n",
      "---  ------                   --------------   -----   \n",
      " 0   Mz                       125385 non-null  object  \n",
      " 1   UBIGEO                   125385 non-null  object  \n",
      " 2   AREA                     125385 non-null  object  \n",
      " 3   CODCCPP                  125385 non-null  object  \n",
      " 4   ZONA                     125385 non-null  object  \n",
      " 5   MANZANA_ID               122633 non-null  object  \n",
      " 6   MANZANA_A                46125 non-null   object  \n",
      " 7   T_TOTAL                  125385 non-null  float64 \n",
      " 8   T_HOMBRES                125385 non-null  float64 \n",
      " 9   T_MUJERES                125385 non-null  float64 \n",
      " 10  LLAVE_MZS                125385 non-null  object  \n",
      " 11  contacto                 125385 non-null  object  \n",
      " 12  descargar                125385 non-null  object  \n",
      " 13  whatsapp                 125385 non-null  float64 \n",
      " 14  NOMBDEP                  125385 non-null  object  \n",
      " 15  NOMBPROV                 125385 non-null  object  \n",
      " 16  IDPROV                   125385 non-null  object  \n",
      " 17  ARCHIVO                  125385 non-null  object  \n",
      " 18  Nombre                   93535 non-null   object  \n",
      " 19  Apellido                 93535 non-null   object  \n",
      " 20  CCDD                     93535 non-null   object  \n",
      " 21  CCPP                     93535 non-null   object  \n",
      " 22  CCDI                     93535 non-null   object  \n",
      " 23  NOMBDIST                 93535 non-null   object  \n",
      " 24  CAPITAL                  93535 non-null   object  \n",
      " 25  CODIGO                   93535 non-null   object  \n",
      " 26  CNT_CCPP                 93535 non-null   float64 \n",
      " 27  DESCRIPCIO               93535 non-null   object  \n",
      " 28  layer                    125385 non-null  object  \n",
      " 29  path                     125385 non-null  object  \n",
      " 30  geometry                 125385 non-null  geometry\n",
      " 31  cod_mz                   55349 non-null   object  \n",
      " 32  pobma60_mz               55349 non-null   float64 \n",
      " 33  pobma60_dist             55349 non-null   float64 \n",
      " 34  distancia_a_centro_am60  120302 non-null  float64 \n",
      " 35  duracion_a_centro_am60   120302 non-null  float64 \n",
      " 36  idmanzana                97985 non-null   object  \n",
      " 37  Hogares                  97985 non-null   float64 \n",
      " 38  Población                97985 non-null   float64 \n",
      " 39  Estrato                  97985 non-null   float64 \n",
      " 40  geom                     97985 non-null   geometry\n",
      "dtypes: float64(12), geometry(2), object(27)\n",
      "memory usage: 39.2+ MB\n"
     ]
    }
   ],
   "source": [
    "manzanas_merged.info()"
   ]
  },
  {
   "cell_type": "markdown",
   "metadata": {},
   "source": [
    "# Desiertos de cuidado"
   ]
  },
  {
   "cell_type": "code",
   "execution_count": 16,
   "metadata": {},
   "outputs": [
    {
     "data": {
      "text/plain": [
       "Index(['Mz', 'UBIGEO', 'AREA', 'CODCCPP', 'ZONA', 'MANZANA_ID', 'MANZANA_A',\n",
       "       'T_TOTAL', 'T_HOMBRES', 'T_MUJERES', 'LLAVE_MZS', 'contacto',\n",
       "       'descargar', 'whatsapp', 'NOMBDEP', 'NOMBPROV', 'IDPROV', 'ARCHIVO',\n",
       "       'Nombre', 'Apellido', 'CCDD', 'CCPP', 'CCDI', 'NOMBDIST', 'CAPITAL',\n",
       "       'CODIGO', 'CNT_CCPP', 'DESCRIPCIO', 'layer', 'path', 'geometry',\n",
       "       'cod_mz', 'pobma60_mz', 'pobma60_dist', 'distancia_a_centro_am60',\n",
       "       'duracion_a_centro_am60', 'idmanzana', 'Hogares', 'Población',\n",
       "       'Estrato', 'geom'],\n",
       "      dtype='object')"
      ]
     },
     "execution_count": 16,
     "metadata": {},
     "output_type": "execute_result"
    }
   ],
   "source": [
    "manzanas_merged.columns"
   ]
  },
  {
   "cell_type": "code",
   "execution_count": 60,
   "metadata": {},
   "outputs": [],
   "source": [
    "df = pd.DataFrame(manzanas_merged.drop(columns=['Mz', 'UBIGEO', 'AREA', 'CODCCPP', 'ZONA', 'MANZANA_ID', 'MANZANA_A',  'LLAVE_MZS', 'contacto',\n",
    "       'descargar', 'whatsapp', 'NOMBDEP', 'NOMBPROV', 'IDPROV', 'ARCHIVO',\n",
    "       'Nombre', 'Apellido', 'CCDD', 'CCPP', 'CCDI', 'NOMBDIST', 'CAPITAL',\n",
    "       'CODIGO', 'CNT_CCPP', 'DESCRIPCIO', 'layer', 'path', 'idmanzana',\n",
    "       'geom', 'T_TOTAL', 'cod_mz', 'T_HOMBRES', 'T_MUJERES', 'pobma60_dist']))\n",
    "\n",
    "# Dejo geometry para dropear despues de quitar nulls\n",
    "\n",
    "df['pobma60_mz'] = df['pobma60_mz'].fillna(0)\n",
    "\n",
    "# df = df.dropna()"
   ]
  },
  {
   "cell_type": "code",
   "execution_count": 61,
   "metadata": {},
   "outputs": [
    {
     "name": "stdout",
     "output_type": "stream",
     "text": [
      "<class 'pandas.core.frame.DataFrame'>\n",
      "RangeIndex: 125385 entries, 0 to 125384\n",
      "Data columns (total 7 columns):\n",
      " #   Column                   Non-Null Count   Dtype   \n",
      "---  ------                   --------------   -----   \n",
      " 0   geometry                 125385 non-null  geometry\n",
      " 1   pobma60_mz               125385 non-null  float64 \n",
      " 2   distancia_a_centro_am60  120302 non-null  float64 \n",
      " 3   duracion_a_centro_am60   120302 non-null  float64 \n",
      " 4   Hogares                  97985 non-null   float64 \n",
      " 5   Población                97985 non-null   float64 \n",
      " 6   Estrato                  97985 non-null   float64 \n",
      "dtypes: float64(6), geometry(1)\n",
      "memory usage: 6.7 MB\n"
     ]
    }
   ],
   "source": [
    "df.info()"
   ]
  },
  {
   "cell_type": "markdown",
   "metadata": {},
   "source": [
    "Defino como zonas 'problemáticas' aquellas donde el tiempo caminando es mayor a 20 minutos (considerando que esta caminata se da cargando hijos pequeños). Un 3% de los territorios termina caracterizado como zona a prestarle atención."
   ]
  },
  {
   "cell_type": "code",
   "execution_count": 62,
   "metadata": {},
   "outputs": [
    {
     "data": {
      "text/plain": [
       "desierto\n",
       "0    68651\n",
       "1    56734\n",
       "Name: count, dtype: int64"
      ]
     },
     "execution_count": 62,
     "metadata": {},
     "output_type": "execute_result"
    }
   ],
   "source": [
    "df['desierto'] = (df['duracion_a_centro_am60'] > 20).astype(int)\n",
    "df.desierto.value_counts()"
   ]
  },
  {
   "cell_type": "markdown",
   "metadata": {},
   "source": [
    "Para clasificar la población, normalizamos la data y estudiamos criterios empíricos."
   ]
  },
  {
   "cell_type": "code",
   "execution_count": 63,
   "metadata": {},
   "outputs": [
    {
     "name": "stdout",
     "output_type": "stream",
     "text": [
      "0.0\n"
     ]
    },
    {
     "data": {
      "text/plain": [
       "count    125385.000000\n",
       "mean          2.168704\n",
       "std           4.440954\n",
       "min           0.000000\n",
       "25%           0.000000\n",
       "50%           0.000000\n",
       "75%           2.000000\n",
       "max         260.000000\n",
       "Name: pobma60_mz, dtype: float64"
      ]
     },
     "execution_count": 63,
     "metadata": {},
     "output_type": "execute_result"
    }
   ],
   "source": [
    "print(df.pobma60_mz.median())\n",
    "df.pobma60_mz.describe()\n"
   ]
  },
  {
   "cell_type": "code",
   "execution_count": 64,
   "metadata": {},
   "outputs": [],
   "source": [
    "from sklearn.preprocessing import StandardScaler\n",
    "\n",
    "columns_to_scale = ['pobma60_mz']  \n",
    "\n",
    "scaler = StandardScaler()\n",
    "\n",
    "df_scaled = scaler.fit_transform(df[columns_to_scale])\n",
    "\n"
   ]
  },
  {
   "cell_type": "code",
   "execution_count": 65,
   "metadata": {},
   "outputs": [],
   "source": [
    "df[\"pob_am60_mz_normal\"]= df_scaled"
   ]
  },
  {
   "cell_type": "code",
   "execution_count": 66,
   "metadata": {},
   "outputs": [
    {
     "data": {
      "text/plain": [
       "count    1.253850e+05\n",
       "mean    -5.893563e-17\n",
       "std      1.000004e+00\n",
       "min     -4.883439e-01\n",
       "25%     -4.883439e-01\n",
       "50%     -4.883439e-01\n",
       "75%     -3.798847e-02\n",
       "max      5.805787e+01\n",
       "Name: pob_am60_mz_normal, dtype: float64"
      ]
     },
     "execution_count": 66,
     "metadata": {},
     "output_type": "execute_result"
    }
   ],
   "source": [
    "df.pob_am60_mz_normal.describe()"
   ]
  },
  {
   "cell_type": "markdown",
   "metadata": {},
   "source": [
    "Estudio tres posibilidades:"
   ]
  },
  {
   "cell_type": "code",
   "execution_count": 67,
   "metadata": {},
   "outputs": [],
   "source": [
    "umbral1 = df.pob_am60_mz_normal.mean()\n",
    "umbral2 = df.pob_am60_mz_normal.mean() + df.pob_am60_mz_normal.std()\n",
    "umbral3 = df.pob_am60_mz_normal.median()"
   ]
  },
  {
   "cell_type": "code",
   "execution_count": 68,
   "metadata": {},
   "outputs": [
    {
     "name": "stdout",
     "output_type": "stream",
     "text": [
      "alta_demanda\n",
      "0    94058\n",
      "1    31327\n",
      "Name: count, dtype: int64\n"
     ]
    }
   ],
   "source": [
    "df['alta_demanda'] = (df['pob_am60_mz_normal'] >= umbral1).astype(int)\n",
    "#df['alta_demanda_2'] = (df['pob_0a5_mz_normal'] >= umbral2).astype(int)\n",
    "#df['alta_demanda'] = (df['pob_am60_mz_normal'] >= umbral3).astype(int)\n",
    "\n",
    "print(df.alta_demanda.value_counts())\n",
    "#print(df.alta_demanda_2.value_counts())\n",
    "#print(df.alta_demanda.value_counts())"
   ]
  },
  {
   "cell_type": "markdown",
   "metadata": {},
   "source": [
    "En este caso elijo la media, ya que la mediana es 0."
   ]
  },
  {
   "cell_type": "code",
   "execution_count": 70,
   "metadata": {},
   "outputs": [
    {
     "data": {
      "text/plain": [
       "desierto_am60\n",
       "0    117094\n",
       "1      8291\n",
       "Name: count, dtype: int64"
      ]
     },
     "execution_count": 70,
     "metadata": {},
     "output_type": "execute_result"
    }
   ],
   "source": [
    "df[\"desierto_am60\"] = df[\"desierto\"] * df[\"alta_demanda\"]\n",
    "df.desierto_am60.value_counts()"
   ]
  },
  {
   "cell_type": "code",
   "execution_count": 71,
   "metadata": {},
   "outputs": [
    {
     "data": {
      "text/plain": [
       "Index(['geometry', 'pobma60_mz', 'distancia_a_centro_am60',\n",
       "       'duracion_a_centro_am60', 'Hogares', 'Población', 'Estrato', 'desierto',\n",
       "       'pob_am60_mz_normal', 'alta_demanda', 'desierto_am60'],\n",
       "      dtype='object')"
      ]
     },
     "execution_count": 71,
     "metadata": {},
     "output_type": "execute_result"
    }
   ],
   "source": [
    "df.columns"
   ]
  },
  {
   "cell_type": "code",
   "execution_count": 72,
   "metadata": {},
   "outputs": [
    {
     "data": {
      "text/html": [
       "<div>\n",
       "<style scoped>\n",
       "    .dataframe tbody tr th:only-of-type {\n",
       "        vertical-align: middle;\n",
       "    }\n",
       "\n",
       "    .dataframe tbody tr th {\n",
       "        vertical-align: top;\n",
       "    }\n",
       "\n",
       "    .dataframe thead th {\n",
       "        text-align: right;\n",
       "    }\n",
       "</style>\n",
       "<table border=\"1\" class=\"dataframe\">\n",
       "  <thead>\n",
       "    <tr style=\"text-align: right;\">\n",
       "      <th></th>\n",
       "      <th>geometry</th>\n",
       "      <th>pobma60_mz</th>\n",
       "      <th>distancia_a_centro_am60</th>\n",
       "      <th>duracion_a_centro_am60</th>\n",
       "      <th>alta_demanda</th>\n",
       "      <th>desierto_am60</th>\n",
       "    </tr>\n",
       "  </thead>\n",
       "  <tbody>\n",
       "    <tr>\n",
       "      <th>0</th>\n",
       "      <td>MULTIPOLYGON (((-77.12763 -11.81363, -77.12723...</td>\n",
       "      <td>0.0</td>\n",
       "      <td>2.7854</td>\n",
       "      <td>33.421667</td>\n",
       "      <td>0</td>\n",
       "      <td>0</td>\n",
       "    </tr>\n",
       "    <tr>\n",
       "      <th>1</th>\n",
       "      <td>MULTIPOLYGON (((-77.15185 -11.73780, -77.15151...</td>\n",
       "      <td>0.0</td>\n",
       "      <td>7.7934</td>\n",
       "      <td>93.521667</td>\n",
       "      <td>0</td>\n",
       "      <td>0</td>\n",
       "    </tr>\n",
       "    <tr>\n",
       "      <th>2</th>\n",
       "      <td>MULTIPOLYGON (((-77.16978 -11.77796, -77.16981...</td>\n",
       "      <td>3.0</td>\n",
       "      <td>0.4401</td>\n",
       "      <td>5.280000</td>\n",
       "      <td>1</td>\n",
       "      <td>0</td>\n",
       "    </tr>\n",
       "    <tr>\n",
       "      <th>3</th>\n",
       "      <td>MULTIPOLYGON (((-77.15222 -11.74137, -77.15140...</td>\n",
       "      <td>0.0</td>\n",
       "      <td>7.2304</td>\n",
       "      <td>86.766667</td>\n",
       "      <td>0</td>\n",
       "      <td>0</td>\n",
       "    </tr>\n",
       "    <tr>\n",
       "      <th>4</th>\n",
       "      <td>MULTIPOLYGON (((-77.16253 -11.73364, -77.16255...</td>\n",
       "      <td>0.0</td>\n",
       "      <td>8.6044</td>\n",
       "      <td>103.258333</td>\n",
       "      <td>0</td>\n",
       "      <td>0</td>\n",
       "    </tr>\n",
       "  </tbody>\n",
       "</table>\n",
       "</div>"
      ],
      "text/plain": [
       "                                            geometry  pobma60_mz  \\\n",
       "0  MULTIPOLYGON (((-77.12763 -11.81363, -77.12723...         0.0   \n",
       "1  MULTIPOLYGON (((-77.15185 -11.73780, -77.15151...         0.0   \n",
       "2  MULTIPOLYGON (((-77.16978 -11.77796, -77.16981...         3.0   \n",
       "3  MULTIPOLYGON (((-77.15222 -11.74137, -77.15140...         0.0   \n",
       "4  MULTIPOLYGON (((-77.16253 -11.73364, -77.16255...         0.0   \n",
       "\n",
       "   distancia_a_centro_am60  duracion_a_centro_am60  alta_demanda  \\\n",
       "0                   2.7854               33.421667             0   \n",
       "1                   7.7934               93.521667             0   \n",
       "2                   0.4401                5.280000             1   \n",
       "3                   7.2304               86.766667             0   \n",
       "4                   8.6044              103.258333             0   \n",
       "\n",
       "   desierto_am60  \n",
       "0              0  \n",
       "1              0  \n",
       "2              0  \n",
       "3              0  \n",
       "4              0  "
      ]
     },
     "execution_count": 72,
     "metadata": {},
     "output_type": "execute_result"
    }
   ],
   "source": [
    "df_for_csv = df[[\"geometry\", \"pobma60_mz\", \"distancia_a_centro_am60\", \"duracion_a_centro_am60\", \"alta_demanda\", \"desierto_am60\"]]\n",
    "df_for_csv.head()"
   ]
  },
  {
   "cell_type": "code",
   "execution_count": 78,
   "metadata": {},
   "outputs": [
    {
     "name": "stdout",
     "output_type": "stream",
     "text": [
      "(127505, 13)\n"
     ]
    },
    {
     "data": {
      "text/html": [
       "<div>\n",
       "<style scoped>\n",
       "    .dataframe tbody tr th:only-of-type {\n",
       "        vertical-align: middle;\n",
       "    }\n",
       "\n",
       "    .dataframe tbody tr th {\n",
       "        vertical-align: top;\n",
       "    }\n",
       "\n",
       "    .dataframe thead th {\n",
       "        text-align: right;\n",
       "    }\n",
       "</style>\n",
       "<table border=\"1\" class=\"dataframe\">\n",
       "  <thead>\n",
       "    <tr style=\"text-align: right;\">\n",
       "      <th></th>\n",
       "      <th>geometry</th>\n",
       "      <th>pobma60_mz</th>\n",
       "      <th>distancia_a_centro_am60</th>\n",
       "      <th>duracion_a_centro_am60</th>\n",
       "      <th>alta_demanda</th>\n",
       "      <th>desierto_am60</th>\n",
       "      <th>Mz</th>\n",
       "      <th>UBIGEO</th>\n",
       "      <th>AREA</th>\n",
       "      <th>CODCCPP</th>\n",
       "      <th>ZONA</th>\n",
       "      <th>MANZANA_ID</th>\n",
       "      <th>MANZANA_A</th>\n",
       "    </tr>\n",
       "  </thead>\n",
       "  <tbody>\n",
       "    <tr>\n",
       "      <th>0</th>\n",
       "      <td>MULTIPOLYGON (((-77.12763 -11.81363, -77.12723...</td>\n",
       "      <td>0.0</td>\n",
       "      <td>2.7854</td>\n",
       "      <td>33.421667</td>\n",
       "      <td>0</td>\n",
       "      <td>0</td>\n",
       "      <td>150102000102100023</td>\n",
       "      <td>150102</td>\n",
       "      <td>1</td>\n",
       "      <td>0001</td>\n",
       "      <td>02100</td>\n",
       "      <td>023</td>\n",
       "      <td>None</td>\n",
       "    </tr>\n",
       "    <tr>\n",
       "      <th>1</th>\n",
       "      <td>MULTIPOLYGON (((-77.15185 -11.73780, -77.15151...</td>\n",
       "      <td>0.0</td>\n",
       "      <td>7.7934</td>\n",
       "      <td>93.521667</td>\n",
       "      <td>0</td>\n",
       "      <td>0</td>\n",
       "      <td>150102000101101010</td>\n",
       "      <td>150102</td>\n",
       "      <td>1</td>\n",
       "      <td>0001</td>\n",
       "      <td>01101</td>\n",
       "      <td>010</td>\n",
       "      <td>None</td>\n",
       "    </tr>\n",
       "    <tr>\n",
       "      <th>2</th>\n",
       "      <td>MULTIPOLYGON (((-77.16978 -11.77796, -77.16981...</td>\n",
       "      <td>3.0</td>\n",
       "      <td>0.4401</td>\n",
       "      <td>5.280000</td>\n",
       "      <td>1</td>\n",
       "      <td>0</td>\n",
       "      <td>150102000100600037</td>\n",
       "      <td>150102</td>\n",
       "      <td>1</td>\n",
       "      <td>0001</td>\n",
       "      <td>00600</td>\n",
       "      <td>037</td>\n",
       "      <td>None</td>\n",
       "    </tr>\n",
       "    <tr>\n",
       "      <th>3</th>\n",
       "      <td>MULTIPOLYGON (((-77.15222 -11.74137, -77.15140...</td>\n",
       "      <td>0.0</td>\n",
       "      <td>7.2304</td>\n",
       "      <td>86.766667</td>\n",
       "      <td>0</td>\n",
       "      <td>0</td>\n",
       "      <td>150102000101202048</td>\n",
       "      <td>150102</td>\n",
       "      <td>1</td>\n",
       "      <td>0001</td>\n",
       "      <td>01202</td>\n",
       "      <td>048</td>\n",
       "      <td>None</td>\n",
       "    </tr>\n",
       "    <tr>\n",
       "      <th>4</th>\n",
       "      <td>MULTIPOLYGON (((-77.16253 -11.73364, -77.16255...</td>\n",
       "      <td>0.0</td>\n",
       "      <td>8.6044</td>\n",
       "      <td>103.258333</td>\n",
       "      <td>0</td>\n",
       "      <td>0</td>\n",
       "      <td>150102000101202010A</td>\n",
       "      <td>150102</td>\n",
       "      <td>1</td>\n",
       "      <td>0001</td>\n",
       "      <td>01202</td>\n",
       "      <td>010</td>\n",
       "      <td>A</td>\n",
       "    </tr>\n",
       "  </tbody>\n",
       "</table>\n",
       "</div>"
      ],
      "text/plain": [
       "                                            geometry  pobma60_mz  \\\n",
       "0  MULTIPOLYGON (((-77.12763 -11.81363, -77.12723...         0.0   \n",
       "1  MULTIPOLYGON (((-77.15185 -11.73780, -77.15151...         0.0   \n",
       "2  MULTIPOLYGON (((-77.16978 -11.77796, -77.16981...         3.0   \n",
       "3  MULTIPOLYGON (((-77.15222 -11.74137, -77.15140...         0.0   \n",
       "4  MULTIPOLYGON (((-77.16253 -11.73364, -77.16255...         0.0   \n",
       "\n",
       "   distancia_a_centro_am60  duracion_a_centro_am60  alta_demanda  \\\n",
       "0                   2.7854               33.421667             0   \n",
       "1                   7.7934               93.521667             0   \n",
       "2                   0.4401                5.280000             1   \n",
       "3                   7.2304               86.766667             0   \n",
       "4                   8.6044              103.258333             0   \n",
       "\n",
       "   desierto_am60                   Mz  UBIGEO AREA CODCCPP   ZONA MANZANA_ID  \\\n",
       "0              0   150102000102100023  150102    1    0001  02100        023   \n",
       "1              0   150102000101101010  150102    1    0001  01101        010   \n",
       "2              0   150102000100600037  150102    1    0001  00600        037   \n",
       "3              0   150102000101202048  150102    1    0001  01202        048   \n",
       "4              0  150102000101202010A  150102    1    0001  01202        010   \n",
       "\n",
       "  MANZANA_A  \n",
       "0      None  \n",
       "1      None  \n",
       "2      None  \n",
       "3      None  \n",
       "4         A  "
      ]
     },
     "execution_count": 78,
     "metadata": {},
     "output_type": "execute_result"
    }
   ],
   "source": [
    "#df_for_csv['geometry'] = df_for_csv['geometry'].apply(wkt.loads)\n",
    "\n",
    "# Now create the GeoDataFrame\n",
    "gdf = gpd.GeoDataFrame(df_for_csv, geometry='geometry')\n",
    "\n",
    "manzanas_merged_2 = pd.merge(gdf, manzanas[[\"Mz\", \"UBIGEO\", 'AREA', 'CODCCPP', 'ZONA', 'MANZANA_ID', 'MANZANA_A', 'geometry']], on=\"geometry\", how=\"left\")\n",
    "print(manzanas_merged_2.shape)\n",
    "manzanas_merged_2.head()"
   ]
  },
  {
   "cell_type": "code",
   "execution_count": 79,
   "metadata": {},
   "outputs": [
    {
     "data": {
      "image/png": "[encoded data removed]",
      "text/plain": [
       "<Figure size 640x480 with 1 Axes>"
      ]
     },
     "metadata": {},
     "output_type": "display_data"
    }
   ],
   "source": [
    "import matplotlib\n",
    "#geopan = gpd.GeoDataFrame(df, geometry='geometry')\n",
    "\n",
    "# Define a custom color map: red for 1, grey for 0\n",
    "cmap = matplotlib.colors.ListedColormap(['grey', 'red'])\n",
    "\n",
    "# Create a normalization object that maps your data values (0 and 1) to the colormap\n",
    "norm = matplotlib.colors.BoundaryNorm([0, 0.5, 1], cmap.N)\n",
    "\n",
    "fig, ax = plt.subplots(1, 1)\n",
    "\n",
    "# Plot using the custom colormap and normalization\n",
    "manzanas_merged_2.plot(column='desierto_am60', ax=ax, legend=True, categorical=True, cmap=cmap, norm=norm)\n",
    "\n",
    "# Remove longitude and latitude ticks\n",
    "ax.set_xticks([])\n",
    "ax.set_yticks([])\n",
    "\n",
    "ax.set_title('Desiertos de cuidado (personas adultas mayores)')\n",
    "\n",
    "# Save the figure with high resolution\n",
    "plt.savefig('../figs/desiertos_de_cuidado_am60.png', format='png', dpi=1500)\n",
    "\n",
    "plt.show()"
   ]
  },
  {
   "cell_type": "code",
   "execution_count": 80,
   "metadata": {},
   "outputs": [
    {
     "data": {
      "text/plain": [
       "Index(['geometry', 'pobma60_mz', 'distancia_a_centro_am60',\n",
       "       'duracion_a_centro_am60', 'alta_demanda', 'desierto_am60', 'Mz',\n",
       "       'UBIGEO', 'AREA', 'CODCCPP', 'ZONA', 'MANZANA_ID', 'MANZANA_A'],\n",
       "      dtype='object')"
      ]
     },
     "execution_count": 80,
     "metadata": {},
     "output_type": "execute_result"
    }
   ],
   "source": [
    "manzanas_merged_2.columns"
   ]
  },
  {
   "cell_type": "code",
   "execution_count": 81,
   "metadata": {},
   "outputs": [],
   "source": [
    "manzanas_merged_2 = manzanas_merged_2[['Mz', 'UBIGEO', 'AREA', 'CODCCPP',\n",
    "       'ZONA', 'MANZANA_ID', 'MANZANA_A', 'geometry', 'pobma60_mz', 'distancia_a_centro_am60',\n",
    "       'duracion_a_centro_am60', 'alta_demanda', 'desierto_am60']]"
   ]
  },
  {
   "cell_type": "code",
   "execution_count": 82,
   "metadata": {},
   "outputs": [
    {
     "data": {
      "text/plain": [
       "desierto_am60\n",
       "0    119020\n",
       "1      8485\n",
       "Name: count, dtype: int64"
      ]
     },
     "execution_count": 82,
     "metadata": {},
     "output_type": "execute_result"
    }
   ],
   "source": [
    "manzanas_merged_2.desierto_am60.value_counts()"
   ]
  },
  {
   "cell_type": "code",
   "execution_count": 83,
   "metadata": {},
   "outputs": [],
   "source": [
    "manzanas_merged_2.to_csv(\"../results - desiertos/desiertos_am60.csv\", index=False, sep=\";\", decimal=\",\")"
   ]
  }
 ],
 "metadata": {
  "kernelspec": {
   "display_name": "accesibility_undp",
   "language": "python",
   "name": "python3"
  },
  "language_info": {
   "codemirror_mode": {
    "name": "ipython",
    "version": 3
   },
   "file_extension": ".py",
   "mimetype": "text/x-python",
   "name": "python",
   "nbconvert_exporter": "python",
   "pygments_lexer": "ipython3",
   "version": "3.12.0"
  }
 },
 "nbformat": 4,
 "nbformat_minor": 2
}
