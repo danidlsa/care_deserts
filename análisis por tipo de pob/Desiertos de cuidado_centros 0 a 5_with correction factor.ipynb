{
 "cells": [
  {
   "cell_type": "code",
   "execution_count": 1,
   "metadata": {},
   "outputs": [],
   "source": [
    "import pandas as pd\n",
    "from matplotlib import pyplot as plt\n",
    "import geopandas as gpd\n",
    "import numpy as np\n",
    "import pandas as pd\n",
    "import shapely\n",
    "import plotly.express as px\n",
    "import osmnx as ox\n",
    "import seaborn as sns\n",
    "from adjustment_formula import *"
   ]
  },
  {
   "cell_type": "markdown",
   "metadata": {},
   "source": [
    "## Importación de BBDD"
   ]
  },
  {
   "cell_type": "markdown",
   "metadata": {},
   "source": [
    "### Manzanas + travel times"
   ]
  },
  {
   "cell_type": "code",
   "execution_count": 2,
   "metadata": {},
   "outputs": [],
   "source": [
    "manzanas = gpd.read_file('../data/BBDD Perú accesibilidad/manzanas_y_tiempos_0a5.geojson')"
   ]
  },
  {
   "cell_type": "code",
   "execution_count": 3,
   "metadata": {},
   "outputs": [
    {
     "name": "stdout",
     "output_type": "stream",
     "text": [
      "(124903, 39)\n"
     ]
    },
    {
     "data": {
      "text/html": [
       "<div>\n",
       "<style scoped>\n",
       "    .dataframe tbody tr th:only-of-type {\n",
       "        vertical-align: middle;\n",
       "    }\n",
       "\n",
       "    .dataframe tbody tr th {\n",
       "        vertical-align: top;\n",
       "    }\n",
       "\n",
       "    .dataframe thead th {\n",
       "        text-align: right;\n",
       "    }\n",
       "</style>\n",
       "<table border=\"1\" class=\"dataframe\">\n",
       "  <thead>\n",
       "    <tr style=\"text-align: right;\">\n",
       "      <th></th>\n",
       "      <th>Mz</th>\n",
       "      <th>UBIGEO</th>\n",
       "      <th>AREA</th>\n",
       "      <th>CODCCPP</th>\n",
       "      <th>ZONA</th>\n",
       "      <th>MANZANA_ID</th>\n",
       "      <th>MANZANA_A</th>\n",
       "      <th>T_TOTAL</th>\n",
       "      <th>T_HOMBRES</th>\n",
       "      <th>T_MUJERES</th>\n",
       "      <th>...</th>\n",
       "      <th>path</th>\n",
       "      <th>lat</th>\n",
       "      <th>lng</th>\n",
       "      <th>nearest_neighbor_oferta</th>\n",
       "      <th>distance_to_nearest_neighbor</th>\n",
       "      <th>nearest_neighbor_df2</th>\n",
       "      <th>distance_to_nearest_neighbor_km</th>\n",
       "      <th>distancia_a_centro_05</th>\n",
       "      <th>duracion_a_centro_05</th>\n",
       "      <th>geometry</th>\n",
       "    </tr>\n",
       "  </thead>\n",
       "  <tbody>\n",
       "    <tr>\n",
       "      <th>0</th>\n",
       "      <td>150102000102100023</td>\n",
       "      <td>150102</td>\n",
       "      <td>1</td>\n",
       "      <td>1</td>\n",
       "      <td>2100</td>\n",
       "      <td>23.0</td>\n",
       "      <td>None</td>\n",
       "      <td>18.0</td>\n",
       "      <td>7.0</td>\n",
       "      <td>11.0</td>\n",
       "      <td>...</td>\n",
       "      <td>C:/Users/Abril/Desktop/IEP/MAPAS/Manzanas/ANCO...</td>\n",
       "      <td>-11.813613</td>\n",
       "      <td>-77.127306</td>\n",
       "      <td>5280</td>\n",
       "      <td>0.002603</td>\n",
       "      <td>5280</td>\n",
       "      <td>0.284647</td>\n",
       "      <td>5.1257</td>\n",
       "      <td>61.580000</td>\n",
       "      <td>MULTIPOLYGON (((-77.12763 -11.81363, -77.12723...</td>\n",
       "    </tr>\n",
       "    <tr>\n",
       "      <th>1</th>\n",
       "      <td>150102000101101010</td>\n",
       "      <td>150102</td>\n",
       "      <td>1</td>\n",
       "      <td>1</td>\n",
       "      <td>1101</td>\n",
       "      <td>10.0</td>\n",
       "      <td>None</td>\n",
       "      <td>31.0</td>\n",
       "      <td>14.0</td>\n",
       "      <td>17.0</td>\n",
       "      <td>...</td>\n",
       "      <td>C:/Users/Abril/Desktop/IEP/MAPAS/Manzanas/ANCO...</td>\n",
       "      <td>-11.737749</td>\n",
       "      <td>-77.151553</td>\n",
       "      <td>6026</td>\n",
       "      <td>0.003448</td>\n",
       "      <td>6026</td>\n",
       "      <td>0.380705</td>\n",
       "      <td>0.5151</td>\n",
       "      <td>6.181667</td>\n",
       "      <td>MULTIPOLYGON (((-77.15185 -11.73780, -77.15151...</td>\n",
       "    </tr>\n",
       "    <tr>\n",
       "      <th>2</th>\n",
       "      <td>150102000100600037</td>\n",
       "      <td>150102</td>\n",
       "      <td>1</td>\n",
       "      <td>1</td>\n",
       "      <td>600</td>\n",
       "      <td>37.0</td>\n",
       "      <td>None</td>\n",
       "      <td>71.0</td>\n",
       "      <td>32.0</td>\n",
       "      <td>39.0</td>\n",
       "      <td>...</td>\n",
       "      <td>C:/Users/Abril/Desktop/IEP/MAPAS/Manzanas/ANCO...</td>\n",
       "      <td>-11.778100</td>\n",
       "      <td>-77.170172</td>\n",
       "      <td>6024</td>\n",
       "      <td>0.002419</td>\n",
       "      <td>6024</td>\n",
       "      <td>0.268696</td>\n",
       "      <td>0.3698</td>\n",
       "      <td>4.436667</td>\n",
       "      <td>MULTIPOLYGON (((-77.16978 -11.77796, -77.16981...</td>\n",
       "    </tr>\n",
       "    <tr>\n",
       "      <th>3</th>\n",
       "      <td>150102000101202048</td>\n",
       "      <td>150102</td>\n",
       "      <td>1</td>\n",
       "      <td>1</td>\n",
       "      <td>1202</td>\n",
       "      <td>48.0</td>\n",
       "      <td>None</td>\n",
       "      <td>12.0</td>\n",
       "      <td>5.0</td>\n",
       "      <td>7.0</td>\n",
       "      <td>...</td>\n",
       "      <td>C:/Users/Abril/Desktop/IEP/MAPAS/Manzanas/ANCO...</td>\n",
       "      <td>-11.741225</td>\n",
       "      <td>-77.151765</td>\n",
       "      <td>6026</td>\n",
       "      <td>0.002330</td>\n",
       "      <td>6026</td>\n",
       "      <td>0.254107</td>\n",
       "      <td>0.3591</td>\n",
       "      <td>4.308333</td>\n",
       "      <td>MULTIPOLYGON (((-77.15222 -11.74137, -77.15140...</td>\n",
       "    </tr>\n",
       "    <tr>\n",
       "      <th>4</th>\n",
       "      <td>150102000101202010A</td>\n",
       "      <td>150102</td>\n",
       "      <td>1</td>\n",
       "      <td>1</td>\n",
       "      <td>1202</td>\n",
       "      <td>10.0</td>\n",
       "      <td>A</td>\n",
       "      <td>2.0</td>\n",
       "      <td>0.0</td>\n",
       "      <td>2.0</td>\n",
       "      <td>...</td>\n",
       "      <td>C:/Users/Abril/Desktop/IEP/MAPAS/Manzanas/ANCO...</td>\n",
       "      <td>-11.733255</td>\n",
       "      <td>-77.161875</td>\n",
       "      <td>5326</td>\n",
       "      <td>0.006021</td>\n",
       "      <td>5326</td>\n",
       "      <td>0.662540</td>\n",
       "      <td>1.3167</td>\n",
       "      <td>15.806667</td>\n",
       "      <td>MULTIPOLYGON (((-77.16253 -11.73364, -77.16255...</td>\n",
       "    </tr>\n",
       "  </tbody>\n",
       "</table>\n",
       "<p>5 rows × 39 columns</p>\n",
       "</div>"
      ],
      "text/plain": [
       "                    Mz  UBIGEO  AREA  CODCCPP  ZONA  MANZANA_ID MANZANA_A  \\\n",
       "0   150102000102100023  150102     1        1  2100        23.0      None   \n",
       "1   150102000101101010  150102     1        1  1101        10.0      None   \n",
       "2   150102000100600037  150102     1        1   600        37.0      None   \n",
       "3   150102000101202048  150102     1        1  1202        48.0      None   \n",
       "4  150102000101202010A  150102     1        1  1202        10.0         A   \n",
       "\n",
       "   T_TOTAL  T_HOMBRES  T_MUJERES  ...  \\\n",
       "0     18.0        7.0       11.0  ...   \n",
       "1     31.0       14.0       17.0  ...   \n",
       "2     71.0       32.0       39.0  ...   \n",
       "3     12.0        5.0        7.0  ...   \n",
       "4      2.0        0.0        2.0  ...   \n",
       "\n",
       "                                                path        lat        lng  \\\n",
       "0  C:/Users/Abril/Desktop/IEP/MAPAS/Manzanas/ANCO... -11.813613 -77.127306   \n",
       "1  C:/Users/Abril/Desktop/IEP/MAPAS/Manzanas/ANCO... -11.737749 -77.151553   \n",
       "2  C:/Users/Abril/Desktop/IEP/MAPAS/Manzanas/ANCO... -11.778100 -77.170172   \n",
       "3  C:/Users/Abril/Desktop/IEP/MAPAS/Manzanas/ANCO... -11.741225 -77.151765   \n",
       "4  C:/Users/Abril/Desktop/IEP/MAPAS/Manzanas/ANCO... -11.733255 -77.161875   \n",
       "\n",
       "   nearest_neighbor_oferta distance_to_nearest_neighbor nearest_neighbor_df2  \\\n",
       "0                     5280                     0.002603                 5280   \n",
       "1                     6026                     0.003448                 6026   \n",
       "2                     6024                     0.002419                 6024   \n",
       "3                     6026                     0.002330                 6026   \n",
       "4                     5326                     0.006021                 5326   \n",
       "\n",
       "   distance_to_nearest_neighbor_km distancia_a_centro_05 duracion_a_centro_05  \\\n",
       "0                         0.284647                5.1257            61.580000   \n",
       "1                         0.380705                0.5151             6.181667   \n",
       "2                         0.268696                0.3698             4.436667   \n",
       "3                         0.254107                0.3591             4.308333   \n",
       "4                         0.662540                1.3167            15.806667   \n",
       "\n",
       "                                            geometry  \n",
       "0  MULTIPOLYGON (((-77.12763 -11.81363, -77.12723...  \n",
       "1  MULTIPOLYGON (((-77.15185 -11.73780, -77.15151...  \n",
       "2  MULTIPOLYGON (((-77.16978 -11.77796, -77.16981...  \n",
       "3  MULTIPOLYGON (((-77.15222 -11.74137, -77.15140...  \n",
       "4  MULTIPOLYGON (((-77.16253 -11.73364, -77.16255...  \n",
       "\n",
       "[5 rows x 39 columns]"
      ]
     },
     "execution_count": 3,
     "metadata": {},
     "output_type": "execute_result"
    }
   ],
   "source": [
    "print(manzanas.shape)\n",
    "manzanas.head()"
   ]
  },
  {
   "cell_type": "markdown",
   "metadata": {},
   "source": [
    "### Demanda"
   ]
  },
  {
   "cell_type": "code",
   "execution_count": 4,
   "metadata": {},
   "outputs": [
    {
     "name": "stdout",
     "output_type": "stream",
     "text": [
      "(92787, 11)\n"
     ]
    },
    {
     "data": {
      "text/html": [
       "<div>\n",
       "<style scoped>\n",
       "    .dataframe tbody tr th:only-of-type {\n",
       "        vertical-align: middle;\n",
       "    }\n",
       "\n",
       "    .dataframe tbody tr th {\n",
       "        vertical-align: top;\n",
       "    }\n",
       "\n",
       "    .dataframe thead th {\n",
       "        text-align: right;\n",
       "    }\n",
       "</style>\n",
       "<table border=\"1\" class=\"dataframe\">\n",
       "  <thead>\n",
       "    <tr style=\"text-align: right;\">\n",
       "      <th></th>\n",
       "      <th>id</th>\n",
       "      <th>ubigeo</th>\n",
       "      <th>nombdist</th>\n",
       "      <th>cod_mz</th>\n",
       "      <th>pob0a5_mz</th>\n",
       "      <th>pob0a5_dist</th>\n",
       "      <th>pob0a3_mz</th>\n",
       "      <th>pob0a3_dist</th>\n",
       "      <th>pob4a5_mz</th>\n",
       "      <th>pob4a5_dist</th>\n",
       "      <th>geom</th>\n",
       "    </tr>\n",
       "  </thead>\n",
       "  <tbody>\n",
       "    <tr>\n",
       "      <th>0</th>\n",
       "      <td>45548.0</td>\n",
       "      <td>150125</td>\n",
       "      <td>PUENTE PIEDRA</td>\n",
       "      <td>150125000103300030O</td>\n",
       "      <td>7</td>\n",
       "      <td>46940</td>\n",
       "      <td>4.0</td>\n",
       "      <td>30716</td>\n",
       "      <td>3.0</td>\n",
       "      <td>16225</td>\n",
       "      <td>0106000020E6100000010000000103000000010000000C...</td>\n",
       "    </tr>\n",
       "    <tr>\n",
       "      <th>1</th>\n",
       "      <td>45561.0</td>\n",
       "      <td>150125</td>\n",
       "      <td>PUENTE PIEDRA</td>\n",
       "      <td>150125000101000052</td>\n",
       "      <td>16</td>\n",
       "      <td>46940</td>\n",
       "      <td>10.0</td>\n",
       "      <td>30716</td>\n",
       "      <td>5.0</td>\n",
       "      <td>16225</td>\n",
       "      <td>0106000020E61000000100000001030000000100000007...</td>\n",
       "    </tr>\n",
       "    <tr>\n",
       "      <th>2</th>\n",
       "      <td>45566.0</td>\n",
       "      <td>150125</td>\n",
       "      <td>PUENTE PIEDRA</td>\n",
       "      <td>150125000103600034E</td>\n",
       "      <td>9</td>\n",
       "      <td>46940</td>\n",
       "      <td>8.0</td>\n",
       "      <td>30716</td>\n",
       "      <td>1.0</td>\n",
       "      <td>16225</td>\n",
       "      <td>0106000020E61000000100000001030000000100000010...</td>\n",
       "    </tr>\n",
       "    <tr>\n",
       "      <th>3</th>\n",
       "      <td>45569.0</td>\n",
       "      <td>150125</td>\n",
       "      <td>PUENTE PIEDRA</td>\n",
       "      <td>150125000100900035</td>\n",
       "      <td>8</td>\n",
       "      <td>46940</td>\n",
       "      <td>4.0</td>\n",
       "      <td>30716</td>\n",
       "      <td>4.0</td>\n",
       "      <td>16225</td>\n",
       "      <td>0106000020E61000000100000001030000000100000008...</td>\n",
       "    </tr>\n",
       "    <tr>\n",
       "      <th>4</th>\n",
       "      <td>45573.0</td>\n",
       "      <td>150125</td>\n",
       "      <td>PUENTE PIEDRA</td>\n",
       "      <td>150125000101300014C</td>\n",
       "      <td>21</td>\n",
       "      <td>46940</td>\n",
       "      <td>10.0</td>\n",
       "      <td>30716</td>\n",
       "      <td>10.0</td>\n",
       "      <td>16225</td>\n",
       "      <td>0106000020E61000000100000001030000000100000032...</td>\n",
       "    </tr>\n",
       "  </tbody>\n",
       "</table>\n",
       "</div>"
      ],
      "text/plain": [
       "        id  ubigeo       nombdist               cod_mz  pob0a5_mz  \\\n",
       "0  45548.0  150125  PUENTE PIEDRA  150125000103300030O          7   \n",
       "1  45561.0  150125  PUENTE PIEDRA   150125000101000052         16   \n",
       "2  45566.0  150125  PUENTE PIEDRA  150125000103600034E          9   \n",
       "3  45569.0  150125  PUENTE PIEDRA   150125000100900035          8   \n",
       "4  45573.0  150125  PUENTE PIEDRA  150125000101300014C         21   \n",
       "\n",
       "   pob0a5_dist  pob0a3_mz  pob0a3_dist  pob4a5_mz  pob4a5_dist  \\\n",
       "0        46940        4.0        30716        3.0        16225   \n",
       "1        46940       10.0        30716        5.0        16225   \n",
       "2        46940        8.0        30716        1.0        16225   \n",
       "3        46940        4.0        30716        4.0        16225   \n",
       "4        46940       10.0        30716       10.0        16225   \n",
       "\n",
       "                                                geom  \n",
       "0  0106000020E6100000010000000103000000010000000C...  \n",
       "1  0106000020E61000000100000001030000000100000007...  \n",
       "2  0106000020E61000000100000001030000000100000010...  \n",
       "3  0106000020E61000000100000001030000000100000008...  \n",
       "4  0106000020E61000000100000001030000000100000032...  "
      ]
     },
     "execution_count": 4,
     "metadata": {},
     "output_type": "execute_result"
    }
   ],
   "source": [
    "demanda = pd.read_csv(\"../data/BBDD Perú demanda/1_limamet_pob0a5_mz.csv\")\n",
    "print(demanda.shape)\n",
    "demanda.head()"
   ]
  },
  {
   "cell_type": "code",
   "execution_count": 5,
   "metadata": {},
   "outputs": [
    {
     "data": {
      "text/plain": [
       "Index(['id', 'ubigeo', 'nombdist', 'cod_mz', 'pob0a5_mz', 'pob0a5_dist',\n",
       "       'pob0a3_mz', 'pob0a3_dist', 'pob4a5_mz', 'pob4a5_dist', 'geom'],\n",
       "      dtype='object')"
      ]
     },
     "execution_count": 5,
     "metadata": {},
     "output_type": "execute_result"
    }
   ],
   "source": [
    "demanda.columns"
   ]
  },
  {
   "cell_type": "code",
   "execution_count": 6,
   "metadata": {},
   "outputs": [
    {
     "name": "stdout",
     "output_type": "stream",
     "text": [
      "<class 'geopandas.geodataframe.GeoDataFrame'>\n",
      "RangeIndex: 126043 entries, 0 to 126042\n",
      "Data columns (total 46 columns):\n",
      " #   Column                           Non-Null Count   Dtype   \n",
      "---  ------                           --------------   -----   \n",
      " 0   Mz                               126043 non-null  object  \n",
      " 1   UBIGEO                           126043 non-null  int64   \n",
      " 2   AREA                             126043 non-null  int64   \n",
      " 3   CODCCPP                          126043 non-null  int64   \n",
      " 4   ZONA                             126043 non-null  int64   \n",
      " 5   MANZANA_ID                       123291 non-null  float64 \n",
      " 6   MANZANA_A                        46601 non-null   object  \n",
      " 7   T_TOTAL                          126043 non-null  float64 \n",
      " 8   T_HOMBRES                        126043 non-null  float64 \n",
      " 9   T_MUJERES                        126043 non-null  float64 \n",
      " 10  LLAVE_MZS                        126043 non-null  object  \n",
      " 11  contacto                         126043 non-null  object  \n",
      " 12  descargar                        126043 non-null  object  \n",
      " 13  whatsapp                         126043 non-null  float64 \n",
      " 14  NOMBDEP                          126043 non-null  object  \n",
      " 15  NOMBPROV                         126043 non-null  object  \n",
      " 16  IDPROV                           126043 non-null  int64   \n",
      " 17  ARCHIVO                          126043 non-null  object  \n",
      " 18  Nombre                           94193 non-null   object  \n",
      " 19  Apellido                         94193 non-null   object  \n",
      " 20  CCDD                             94193 non-null   float64 \n",
      " 21  CCPP                             94193 non-null   float64 \n",
      " 22  CCDI                             94193 non-null   float64 \n",
      " 23  NOMBDIST                         94193 non-null   object  \n",
      " 24  CAPITAL                          94193 non-null   object  \n",
      " 25  CODIGO                           94193 non-null   float64 \n",
      " 26  CNT_CCPP                         94193 non-null   float64 \n",
      " 27  DESCRIPCIO                       94193 non-null   object  \n",
      " 28  layer                            126043 non-null  object  \n",
      " 29  path                             126043 non-null  object  \n",
      " 30  lat                              126043 non-null  float64 \n",
      " 31  lng                              126043 non-null  float64 \n",
      " 32  nearest_neighbor_oferta          126043 non-null  int64   \n",
      " 33  distance_to_nearest_neighbor     126043 non-null  float64 \n",
      " 34  nearest_neighbor_df2             126043 non-null  int64   \n",
      " 35  distance_to_nearest_neighbor_km  126043 non-null  float64 \n",
      " 36  distancia_a_centro_05            121446 non-null  float64 \n",
      " 37  duracion_a_centro_05             121446 non-null  float64 \n",
      " 38  geometry                         126043 non-null  geometry\n",
      " 39  cod_mz                           93444 non-null   object  \n",
      " 40  pob0a5_mz                        93444 non-null   float64 \n",
      " 41  pob0a5_dist                      93444 non-null   float64 \n",
      " 42  pob0a3_mz                        88241 non-null   float64 \n",
      " 43  pob0a3_dist                      93444 non-null   float64 \n",
      " 44  pob4a5_mz                        78688 non-null   float64 \n",
      " 45  pob4a5_dist                      93444 non-null   float64 \n",
      "dtypes: float64(22), geometry(1), int64(7), object(16)\n",
      "memory usage: 44.2+ MB\n"
     ]
    }
   ],
   "source": [
    "demanda_reduc = demanda[[ 'cod_mz', 'pob0a5_mz', 'pob0a5_dist',\n",
    "       'pob0a3_mz', 'pob0a3_dist', 'pob4a5_mz', 'pob4a5_dist']]\n",
    "manzanas_merged = pd.merge(manzanas, demanda_reduc, left_on=\"Mz\", right_on=\"cod_mz\", how=\"left\")\n",
    "\n",
    "manzanas_merged.info()"
   ]
  },
  {
   "cell_type": "markdown",
   "metadata": {},
   "source": [
    "### Oferta"
   ]
  },
  {
   "cell_type": "code",
   "execution_count": 7,
   "metadata": {},
   "outputs": [],
   "source": [
    "oferta = pd.read_csv(\"../data/BBDD Perú oferta/clean/oferta_0a5_clean.csv\")"
   ]
  },
  {
   "cell_type": "markdown",
   "metadata": {},
   "source": [
    "### Tiempos de viaje\n",
    "\n",
    "El dataset contiene 2 variables:  \n",
    "0 corresponde a la distancia  \n",
    "1 corresponde a la duración del recorrido  "
   ]
  },
  {
   "cell_type": "code",
   "execution_count": 8,
   "metadata": {},
   "outputs": [],
   "source": [
    "# tiempos = pd.read_csv(\"../data/BBDD Perú accesibilidad/distance_duration_0 a 5_ok.csv\")\n",
    "# print(tiempos.shape)\n",
    "# tiempos.head()"
   ]
  },
  {
   "cell_type": "markdown",
   "metadata": {},
   "source": [
    "#### Matcheo de bases a manzanas"
   ]
  },
  {
   "cell_type": "code",
   "execution_count": 9,
   "metadata": {},
   "outputs": [],
   "source": [
    "# manzanas_merged['distancia_a_centro_05'] =  tiempos[\"0\"] / 1000 # metros a km\n",
    "# manzanas_merged['duracion_a_centro_05'] = tiempos[\"1\"] / 60 # segundos a minutos"
   ]
  },
  {
   "cell_type": "code",
   "execution_count": 10,
   "metadata": {},
   "outputs": [
    {
     "data": {
      "text/plain": [
       "<Axes: >"
      ]
     },
     "execution_count": 10,
     "metadata": {},
     "output_type": "execute_result"
    },
    {
     "data": {
      "image/png": "[encoded data removed]",
      "text/plain": [
       "<Figure size 640x480 with 1 Axes>"
      ]
     },
     "metadata": {},
     "output_type": "display_data"
    }
   ],
   "source": [
    "manzanas_merged['duracion_a_centro_05'].hist()"
   ]
  },
  {
   "cell_type": "code",
   "execution_count": 11,
   "metadata": {},
   "outputs": [
    {
     "data": {
      "text/plain": [
       "3.5"
      ]
     },
     "execution_count": 11,
     "metadata": {},
     "output_type": "execute_result"
    }
   ],
   "source": [
    "manzanas_merged[\"duracion_a_centro_05\"].median()"
   ]
  },
  {
   "cell_type": "markdown",
   "metadata": {},
   "source": [
    "# Desiertos de cuidado"
   ]
  },
  {
   "cell_type": "code",
   "execution_count": 12,
   "metadata": {},
   "outputs": [],
   "source": [
    "df = pd.DataFrame(manzanas_merged.drop(columns=['Mz', 'UBIGEO', 'AREA', 'CODCCPP', 'ZONA', 'MANZANA_ID', 'MANZANA_A',  'LLAVE_MZS', 'contacto',\n",
    "       'descargar', 'whatsapp', 'NOMBDEP', 'NOMBPROV', 'IDPROV', 'ARCHIVO',\n",
    "       'Nombre', 'Apellido', 'CCDD', 'CCPP', 'CCDI', 'NOMBDIST', 'CAPITAL',\n",
    "       'CODIGO', 'CNT_CCPP', 'DESCRIPCIO', 'layer', 'path', 'cod_mz', 'T_HOMBRES', 'T_MUJERES', 'pob0a3_dist', 'pob4a5_dist', 'pob0a5_dist']))\n",
    "\n",
    "# Dejo geometry para dropear despues de quitar nulls\n",
    "\n",
    "df['pob0a5_mz'] = df['pob0a5_mz'].fillna(0)\n",
    "df['pob0a3_mz'] = df['pob0a3_mz'].fillna(0)\n",
    "df['pob4a5_mz'] = df['pob4a5_mz'].fillna(0)\n",
    "\n",
    "\n",
    "df = df.dropna()"
   ]
  },
  {
   "cell_type": "markdown",
   "metadata": {},
   "source": [
    "Primero observemos las distribuciones de tiempos de viaje en el mapa."
   ]
  },
  {
   "cell_type": "markdown",
   "metadata": {},
   "source": [
    "Defino como zonas 'problemáticas' aquellas donde el tiempo caminando es mayor a 20 minutos (considerando que esta caminata se da cargando hijos pequeños). Un 3% de los territorios termina caracterizado como zona a prestarle atención."
   ]
  },
  {
   "cell_type": "code",
   "execution_count": 13,
   "metadata": {},
   "outputs": [
    {
     "data": {
      "text/plain": [
       "desierto\n",
       "0    101769\n",
       "1     19677\n",
       "Name: count, dtype: int64"
      ]
     },
     "execution_count": 13,
     "metadata": {},
     "output_type": "execute_result"
    }
   ],
   "source": [
    "df['desierto'] = (df['duracion_a_centro_05'] > 20).astype(int)\n",
    "df.desierto.value_counts()"
   ]
  },
  {
   "cell_type": "markdown",
   "metadata": {},
   "source": [
    "Para clasificar la población, normalizamos la data y estudiamos criterios empíricos."
   ]
  },
  {
   "cell_type": "code",
   "execution_count": 14,
   "metadata": {},
   "outputs": [
    {
     "name": "stdout",
     "output_type": "stream",
     "text": [
      "5.0\n"
     ]
    },
    {
     "data": {
      "text/plain": [
       "count    121446.000000\n",
       "mean          8.533974\n",
       "std          13.546403\n",
       "min           0.000000\n",
       "25%           1.000000\n",
       "50%           5.000000\n",
       "75%          12.000000\n",
       "max        1827.000000\n",
       "Name: pob0a5_mz, dtype: float64"
      ]
     },
     "execution_count": 14,
     "metadata": {},
     "output_type": "execute_result"
    }
   ],
   "source": [
    "print(df.pob0a5_mz.median())\n",
    "df.pob0a5_mz.describe()\n"
   ]
  },
  {
   "cell_type": "code",
   "execution_count": 15,
   "metadata": {},
   "outputs": [],
   "source": [
    "from sklearn.preprocessing import StandardScaler\n",
    "\n",
    "columns_to_scale = ['pob0a5_mz']  \n",
    "\n",
    "scaler = StandardScaler()\n",
    "\n",
    "df_scaled = scaler.fit_transform(df[columns_to_scale])\n",
    "\n"
   ]
  },
  {
   "cell_type": "code",
   "execution_count": 16,
   "metadata": {},
   "outputs": [],
   "source": [
    "df[\"pob_0a5_mz_normal\"]= df_scaled"
   ]
  },
  {
   "cell_type": "code",
   "execution_count": 17,
   "metadata": {},
   "outputs": [
    {
     "data": {
      "text/plain": [
       "count    1.214460e+05\n",
       "mean     1.872220e-17\n",
       "std      1.000004e+00\n",
       "min     -6.299834e-01\n",
       "25%     -5.561628e-01\n",
       "50%     -2.608802e-01\n",
       "75%      2.558643e-01\n",
       "max      1.342403e+02\n",
       "Name: pob_0a5_mz_normal, dtype: float64"
      ]
     },
     "execution_count": 17,
     "metadata": {},
     "output_type": "execute_result"
    }
   ],
   "source": [
    "df.pob_0a5_mz_normal.describe()"
   ]
  },
  {
   "cell_type": "markdown",
   "metadata": {},
   "source": [
    "Estudio tres posibilidades:"
   ]
  },
  {
   "cell_type": "code",
   "execution_count": 18,
   "metadata": {},
   "outputs": [],
   "source": [
    "umbral1 = df.pob_0a5_mz_normal.mean()\n",
    "umbral2 = df.pob_0a5_mz_normal.mean() + df.pob0a5_mz.std()\n",
    "umbral3 = df.pob_0a5_mz_normal.median()"
   ]
  },
  {
   "cell_type": "code",
   "execution_count": 19,
   "metadata": {},
   "outputs": [
    {
     "name": "stdout",
     "output_type": "stream",
     "text": [
      "alta_demanda\n",
      "1    65257\n",
      "0    56189\n",
      "Name: count, dtype: int64\n"
     ]
    }
   ],
   "source": [
    "#df['alta_demanda_1'] = (df['pob_0a5_mz_normal'] >= umbral1).astype(int)\n",
    "#df['alta_demanda_2'] = (df['pob_0a5_mz_normal'] >= umbral2).astype(int)\n",
    "df['alta_demanda'] = (df['pob_0a5_mz_normal'] >= umbral3).astype(int)\n",
    "\n",
    "#print(df.alta_demanda_1.value_counts())\n",
    "#print(df.alta_demanda_2.value_counts())\n",
    "print(df.alta_demanda.value_counts())"
   ]
  },
  {
   "cell_type": "code",
   "execution_count": 20,
   "metadata": {},
   "outputs": [
    {
     "data": {
      "text/plain": [
       "desierto_0a5\n",
       "0    120810\n",
       "1       636\n",
       "Name: count, dtype: int64"
      ]
     },
     "execution_count": 20,
     "metadata": {},
     "output_type": "execute_result"
    }
   ],
   "source": [
    "df[\"desierto_0a5\"] = df[\"desierto\"] * df[\"alta_demanda\"]\n",
    "df.desierto_0a5.value_counts()"
   ]
  },
  {
   "cell_type": "code",
   "execution_count": 21,
   "metadata": {},
   "outputs": [
    {
     "data": {
      "text/plain": [
       "0.005236895410305815"
      ]
     },
     "execution_count": 21,
     "metadata": {},
     "output_type": "execute_result"
    }
   ],
   "source": [
    "df.desierto_0a5.value_counts()[1]/len(df.desierto_0a5)"
   ]
  },
  {
   "cell_type": "code",
   "execution_count": 22,
   "metadata": {},
   "outputs": [
    {
     "data": {
      "text/plain": [
       "Index(['T_TOTAL', 'lat', 'lng', 'nearest_neighbor_oferta',\n",
       "       'distance_to_nearest_neighbor', 'nearest_neighbor_df2',\n",
       "       'distance_to_nearest_neighbor_km', 'distancia_a_centro_05',\n",
       "       'duracion_a_centro_05', 'geometry', 'pob0a5_mz', 'pob0a3_mz',\n",
       "       'pob4a5_mz', 'desierto', 'pob_0a5_mz_normal', 'alta_demanda',\n",
       "       'desierto_0a5'],\n",
       "      dtype='object')"
      ]
     },
     "execution_count": 22,
     "metadata": {},
     "output_type": "execute_result"
    }
   ],
   "source": [
    "df.columns"
   ]
  },
  {
   "cell_type": "code",
   "execution_count": 23,
   "metadata": {},
   "outputs": [
    {
     "data": {
      "text/html": [
       "<div>\n",
       "<style scoped>\n",
       "    .dataframe tbody tr th:only-of-type {\n",
       "        vertical-align: middle;\n",
       "    }\n",
       "\n",
       "    .dataframe tbody tr th {\n",
       "        vertical-align: top;\n",
       "    }\n",
       "\n",
       "    .dataframe thead th {\n",
       "        text-align: right;\n",
       "    }\n",
       "</style>\n",
       "<table border=\"1\" class=\"dataframe\">\n",
       "  <thead>\n",
       "    <tr style=\"text-align: right;\">\n",
       "      <th></th>\n",
       "      <th>geometry</th>\n",
       "      <th>T_TOTAL</th>\n",
       "      <th>distancia_a_centro_05</th>\n",
       "      <th>duracion_a_centro_05</th>\n",
       "      <th>alta_demanda</th>\n",
       "      <th>desierto_0a5</th>\n",
       "    </tr>\n",
       "  </thead>\n",
       "  <tbody>\n",
       "    <tr>\n",
       "      <th>0</th>\n",
       "      <td>MULTIPOLYGON (((-77.12763 -11.81363, -77.12723...</td>\n",
       "      <td>18.0</td>\n",
       "      <td>5.1257</td>\n",
       "      <td>61.580000</td>\n",
       "      <td>0</td>\n",
       "      <td>0</td>\n",
       "    </tr>\n",
       "    <tr>\n",
       "      <th>1</th>\n",
       "      <td>MULTIPOLYGON (((-77.15185 -11.73780, -77.15151...</td>\n",
       "      <td>31.0</td>\n",
       "      <td>0.5151</td>\n",
       "      <td>6.181667</td>\n",
       "      <td>1</td>\n",
       "      <td>0</td>\n",
       "    </tr>\n",
       "    <tr>\n",
       "      <th>2</th>\n",
       "      <td>MULTIPOLYGON (((-77.16978 -11.77796, -77.16981...</td>\n",
       "      <td>71.0</td>\n",
       "      <td>0.3698</td>\n",
       "      <td>4.436667</td>\n",
       "      <td>1</td>\n",
       "      <td>0</td>\n",
       "    </tr>\n",
       "    <tr>\n",
       "      <th>3</th>\n",
       "      <td>MULTIPOLYGON (((-77.15222 -11.74137, -77.15140...</td>\n",
       "      <td>12.0</td>\n",
       "      <td>0.3591</td>\n",
       "      <td>4.308333</td>\n",
       "      <td>1</td>\n",
       "      <td>0</td>\n",
       "    </tr>\n",
       "    <tr>\n",
       "      <th>4</th>\n",
       "      <td>MULTIPOLYGON (((-77.16253 -11.73364, -77.16255...</td>\n",
       "      <td>2.0</td>\n",
       "      <td>1.3167</td>\n",
       "      <td>15.806667</td>\n",
       "      <td>0</td>\n",
       "      <td>0</td>\n",
       "    </tr>\n",
       "  </tbody>\n",
       "</table>\n",
       "</div>"
      ],
      "text/plain": [
       "                                            geometry  T_TOTAL  \\\n",
       "0  MULTIPOLYGON (((-77.12763 -11.81363, -77.12723...     18.0   \n",
       "1  MULTIPOLYGON (((-77.15185 -11.73780, -77.15151...     31.0   \n",
       "2  MULTIPOLYGON (((-77.16978 -11.77796, -77.16981...     71.0   \n",
       "3  MULTIPOLYGON (((-77.15222 -11.74137, -77.15140...     12.0   \n",
       "4  MULTIPOLYGON (((-77.16253 -11.73364, -77.16255...      2.0   \n",
       "\n",
       "   distancia_a_centro_05  duracion_a_centro_05  alta_demanda  desierto_0a5  \n",
       "0                 5.1257             61.580000             0             0  \n",
       "1                 0.5151              6.181667             1             0  \n",
       "2                 0.3698              4.436667             1             0  \n",
       "3                 0.3591              4.308333             1             0  \n",
       "4                 1.3167             15.806667             0             0  "
      ]
     },
     "execution_count": 23,
     "metadata": {},
     "output_type": "execute_result"
    }
   ],
   "source": [
    "df_for_csv = df[[\"geometry\", \"T_TOTAL\", \"distancia_a_centro_05\", \"duracion_a_centro_05\", \"alta_demanda\", \"desierto_0a5\"]]\n",
    "df_for_csv.head()"
   ]
  },
  {
   "cell_type": "code",
   "execution_count": 24,
   "metadata": {},
   "outputs": [
    {
     "name": "stdout",
     "output_type": "stream",
     "text": [
      "(124074, 13)\n"
     ]
    },
    {
     "data": {
      "text/html": [
       "<div>\n",
       "<style scoped>\n",
       "    .dataframe tbody tr th:only-of-type {\n",
       "        vertical-align: middle;\n",
       "    }\n",
       "\n",
       "    .dataframe tbody tr th {\n",
       "        vertical-align: top;\n",
       "    }\n",
       "\n",
       "    .dataframe thead th {\n",
       "        text-align: right;\n",
       "    }\n",
       "</style>\n",
       "<table border=\"1\" class=\"dataframe\">\n",
       "  <thead>\n",
       "    <tr style=\"text-align: right;\">\n",
       "      <th></th>\n",
       "      <th>geometry</th>\n",
       "      <th>T_TOTAL</th>\n",
       "      <th>distancia_a_centro_05</th>\n",
       "      <th>duracion_a_centro_05</th>\n",
       "      <th>alta_demanda</th>\n",
       "      <th>desierto_0a5</th>\n",
       "      <th>Mz</th>\n",
       "      <th>UBIGEO</th>\n",
       "      <th>AREA</th>\n",
       "      <th>CODCCPP</th>\n",
       "      <th>ZONA</th>\n",
       "      <th>MANZANA_ID</th>\n",
       "      <th>MANZANA_A</th>\n",
       "    </tr>\n",
       "  </thead>\n",
       "  <tbody>\n",
       "    <tr>\n",
       "      <th>0</th>\n",
       "      <td>MULTIPOLYGON (((-77.12763 -11.81363, -77.12723...</td>\n",
       "      <td>18.0</td>\n",
       "      <td>5.1257</td>\n",
       "      <td>61.580000</td>\n",
       "      <td>0</td>\n",
       "      <td>0</td>\n",
       "      <td>150102000102100023</td>\n",
       "      <td>150102</td>\n",
       "      <td>1</td>\n",
       "      <td>1</td>\n",
       "      <td>2100</td>\n",
       "      <td>23.0</td>\n",
       "      <td>None</td>\n",
       "    </tr>\n",
       "    <tr>\n",
       "      <th>1</th>\n",
       "      <td>MULTIPOLYGON (((-77.15185 -11.73780, -77.15151...</td>\n",
       "      <td>31.0</td>\n",
       "      <td>0.5151</td>\n",
       "      <td>6.181667</td>\n",
       "      <td>1</td>\n",
       "      <td>0</td>\n",
       "      <td>150102000101101010</td>\n",
       "      <td>150102</td>\n",
       "      <td>1</td>\n",
       "      <td>1</td>\n",
       "      <td>1101</td>\n",
       "      <td>10.0</td>\n",
       "      <td>None</td>\n",
       "    </tr>\n",
       "    <tr>\n",
       "      <th>2</th>\n",
       "      <td>MULTIPOLYGON (((-77.16978 -11.77796, -77.16981...</td>\n",
       "      <td>71.0</td>\n",
       "      <td>0.3698</td>\n",
       "      <td>4.436667</td>\n",
       "      <td>1</td>\n",
       "      <td>0</td>\n",
       "      <td>150102000100600037</td>\n",
       "      <td>150102</td>\n",
       "      <td>1</td>\n",
       "      <td>1</td>\n",
       "      <td>600</td>\n",
       "      <td>37.0</td>\n",
       "      <td>None</td>\n",
       "    </tr>\n",
       "    <tr>\n",
       "      <th>3</th>\n",
       "      <td>MULTIPOLYGON (((-77.15222 -11.74137, -77.15140...</td>\n",
       "      <td>12.0</td>\n",
       "      <td>0.3591</td>\n",
       "      <td>4.308333</td>\n",
       "      <td>1</td>\n",
       "      <td>0</td>\n",
       "      <td>150102000101202048</td>\n",
       "      <td>150102</td>\n",
       "      <td>1</td>\n",
       "      <td>1</td>\n",
       "      <td>1202</td>\n",
       "      <td>48.0</td>\n",
       "      <td>None</td>\n",
       "    </tr>\n",
       "    <tr>\n",
       "      <th>4</th>\n",
       "      <td>MULTIPOLYGON (((-77.16253 -11.73364, -77.16255...</td>\n",
       "      <td>2.0</td>\n",
       "      <td>1.3167</td>\n",
       "      <td>15.806667</td>\n",
       "      <td>0</td>\n",
       "      <td>0</td>\n",
       "      <td>150102000101202010A</td>\n",
       "      <td>150102</td>\n",
       "      <td>1</td>\n",
       "      <td>1</td>\n",
       "      <td>1202</td>\n",
       "      <td>10.0</td>\n",
       "      <td>A</td>\n",
       "    </tr>\n",
       "  </tbody>\n",
       "</table>\n",
       "</div>"
      ],
      "text/plain": [
       "                                            geometry  T_TOTAL  \\\n",
       "0  MULTIPOLYGON (((-77.12763 -11.81363, -77.12723...     18.0   \n",
       "1  MULTIPOLYGON (((-77.15185 -11.73780, -77.15151...     31.0   \n",
       "2  MULTIPOLYGON (((-77.16978 -11.77796, -77.16981...     71.0   \n",
       "3  MULTIPOLYGON (((-77.15222 -11.74137, -77.15140...     12.0   \n",
       "4  MULTIPOLYGON (((-77.16253 -11.73364, -77.16255...      2.0   \n",
       "\n",
       "   distancia_a_centro_05  duracion_a_centro_05  alta_demanda  desierto_0a5  \\\n",
       "0                 5.1257             61.580000             0             0   \n",
       "1                 0.5151              6.181667             1             0   \n",
       "2                 0.3698              4.436667             1             0   \n",
       "3                 0.3591              4.308333             1             0   \n",
       "4                 1.3167             15.806667             0             0   \n",
       "\n",
       "                    Mz  UBIGEO  AREA  CODCCPP  ZONA  MANZANA_ID MANZANA_A  \n",
       "0   150102000102100023  150102     1        1  2100        23.0      None  \n",
       "1   150102000101101010  150102     1        1  1101        10.0      None  \n",
       "2   150102000100600037  150102     1        1   600        37.0      None  \n",
       "3   150102000101202048  150102     1        1  1202        48.0      None  \n",
       "4  150102000101202010A  150102     1        1  1202        10.0         A  "
      ]
     },
     "execution_count": 24,
     "metadata": {},
     "output_type": "execute_result"
    }
   ],
   "source": [
    "#df_for_csv['geometry'] = df_for_csv['geometry'].apply(wkt.loads)\n",
    "\n",
    "# Now create the GeoDataFrame\n",
    "gdf = gpd.GeoDataFrame(df_for_csv, geometry='geometry')\n",
    "\n",
    "manzanas_merged_2 = pd.merge(gdf, manzanas[[\"Mz\", \"UBIGEO\", 'AREA', 'CODCCPP', 'ZONA', 'MANZANA_ID', 'MANZANA_A', 'geometry']], on=\"geometry\", how=\"left\")\n",
    "print(manzanas_merged_2.shape)\n",
    "manzanas_merged_2.head()"
   ]
  },
  {
   "cell_type": "code",
   "execution_count": 25,
   "metadata": {},
   "outputs": [
    {
     "name": "stdout",
     "output_type": "stream",
     "text": [
      "<class 'geopandas.geodataframe.GeoDataFrame'>\n",
      "RangeIndex: 124074 entries, 0 to 124073\n",
      "Data columns (total 13 columns):\n",
      " #   Column                 Non-Null Count   Dtype   \n",
      "---  ------                 --------------   -----   \n",
      " 0   geometry               124074 non-null  geometry\n",
      " 1   T_TOTAL                124074 non-null  float64 \n",
      " 2   distancia_a_centro_05  124074 non-null  float64 \n",
      " 3   duracion_a_centro_05   124074 non-null  float64 \n",
      " 4   alta_demanda           124074 non-null  int32   \n",
      " 5   desierto_0a5           124074 non-null  int32   \n",
      " 6   Mz                     124074 non-null  object  \n",
      " 7   UBIGEO                 124074 non-null  int64   \n",
      " 8   AREA                   124074 non-null  int64   \n",
      " 9   CODCCPP                124074 non-null  int64   \n",
      " 10  ZONA                   124074 non-null  int64   \n",
      " 11  MANZANA_ID             121673 non-null  float64 \n",
      " 12  MANZANA_A              45901 non-null   object  \n",
      "dtypes: float64(4), geometry(1), int32(2), int64(4), object(2)\n",
      "memory usage: 11.4+ MB\n"
     ]
    }
   ],
   "source": [
    "manzanas_merged_2.info()"
   ]
  },
  {
   "cell_type": "markdown",
   "metadata": {},
   "source": [
    "### Densidad poblacional"
   ]
  },
  {
   "cell_type": "code",
   "execution_count": 26,
   "metadata": {},
   "outputs": [],
   "source": [
    "gdf_projected = pop_density(gdf=manzanas_merged_2, projected_crs='EPSG:24891', tot_pob_col='T_TOTAL')"
   ]
  },
  {
   "cell_type": "code",
   "execution_count": 27,
   "metadata": {},
   "outputs": [
    {
     "data": {
      "text/plain": [
       "desierto_0a5\n",
       "0     6374.981271\n",
       "1    32720.926287\n",
       "Name: area_manzana, dtype: float64"
      ]
     },
     "execution_count": 27,
     "metadata": {},
     "output_type": "execute_result"
    }
   ],
   "source": [
    "gdf_projected.groupby('desierto_0a5')['area_manzana'].mean()\n"
   ]
  },
  {
   "cell_type": "markdown",
   "metadata": {},
   "source": [
    "El área de las manzanas clasificadas como desiertos de cuidado es sustancialmente más alta. La siguiente sección busca introducir un factor de corrección para esto (ya que esto sucede porque el tiempo de viaje se mide desde los centroides de los segmentos; cuando los segmentos son más grandes, esta es mayor por defecto)."
   ]
  },
  {
   "cell_type": "markdown",
   "metadata": {},
   "source": [
    "## Fórmula de ajuste en base a área de las manzanas y densidad poblacional"
   ]
  },
  {
   "cell_type": "markdown",
   "metadata": {},
   "source": [
    "Para mejorar la identificación de los _desiertos de cuidado_ en un conjunto de datos de manzanas urbanas, se propone un método de ajuste que toma en cuenta tanto el área de las manzanas como la densidad poblacional. El objetivo es ajustar el umbral de tiempo de viaje necesario para considerar una manzana como un desierto de cuidado, aumentando este umbral para manzanas más grandes y con menor densidad poblacional. Se busca corregir la sobreestimación de los tiempos de viaje para las manzanas de mayor tamaño, y se penaliza especialmente las manzanas más grandes con menor densidad poblacional.\n",
    "\n",
    "### Fórmula:\n",
    "\n",
    "El ajuste se basa en dos parámetros principales, $ \\beta$ y $\\gamma$, que modulan la sensibilidad del ajuste en función del área de la manzana y su densidad poblacional, respectivamente. La fórmula es la siguiente:\n",
    "\n",
    "$$ \\text{Ajuste} = \\begin{cases} \\beta \\times (\\log(1 + \\text{area mz}) - \\log(1 + A_{umbral})) + \\frac{\\gamma}{\\log(1 + \\text{densidad pob})} & \\text{si area mz} > A_{umbral} \\\\ 0 & \\text{de lo contrario} \\end{cases} $$\n",
    "\n",
    "Donde:\n",
    "- $ A_{umbral} $ es el umbral de área. Este parámetro puede ajustarse. En este caso, es definido como el percentil 75 del área de todas las manzanas, utilizado para determinar cuáles manzanas son sujetas al ajuste. Se busca asegurar que solo las manzanas de mayor tamaño tengan tiempos de viaje ajustados.\n",
    "- $ \\beta $ modula cómo el tamaño de la manzana por encima del umbral aumenta el umbral de tiempo de viaje.\n",
    "- $ \\gamma $ ajusta la influencia de la densidad poblacional en el umbral de tiempo de viaje, donde una menor densidad poblacional incrementa el umbral.\n",
    "\n",
    "Este ajuste se aplica solo a manzanas cuyo área supera $ A_{umbral} $, con el objetivo de aumentar el umbral de tiempo de viaje para ser considerado un desierto de cuidado en manzanas grandes y/o con baja densidad poblacional.\n",
    "\n",
    "**Nota**: La inclusión de la operación $ - \\log(1 + A_{umbral}) $ en la fórmula tiene como objetivo normalizar el ajuste de acuerdo al tamaño del área de la manzana en relación con el umbral establecido $ A_{umbral}$. Al restar este valor, se asegura que el ajuste comience efectivamente desde cero para las manzanas que justo superan el umbral, creando un punto de partida uniforme para el ajuste en todas las manzanas que son sujetas a este. Este enfoque mejora la equidad del ajuste, asegurando que las manzanas no sean penalizadas o ajustadas de manera significativa solo por estar ligeramente por encima del umbral.\n",
    "\n",
    "**Transformaciones logarítmicas**: Estas convierten una escala que puede ser muy amplia y posiblemente sesgada (con algunas manzanas mucho más grandes/densas que la mayoría) en una escala más uniforme y menos sesgada. Esto es particularmente útil cuando las diferencias absolutas grandes en áreas (por ejemplo, entre manzanas muy grandes y pequeñas) no son tan relevantes para el análisis como las diferencias relativas o proporcionales.\n"
   ]
  },
  {
   "cell_type": "code",
   "execution_count": 28,
   "metadata": {},
   "outputs": [],
   "source": [
    "manzanas_0a5_recalc = adjustment_factor(gdf_projected, beta=10, gamma=5, umbral_area=0.80, \n",
    "                                         nombre_col_desierto='desierto_0a5_recalc',\n",
    "                                         travel_time_col='duracion_a_centro_05')"
   ]
  },
  {
   "cell_type": "code",
   "execution_count": 29,
   "metadata": {},
   "outputs": [
    {
     "name": "stdout",
     "output_type": "stream",
     "text": [
      "Care deserts recalculated with adjustment:\n",
      "desierto_0a5_recalc\n",
      "0    123514\n",
      "1       560\n",
      "Name: count, dtype: int64\n",
      "\n",
      "Original care deserts classification:\n",
      "desierto_0a5\n",
      "0    123426\n",
      "1       648\n",
      "Name: count, dtype: int64\n"
     ]
    }
   ],
   "source": [
    "# # Parameters\n",
    "# beta = 3  # Sensitivity of the area-based adjustment\n",
    "# gamma = 20  # Adjusted sensitivity for population density; experiment with this value\n",
    "\n",
    "# manzanas_0a5_recalc = adjustment_factor(gdf_projected, beta=beta, gamma=gamma, umbral_area=0.75, \n",
    "#                                          nombre_col_desierto='desierto_0a5_recalc',\n",
    "#                                          travel_time_col='duracion_a_centro_05')\n",
    "\n",
    "\n",
    "# Compare results\n",
    "print(\"Care deserts recalculated with adjustment:\")\n",
    "print(manzanas_0a5_recalc[\"desierto_0a5_recalc\"].value_counts())\n",
    "\n",
    "print(\"\\nOriginal care deserts classification:\")\n",
    "print(manzanas_0a5_recalc[\"desierto_0a5\"].value_counts())"
   ]
  },
  {
   "cell_type": "code",
   "execution_count": 30,
   "metadata": {},
   "outputs": [
    {
     "name": "stdout",
     "output_type": "stream",
     "text": [
      "Before Adjustment:\n",
      "count    6.480000e+02\n",
      "mean     3.272093e+04\n",
      "std      1.285031e+05\n",
      "min      9.855876e+01\n",
      "25%      1.568572e+03\n",
      "50%      3.297468e+03\n",
      "75%      7.561923e+03\n",
      "max      1.317401e+06\n",
      "Name: area_manzana, dtype: float64\n",
      "\n",
      "After Adjustment:\n",
      "count       560.000000\n",
      "mean       8206.503051\n",
      "std       28009.963518\n",
      "min          98.558756\n",
      "25%        1354.147192\n",
      "50%        2865.865151\n",
      "75%        4922.450205\n",
      "max      367447.187198\n",
      "Name: area_manzana, dtype: float64\n"
     ]
    }
   ],
   "source": [
    "# Tracts considered care deserts before the adjustment\n",
    "care_deserts_before = manzanas_0a5_recalc[manzanas_0a5_recalc[\"desierto_0a5\"] == 1]['area_manzana']\n",
    "\n",
    "# Tracts considered care deserts after the adjustment\n",
    "care_deserts_after = manzanas_0a5_recalc[manzanas_0a5_recalc[\"desierto_0a5_recalc\"] == 1]['area_manzana']\n",
    "\n",
    "# Calculate descriptive statistics\n",
    "print(\"Before Adjustment:\")\n",
    "print(care_deserts_before.describe())\n",
    "\n",
    "print(\"\\nAfter Adjustment:\")\n",
    "print(care_deserts_after.describe())\n"
   ]
  },
  {
   "cell_type": "code",
   "execution_count": 31,
   "metadata": {},
   "outputs": [
    {
     "data": {
      "text/plain": [
       "Index(['geometry', 'T_TOTAL', 'distancia_a_centro_05', 'duracion_a_centro_05',\n",
       "       'alta_demanda', 'desierto_0a5', 'Mz', 'UBIGEO', 'AREA', 'CODCCPP',\n",
       "       'ZONA', 'MANZANA_ID', 'MANZANA_A', 'area_manzana', 'densidad_pob',\n",
       "       'combined_adjustment', 'adjusted_threshold', 'desierto_2',\n",
       "       'desierto_0a5_recalc'],\n",
       "      dtype='object')"
      ]
     },
     "execution_count": 31,
     "metadata": {},
     "output_type": "execute_result"
    }
   ],
   "source": [
    "manzanas_0a5_recalc.columns"
   ]
  },
  {
   "cell_type": "code",
   "execution_count": 32,
   "metadata": {},
   "outputs": [
    {
     "name": "stdout",
     "output_type": "stream",
     "text": [
      "<class 'geopandas.geodataframe.GeoDataFrame'>\n",
      "RangeIndex: 124074 entries, 0 to 124073\n",
      "Data columns (total 13 columns):\n",
      " #   Column                 Non-Null Count   Dtype   \n",
      "---  ------                 --------------   -----   \n",
      " 0   Mz                     124074 non-null  object  \n",
      " 1   UBIGEO                 124074 non-null  int64   \n",
      " 2   AREA                   124074 non-null  int64   \n",
      " 3   CODCCPP                124074 non-null  int64   \n",
      " 4   ZONA                   124074 non-null  int64   \n",
      " 5   MANZANA_ID             121673 non-null  float64 \n",
      " 6   MANZANA_A              45901 non-null   object  \n",
      " 7   geometry               124074 non-null  geometry\n",
      " 8   distancia_a_centro_05  124074 non-null  float64 \n",
      " 9   duracion_a_centro_05   124074 non-null  float64 \n",
      " 10  alta_demanda           124074 non-null  int32   \n",
      " 11  desierto_0a5_recalc    124074 non-null  int32   \n",
      " 12  umbral_t_dinamico      124074 non-null  float64 \n",
      "dtypes: float64(4), geometry(1), int32(2), int64(4), object(2)\n",
      "memory usage: 11.4+ MB\n"
     ]
    }
   ],
   "source": [
    "manzanas_0a5_recalc = manzanas_0a5_recalc[['Mz', 'UBIGEO', 'AREA', 'CODCCPP',\n",
    "       'ZONA', 'MANZANA_ID', 'MANZANA_A', 'geometry', 'distancia_a_centro_05',\n",
    "       'duracion_a_centro_05', 'alta_demanda', 'desierto_0a5_recalc', 'adjusted_threshold']]\n",
    "\n",
    "manzanas_0a5_recalc = manzanas_0a5_recalc.rename(columns={\"adjusted_threshold\": \"umbral_t_dinamico\"})\n",
    "\n",
    "manzanas_0a5_recalc.info()"
   ]
  },
  {
   "cell_type": "code",
   "execution_count": 33,
   "metadata": {},
   "outputs": [
    {
     "data": {
      "image/png": "[encoded data removed]",
      "text/plain": [
       "<Figure size 640x480 with 1 Axes>"
      ]
     },
     "metadata": {},
     "output_type": "display_data"
    }
   ],
   "source": [
    "import matplotlib\n",
    "#geopan = gpd.GeoDataFrame(df, geometry='geometry')\n",
    "\n",
    "# Define a custom color map: red for 1, grey for 0\n",
    "cmap = matplotlib.colors.ListedColormap(['grey', 'red'])\n",
    "\n",
    "# Create a normalization object that maps your data values (0 and 1) to the colormap\n",
    "norm = matplotlib.colors.BoundaryNorm([0, 0.5, 1], cmap.N)\n",
    "\n",
    "fig, ax = plt.subplots(1, 1)\n",
    "\n",
    "# Plot using the custom colormap and normalization\n",
    "manzanas_0a5_recalc.plot(column='desierto_0a5_recalc', ax=ax, legend=True, categorical=True, cmap=cmap, norm=norm)\n",
    "\n",
    "# Remove longitude and latitude ticks\n",
    "ax.set_xticks([])\n",
    "ax.set_yticks([])\n",
    "\n",
    "ax.set_title('Desiertos de cuidado (NN 0-5)')\n",
    "\n",
    "# Save the figure with high resolution\n",
    "plt.savefig('../figs/desiertos_de_cuidado_0a5.png', format='png', dpi=1500)\n",
    "\n",
    "plt.show()"
   ]
  },
  {
   "cell_type": "code",
   "execution_count": 34,
   "metadata": {},
   "outputs": [],
   "source": [
    "manzanas_0a5_recalc.to_csv(\"../results - desiertos/desiertos_ajustados/desiertos_0a5_recalc.csv\", index=False, sep=\";\", decimal=\",\")"
   ]
  },
  {
   "cell_type": "code",
   "execution_count": 35,
   "metadata": {},
   "outputs": [],
   "source": [
    "manzanas_0a5_recalc.to_file(\"../results - desiertos/desiertos_ajustados/desiertos_0a5_recalc.geojson\", driver='GeoJSON')"
   ]
  }
 ],
 "metadata": {
  "kernelspec": {
   "display_name": "accesibility_undp",
   "language": "python",
   "name": "python3"
  },
  "language_info": {
   "codemirror_mode": {
    "name": "ipython",
    "version": 3
   },
   "file_extension": ".py",
   "mimetype": "text/x-python",
   "name": "python",
   "nbconvert_exporter": "python",
   "pygments_lexer": "ipython3",
   "version": "3.12.0"
  }
 },
 "nbformat": 4,
 "nbformat_minor": 2
}
