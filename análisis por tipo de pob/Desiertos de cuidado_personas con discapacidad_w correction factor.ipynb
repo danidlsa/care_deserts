{
 "cells": [
  {
   "cell_type": "code",
   "execution_count": 1,
   "metadata": {},
   "outputs": [],
   "source": [
    "import pandas as pd\n",
    "from matplotlib import pyplot as plt\n",
    "import geopandas as gpd\n",
    "import numpy as np\n",
    "import pandas as pd\n",
    "import shapely\n",
    "import plotly.express as px\n",
    "import osmnx as ox\n",
    "from adjustment_formula import *"
   ]
  },
  {
   "cell_type": "markdown",
   "metadata": {},
   "source": [
    "## Importación de BBDD"
   ]
  },
  {
   "cell_type": "markdown",
   "metadata": {},
   "source": [
    "### Manzanas"
   ]
  },
  {
   "cell_type": "code",
   "execution_count": 2,
   "metadata": {},
   "outputs": [],
   "source": [
    "manzanas = gpd.read_file('../data/lima_manzanas.gpkg')"
   ]
  },
  {
   "cell_type": "code",
   "execution_count": 3,
   "metadata": {},
   "outputs": [],
   "source": [
    "manzanas_tiempos = gpd.read_file('../data/BBDD Perú accesibilidad/manzanas_y_tiempos_discapacidad.geojson')"
   ]
  },
  {
   "cell_type": "code",
   "execution_count": 4,
   "metadata": {},
   "outputs": [
    {
     "name": "stdout",
     "output_type": "stream",
     "text": [
      "(124903, 31)\n"
     ]
    },
    {
     "data": {
      "text/html": [
       "<div>\n",
       "<style scoped>\n",
       "    .dataframe tbody tr th:only-of-type {\n",
       "        vertical-align: middle;\n",
       "    }\n",
       "\n",
       "    .dataframe tbody tr th {\n",
       "        vertical-align: top;\n",
       "    }\n",
       "\n",
       "    .dataframe thead th {\n",
       "        text-align: right;\n",
       "    }\n",
       "</style>\n",
       "<table border=\"1\" class=\"dataframe\">\n",
       "  <thead>\n",
       "    <tr style=\"text-align: right;\">\n",
       "      <th></th>\n",
       "      <th>Mz</th>\n",
       "      <th>UBIGEO</th>\n",
       "      <th>AREA</th>\n",
       "      <th>CODCCPP</th>\n",
       "      <th>ZONA</th>\n",
       "      <th>MANZANA_ID</th>\n",
       "      <th>MANZANA_A</th>\n",
       "      <th>T_TOTAL</th>\n",
       "      <th>T_HOMBRES</th>\n",
       "      <th>T_MUJERES</th>\n",
       "      <th>...</th>\n",
       "      <th>CCPP</th>\n",
       "      <th>CCDI</th>\n",
       "      <th>NOMBDIST</th>\n",
       "      <th>CAPITAL</th>\n",
       "      <th>CODIGO</th>\n",
       "      <th>CNT_CCPP</th>\n",
       "      <th>DESCRIPCIO</th>\n",
       "      <th>layer</th>\n",
       "      <th>path</th>\n",
       "      <th>geometry</th>\n",
       "    </tr>\n",
       "  </thead>\n",
       "  <tbody>\n",
       "    <tr>\n",
       "      <th>0</th>\n",
       "      <td>150102000102100023</td>\n",
       "      <td>150102</td>\n",
       "      <td>1</td>\n",
       "      <td>0001</td>\n",
       "      <td>02100</td>\n",
       "      <td>023</td>\n",
       "      <td>None</td>\n",
       "      <td>18.0</td>\n",
       "      <td>7.0</td>\n",
       "      <td>11.0</td>\n",
       "      <td>...</td>\n",
       "      <td>01</td>\n",
       "      <td>02</td>\n",
       "      <td>ANCON</td>\n",
       "      <td>ANCON</td>\n",
       "      <td>150102</td>\n",
       "      <td>1.0</td>\n",
       "      <td>ANCON</td>\n",
       "      <td>ANCON_LIMA_150102_Manzanas_Poblacion_JuanPablo...</td>\n",
       "      <td>C:/Users/Abril/Desktop/IEP/MAPAS/Manzanas/ANCO...</td>\n",
       "      <td>MULTIPOLYGON (((-77.12763 -11.81363, -77.12723...</td>\n",
       "    </tr>\n",
       "    <tr>\n",
       "      <th>1</th>\n",
       "      <td>150102000101101010</td>\n",
       "      <td>150102</td>\n",
       "      <td>1</td>\n",
       "      <td>0001</td>\n",
       "      <td>01101</td>\n",
       "      <td>010</td>\n",
       "      <td>None</td>\n",
       "      <td>31.0</td>\n",
       "      <td>14.0</td>\n",
       "      <td>17.0</td>\n",
       "      <td>...</td>\n",
       "      <td>01</td>\n",
       "      <td>02</td>\n",
       "      <td>ANCON</td>\n",
       "      <td>ANCON</td>\n",
       "      <td>150102</td>\n",
       "      <td>1.0</td>\n",
       "      <td>ANCON</td>\n",
       "      <td>ANCON_LIMA_150102_Manzanas_Poblacion_JuanPablo...</td>\n",
       "      <td>C:/Users/Abril/Desktop/IEP/MAPAS/Manzanas/ANCO...</td>\n",
       "      <td>MULTIPOLYGON (((-77.15185 -11.73780, -77.15151...</td>\n",
       "    </tr>\n",
       "    <tr>\n",
       "      <th>2</th>\n",
       "      <td>150102000100600037</td>\n",
       "      <td>150102</td>\n",
       "      <td>1</td>\n",
       "      <td>0001</td>\n",
       "      <td>00600</td>\n",
       "      <td>037</td>\n",
       "      <td>None</td>\n",
       "      <td>71.0</td>\n",
       "      <td>32.0</td>\n",
       "      <td>39.0</td>\n",
       "      <td>...</td>\n",
       "      <td>01</td>\n",
       "      <td>02</td>\n",
       "      <td>ANCON</td>\n",
       "      <td>ANCON</td>\n",
       "      <td>150102</td>\n",
       "      <td>1.0</td>\n",
       "      <td>ANCON</td>\n",
       "      <td>ANCON_LIMA_150102_Manzanas_Poblacion_JuanPablo...</td>\n",
       "      <td>C:/Users/Abril/Desktop/IEP/MAPAS/Manzanas/ANCO...</td>\n",
       "      <td>MULTIPOLYGON (((-77.16978 -11.77796, -77.16981...</td>\n",
       "    </tr>\n",
       "    <tr>\n",
       "      <th>3</th>\n",
       "      <td>150102000101202048</td>\n",
       "      <td>150102</td>\n",
       "      <td>1</td>\n",
       "      <td>0001</td>\n",
       "      <td>01202</td>\n",
       "      <td>048</td>\n",
       "      <td>None</td>\n",
       "      <td>12.0</td>\n",
       "      <td>5.0</td>\n",
       "      <td>7.0</td>\n",
       "      <td>...</td>\n",
       "      <td>01</td>\n",
       "      <td>02</td>\n",
       "      <td>ANCON</td>\n",
       "      <td>ANCON</td>\n",
       "      <td>150102</td>\n",
       "      <td>1.0</td>\n",
       "      <td>ANCON</td>\n",
       "      <td>ANCON_LIMA_150102_Manzanas_Poblacion_JuanPablo...</td>\n",
       "      <td>C:/Users/Abril/Desktop/IEP/MAPAS/Manzanas/ANCO...</td>\n",
       "      <td>MULTIPOLYGON (((-77.15222 -11.74137, -77.15140...</td>\n",
       "    </tr>\n",
       "    <tr>\n",
       "      <th>4</th>\n",
       "      <td>150102000101202010A</td>\n",
       "      <td>150102</td>\n",
       "      <td>1</td>\n",
       "      <td>0001</td>\n",
       "      <td>01202</td>\n",
       "      <td>010</td>\n",
       "      <td>A</td>\n",
       "      <td>2.0</td>\n",
       "      <td>0.0</td>\n",
       "      <td>2.0</td>\n",
       "      <td>...</td>\n",
       "      <td>01</td>\n",
       "      <td>02</td>\n",
       "      <td>ANCON</td>\n",
       "      <td>ANCON</td>\n",
       "      <td>150102</td>\n",
       "      <td>1.0</td>\n",
       "      <td>ANCON</td>\n",
       "      <td>ANCON_LIMA_150102_Manzanas_Poblacion_JuanPablo...</td>\n",
       "      <td>C:/Users/Abril/Desktop/IEP/MAPAS/Manzanas/ANCO...</td>\n",
       "      <td>MULTIPOLYGON (((-77.16253 -11.73364, -77.16255...</td>\n",
       "    </tr>\n",
       "  </tbody>\n",
       "</table>\n",
       "<p>5 rows × 31 columns</p>\n",
       "</div>"
      ],
      "text/plain": [
       "                    Mz  UBIGEO AREA CODCCPP   ZONA MANZANA_ID MANZANA_A  \\\n",
       "0   150102000102100023  150102    1    0001  02100        023      None   \n",
       "1   150102000101101010  150102    1    0001  01101        010      None   \n",
       "2   150102000100600037  150102    1    0001  00600        037      None   \n",
       "3   150102000101202048  150102    1    0001  01202        048      None   \n",
       "4  150102000101202010A  150102    1    0001  01202        010         A   \n",
       "\n",
       "   T_TOTAL  T_HOMBRES  T_MUJERES  ... CCPP CCDI NOMBDIST  CAPITAL  CODIGO  \\\n",
       "0     18.0        7.0       11.0  ...   01   02    ANCON    ANCON  150102   \n",
       "1     31.0       14.0       17.0  ...   01   02    ANCON    ANCON  150102   \n",
       "2     71.0       32.0       39.0  ...   01   02    ANCON    ANCON  150102   \n",
       "3     12.0        5.0        7.0  ...   01   02    ANCON    ANCON  150102   \n",
       "4      2.0        0.0        2.0  ...   01   02    ANCON    ANCON  150102   \n",
       "\n",
       "  CNT_CCPP DESCRIPCIO                                              layer  \\\n",
       "0      1.0      ANCON  ANCON_LIMA_150102_Manzanas_Poblacion_JuanPablo...   \n",
       "1      1.0      ANCON  ANCON_LIMA_150102_Manzanas_Poblacion_JuanPablo...   \n",
       "2      1.0      ANCON  ANCON_LIMA_150102_Manzanas_Poblacion_JuanPablo...   \n",
       "3      1.0      ANCON  ANCON_LIMA_150102_Manzanas_Poblacion_JuanPablo...   \n",
       "4      1.0      ANCON  ANCON_LIMA_150102_Manzanas_Poblacion_JuanPablo...   \n",
       "\n",
       "                                                path  \\\n",
       "0  C:/Users/Abril/Desktop/IEP/MAPAS/Manzanas/ANCO...   \n",
       "1  C:/Users/Abril/Desktop/IEP/MAPAS/Manzanas/ANCO...   \n",
       "2  C:/Users/Abril/Desktop/IEP/MAPAS/Manzanas/ANCO...   \n",
       "3  C:/Users/Abril/Desktop/IEP/MAPAS/Manzanas/ANCO...   \n",
       "4  C:/Users/Abril/Desktop/IEP/MAPAS/Manzanas/ANCO...   \n",
       "\n",
       "                                            geometry  \n",
       "0  MULTIPOLYGON (((-77.12763 -11.81363, -77.12723...  \n",
       "1  MULTIPOLYGON (((-77.15185 -11.73780, -77.15151...  \n",
       "2  MULTIPOLYGON (((-77.16978 -11.77796, -77.16981...  \n",
       "3  MULTIPOLYGON (((-77.15222 -11.74137, -77.15140...  \n",
       "4  MULTIPOLYGON (((-77.16253 -11.73364, -77.16255...  \n",
       "\n",
       "[5 rows x 31 columns]"
      ]
     },
     "execution_count": 4,
     "metadata": {},
     "output_type": "execute_result"
    }
   ],
   "source": [
    "print(manzanas.shape)\n",
    "manzanas.head()"
   ]
  },
  {
   "cell_type": "code",
   "execution_count": 5,
   "metadata": {},
   "outputs": [
    {
     "name": "stdout",
     "output_type": "stream",
     "text": [
      "<class 'geopandas.geodataframe.GeoDataFrame'>\n",
      "RangeIndex: 165397 entries, 0 to 165396\n",
      "Data columns (total 7 columns):\n",
      " #   Column                 Non-Null Count   Dtype   \n",
      "---  ------                 --------------   -----   \n",
      " 0   Mz                     165397 non-null  object  \n",
      " 1   InputID                165397 non-null  object  \n",
      " 2   TargetID               165397 non-null  int64   \n",
      " 3   Distance               165397 non-null  float64 \n",
      " 4   distancia_a_centro_05  160474 non-null  float64 \n",
      " 5   duracion_a_centro_05   160474 non-null  float64 \n",
      " 6   geometry               165397 non-null  geometry\n",
      "dtypes: float64(3), geometry(1), int64(1), object(2)\n",
      "memory usage: 8.8+ MB\n"
     ]
    }
   ],
   "source": [
    "manzanas_tiempos.info()"
   ]
  },
  {
   "cell_type": "code",
   "execution_count": 6,
   "metadata": {},
   "outputs": [],
   "source": [
    "manzanas_tiempos = manzanas_tiempos.drop(columns=\"geometry\")\n",
    "manzanas_tiempos = manzanas_tiempos.rename(columns={\"distancia_a_centro_05\": \"distancia_a_centro_disc\", \"duracion_a_centro_05\": \"duracion_a_centro_disc\"})"
   ]
  },
  {
   "cell_type": "code",
   "execution_count": 7,
   "metadata": {},
   "outputs": [
    {
     "data": {
      "text/html": [
       "<div>\n",
       "<style scoped>\n",
       "    .dataframe tbody tr th:only-of-type {\n",
       "        vertical-align: middle;\n",
       "    }\n",
       "\n",
       "    .dataframe tbody tr th {\n",
       "        vertical-align: top;\n",
       "    }\n",
       "\n",
       "    .dataframe thead th {\n",
       "        text-align: right;\n",
       "    }\n",
       "</style>\n",
       "<table border=\"1\" class=\"dataframe\">\n",
       "  <thead>\n",
       "    <tr style=\"text-align: right;\">\n",
       "      <th></th>\n",
       "      <th>Mz</th>\n",
       "      <th>UBIGEO</th>\n",
       "      <th>AREA</th>\n",
       "      <th>CODCCPP</th>\n",
       "      <th>ZONA</th>\n",
       "      <th>MANZANA_ID</th>\n",
       "      <th>MANZANA_A</th>\n",
       "      <th>T_TOTAL</th>\n",
       "      <th>T_HOMBRES</th>\n",
       "      <th>T_MUJERES</th>\n",
       "      <th>...</th>\n",
       "      <th>CNT_CCPP</th>\n",
       "      <th>DESCRIPCIO</th>\n",
       "      <th>layer</th>\n",
       "      <th>path</th>\n",
       "      <th>geometry</th>\n",
       "      <th>InputID</th>\n",
       "      <th>TargetID</th>\n",
       "      <th>Distance</th>\n",
       "      <th>distancia_a_centro_disc</th>\n",
       "      <th>duracion_a_centro_disc</th>\n",
       "    </tr>\n",
       "  </thead>\n",
       "  <tbody>\n",
       "    <tr>\n",
       "      <th>0</th>\n",
       "      <td>150102000102100023</td>\n",
       "      <td>150102</td>\n",
       "      <td>1</td>\n",
       "      <td>0001</td>\n",
       "      <td>02100</td>\n",
       "      <td>023</td>\n",
       "      <td>None</td>\n",
       "      <td>18.0</td>\n",
       "      <td>7.0</td>\n",
       "      <td>11.0</td>\n",
       "      <td>...</td>\n",
       "      <td>1.0</td>\n",
       "      <td>ANCON</td>\n",
       "      <td>ANCON_LIMA_150102_Manzanas_Poblacion_JuanPablo...</td>\n",
       "      <td>C:/Users/Abril/Desktop/IEP/MAPAS/Manzanas/ANCO...</td>\n",
       "      <td>MULTIPOLYGON (((-77.12763 -11.81363, -77.12723...</td>\n",
       "      <td>150102000102100023</td>\n",
       "      <td>354</td>\n",
       "      <td>691.528912</td>\n",
       "      <td>5.4523</td>\n",
       "      <td>65.495000</td>\n",
       "    </tr>\n",
       "    <tr>\n",
       "      <th>1</th>\n",
       "      <td>150102000101101010</td>\n",
       "      <td>150102</td>\n",
       "      <td>1</td>\n",
       "      <td>0001</td>\n",
       "      <td>01101</td>\n",
       "      <td>010</td>\n",
       "      <td>None</td>\n",
       "      <td>31.0</td>\n",
       "      <td>14.0</td>\n",
       "      <td>17.0</td>\n",
       "      <td>...</td>\n",
       "      <td>1.0</td>\n",
       "      <td>ANCON</td>\n",
       "      <td>ANCON_LIMA_150102_Manzanas_Poblacion_JuanPablo...</td>\n",
       "      <td>C:/Users/Abril/Desktop/IEP/MAPAS/Manzanas/ANCO...</td>\n",
       "      <td>MULTIPOLYGON (((-77.15185 -11.73780, -77.15151...</td>\n",
       "      <td>150102000101101010</td>\n",
       "      <td>125</td>\n",
       "      <td>2894.873621</td>\n",
       "      <td>6.2620</td>\n",
       "      <td>75.146667</td>\n",
       "    </tr>\n",
       "    <tr>\n",
       "      <th>2</th>\n",
       "      <td>150102000100600037</td>\n",
       "      <td>150102</td>\n",
       "      <td>1</td>\n",
       "      <td>0001</td>\n",
       "      <td>00600</td>\n",
       "      <td>037</td>\n",
       "      <td>None</td>\n",
       "      <td>71.0</td>\n",
       "      <td>32.0</td>\n",
       "      <td>39.0</td>\n",
       "      <td>...</td>\n",
       "      <td>1.0</td>\n",
       "      <td>ANCON</td>\n",
       "      <td>ANCON_LIMA_150102_Manzanas_Poblacion_JuanPablo...</td>\n",
       "      <td>C:/Users/Abril/Desktop/IEP/MAPAS/Manzanas/ANCO...</td>\n",
       "      <td>MULTIPOLYGON (((-77.16978 -11.77796, -77.16981...</td>\n",
       "      <td>150102000100600037</td>\n",
       "      <td>76</td>\n",
       "      <td>728.899809</td>\n",
       "      <td>0.9826</td>\n",
       "      <td>11.791667</td>\n",
       "    </tr>\n",
       "    <tr>\n",
       "      <th>3</th>\n",
       "      <td>150102000101202048</td>\n",
       "      <td>150102</td>\n",
       "      <td>1</td>\n",
       "      <td>0001</td>\n",
       "      <td>01202</td>\n",
       "      <td>048</td>\n",
       "      <td>None</td>\n",
       "      <td>12.0</td>\n",
       "      <td>5.0</td>\n",
       "      <td>7.0</td>\n",
       "      <td>...</td>\n",
       "      <td>1.0</td>\n",
       "      <td>ANCON</td>\n",
       "      <td>ANCON_LIMA_150102_Manzanas_Poblacion_JuanPablo...</td>\n",
       "      <td>C:/Users/Abril/Desktop/IEP/MAPAS/Manzanas/ANCO...</td>\n",
       "      <td>MULTIPOLYGON (((-77.15222 -11.74137, -77.15140...</td>\n",
       "      <td>150102000101202048</td>\n",
       "      <td>125</td>\n",
       "      <td>2607.341636</td>\n",
       "      <td>5.6990</td>\n",
       "      <td>68.391667</td>\n",
       "    </tr>\n",
       "    <tr>\n",
       "      <th>4</th>\n",
       "      <td>150102000101202010A</td>\n",
       "      <td>150102</td>\n",
       "      <td>1</td>\n",
       "      <td>0001</td>\n",
       "      <td>01202</td>\n",
       "      <td>010</td>\n",
       "      <td>A</td>\n",
       "      <td>2.0</td>\n",
       "      <td>0.0</td>\n",
       "      <td>2.0</td>\n",
       "      <td>...</td>\n",
       "      <td>1.0</td>\n",
       "      <td>ANCON</td>\n",
       "      <td>ANCON_LIMA_150102_Manzanas_Poblacion_JuanPablo...</td>\n",
       "      <td>C:/Users/Abril/Desktop/IEP/MAPAS/Manzanas/ANCO...</td>\n",
       "      <td>MULTIPOLYGON (((-77.16253 -11.73364, -77.16255...</td>\n",
       "      <td>150102000101202010A</td>\n",
       "      <td>125</td>\n",
       "      <td>2758.490420</td>\n",
       "      <td>7.0731</td>\n",
       "      <td>84.883333</td>\n",
       "    </tr>\n",
       "  </tbody>\n",
       "</table>\n",
       "<p>5 rows × 36 columns</p>\n",
       "</div>"
      ],
      "text/plain": [
       "                    Mz  UBIGEO AREA CODCCPP   ZONA MANZANA_ID MANZANA_A  \\\n",
       "0   150102000102100023  150102    1    0001  02100        023      None   \n",
       "1   150102000101101010  150102    1    0001  01101        010      None   \n",
       "2   150102000100600037  150102    1    0001  00600        037      None   \n",
       "3   150102000101202048  150102    1    0001  01202        048      None   \n",
       "4  150102000101202010A  150102    1    0001  01202        010         A   \n",
       "\n",
       "   T_TOTAL  T_HOMBRES  T_MUJERES  ... CNT_CCPP DESCRIPCIO  \\\n",
       "0     18.0        7.0       11.0  ...      1.0      ANCON   \n",
       "1     31.0       14.0       17.0  ...      1.0      ANCON   \n",
       "2     71.0       32.0       39.0  ...      1.0      ANCON   \n",
       "3     12.0        5.0        7.0  ...      1.0      ANCON   \n",
       "4      2.0        0.0        2.0  ...      1.0      ANCON   \n",
       "\n",
       "                                               layer  \\\n",
       "0  ANCON_LIMA_150102_Manzanas_Poblacion_JuanPablo...   \n",
       "1  ANCON_LIMA_150102_Manzanas_Poblacion_JuanPablo...   \n",
       "2  ANCON_LIMA_150102_Manzanas_Poblacion_JuanPablo...   \n",
       "3  ANCON_LIMA_150102_Manzanas_Poblacion_JuanPablo...   \n",
       "4  ANCON_LIMA_150102_Manzanas_Poblacion_JuanPablo...   \n",
       "\n",
       "                                                path  \\\n",
       "0  C:/Users/Abril/Desktop/IEP/MAPAS/Manzanas/ANCO...   \n",
       "1  C:/Users/Abril/Desktop/IEP/MAPAS/Manzanas/ANCO...   \n",
       "2  C:/Users/Abril/Desktop/IEP/MAPAS/Manzanas/ANCO...   \n",
       "3  C:/Users/Abril/Desktop/IEP/MAPAS/Manzanas/ANCO...   \n",
       "4  C:/Users/Abril/Desktop/IEP/MAPAS/Manzanas/ANCO...   \n",
       "\n",
       "                                            geometry              InputID  \\\n",
       "0  MULTIPOLYGON (((-77.12763 -11.81363, -77.12723...   150102000102100023   \n",
       "1  MULTIPOLYGON (((-77.15185 -11.73780, -77.15151...   150102000101101010   \n",
       "2  MULTIPOLYGON (((-77.16978 -11.77796, -77.16981...   150102000100600037   \n",
       "3  MULTIPOLYGON (((-77.15222 -11.74137, -77.15140...   150102000101202048   \n",
       "4  MULTIPOLYGON (((-77.16253 -11.73364, -77.16255...  150102000101202010A   \n",
       "\n",
       "  TargetID     Distance distancia_a_centro_disc duracion_a_centro_disc  \n",
       "0      354   691.528912                  5.4523              65.495000  \n",
       "1      125  2894.873621                  6.2620              75.146667  \n",
       "2       76   728.899809                  0.9826              11.791667  \n",
       "3      125  2607.341636                  5.6990              68.391667  \n",
       "4      125  2758.490420                  7.0731              84.883333  \n",
       "\n",
       "[5 rows x 36 columns]"
      ]
     },
     "execution_count": 7,
     "metadata": {},
     "output_type": "execute_result"
    }
   ],
   "source": [
    "manzanas_merge = pd.merge(manzanas, manzanas_tiempos, on=\"Mz\", how=\"left\")\n",
    "manzanas_merge.head()"
   ]
  },
  {
   "cell_type": "markdown",
   "metadata": {},
   "source": [
    "### Demanda"
   ]
  },
  {
   "cell_type": "code",
   "execution_count": 8,
   "metadata": {},
   "outputs": [
    {
     "name": "stdout",
     "output_type": "stream",
     "text": [
      "(48897, 7)\n"
     ]
    },
    {
     "data": {
      "text/html": [
       "<div>\n",
       "<style scoped>\n",
       "    .dataframe tbody tr th:only-of-type {\n",
       "        vertical-align: middle;\n",
       "    }\n",
       "\n",
       "    .dataframe tbody tr th {\n",
       "        vertical-align: top;\n",
       "    }\n",
       "\n",
       "    .dataframe thead th {\n",
       "        text-align: right;\n",
       "    }\n",
       "</style>\n",
       "<table border=\"1\" class=\"dataframe\">\n",
       "  <thead>\n",
       "    <tr style=\"text-align: right;\">\n",
       "      <th></th>\n",
       "      <th>id</th>\n",
       "      <th>ubigeo</th>\n",
       "      <th>nombdist</th>\n",
       "      <th>cod_mz</th>\n",
       "      <th>pobdisc_mz</th>\n",
       "      <th>pobdisc_dist</th>\n",
       "      <th>geom</th>\n",
       "    </tr>\n",
       "  </thead>\n",
       "  <tbody>\n",
       "    <tr>\n",
       "      <th>0</th>\n",
       "      <td>7.0</td>\n",
       "      <td>150102</td>\n",
       "      <td>ANCON</td>\n",
       "      <td>150102000101202015B</td>\n",
       "      <td>2</td>\n",
       "      <td>1452</td>\n",
       "      <td>0106000020E61000000100000001030000000100000007...</td>\n",
       "    </tr>\n",
       "    <tr>\n",
       "      <th>1</th>\n",
       "      <td>9.0</td>\n",
       "      <td>150102</td>\n",
       "      <td>ANCON</td>\n",
       "      <td>150102000101101009B</td>\n",
       "      <td>2</td>\n",
       "      <td>1452</td>\n",
       "      <td>0106000020E6100000010000000103000000010000000D...</td>\n",
       "    </tr>\n",
       "    <tr>\n",
       "      <th>2</th>\n",
       "      <td>11.0</td>\n",
       "      <td>150102</td>\n",
       "      <td>ANCON</td>\n",
       "      <td>150102000101600020B</td>\n",
       "      <td>2</td>\n",
       "      <td>1452</td>\n",
       "      <td>0106000020E6100000010000000103000000010000000E...</td>\n",
       "    </tr>\n",
       "    <tr>\n",
       "      <th>3</th>\n",
       "      <td>12.0</td>\n",
       "      <td>150102</td>\n",
       "      <td>ANCON</td>\n",
       "      <td>150102000100500030</td>\n",
       "      <td>2</td>\n",
       "      <td>1452</td>\n",
       "      <td>0106000020E61000000100000001030000000100000005...</td>\n",
       "    </tr>\n",
       "    <tr>\n",
       "      <th>4</th>\n",
       "      <td>14.0</td>\n",
       "      <td>150102</td>\n",
       "      <td>ANCON</td>\n",
       "      <td>150102000100400044</td>\n",
       "      <td>4</td>\n",
       "      <td>1452</td>\n",
       "      <td>0106000020E61000000100000001030000000100000006...</td>\n",
       "    </tr>\n",
       "  </tbody>\n",
       "</table>\n",
       "</div>"
      ],
      "text/plain": [
       "     id  ubigeo nombdist               cod_mz  pobdisc_mz  pobdisc_dist  \\\n",
       "0   7.0  150102    ANCON  150102000101202015B           2          1452   \n",
       "1   9.0  150102    ANCON  150102000101101009B           2          1452   \n",
       "2  11.0  150102    ANCON  150102000101600020B           2          1452   \n",
       "3  12.0  150102    ANCON   150102000100500030           2          1452   \n",
       "4  14.0  150102    ANCON   150102000100400044           4          1452   \n",
       "\n",
       "                                                geom  \n",
       "0  0106000020E61000000100000001030000000100000007...  \n",
       "1  0106000020E6100000010000000103000000010000000D...  \n",
       "2  0106000020E6100000010000000103000000010000000E...  \n",
       "3  0106000020E61000000100000001030000000100000005...  \n",
       "4  0106000020E61000000100000001030000000100000006...  "
      ]
     },
     "execution_count": 8,
     "metadata": {},
     "output_type": "execute_result"
    }
   ],
   "source": [
    "demanda = pd.read_csv(\"../data/BBDD Perú demanda/1_vm_limamet_pobdisc_mz.csv\")\n",
    "print(demanda.shape)\n",
    "demanda.head()"
   ]
  },
  {
   "cell_type": "code",
   "execution_count": 9,
   "metadata": {},
   "outputs": [
    {
     "data": {
      "text/plain": [
       "Index(['id', 'ubigeo', 'nombdist', 'cod_mz', 'pobdisc_mz', 'pobdisc_dist',\n",
       "       'geom'],\n",
       "      dtype='object')"
      ]
     },
     "execution_count": 9,
     "metadata": {},
     "output_type": "execute_result"
    }
   ],
   "source": [
    "demanda.columns"
   ]
  },
  {
   "cell_type": "code",
   "execution_count": 10,
   "metadata": {},
   "outputs": [
    {
     "name": "stdout",
     "output_type": "stream",
     "text": [
      "<class 'geopandas.geodataframe.GeoDataFrame'>\n",
      "RangeIndex: 172693 entries, 0 to 172692\n",
      "Data columns (total 39 columns):\n",
      " #   Column                   Non-Null Count   Dtype   \n",
      "---  ------                   --------------   -----   \n",
      " 0   Mz                       172693 non-null  object  \n",
      " 1   UBIGEO                   172693 non-null  object  \n",
      " 2   AREA                     172693 non-null  object  \n",
      " 3   CODCCPP                  172693 non-null  object  \n",
      " 4   ZONA                     172693 non-null  object  \n",
      " 5   MANZANA_ID               169040 non-null  object  \n",
      " 6   MANZANA_A                64069 non-null   object  \n",
      " 7   T_TOTAL                  172693 non-null  float64 \n",
      " 8   T_HOMBRES                172693 non-null  float64 \n",
      " 9   T_MUJERES                172693 non-null  float64 \n",
      " 10  LLAVE_MZS                172693 non-null  object  \n",
      " 11  contacto                 172693 non-null  object  \n",
      " 12  descargar                172693 non-null  object  \n",
      " 13  whatsapp                 172693 non-null  float64 \n",
      " 14  NOMBDEP                  172693 non-null  object  \n",
      " 15  NOMBPROV                 172693 non-null  object  \n",
      " 16  IDPROV                   172693 non-null  object  \n",
      " 17  ARCHIVO                  172693 non-null  object  \n",
      " 18  Nombre                   128114 non-null  object  \n",
      " 19  Apellido                 128114 non-null  object  \n",
      " 20  CCDD                     128114 non-null  object  \n",
      " 21  CCPP                     128114 non-null  object  \n",
      " 22  CCDI                     128114 non-null  object  \n",
      " 23  NOMBDIST                 128114 non-null  object  \n",
      " 24  CAPITAL                  128114 non-null  object  \n",
      " 25  CODIGO                   128114 non-null  object  \n",
      " 26  CNT_CCPP                 128114 non-null  float64 \n",
      " 27  DESCRIPCIO               128114 non-null  object  \n",
      " 28  layer                    172693 non-null  object  \n",
      " 29  path                     172693 non-null  object  \n",
      " 30  geometry                 172693 non-null  geometry\n",
      " 31  InputID                  172693 non-null  object  \n",
      " 32  TargetID                 172693 non-null  int64   \n",
      " 33  Distance                 172693 non-null  float64 \n",
      " 34  distancia_a_centro_disc  167470 non-null  float64 \n",
      " 35  duracion_a_centro_disc   167470 non-null  float64 \n",
      " 36  cod_mz                   67763 non-null   object  \n",
      " 37  pobdisc_mz               67763 non-null   float64 \n",
      " 38  pobdisc_dist             67763 non-null   float64 \n",
      "dtypes: float64(10), geometry(1), int64(1), object(27)\n",
      "memory usage: 51.4+ MB\n"
     ]
    }
   ],
   "source": [
    "demanda_reduc = demanda[[ 'cod_mz', 'pobdisc_mz', 'pobdisc_dist']]\n",
    "manzanas_merged = pd.merge(manzanas_merge, demanda_reduc, left_on=\"Mz\", right_on=\"cod_mz\", how=\"left\")\n",
    "\n",
    "manzanas_merged.info()"
   ]
  },
  {
   "cell_type": "markdown",
   "metadata": {},
   "source": [
    "### Oferta"
   ]
  },
  {
   "cell_type": "code",
   "execution_count": 11,
   "metadata": {},
   "outputs": [
    {
     "data": {
      "text/html": [
       "<div>\n",
       "<style scoped>\n",
       "    .dataframe tbody tr th:only-of-type {\n",
       "        vertical-align: middle;\n",
       "    }\n",
       "\n",
       "    .dataframe tbody tr th {\n",
       "        vertical-align: top;\n",
       "    }\n",
       "\n",
       "    .dataframe thead th {\n",
       "        text-align: right;\n",
       "    }\n",
       "</style>\n",
       "<table border=\"1\" class=\"dataframe\">\n",
       "  <thead>\n",
       "    <tr style=\"text-align: right;\">\n",
       "      <th></th>\n",
       "      <th>nombre</th>\n",
       "      <th>lat</th>\n",
       "      <th>lng</th>\n",
       "      <th>id</th>\n",
       "    </tr>\n",
       "  </thead>\n",
       "  <tbody>\n",
       "    <tr>\n",
       "      <th>0</th>\n",
       "      <td>01 CORAZON DE MARIA</td>\n",
       "      <td>-12.084500</td>\n",
       "      <td>-77.070750</td>\n",
       "      <td>1</td>\n",
       "    </tr>\n",
       "    <tr>\n",
       "      <th>1</th>\n",
       "      <td>01 CORAZON DE MARIA</td>\n",
       "      <td>-12.084500</td>\n",
       "      <td>-77.070750</td>\n",
       "      <td>2</td>\n",
       "    </tr>\n",
       "    <tr>\n",
       "      <th>2</th>\n",
       "      <td>0118 BERNARDINO JINEZ HUARINGA</td>\n",
       "      <td>-12.092533</td>\n",
       "      <td>-77.079155</td>\n",
       "      <td>3</td>\n",
       "    </tr>\n",
       "    <tr>\n",
       "      <th>3</th>\n",
       "      <td>014 LA SAGRADA FAMILIA</td>\n",
       "      <td>-12.090660</td>\n",
       "      <td>-77.069610</td>\n",
       "      <td>4</td>\n",
       "    </tr>\n",
       "    <tr>\n",
       "      <th>4</th>\n",
       "      <td>014 LA SAGRADA FAMILIA</td>\n",
       "      <td>-12.090660</td>\n",
       "      <td>-77.069610</td>\n",
       "      <td>5</td>\n",
       "    </tr>\n",
       "    <tr>\n",
       "      <th>...</th>\n",
       "      <td>...</td>\n",
       "      <td>...</td>\n",
       "      <td>...</td>\n",
       "      <td>...</td>\n",
       "    </tr>\n",
       "    <tr>\n",
       "      <th>572</th>\n",
       "      <td>CSMC SANTA ROSA DE MANCHAY</td>\n",
       "      <td>-12.094895</td>\n",
       "      <td>-76.885189</td>\n",
       "      <td>573</td>\n",
       "    </tr>\n",
       "    <tr>\n",
       "      <th>573</th>\n",
       "      <td>CSMC MEDALLA MILAGROSA</td>\n",
       "      <td>-12.127918</td>\n",
       "      <td>-76.871090</td>\n",
       "      <td>574</td>\n",
       "    </tr>\n",
       "    <tr>\n",
       "      <th>574</th>\n",
       "      <td>CSMC CRL SAN WILELMO PEDRO ZORILLA HUAMÁN</td>\n",
       "      <td>-12.158380</td>\n",
       "      <td>-77.020024</td>\n",
       "      <td>575</td>\n",
       "    </tr>\n",
       "    <tr>\n",
       "      <th>575</th>\n",
       "      <td>CSMC VIRGEN DE LA MERCED</td>\n",
       "      <td>-12.242272</td>\n",
       "      <td>-76.929399</td>\n",
       "      <td>576</td>\n",
       "    </tr>\n",
       "    <tr>\n",
       "      <th>576</th>\n",
       "      <td>CSMC BALNEARIOS DEL SUR</td>\n",
       "      <td>-12.333400</td>\n",
       "      <td>-76.823176</td>\n",
       "      <td>577</td>\n",
       "    </tr>\n",
       "  </tbody>\n",
       "</table>\n",
       "<p>577 rows × 4 columns</p>\n",
       "</div>"
      ],
      "text/plain": [
       "                                        nombre        lat        lng   id\n",
       "0                          01 CORAZON DE MARIA -12.084500 -77.070750    1\n",
       "1                          01 CORAZON DE MARIA -12.084500 -77.070750    2\n",
       "2               0118 BERNARDINO JINEZ HUARINGA -12.092533 -77.079155    3\n",
       "3                       014 LA SAGRADA FAMILIA -12.090660 -77.069610    4\n",
       "4                       014 LA SAGRADA FAMILIA -12.090660 -77.069610    5\n",
       "..                                         ...        ...        ...  ...\n",
       "572                 CSMC SANTA ROSA DE MANCHAY -12.094895 -76.885189  573\n",
       "573                     CSMC MEDALLA MILAGROSA -12.127918 -76.871090  574\n",
       "574  CSMC CRL SAN WILELMO PEDRO ZORILLA HUAMÁN -12.158380 -77.020024  575\n",
       "575                   CSMC VIRGEN DE LA MERCED -12.242272 -76.929399  576\n",
       "576                    CSMC BALNEARIOS DEL SUR -12.333400 -76.823176  577\n",
       "\n",
       "[577 rows x 4 columns]"
      ]
     },
     "execution_count": 11,
     "metadata": {},
     "output_type": "execute_result"
    }
   ],
   "source": [
    "oferta = pd.read_csv(\"../data/BBDD Perú oferta/clean/oferta_discapacidad_clean.csv\")\n",
    "oferta"
   ]
  },
  {
   "cell_type": "code",
   "execution_count": 12,
   "metadata": {},
   "outputs": [
    {
     "name": "stdout",
     "output_type": "stream",
     "text": [
      "<class 'pandas.core.frame.DataFrame'>\n",
      "RangeIndex: 577 entries, 0 to 576\n",
      "Data columns (total 4 columns):\n",
      " #   Column  Non-Null Count  Dtype  \n",
      "---  ------  --------------  -----  \n",
      " 0   nombre  577 non-null    object \n",
      " 1   lat     577 non-null    float64\n",
      " 2   lng     577 non-null    float64\n",
      " 3   id      577 non-null    int64  \n",
      "dtypes: float64(2), int64(1), object(1)\n",
      "memory usage: 18.2+ KB\n"
     ]
    }
   ],
   "source": [
    "oferta.info()"
   ]
  },
  {
   "cell_type": "markdown",
   "metadata": {},
   "source": [
    "### Tiempos de viaje\n",
    "\n",
    "El dataset contiene 2 variables:  \n",
    "0 corresponde a la distancia  \n",
    "1 corresponde a la duración del recorrido  "
   ]
  },
  {
   "cell_type": "code",
   "execution_count": 13,
   "metadata": {},
   "outputs": [],
   "source": [
    "# tiempos = pd.read_csv(\"../data/BBDD Perú accesibilidad/distance_duration_discapacidad.csv\")\n",
    "# print(tiempos.shape)\n",
    "# tiempos.head()"
   ]
  },
  {
   "cell_type": "markdown",
   "metadata": {},
   "source": [
    "#### Matcheo de bases a manzanas"
   ]
  },
  {
   "cell_type": "code",
   "execution_count": 14,
   "metadata": {},
   "outputs": [],
   "source": [
    "# manzanas_merged['distancia_a_centro_disc'] =  tiempos[\"0\"] / 1000 # metros a km\n",
    "# manzanas_merged['duracion_a_centro_disc'] = tiempos[\"1\"] / 60 # segundos a minutos"
   ]
  },
  {
   "cell_type": "markdown",
   "metadata": {},
   "source": [
    "# Desiertos de cuidado"
   ]
  },
  {
   "cell_type": "code",
   "execution_count": 15,
   "metadata": {},
   "outputs": [
    {
     "data": {
      "text/plain": [
       "Index(['Mz', 'UBIGEO', 'AREA', 'CODCCPP', 'ZONA', 'MANZANA_ID', 'MANZANA_A',\n",
       "       'T_TOTAL', 'T_HOMBRES', 'T_MUJERES', 'LLAVE_MZS', 'contacto',\n",
       "       'descargar', 'whatsapp', 'NOMBDEP', 'NOMBPROV', 'IDPROV', 'ARCHIVO',\n",
       "       'Nombre', 'Apellido', 'CCDD', 'CCPP', 'CCDI', 'NOMBDIST', 'CAPITAL',\n",
       "       'CODIGO', 'CNT_CCPP', 'DESCRIPCIO', 'layer', 'path', 'geometry',\n",
       "       'InputID', 'TargetID', 'Distance', 'distancia_a_centro_disc',\n",
       "       'duracion_a_centro_disc', 'cod_mz', 'pobdisc_mz', 'pobdisc_dist'],\n",
       "      dtype='object')"
      ]
     },
     "execution_count": 15,
     "metadata": {},
     "output_type": "execute_result"
    }
   ],
   "source": [
    "manzanas_merged.columns"
   ]
  },
  {
   "cell_type": "code",
   "execution_count": 16,
   "metadata": {},
   "outputs": [],
   "source": [
    "df = pd.DataFrame(manzanas_merged.drop(columns=['Mz', 'UBIGEO', 'AREA', 'CODCCPP', 'ZONA', 'MANZANA_ID', 'MANZANA_A',  'LLAVE_MZS', 'contacto',\n",
    "       'descargar', 'whatsapp', 'NOMBDEP', 'NOMBPROV', 'IDPROV', 'ARCHIVO',\n",
    "       'Nombre', 'Apellido', 'CCDD', 'CCPP', 'CCDI', 'NOMBDIST', 'CAPITAL',\n",
    "       'CODIGO', 'CNT_CCPP', 'DESCRIPCIO', 'layer', 'path', 'cod_mz', 'T_HOMBRES', 'T_MUJERES', 'pobdisc_dist',\n",
    "       \"InputID\", \"TargetID\"]))\n",
    "\n",
    "# Dejo geometry para dropear despues de quitar nulls\n",
    "\n",
    "df['pobdisc_mz'] = df['pobdisc_mz'].fillna(0)\n",
    "\n",
    "# df = df.dropna()"
   ]
  },
  {
   "cell_type": "code",
   "execution_count": 17,
   "metadata": {},
   "outputs": [
    {
     "name": "stdout",
     "output_type": "stream",
     "text": [
      "<class 'pandas.core.frame.DataFrame'>\n",
      "RangeIndex: 172693 entries, 0 to 172692\n",
      "Data columns (total 6 columns):\n",
      " #   Column                   Non-Null Count   Dtype   \n",
      "---  ------                   --------------   -----   \n",
      " 0   T_TOTAL                  172693 non-null  float64 \n",
      " 1   geometry                 172693 non-null  geometry\n",
      " 2   Distance                 172693 non-null  float64 \n",
      " 3   distancia_a_centro_disc  167470 non-null  float64 \n",
      " 4   duracion_a_centro_disc   167470 non-null  float64 \n",
      " 5   pobdisc_mz               172693 non-null  float64 \n",
      "dtypes: float64(5), geometry(1)\n",
      "memory usage: 7.9 MB\n"
     ]
    }
   ],
   "source": [
    "df.info()"
   ]
  },
  {
   "cell_type": "markdown",
   "metadata": {},
   "source": [
    "Defino como zonas 'problemáticas' aquellas donde el tiempo caminando es mayor a 20 minutos (considerando que esta caminata se da cargando hijos pequeños). Un 3% de los territorios termina caracterizado como zona a prestarle atención."
   ]
  },
  {
   "cell_type": "code",
   "execution_count": 18,
   "metadata": {},
   "outputs": [
    {
     "data": {
      "text/plain": [
       "desierto\n",
       "0    93984\n",
       "1    78709\n",
       "Name: count, dtype: int64"
      ]
     },
     "execution_count": 18,
     "metadata": {},
     "output_type": "execute_result"
    }
   ],
   "source": [
    "df['desierto'] = (df['duracion_a_centro_disc'] > 20).astype(int)\n",
    "df.desierto.value_counts()"
   ]
  },
  {
   "cell_type": "markdown",
   "metadata": {},
   "source": [
    "Para clasificar la población, normalizamos la data y estudiamos criterios empíricos."
   ]
  },
  {
   "cell_type": "code",
   "execution_count": 19,
   "metadata": {},
   "outputs": [
    {
     "name": "stdout",
     "output_type": "stream",
     "text": [
      "0.0\n"
     ]
    },
    {
     "data": {
      "text/plain": [
       "count    172693.000000\n",
       "mean          1.077838\n",
       "std           2.478530\n",
       "min           0.000000\n",
       "25%           0.000000\n",
       "50%           0.000000\n",
       "75%           1.000000\n",
       "max         264.000000\n",
       "Name: pobdisc_mz, dtype: float64"
      ]
     },
     "execution_count": 19,
     "metadata": {},
     "output_type": "execute_result"
    }
   ],
   "source": [
    "print(df.pobdisc_mz.median())\n",
    "df.pobdisc_mz.describe()\n"
   ]
  },
  {
   "cell_type": "code",
   "execution_count": 20,
   "metadata": {},
   "outputs": [],
   "source": [
    "from sklearn.preprocessing import StandardScaler\n",
    "\n",
    "columns_to_scale = ['pobdisc_mz']  \n",
    "\n",
    "scaler = StandardScaler()\n",
    "\n",
    "df_scaled = scaler.fit_transform(df[columns_to_scale])\n",
    "\n"
   ]
  },
  {
   "cell_type": "code",
   "execution_count": 21,
   "metadata": {},
   "outputs": [],
   "source": [
    "df[\"pob_disc_mz_normal\"]= df_scaled"
   ]
  },
  {
   "cell_type": "code",
   "execution_count": 22,
   "metadata": {},
   "outputs": [
    {
     "data": {
      "text/plain": [
       "count    1.726930e+05\n",
       "mean    -1.974953e-17\n",
       "std      1.000003e+00\n",
       "min     -4.348710e-01\n",
       "25%     -4.348710e-01\n",
       "50%     -4.348710e-01\n",
       "75%     -3.140482e-02\n",
       "max      1.060802e+02\n",
       "Name: pob_disc_mz_normal, dtype: float64"
      ]
     },
     "execution_count": 22,
     "metadata": {},
     "output_type": "execute_result"
    }
   ],
   "source": [
    "df.pob_disc_mz_normal.describe()"
   ]
  },
  {
   "cell_type": "markdown",
   "metadata": {},
   "source": [
    "Estudio tres posibilidades:"
   ]
  },
  {
   "cell_type": "code",
   "execution_count": 23,
   "metadata": {},
   "outputs": [],
   "source": [
    "umbral1 = df.pob_disc_mz_normal.mean()\n",
    "umbral2 = df.pob_disc_mz_normal.mean() + df.pob_disc_mz_normal.std()\n",
    "umbral3 = df.pob_disc_mz_normal.median()"
   ]
  },
  {
   "cell_type": "code",
   "execution_count": 24,
   "metadata": {},
   "outputs": [
    {
     "name": "stdout",
     "output_type": "stream",
     "text": [
      "alta_demanda\n",
      "0    135252\n",
      "1     37441\n",
      "Name: count, dtype: int64\n"
     ]
    }
   ],
   "source": [
    "df['alta_demanda'] = (df['pob_disc_mz_normal'] >= umbral1).astype(int)\n",
    "#df['alta_demanda_2'] = (df['pob_disc_mz_normal'] >= umbral2).astype(int)\n",
    "#df['alta_demanda'] = (df['pob_disc_mz_normal'] >= umbral3).astype(int)\n",
    "\n",
    "print(df.alta_demanda.value_counts())\n",
    "#print(df.alta_demanda_2.value_counts())\n",
    "#print(df.alta_demanda.value_counts())"
   ]
  },
  {
   "cell_type": "markdown",
   "metadata": {},
   "source": [
    "En este caso elijo la media, ya que la mediana es 0."
   ]
  },
  {
   "cell_type": "code",
   "execution_count": 25,
   "metadata": {},
   "outputs": [
    {
     "data": {
      "text/plain": [
       "desierto_disc\n",
       "0    164749\n",
       "1      7944\n",
       "Name: count, dtype: int64"
      ]
     },
     "execution_count": 25,
     "metadata": {},
     "output_type": "execute_result"
    }
   ],
   "source": [
    "df[\"desierto_disc\"] = df[\"desierto\"] * df[\"alta_demanda\"]\n",
    "df.desierto_disc.value_counts()"
   ]
  },
  {
   "cell_type": "code",
   "execution_count": 26,
   "metadata": {},
   "outputs": [
    {
     "data": {
      "text/plain": [
       "Index(['T_TOTAL', 'geometry', 'Distance', 'distancia_a_centro_disc',\n",
       "       'duracion_a_centro_disc', 'pobdisc_mz', 'desierto',\n",
       "       'pob_disc_mz_normal', 'alta_demanda', 'desierto_disc'],\n",
       "      dtype='object')"
      ]
     },
     "execution_count": 26,
     "metadata": {},
     "output_type": "execute_result"
    }
   ],
   "source": [
    "df.columns"
   ]
  },
  {
   "cell_type": "code",
   "execution_count": 27,
   "metadata": {},
   "outputs": [
    {
     "data": {
      "text/html": [
       "<div>\n",
       "<style scoped>\n",
       "    .dataframe tbody tr th:only-of-type {\n",
       "        vertical-align: middle;\n",
       "    }\n",
       "\n",
       "    .dataframe tbody tr th {\n",
       "        vertical-align: top;\n",
       "    }\n",
       "\n",
       "    .dataframe thead th {\n",
       "        text-align: right;\n",
       "    }\n",
       "</style>\n",
       "<table border=\"1\" class=\"dataframe\">\n",
       "  <thead>\n",
       "    <tr style=\"text-align: right;\">\n",
       "      <th></th>\n",
       "      <th>geometry</th>\n",
       "      <th>T_TOTAL</th>\n",
       "      <th>pobdisc_mz</th>\n",
       "      <th>distancia_a_centro_disc</th>\n",
       "      <th>duracion_a_centro_disc</th>\n",
       "      <th>alta_demanda</th>\n",
       "      <th>desierto_disc</th>\n",
       "    </tr>\n",
       "  </thead>\n",
       "  <tbody>\n",
       "    <tr>\n",
       "      <th>0</th>\n",
       "      <td>MULTIPOLYGON (((-77.12763 -11.81363, -77.12723...</td>\n",
       "      <td>18.0</td>\n",
       "      <td>0.0</td>\n",
       "      <td>5.4523</td>\n",
       "      <td>65.495000</td>\n",
       "      <td>0</td>\n",
       "      <td>0</td>\n",
       "    </tr>\n",
       "    <tr>\n",
       "      <th>1</th>\n",
       "      <td>MULTIPOLYGON (((-77.15185 -11.73780, -77.15151...</td>\n",
       "      <td>31.0</td>\n",
       "      <td>0.0</td>\n",
       "      <td>6.2620</td>\n",
       "      <td>75.146667</td>\n",
       "      <td>0</td>\n",
       "      <td>0</td>\n",
       "    </tr>\n",
       "    <tr>\n",
       "      <th>2</th>\n",
       "      <td>MULTIPOLYGON (((-77.16978 -11.77796, -77.16981...</td>\n",
       "      <td>71.0</td>\n",
       "      <td>0.0</td>\n",
       "      <td>0.9826</td>\n",
       "      <td>11.791667</td>\n",
       "      <td>0</td>\n",
       "      <td>0</td>\n",
       "    </tr>\n",
       "    <tr>\n",
       "      <th>3</th>\n",
       "      <td>MULTIPOLYGON (((-77.15222 -11.74137, -77.15140...</td>\n",
       "      <td>12.0</td>\n",
       "      <td>0.0</td>\n",
       "      <td>5.6990</td>\n",
       "      <td>68.391667</td>\n",
       "      <td>0</td>\n",
       "      <td>0</td>\n",
       "    </tr>\n",
       "    <tr>\n",
       "      <th>4</th>\n",
       "      <td>MULTIPOLYGON (((-77.16253 -11.73364, -77.16255...</td>\n",
       "      <td>2.0</td>\n",
       "      <td>0.0</td>\n",
       "      <td>7.0731</td>\n",
       "      <td>84.883333</td>\n",
       "      <td>0</td>\n",
       "      <td>0</td>\n",
       "    </tr>\n",
       "  </tbody>\n",
       "</table>\n",
       "</div>"
      ],
      "text/plain": [
       "                                            geometry  T_TOTAL  pobdisc_mz  \\\n",
       "0  MULTIPOLYGON (((-77.12763 -11.81363, -77.12723...     18.0         0.0   \n",
       "1  MULTIPOLYGON (((-77.15185 -11.73780, -77.15151...     31.0         0.0   \n",
       "2  MULTIPOLYGON (((-77.16978 -11.77796, -77.16981...     71.0         0.0   \n",
       "3  MULTIPOLYGON (((-77.15222 -11.74137, -77.15140...     12.0         0.0   \n",
       "4  MULTIPOLYGON (((-77.16253 -11.73364, -77.16255...      2.0         0.0   \n",
       "\n",
       "   distancia_a_centro_disc  duracion_a_centro_disc  alta_demanda  \\\n",
       "0                   5.4523               65.495000             0   \n",
       "1                   6.2620               75.146667             0   \n",
       "2                   0.9826               11.791667             0   \n",
       "3                   5.6990               68.391667             0   \n",
       "4                   7.0731               84.883333             0   \n",
       "\n",
       "   desierto_disc  \n",
       "0              0  \n",
       "1              0  \n",
       "2              0  \n",
       "3              0  \n",
       "4              0  "
      ]
     },
     "execution_count": 27,
     "metadata": {},
     "output_type": "execute_result"
    }
   ],
   "source": [
    "df_for_csv = df[[\"geometry\", \"T_TOTAL\", 'pobdisc_mz', 'distancia_a_centro_disc', 'duracion_a_centro_disc', \"alta_demanda\", \"desierto_disc\"]]\n",
    "df_for_csv.head()"
   ]
  },
  {
   "cell_type": "code",
   "execution_count": 28,
   "metadata": {},
   "outputs": [
    {
     "name": "stdout",
     "output_type": "stream",
     "text": [
      "(184517, 14)\n"
     ]
    },
    {
     "data": {
      "text/html": [
       "<div>\n",
       "<style scoped>\n",
       "    .dataframe tbody tr th:only-of-type {\n",
       "        vertical-align: middle;\n",
       "    }\n",
       "\n",
       "    .dataframe tbody tr th {\n",
       "        vertical-align: top;\n",
       "    }\n",
       "\n",
       "    .dataframe thead th {\n",
       "        text-align: right;\n",
       "    }\n",
       "</style>\n",
       "<table border=\"1\" class=\"dataframe\">\n",
       "  <thead>\n",
       "    <tr style=\"text-align: right;\">\n",
       "      <th></th>\n",
       "      <th>geometry</th>\n",
       "      <th>T_TOTAL</th>\n",
       "      <th>pobdisc_mz</th>\n",
       "      <th>distancia_a_centro_disc</th>\n",
       "      <th>duracion_a_centro_disc</th>\n",
       "      <th>alta_demanda</th>\n",
       "      <th>desierto_disc</th>\n",
       "      <th>Mz</th>\n",
       "      <th>UBIGEO</th>\n",
       "      <th>AREA</th>\n",
       "      <th>CODCCPP</th>\n",
       "      <th>ZONA</th>\n",
       "      <th>MANZANA_ID</th>\n",
       "      <th>MANZANA_A</th>\n",
       "    </tr>\n",
       "  </thead>\n",
       "  <tbody>\n",
       "    <tr>\n",
       "      <th>0</th>\n",
       "      <td>MULTIPOLYGON (((-77.12763 -11.81363, -77.12723...</td>\n",
       "      <td>18.0</td>\n",
       "      <td>0.0</td>\n",
       "      <td>5.4523</td>\n",
       "      <td>65.495000</td>\n",
       "      <td>0</td>\n",
       "      <td>0</td>\n",
       "      <td>150102000102100023</td>\n",
       "      <td>150102</td>\n",
       "      <td>1</td>\n",
       "      <td>0001</td>\n",
       "      <td>02100</td>\n",
       "      <td>023</td>\n",
       "      <td>None</td>\n",
       "    </tr>\n",
       "    <tr>\n",
       "      <th>1</th>\n",
       "      <td>MULTIPOLYGON (((-77.15185 -11.73780, -77.15151...</td>\n",
       "      <td>31.0</td>\n",
       "      <td>0.0</td>\n",
       "      <td>6.2620</td>\n",
       "      <td>75.146667</td>\n",
       "      <td>0</td>\n",
       "      <td>0</td>\n",
       "      <td>150102000101101010</td>\n",
       "      <td>150102</td>\n",
       "      <td>1</td>\n",
       "      <td>0001</td>\n",
       "      <td>01101</td>\n",
       "      <td>010</td>\n",
       "      <td>None</td>\n",
       "    </tr>\n",
       "    <tr>\n",
       "      <th>2</th>\n",
       "      <td>MULTIPOLYGON (((-77.16978 -11.77796, -77.16981...</td>\n",
       "      <td>71.0</td>\n",
       "      <td>0.0</td>\n",
       "      <td>0.9826</td>\n",
       "      <td>11.791667</td>\n",
       "      <td>0</td>\n",
       "      <td>0</td>\n",
       "      <td>150102000100600037</td>\n",
       "      <td>150102</td>\n",
       "      <td>1</td>\n",
       "      <td>0001</td>\n",
       "      <td>00600</td>\n",
       "      <td>037</td>\n",
       "      <td>None</td>\n",
       "    </tr>\n",
       "    <tr>\n",
       "      <th>3</th>\n",
       "      <td>MULTIPOLYGON (((-77.15222 -11.74137, -77.15140...</td>\n",
       "      <td>12.0</td>\n",
       "      <td>0.0</td>\n",
       "      <td>5.6990</td>\n",
       "      <td>68.391667</td>\n",
       "      <td>0</td>\n",
       "      <td>0</td>\n",
       "      <td>150102000101202048</td>\n",
       "      <td>150102</td>\n",
       "      <td>1</td>\n",
       "      <td>0001</td>\n",
       "      <td>01202</td>\n",
       "      <td>048</td>\n",
       "      <td>None</td>\n",
       "    </tr>\n",
       "    <tr>\n",
       "      <th>4</th>\n",
       "      <td>MULTIPOLYGON (((-77.16253 -11.73364, -77.16255...</td>\n",
       "      <td>2.0</td>\n",
       "      <td>0.0</td>\n",
       "      <td>7.0731</td>\n",
       "      <td>84.883333</td>\n",
       "      <td>0</td>\n",
       "      <td>0</td>\n",
       "      <td>150102000101202010A</td>\n",
       "      <td>150102</td>\n",
       "      <td>1</td>\n",
       "      <td>0001</td>\n",
       "      <td>01202</td>\n",
       "      <td>010</td>\n",
       "      <td>A</td>\n",
       "    </tr>\n",
       "  </tbody>\n",
       "</table>\n",
       "</div>"
      ],
      "text/plain": [
       "                                            geometry  T_TOTAL  pobdisc_mz  \\\n",
       "0  MULTIPOLYGON (((-77.12763 -11.81363, -77.12723...     18.0         0.0   \n",
       "1  MULTIPOLYGON (((-77.15185 -11.73780, -77.15151...     31.0         0.0   \n",
       "2  MULTIPOLYGON (((-77.16978 -11.77796, -77.16981...     71.0         0.0   \n",
       "3  MULTIPOLYGON (((-77.15222 -11.74137, -77.15140...     12.0         0.0   \n",
       "4  MULTIPOLYGON (((-77.16253 -11.73364, -77.16255...      2.0         0.0   \n",
       "\n",
       "   distancia_a_centro_disc  duracion_a_centro_disc  alta_demanda  \\\n",
       "0                   5.4523               65.495000             0   \n",
       "1                   6.2620               75.146667             0   \n",
       "2                   0.9826               11.791667             0   \n",
       "3                   5.6990               68.391667             0   \n",
       "4                   7.0731               84.883333             0   \n",
       "\n",
       "   desierto_disc                   Mz  UBIGEO AREA CODCCPP   ZONA MANZANA_ID  \\\n",
       "0              0   150102000102100023  150102    1    0001  02100        023   \n",
       "1              0   150102000101101010  150102    1    0001  01101        010   \n",
       "2              0   150102000100600037  150102    1    0001  00600        037   \n",
       "3              0   150102000101202048  150102    1    0001  01202        048   \n",
       "4              0  150102000101202010A  150102    1    0001  01202        010   \n",
       "\n",
       "  MANZANA_A  \n",
       "0      None  \n",
       "1      None  \n",
       "2      None  \n",
       "3      None  \n",
       "4         A  "
      ]
     },
     "execution_count": 28,
     "metadata": {},
     "output_type": "execute_result"
    }
   ],
   "source": [
    "#df_for_csv['geometry'] = df_for_csv['geometry'].apply(wkt.loads)\n",
    "\n",
    "# Now create the GeoDataFrame\n",
    "gdf = gpd.GeoDataFrame(df_for_csv, geometry='geometry')\n",
    "\n",
    "manzanas_merged_2 = pd.merge(gdf, manzanas[[\"Mz\", \"UBIGEO\", 'AREA', 'CODCCPP', 'ZONA', 'MANZANA_ID', 'MANZANA_A', 'geometry']], on=\"geometry\", how=\"left\")\n",
    "print(manzanas_merged_2.shape)\n",
    "manzanas_merged_2.head()"
   ]
  },
  {
   "cell_type": "code",
   "execution_count": 29,
   "metadata": {},
   "outputs": [
    {
     "name": "stdout",
     "output_type": "stream",
     "text": [
      "<class 'geopandas.geodataframe.GeoDataFrame'>\n",
      "RangeIndex: 184517 entries, 0 to 184516\n",
      "Data columns (total 14 columns):\n",
      " #   Column                   Non-Null Count   Dtype   \n",
      "---  ------                   --------------   -----   \n",
      " 0   geometry                 184517 non-null  geometry\n",
      " 1   T_TOTAL                  184517 non-null  float64 \n",
      " 2   pobdisc_mz               184517 non-null  float64 \n",
      " 3   distancia_a_centro_disc  178694 non-null  float64 \n",
      " 4   duracion_a_centro_disc   178694 non-null  float64 \n",
      " 5   alta_demanda             184517 non-null  int32   \n",
      " 6   desierto_disc            184517 non-null  int32   \n",
      " 7   Mz                       184517 non-null  object  \n",
      " 8   UBIGEO                   184517 non-null  object  \n",
      " 9   AREA                     184517 non-null  object  \n",
      " 10  CODCCPP                  184517 non-null  object  \n",
      " 11  ZONA                     184517 non-null  object  \n",
      " 12  MANZANA_ID               180864 non-null  object  \n",
      " 13  MANZANA_A                70437 non-null   object  \n",
      "dtypes: float64(4), geometry(1), int32(2), object(7)\n",
      "memory usage: 18.3+ MB\n"
     ]
    }
   ],
   "source": [
    "manzanas_merged_2.info()"
   ]
  },
  {
   "cell_type": "markdown",
   "metadata": {},
   "source": [
    "### Population density calculations"
   ]
  },
  {
   "cell_type": "code",
   "execution_count": 30,
   "metadata": {},
   "outputs": [],
   "source": [
    "gdf_projected = pop_density(gdf=manzanas_merged_2, projected_crs='EPSG:24891', tot_pob_col='T_TOTAL')"
   ]
  },
  {
   "cell_type": "code",
   "execution_count": 31,
   "metadata": {},
   "outputs": [
    {
     "data": {
      "text/plain": [
       "desierto_disc\n",
       "0     6464.453100\n",
       "1    10553.692668\n",
       "Name: area_manzana, dtype: float64"
      ]
     },
     "execution_count": 31,
     "metadata": {},
     "output_type": "execute_result"
    }
   ],
   "source": [
    "gdf_projected.groupby('desierto_disc')['area_manzana'].mean()"
   ]
  },
  {
   "cell_type": "markdown",
   "metadata": {},
   "source": [
    "### Desert recalculation with adjustment formula"
   ]
  },
  {
   "cell_type": "code",
   "execution_count": 32,
   "metadata": {},
   "outputs": [],
   "source": [
    "manzanas_disc_recalc = adjustment_factor(gdf_projected, beta=10, gamma=5, umbral_area=0.80, \n",
    "                                         nombre_col_desierto='desierto_disc_recalc',\n",
    "                                         travel_time_col='duracion_a_centro_disc')"
   ]
  },
  {
   "cell_type": "code",
   "execution_count": 33,
   "metadata": {},
   "outputs": [
    {
     "name": "stdout",
     "output_type": "stream",
     "text": [
      "Care deserts recalculated with adjustment:\n",
      "desierto_disc_recalc\n",
      "0    176811\n",
      "1      7706\n",
      "Name: count, dtype: int64\n",
      "\n",
      "Original care deserts classification:\n",
      "desierto_disc\n",
      "0    176157\n",
      "1      8360\n",
      "Name: count, dtype: int64\n"
     ]
    }
   ],
   "source": [
    "# Compare results\n",
    "print(\"Care deserts recalculated with adjustment:\")\n",
    "print(manzanas_disc_recalc[\"desierto_disc_recalc\"].value_counts())\n",
    "\n",
    "print(\"\\nOriginal care deserts classification:\")\n",
    "print(manzanas_disc_recalc[\"desierto_disc\"].value_counts())"
   ]
  },
  {
   "cell_type": "code",
   "execution_count": 34,
   "metadata": {},
   "outputs": [
    {
     "name": "stdout",
     "output_type": "stream",
     "text": [
      "Before Adjustment:\n",
      "count    8.360000e+03\n",
      "mean     1.055369e+04\n",
      "std      4.721966e+04\n",
      "min      8.515033e+01\n",
      "25%      2.403977e+03\n",
      "50%      4.044212e+03\n",
      "75%      6.614859e+03\n",
      "max      1.575732e+06\n",
      "Name: area_manzana, dtype: float64\n",
      "\n",
      "After Adjustment:\n",
      "count      7706.000000\n",
      "mean       6515.388111\n",
      "std       18609.578960\n",
      "min          85.150332\n",
      "25%        2285.265129\n",
      "50%        3753.821501\n",
      "75%        5790.660071\n",
      "max      565535.294936\n",
      "Name: area_manzana, dtype: float64\n"
     ]
    }
   ],
   "source": [
    "# Tracts considered care deserts before the adjustment\n",
    "care_deserts_before = manzanas_disc_recalc[manzanas_disc_recalc[\"desierto_disc\"] == 1]['area_manzana']\n",
    "\n",
    "# Tracts considered care deserts after the adjustment\n",
    "care_deserts_after = manzanas_disc_recalc[manzanas_disc_recalc[\"desierto_disc_recalc\"] == 1]['area_manzana']\n",
    "\n",
    "# Calculate descriptive statistics\n",
    "print(\"Before Adjustment:\")\n",
    "print(care_deserts_before.describe())\n",
    "\n",
    "print(\"\\nAfter Adjustment:\")\n",
    "print(care_deserts_after.describe())"
   ]
  },
  {
   "cell_type": "code",
   "execution_count": 35,
   "metadata": {},
   "outputs": [
    {
     "data": {
      "image/png": "[encoded data removed]",
      "text/plain": [
       "<Figure size 640x480 with 1 Axes>"
      ]
     },
     "metadata": {},
     "output_type": "display_data"
    }
   ],
   "source": [
    "import matplotlib\n",
    "#geopan = gpd.GeoDataFrame(df, geometry='geometry')\n",
    "\n",
    "# Define a custom color map: red for 1, grey for 0\n",
    "cmap = matplotlib.colors.ListedColormap(['grey', 'red'])\n",
    "\n",
    "# Create a normalization object that maps your data values (0 and 1) to the colormap\n",
    "norm = matplotlib.colors.BoundaryNorm([0, 0.5, 1], cmap.N)\n",
    "\n",
    "fig, ax = plt.subplots(1, 1)\n",
    "\n",
    "# Plot using the custom colormap and normalization\n",
    "manzanas_disc_recalc.plot(column='desierto_disc_recalc', ax=ax, legend=True, categorical=True, cmap=cmap, norm=norm)\n",
    "\n",
    "# Remove longitude and latitude ticks\n",
    "ax.set_xticks([])\n",
    "ax.set_yticks([])\n",
    "\n",
    "ax.set_title('Desiertos de cuidado (personas con discapacidad)')\n",
    "\n",
    "# Save the figure with high resolution\n",
    "plt.savefig('../figs/desiertos_de_cuidado_disc.png', format='png', dpi=1500)\n",
    "\n",
    "plt.show()"
   ]
  },
  {
   "cell_type": "code",
   "execution_count": 36,
   "metadata": {},
   "outputs": [
    {
     "data": {
      "text/html": [
       "<div>\n",
       "<style scoped>\n",
       "    .dataframe tbody tr th:only-of-type {\n",
       "        vertical-align: middle;\n",
       "    }\n",
       "\n",
       "    .dataframe tbody tr th {\n",
       "        vertical-align: top;\n",
       "    }\n",
       "\n",
       "    .dataframe thead th {\n",
       "        text-align: right;\n",
       "    }\n",
       "</style>\n",
       "<table border=\"1\" class=\"dataframe\">\n",
       "  <thead>\n",
       "    <tr style=\"text-align: right;\">\n",
       "      <th></th>\n",
       "      <th>geometry</th>\n",
       "      <th>T_TOTAL</th>\n",
       "      <th>pobdisc_mz</th>\n",
       "      <th>distancia_a_centro_disc</th>\n",
       "      <th>duracion_a_centro_disc</th>\n",
       "      <th>alta_demanda</th>\n",
       "      <th>desierto_disc</th>\n",
       "      <th>Mz</th>\n",
       "      <th>UBIGEO</th>\n",
       "      <th>AREA</th>\n",
       "      <th>CODCCPP</th>\n",
       "      <th>ZONA</th>\n",
       "      <th>MANZANA_ID</th>\n",
       "      <th>MANZANA_A</th>\n",
       "      <th>area_manzana</th>\n",
       "      <th>densidad_pob</th>\n",
       "      <th>combined_adjustment</th>\n",
       "      <th>adjusted_threshold</th>\n",
       "      <th>desierto_2</th>\n",
       "      <th>desierto_disc_recalc</th>\n",
       "    </tr>\n",
       "  </thead>\n",
       "  <tbody>\n",
       "    <tr>\n",
       "      <th>2520</th>\n",
       "      <td>MULTIPOLYGON (((604533.783 754446.499, 604565....</td>\n",
       "      <td>631.0</td>\n",
       "      <td>6.0</td>\n",
       "      <td>2.1416</td>\n",
       "      <td>25.703333</td>\n",
       "      <td>1</td>\n",
       "      <td>1</td>\n",
       "      <td>150103000100100035</td>\n",
       "      <td>150103</td>\n",
       "      <td>1</td>\n",
       "      <td>0001</td>\n",
       "      <td>00100</td>\n",
       "      <td>035</td>\n",
       "      <td>None</td>\n",
       "      <td>7308.477974</td>\n",
       "      <td>86338.086017</td>\n",
       "      <td>1.654618</td>\n",
       "      <td>21.654618</td>\n",
       "      <td>1</td>\n",
       "      <td>1</td>\n",
       "    </tr>\n",
       "  </tbody>\n",
       "</table>\n",
       "</div>"
      ],
      "text/plain": [
       "                                               geometry  T_TOTAL  pobdisc_mz  \\\n",
       "2520  MULTIPOLYGON (((604533.783 754446.499, 604565....    631.0         6.0   \n",
       "\n",
       "      distancia_a_centro_disc  duracion_a_centro_disc  alta_demanda  \\\n",
       "2520                   2.1416               25.703333             1   \n",
       "\n",
       "      desierto_disc                  Mz  UBIGEO AREA CODCCPP   ZONA  \\\n",
       "2520              1  150103000100100035  150103    1    0001  00100   \n",
       "\n",
       "     MANZANA_ID MANZANA_A  area_manzana  densidad_pob  combined_adjustment  \\\n",
       "2520        035      None   7308.477974  86338.086017             1.654618   \n",
       "\n",
       "      adjusted_threshold  desierto_2  desierto_disc_recalc  \n",
       "2520           21.654618           1                     1  "
      ]
     },
     "execution_count": 36,
     "metadata": {},
     "output_type": "execute_result"
    }
   ],
   "source": [
    "manzanas_disc_recalc[manzanas_disc_recalc['Mz'] == '150103000100100035'] "
   ]
  },
  {
   "cell_type": "code",
   "execution_count": 37,
   "metadata": {},
   "outputs": [
    {
     "name": "stdout",
     "output_type": "stream",
     "text": [
      "<class 'geopandas.geodataframe.GeoDataFrame'>\n",
      "RangeIndex: 184517 entries, 0 to 184516\n",
      "Data columns (total 14 columns):\n",
      " #   Column                   Non-Null Count   Dtype   \n",
      "---  ------                   --------------   -----   \n",
      " 0   Mz                       184517 non-null  object  \n",
      " 1   UBIGEO                   184517 non-null  object  \n",
      " 2   AREA                     184517 non-null  object  \n",
      " 3   CODCCPP                  184517 non-null  object  \n",
      " 4   ZONA                     184517 non-null  object  \n",
      " 5   MANZANA_ID               180864 non-null  object  \n",
      " 6   MANZANA_A                70437 non-null   object  \n",
      " 7   geometry                 184517 non-null  geometry\n",
      " 8   pobdisc_mz               184517 non-null  float64 \n",
      " 9   distancia_a_centro_disc  178694 non-null  float64 \n",
      " 10  duracion_a_centro_disc   178694 non-null  float64 \n",
      " 11  alta_demanda             184517 non-null  int32   \n",
      " 12  desierto_disc_recalc     184517 non-null  int32   \n",
      " 13  umbral_t_dinamico        184517 non-null  float64 \n",
      "dtypes: float64(4), geometry(1), int32(2), object(7)\n",
      "memory usage: 18.3+ MB\n"
     ]
    }
   ],
   "source": [
    "manzanas_disc_recalc = manzanas_disc_recalc[['Mz', 'UBIGEO', 'AREA', 'CODCCPP',\n",
    "       'ZONA', 'MANZANA_ID', 'MANZANA_A', 'geometry',  'pobdisc_mz', 'distancia_a_centro_disc',\n",
    "       'duracion_a_centro_disc', 'alta_demanda', 'desierto_disc_recalc', 'adjusted_threshold']]\n",
    "\n",
    "manzanas_disc_recalc = manzanas_disc_recalc.rename(columns={\"adjusted_threshold\": \"umbral_t_dinamico\"})\n",
    "\n",
    "manzanas_disc_recalc.info()"
   ]
  },
  {
   "cell_type": "code",
   "execution_count": 38,
   "metadata": {},
   "outputs": [],
   "source": [
    "manzanas_disc_recalc.to_csv(\"../results - desiertos/desiertos_ajustados/desiertos_disc_recalc.csv\", index=False, sep=\";\", decimal=\",\")"
   ]
  },
  {
   "cell_type": "code",
   "execution_count": 39,
   "metadata": {},
   "outputs": [],
   "source": [
    "manzanas_disc_recalc.to_file(\"../results - desiertos/desiertos_ajustados/desiertos_disc_recalc.geojson\", driver='GeoJSON')"
   ]
  }
 ],
 "metadata": {
  "kernelspec": {
   "display_name": "accesibility_undp",
   "language": "python",
   "name": "python3"
  },
  "language_info": {
   "codemirror_mode": {
    "name": "ipython",
    "version": 3
   },
   "file_extension": ".py",
   "mimetype": "text/x-python",
   "name": "python",
   "nbconvert_exporter": "python",
   "pygments_lexer": "ipython3",
   "version": "3.12.0"
  }
 },
 "nbformat": 4,
 "nbformat_minor": 2
}
