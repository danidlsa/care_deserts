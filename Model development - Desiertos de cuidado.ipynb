{
 "cells": [
  {
   "cell_type": "code",
   "execution_count": 1,
   "metadata": {},
   "outputs": [],
   "source": [
    "import pandas as pd\n",
    "from matplotlib import pyplot as plt\n",
    "import geopandas as gpd\n",
    "import numpy as np\n",
    "import pandas as pd\n",
    "import shapely\n",
    "import plotly.express as px\n",
    "import osmnx as ox"
   ]
  },
  {
   "cell_type": "markdown",
   "metadata": {},
   "source": [
    "## Importación de BBDD"
   ]
  },
  {
   "cell_type": "markdown",
   "metadata": {},
   "source": [
    "### Manzanas"
   ]
  },
  {
   "cell_type": "code",
   "execution_count": 2,
   "metadata": {},
   "outputs": [],
   "source": [
    "manzanas = gpd.read_file('data/lima_manzanas.gpkg')"
   ]
  },
  {
   "cell_type": "code",
   "execution_count": 3,
   "metadata": {},
   "outputs": [
    {
     "name": "stdout",
     "output_type": "stream",
     "text": [
      "(124903, 31)\n"
     ]
    },
    {
     "data": {
      "text/html": [
       "<div>\n",
       "<style scoped>\n",
       "    .dataframe tbody tr th:only-of-type {\n",
       "        vertical-align: middle;\n",
       "    }\n",
       "\n",
       "    .dataframe tbody tr th {\n",
       "        vertical-align: top;\n",
       "    }\n",
       "\n",
       "    .dataframe thead th {\n",
       "        text-align: right;\n",
       "    }\n",
       "</style>\n",
       "<table border=\"1\" class=\"dataframe\">\n",
       "  <thead>\n",
       "    <tr style=\"text-align: right;\">\n",
       "      <th></th>\n",
       "      <th>Mz</th>\n",
       "      <th>UBIGEO</th>\n",
       "      <th>AREA</th>\n",
       "      <th>CODCCPP</th>\n",
       "      <th>ZONA</th>\n",
       "      <th>MANZANA_ID</th>\n",
       "      <th>MANZANA_A</th>\n",
       "      <th>T_TOTAL</th>\n",
       "      <th>T_HOMBRES</th>\n",
       "      <th>T_MUJERES</th>\n",
       "      <th>...</th>\n",
       "      <th>CCPP</th>\n",
       "      <th>CCDI</th>\n",
       "      <th>NOMBDIST</th>\n",
       "      <th>CAPITAL</th>\n",
       "      <th>CODIGO</th>\n",
       "      <th>CNT_CCPP</th>\n",
       "      <th>DESCRIPCIO</th>\n",
       "      <th>layer</th>\n",
       "      <th>path</th>\n",
       "      <th>geometry</th>\n",
       "    </tr>\n",
       "  </thead>\n",
       "  <tbody>\n",
       "    <tr>\n",
       "      <th>0</th>\n",
       "      <td>150102000102100023</td>\n",
       "      <td>150102</td>\n",
       "      <td>1</td>\n",
       "      <td>0001</td>\n",
       "      <td>02100</td>\n",
       "      <td>023</td>\n",
       "      <td>None</td>\n",
       "      <td>18.0</td>\n",
       "      <td>7.0</td>\n",
       "      <td>11.0</td>\n",
       "      <td>...</td>\n",
       "      <td>01</td>\n",
       "      <td>02</td>\n",
       "      <td>ANCON</td>\n",
       "      <td>ANCON</td>\n",
       "      <td>150102</td>\n",
       "      <td>1.0</td>\n",
       "      <td>ANCON</td>\n",
       "      <td>ANCON_LIMA_150102_Manzanas_Poblacion_JuanPablo...</td>\n",
       "      <td>C:/Users/Abril/Desktop/IEP/MAPAS/Manzanas/ANCO...</td>\n",
       "      <td>MULTIPOLYGON (((-77.12763 -11.81363, -77.12723...</td>\n",
       "    </tr>\n",
       "    <tr>\n",
       "      <th>1</th>\n",
       "      <td>150102000101101010</td>\n",
       "      <td>150102</td>\n",
       "      <td>1</td>\n",
       "      <td>0001</td>\n",
       "      <td>01101</td>\n",
       "      <td>010</td>\n",
       "      <td>None</td>\n",
       "      <td>31.0</td>\n",
       "      <td>14.0</td>\n",
       "      <td>17.0</td>\n",
       "      <td>...</td>\n",
       "      <td>01</td>\n",
       "      <td>02</td>\n",
       "      <td>ANCON</td>\n",
       "      <td>ANCON</td>\n",
       "      <td>150102</td>\n",
       "      <td>1.0</td>\n",
       "      <td>ANCON</td>\n",
       "      <td>ANCON_LIMA_150102_Manzanas_Poblacion_JuanPablo...</td>\n",
       "      <td>C:/Users/Abril/Desktop/IEP/MAPAS/Manzanas/ANCO...</td>\n",
       "      <td>MULTIPOLYGON (((-77.15185 -11.73780, -77.15151...</td>\n",
       "    </tr>\n",
       "    <tr>\n",
       "      <th>2</th>\n",
       "      <td>150102000100600037</td>\n",
       "      <td>150102</td>\n",
       "      <td>1</td>\n",
       "      <td>0001</td>\n",
       "      <td>00600</td>\n",
       "      <td>037</td>\n",
       "      <td>None</td>\n",
       "      <td>71.0</td>\n",
       "      <td>32.0</td>\n",
       "      <td>39.0</td>\n",
       "      <td>...</td>\n",
       "      <td>01</td>\n",
       "      <td>02</td>\n",
       "      <td>ANCON</td>\n",
       "      <td>ANCON</td>\n",
       "      <td>150102</td>\n",
       "      <td>1.0</td>\n",
       "      <td>ANCON</td>\n",
       "      <td>ANCON_LIMA_150102_Manzanas_Poblacion_JuanPablo...</td>\n",
       "      <td>C:/Users/Abril/Desktop/IEP/MAPAS/Manzanas/ANCO...</td>\n",
       "      <td>MULTIPOLYGON (((-77.16978 -11.77796, -77.16981...</td>\n",
       "    </tr>\n",
       "    <tr>\n",
       "      <th>3</th>\n",
       "      <td>150102000101202048</td>\n",
       "      <td>150102</td>\n",
       "      <td>1</td>\n",
       "      <td>0001</td>\n",
       "      <td>01202</td>\n",
       "      <td>048</td>\n",
       "      <td>None</td>\n",
       "      <td>12.0</td>\n",
       "      <td>5.0</td>\n",
       "      <td>7.0</td>\n",
       "      <td>...</td>\n",
       "      <td>01</td>\n",
       "      <td>02</td>\n",
       "      <td>ANCON</td>\n",
       "      <td>ANCON</td>\n",
       "      <td>150102</td>\n",
       "      <td>1.0</td>\n",
       "      <td>ANCON</td>\n",
       "      <td>ANCON_LIMA_150102_Manzanas_Poblacion_JuanPablo...</td>\n",
       "      <td>C:/Users/Abril/Desktop/IEP/MAPAS/Manzanas/ANCO...</td>\n",
       "      <td>MULTIPOLYGON (((-77.15222 -11.74137, -77.15140...</td>\n",
       "    </tr>\n",
       "    <tr>\n",
       "      <th>4</th>\n",
       "      <td>150102000101202010A</td>\n",
       "      <td>150102</td>\n",
       "      <td>1</td>\n",
       "      <td>0001</td>\n",
       "      <td>01202</td>\n",
       "      <td>010</td>\n",
       "      <td>A</td>\n",
       "      <td>2.0</td>\n",
       "      <td>0.0</td>\n",
       "      <td>2.0</td>\n",
       "      <td>...</td>\n",
       "      <td>01</td>\n",
       "      <td>02</td>\n",
       "      <td>ANCON</td>\n",
       "      <td>ANCON</td>\n",
       "      <td>150102</td>\n",
       "      <td>1.0</td>\n",
       "      <td>ANCON</td>\n",
       "      <td>ANCON_LIMA_150102_Manzanas_Poblacion_JuanPablo...</td>\n",
       "      <td>C:/Users/Abril/Desktop/IEP/MAPAS/Manzanas/ANCO...</td>\n",
       "      <td>MULTIPOLYGON (((-77.16253 -11.73364, -77.16255...</td>\n",
       "    </tr>\n",
       "  </tbody>\n",
       "</table>\n",
       "<p>5 rows × 31 columns</p>\n",
       "</div>"
      ],
      "text/plain": [
       "                    Mz  UBIGEO AREA CODCCPP   ZONA MANZANA_ID MANZANA_A  \\\n",
       "0   150102000102100023  150102    1    0001  02100        023      None   \n",
       "1   150102000101101010  150102    1    0001  01101        010      None   \n",
       "2   150102000100600037  150102    1    0001  00600        037      None   \n",
       "3   150102000101202048  150102    1    0001  01202        048      None   \n",
       "4  150102000101202010A  150102    1    0001  01202        010         A   \n",
       "\n",
       "   T_TOTAL  T_HOMBRES  T_MUJERES  ... CCPP CCDI NOMBDIST  CAPITAL  CODIGO  \\\n",
       "0     18.0        7.0       11.0  ...   01   02    ANCON    ANCON  150102   \n",
       "1     31.0       14.0       17.0  ...   01   02    ANCON    ANCON  150102   \n",
       "2     71.0       32.0       39.0  ...   01   02    ANCON    ANCON  150102   \n",
       "3     12.0        5.0        7.0  ...   01   02    ANCON    ANCON  150102   \n",
       "4      2.0        0.0        2.0  ...   01   02    ANCON    ANCON  150102   \n",
       "\n",
       "  CNT_CCPP DESCRIPCIO                                              layer  \\\n",
       "0      1.0      ANCON  ANCON_LIMA_150102_Manzanas_Poblacion_JuanPablo...   \n",
       "1      1.0      ANCON  ANCON_LIMA_150102_Manzanas_Poblacion_JuanPablo...   \n",
       "2      1.0      ANCON  ANCON_LIMA_150102_Manzanas_Poblacion_JuanPablo...   \n",
       "3      1.0      ANCON  ANCON_LIMA_150102_Manzanas_Poblacion_JuanPablo...   \n",
       "4      1.0      ANCON  ANCON_LIMA_150102_Manzanas_Poblacion_JuanPablo...   \n",
       "\n",
       "                                                path  \\\n",
       "0  C:/Users/Abril/Desktop/IEP/MAPAS/Manzanas/ANCO...   \n",
       "1  C:/Users/Abril/Desktop/IEP/MAPAS/Manzanas/ANCO...   \n",
       "2  C:/Users/Abril/Desktop/IEP/MAPAS/Manzanas/ANCO...   \n",
       "3  C:/Users/Abril/Desktop/IEP/MAPAS/Manzanas/ANCO...   \n",
       "4  C:/Users/Abril/Desktop/IEP/MAPAS/Manzanas/ANCO...   \n",
       "\n",
       "                                            geometry  \n",
       "0  MULTIPOLYGON (((-77.12763 -11.81363, -77.12723...  \n",
       "1  MULTIPOLYGON (((-77.15185 -11.73780, -77.15151...  \n",
       "2  MULTIPOLYGON (((-77.16978 -11.77796, -77.16981...  \n",
       "3  MULTIPOLYGON (((-77.15222 -11.74137, -77.15140...  \n",
       "4  MULTIPOLYGON (((-77.16253 -11.73364, -77.16255...  \n",
       "\n",
       "[5 rows x 31 columns]"
      ]
     },
     "execution_count": 3,
     "metadata": {},
     "output_type": "execute_result"
    }
   ],
   "source": [
    "print(manzanas.shape)\n",
    "manzanas.head()"
   ]
  },
  {
   "cell_type": "markdown",
   "metadata": {},
   "source": [
    "### Demanda"
   ]
  },
  {
   "cell_type": "code",
   "execution_count": 4,
   "metadata": {},
   "outputs": [
    {
     "name": "stdout",
     "output_type": "stream",
     "text": [
      "(92787, 11)\n"
     ]
    },
    {
     "data": {
      "text/html": [
       "<div>\n",
       "<style scoped>\n",
       "    .dataframe tbody tr th:only-of-type {\n",
       "        vertical-align: middle;\n",
       "    }\n",
       "\n",
       "    .dataframe tbody tr th {\n",
       "        vertical-align: top;\n",
       "    }\n",
       "\n",
       "    .dataframe thead th {\n",
       "        text-align: right;\n",
       "    }\n",
       "</style>\n",
       "<table border=\"1\" class=\"dataframe\">\n",
       "  <thead>\n",
       "    <tr style=\"text-align: right;\">\n",
       "      <th></th>\n",
       "      <th>id</th>\n",
       "      <th>ubigeo</th>\n",
       "      <th>nombdist</th>\n",
       "      <th>cod_mz</th>\n",
       "      <th>pob0a5_mz</th>\n",
       "      <th>pob0a5_dist</th>\n",
       "      <th>pob0a3_mz</th>\n",
       "      <th>pob0a3_dist</th>\n",
       "      <th>pob4a5_mz</th>\n",
       "      <th>pob4a5_dist</th>\n",
       "      <th>geom</th>\n",
       "    </tr>\n",
       "  </thead>\n",
       "  <tbody>\n",
       "    <tr>\n",
       "      <th>0</th>\n",
       "      <td>45548.0</td>\n",
       "      <td>150125</td>\n",
       "      <td>PUENTE PIEDRA</td>\n",
       "      <td>150125000103300030O</td>\n",
       "      <td>7</td>\n",
       "      <td>46940</td>\n",
       "      <td>4.0</td>\n",
       "      <td>30716</td>\n",
       "      <td>3.0</td>\n",
       "      <td>16225</td>\n",
       "      <td>0106000020E6100000010000000103000000010000000C...</td>\n",
       "    </tr>\n",
       "    <tr>\n",
       "      <th>1</th>\n",
       "      <td>45561.0</td>\n",
       "      <td>150125</td>\n",
       "      <td>PUENTE PIEDRA</td>\n",
       "      <td>150125000101000052</td>\n",
       "      <td>16</td>\n",
       "      <td>46940</td>\n",
       "      <td>10.0</td>\n",
       "      <td>30716</td>\n",
       "      <td>5.0</td>\n",
       "      <td>16225</td>\n",
       "      <td>0106000020E61000000100000001030000000100000007...</td>\n",
       "    </tr>\n",
       "    <tr>\n",
       "      <th>2</th>\n",
       "      <td>45566.0</td>\n",
       "      <td>150125</td>\n",
       "      <td>PUENTE PIEDRA</td>\n",
       "      <td>150125000103600034E</td>\n",
       "      <td>9</td>\n",
       "      <td>46940</td>\n",
       "      <td>8.0</td>\n",
       "      <td>30716</td>\n",
       "      <td>1.0</td>\n",
       "      <td>16225</td>\n",
       "      <td>0106000020E61000000100000001030000000100000010...</td>\n",
       "    </tr>\n",
       "    <tr>\n",
       "      <th>3</th>\n",
       "      <td>45569.0</td>\n",
       "      <td>150125</td>\n",
       "      <td>PUENTE PIEDRA</td>\n",
       "      <td>150125000100900035</td>\n",
       "      <td>8</td>\n",
       "      <td>46940</td>\n",
       "      <td>4.0</td>\n",
       "      <td>30716</td>\n",
       "      <td>4.0</td>\n",
       "      <td>16225</td>\n",
       "      <td>0106000020E61000000100000001030000000100000008...</td>\n",
       "    </tr>\n",
       "    <tr>\n",
       "      <th>4</th>\n",
       "      <td>45573.0</td>\n",
       "      <td>150125</td>\n",
       "      <td>PUENTE PIEDRA</td>\n",
       "      <td>150125000101300014C</td>\n",
       "      <td>21</td>\n",
       "      <td>46940</td>\n",
       "      <td>10.0</td>\n",
       "      <td>30716</td>\n",
       "      <td>10.0</td>\n",
       "      <td>16225</td>\n",
       "      <td>0106000020E61000000100000001030000000100000032...</td>\n",
       "    </tr>\n",
       "  </tbody>\n",
       "</table>\n",
       "</div>"
      ],
      "text/plain": [
       "        id  ubigeo       nombdist               cod_mz  pob0a5_mz  \\\n",
       "0  45548.0  150125  PUENTE PIEDRA  150125000103300030O          7   \n",
       "1  45561.0  150125  PUENTE PIEDRA   150125000101000052         16   \n",
       "2  45566.0  150125  PUENTE PIEDRA  150125000103600034E          9   \n",
       "3  45569.0  150125  PUENTE PIEDRA   150125000100900035          8   \n",
       "4  45573.0  150125  PUENTE PIEDRA  150125000101300014C         21   \n",
       "\n",
       "   pob0a5_dist  pob0a3_mz  pob0a3_dist  pob4a5_mz  pob4a5_dist  \\\n",
       "0        46940        4.0        30716        3.0        16225   \n",
       "1        46940       10.0        30716        5.0        16225   \n",
       "2        46940        8.0        30716        1.0        16225   \n",
       "3        46940        4.0        30716        4.0        16225   \n",
       "4        46940       10.0        30716       10.0        16225   \n",
       "\n",
       "                                                geom  \n",
       "0  0106000020E6100000010000000103000000010000000C...  \n",
       "1  0106000020E61000000100000001030000000100000007...  \n",
       "2  0106000020E61000000100000001030000000100000010...  \n",
       "3  0106000020E61000000100000001030000000100000008...  \n",
       "4  0106000020E61000000100000001030000000100000032...  "
      ]
     },
     "execution_count": 4,
     "metadata": {},
     "output_type": "execute_result"
    }
   ],
   "source": [
    "demanda = pd.read_csv(\"data/BBDD Perú demanda/1_limamet_pob0a5_mz.csv\")\n",
    "print(demanda.shape)\n",
    "demanda.head()"
   ]
  },
  {
   "cell_type": "code",
   "execution_count": 5,
   "metadata": {},
   "outputs": [
    {
     "data": {
      "text/plain": [
       "Index(['id', 'ubigeo', 'nombdist', 'cod_mz', 'pob0a5_mz', 'pob0a5_dist',\n",
       "       'pob0a3_mz', 'pob0a3_dist', 'pob4a5_mz', 'pob4a5_dist', 'geom'],\n",
       "      dtype='object')"
      ]
     },
     "execution_count": 5,
     "metadata": {},
     "output_type": "execute_result"
    }
   ],
   "source": [
    "demanda.columns"
   ]
  },
  {
   "cell_type": "code",
   "execution_count": 6,
   "metadata": {},
   "outputs": [
    {
     "name": "stdout",
     "output_type": "stream",
     "text": [
      "<class 'geopandas.geodataframe.GeoDataFrame'>\n",
      "RangeIndex: 126043 entries, 0 to 126042\n",
      "Data columns (total 38 columns):\n",
      " #   Column       Non-Null Count   Dtype   \n",
      "---  ------       --------------   -----   \n",
      " 0   Mz           126043 non-null  object  \n",
      " 1   UBIGEO       126043 non-null  object  \n",
      " 2   AREA         126043 non-null  object  \n",
      " 3   CODCCPP      126043 non-null  object  \n",
      " 4   ZONA         126043 non-null  object  \n",
      " 5   MANZANA_ID   123291 non-null  object  \n",
      " 6   MANZANA_A    46601 non-null   object  \n",
      " 7   T_TOTAL      126043 non-null  float64 \n",
      " 8   T_HOMBRES    126043 non-null  float64 \n",
      " 9   T_MUJERES    126043 non-null  float64 \n",
      " 10  LLAVE_MZS    126043 non-null  object  \n",
      " 11  contacto     126043 non-null  object  \n",
      " 12  descargar    126043 non-null  object  \n",
      " 13  whatsapp     126043 non-null  float64 \n",
      " 14  NOMBDEP      126043 non-null  object  \n",
      " 15  NOMBPROV     126043 non-null  object  \n",
      " 16  IDPROV       126043 non-null  object  \n",
      " 17  ARCHIVO      126043 non-null  object  \n",
      " 18  Nombre       94193 non-null   object  \n",
      " 19  Apellido     94193 non-null   object  \n",
      " 20  CCDD         94193 non-null   object  \n",
      " 21  CCPP         94193 non-null   object  \n",
      " 22  CCDI         94193 non-null   object  \n",
      " 23  NOMBDIST     94193 non-null   object  \n",
      " 24  CAPITAL      94193 non-null   object  \n",
      " 25  CODIGO       94193 non-null   object  \n",
      " 26  CNT_CCPP     94193 non-null   float64 \n",
      " 27  DESCRIPCIO   94193 non-null   object  \n",
      " 28  layer        126043 non-null  object  \n",
      " 29  path         126043 non-null  object  \n",
      " 30  geometry     126043 non-null  geometry\n",
      " 31  cod_mz       93444 non-null   object  \n",
      " 32  pob0a5_mz    93444 non-null   float64 \n",
      " 33  pob0a5_dist  93444 non-null   float64 \n",
      " 34  pob0a3_mz    88241 non-null   float64 \n",
      " 35  pob0a3_dist  93444 non-null   float64 \n",
      " 36  pob4a5_mz    78688 non-null   float64 \n",
      " 37  pob4a5_dist  93444 non-null   float64 \n",
      "dtypes: float64(11), geometry(1), object(26)\n",
      "memory usage: 36.5+ MB\n"
     ]
    }
   ],
   "source": [
    "demanda_reduc = demanda[[ 'cod_mz', 'pob0a5_mz', 'pob0a5_dist',\n",
    "       'pob0a3_mz', 'pob0a3_dist', 'pob4a5_mz', 'pob4a5_dist']]\n",
    "manzanas_merged = pd.merge(manzanas, demanda_reduc, left_on=\"Mz\", right_on=\"cod_mz\", how=\"left\")\n",
    "\n",
    "manzanas_merged.info()"
   ]
  },
  {
   "cell_type": "markdown",
   "metadata": {},
   "source": [
    "### Oferta"
   ]
  },
  {
   "cell_type": "code",
   "execution_count": 7,
   "metadata": {},
   "outputs": [
    {
     "name": "stdout",
     "output_type": "stream",
     "text": [
      "(19960, 3)\n"
     ]
    },
    {
     "data": {
      "text/html": [
       "<div>\n",
       "<style scoped>\n",
       "    .dataframe tbody tr th:only-of-type {\n",
       "        vertical-align: middle;\n",
       "    }\n",
       "\n",
       "    .dataframe tbody tr th {\n",
       "        vertical-align: top;\n",
       "    }\n",
       "\n",
       "    .dataframe thead th {\n",
       "        text-align: right;\n",
       "    }\n",
       "</style>\n",
       "<table border=\"1\" class=\"dataframe\">\n",
       "  <thead>\n",
       "    <tr style=\"text-align: right;\">\n",
       "      <th></th>\n",
       "      <th>nombre</th>\n",
       "      <th>lat</th>\n",
       "      <th>lng</th>\n",
       "    </tr>\n",
       "  </thead>\n",
       "  <tbody>\n",
       "    <tr>\n",
       "      <th>0</th>\n",
       "      <td>20915</td>\n",
       "      <td>-12.222213</td>\n",
       "      <td>-76.84330</td>\n",
       "    </tr>\n",
       "    <tr>\n",
       "      <th>1</th>\n",
       "      <td>534</td>\n",
       "      <td>-12.294030</td>\n",
       "      <td>-76.85290</td>\n",
       "    </tr>\n",
       "    <tr>\n",
       "      <th>2</th>\n",
       "      <td>6012</td>\n",
       "      <td>-12.244750</td>\n",
       "      <td>-76.85715</td>\n",
       "    </tr>\n",
       "    <tr>\n",
       "      <th>3</th>\n",
       "      <td>6061 CORONEL FRANCISCO BOLOGNESI</td>\n",
       "      <td>-12.237720</td>\n",
       "      <td>-76.87031</td>\n",
       "    </tr>\n",
       "    <tr>\n",
       "      <th>4</th>\n",
       "      <td>655</td>\n",
       "      <td>-12.237070</td>\n",
       "      <td>-76.91066</td>\n",
       "    </tr>\n",
       "  </tbody>\n",
       "</table>\n",
       "</div>"
      ],
      "text/plain": [
       "                             nombre        lat       lng\n",
       "0                             20915 -12.222213 -76.84330\n",
       "1                               534 -12.294030 -76.85290\n",
       "2                              6012 -12.244750 -76.85715\n",
       "3  6061 CORONEL FRANCISCO BOLOGNESI -12.237720 -76.87031\n",
       "4                               655 -12.237070 -76.91066"
      ]
     },
     "execution_count": 7,
     "metadata": {},
     "output_type": "execute_result"
    }
   ],
   "source": [
    "oferta = pd.read_excel(\"data/BBDD Perú oferta/padron_consolidado_completo_0a5_modif.xlsx\", sheet_name=\"combinado\", usecols=[\"nombre\", \"nlatie\", \"nlongie\", \"lat\", \"lng\"])\n",
    "\n",
    "oferta[\"nlatie\"].fillna(oferta[\"lat\"], inplace=True)\n",
    "oferta[\"nlongie\"].fillna(oferta[\"lng\"], inplace=True)\n",
    "\n",
    "cols_drop = [\"lat\", \"lng\"]\n",
    "oferta.drop(cols_drop, axis=1, inplace=True)\n",
    "newnames = {'nlatie':'lat',\n",
    "            'nlongie':'lng'}\n",
    "oferta.rename(columns=newnames, inplace=True)\n",
    "print(oferta.shape)\n",
    "oferta.head()"
   ]
  },
  {
   "cell_type": "markdown",
   "metadata": {},
   "source": [
    "### Tiempos de viaje\n",
    "\n",
    "El dataset contiene 2 variables:  \n",
    "0 corresponde a la distancia  \n",
    "1 corresponde a la duración del recorrido  "
   ]
  },
  {
   "cell_type": "code",
   "execution_count": 8,
   "metadata": {},
   "outputs": [
    {
     "name": "stdout",
     "output_type": "stream",
     "text": [
      "(124903, 2)\n"
     ]
    },
    {
     "data": {
      "text/html": [
       "<div>\n",
       "<style scoped>\n",
       "    .dataframe tbody tr th:only-of-type {\n",
       "        vertical-align: middle;\n",
       "    }\n",
       "\n",
       "    .dataframe tbody tr th {\n",
       "        vertical-align: top;\n",
       "    }\n",
       "\n",
       "    .dataframe thead th {\n",
       "        text-align: right;\n",
       "    }\n",
       "</style>\n",
       "<table border=\"1\" class=\"dataframe\">\n",
       "  <thead>\n",
       "    <tr style=\"text-align: right;\">\n",
       "      <th></th>\n",
       "      <th>0</th>\n",
       "      <th>1</th>\n",
       "    </tr>\n",
       "  </thead>\n",
       "  <tbody>\n",
       "    <tr>\n",
       "      <th>0</th>\n",
       "      <td>5125.7</td>\n",
       "      <td>3694.8</td>\n",
       "    </tr>\n",
       "    <tr>\n",
       "      <th>1</th>\n",
       "      <td>515.1</td>\n",
       "      <td>370.9</td>\n",
       "    </tr>\n",
       "    <tr>\n",
       "      <th>2</th>\n",
       "      <td>369.8</td>\n",
       "      <td>266.2</td>\n",
       "    </tr>\n",
       "    <tr>\n",
       "      <th>3</th>\n",
       "      <td>359.1</td>\n",
       "      <td>258.5</td>\n",
       "    </tr>\n",
       "    <tr>\n",
       "      <th>4</th>\n",
       "      <td>1316.7</td>\n",
       "      <td>948.4</td>\n",
       "    </tr>\n",
       "  </tbody>\n",
       "</table>\n",
       "</div>"
      ],
      "text/plain": [
       "        0       1\n",
       "0  5125.7  3694.8\n",
       "1   515.1   370.9\n",
       "2   369.8   266.2\n",
       "3   359.1   258.5\n",
       "4  1316.7   948.4"
      ]
     },
     "execution_count": 8,
     "metadata": {},
     "output_type": "execute_result"
    }
   ],
   "source": [
    "tiempos = pd.read_csv(\"data/BBDD Perú accesibilidad/distance_duration_0a5.csv\")\n",
    "print(tiempos.shape)\n",
    "tiempos.head()"
   ]
  },
  {
   "cell_type": "markdown",
   "metadata": {},
   "source": [
    "#### Matcheo de bases a manzanas"
   ]
  },
  {
   "cell_type": "code",
   "execution_count": 9,
   "metadata": {},
   "outputs": [],
   "source": [
    "manzanas_merged['distancia_a_centro_05'] =  tiempos[\"0\"] / 1000 # metros a km\n",
    "manzanas_merged['duracion_a_centro_05'] = tiempos[\"1\"] / 60 # segundos a minutos"
   ]
  },
  {
   "cell_type": "markdown",
   "metadata": {},
   "source": [
    "### Pobreza"
   ]
  },
  {
   "cell_type": "code",
   "execution_count": 10,
   "metadata": {},
   "outputs": [
    {
     "name": "stdout",
     "output_type": "stream",
     "text": [
      "(98911, 10)\n"
     ]
    },
    {
     "data": {
      "text/html": [
       "<div>\n",
       "<style scoped>\n",
       "    .dataframe tbody tr th:only-of-type {\n",
       "        vertical-align: middle;\n",
       "    }\n",
       "\n",
       "    .dataframe tbody tr th {\n",
       "        vertical-align: top;\n",
       "    }\n",
       "\n",
       "    .dataframe thead th {\n",
       "        text-align: right;\n",
       "    }\n",
       "</style>\n",
       "<table border=\"1\" class=\"dataframe\">\n",
       "  <thead>\n",
       "    <tr style=\"text-align: right;\">\n",
       "      <th></th>\n",
       "      <th>FID</th>\n",
       "      <th>idmanzana</th>\n",
       "      <th>Ubigeo</th>\n",
       "      <th>Departamento</th>\n",
       "      <th>Provincia</th>\n",
       "      <th>Distrito</th>\n",
       "      <th>Hogares</th>\n",
       "      <th>Población</th>\n",
       "      <th>Estrato</th>\n",
       "      <th>geom</th>\n",
       "    </tr>\n",
       "  </thead>\n",
       "  <tbody>\n",
       "    <tr>\n",
       "      <th>0</th>\n",
       "      <td>peru_estratos_ingresos.14645</td>\n",
       "      <td>150106092000020</td>\n",
       "      <td>150106</td>\n",
       "      <td>LIMA</td>\n",
       "      <td>LIMA</td>\n",
       "      <td>CARABAYLLO</td>\n",
       "      <td>4</td>\n",
       "      <td>10</td>\n",
       "      <td>2</td>\n",
       "      <td>MULTIPOLYGON (((-77.02289224399993 -11.8951647...</td>\n",
       "    </tr>\n",
       "    <tr>\n",
       "      <th>1</th>\n",
       "      <td>peru_estratos_ingresos.14646</td>\n",
       "      <td>150106092000010</td>\n",
       "      <td>150106</td>\n",
       "      <td>LIMA</td>\n",
       "      <td>LIMA</td>\n",
       "      <td>CARABAYLLO</td>\n",
       "      <td>31</td>\n",
       "      <td>129</td>\n",
       "      <td>2</td>\n",
       "      <td>MULTIPOLYGON (((-77.02352222499997 -11.8947903...</td>\n",
       "    </tr>\n",
       "    <tr>\n",
       "      <th>2</th>\n",
       "      <td>peru_estratos_ingresos.14647</td>\n",
       "      <td>150106035000100</td>\n",
       "      <td>150106</td>\n",
       "      <td>LIMA</td>\n",
       "      <td>LIMA</td>\n",
       "      <td>CARABAYLLO</td>\n",
       "      <td>14</td>\n",
       "      <td>50</td>\n",
       "      <td>1</td>\n",
       "      <td>MULTIPOLYGON (((-77.07526241299996 -11.8439180...</td>\n",
       "    </tr>\n",
       "    <tr>\n",
       "      <th>3</th>\n",
       "      <td>peru_estratos_ingresos.14648</td>\n",
       "      <td>150106092000450</td>\n",
       "      <td>150106</td>\n",
       "      <td>LIMA</td>\n",
       "      <td>LIMA</td>\n",
       "      <td>CARABAYLLO</td>\n",
       "      <td>32</td>\n",
       "      <td>149</td>\n",
       "      <td>2</td>\n",
       "      <td>MULTIPOLYGON (((-77.02031777899998 -11.8968804...</td>\n",
       "    </tr>\n",
       "    <tr>\n",
       "      <th>4</th>\n",
       "      <td>peru_estratos_ingresos.14649</td>\n",
       "      <td>150106092000080</td>\n",
       "      <td>150106</td>\n",
       "      <td>LIMA</td>\n",
       "      <td>LIMA</td>\n",
       "      <td>CARABAYLLO</td>\n",
       "      <td>55</td>\n",
       "      <td>263</td>\n",
       "      <td>2</td>\n",
       "      <td>MULTIPOLYGON (((-77.02249469799995 -11.8977410...</td>\n",
       "    </tr>\n",
       "  </tbody>\n",
       "</table>\n",
       "</div>"
      ],
      "text/plain": [
       "                            FID        idmanzana  Ubigeo Departamento  \\\n",
       "0  peru_estratos_ingresos.14645  150106092000020  150106         LIMA   \n",
       "1  peru_estratos_ingresos.14646  150106092000010  150106         LIMA   \n",
       "2  peru_estratos_ingresos.14647  150106035000100  150106         LIMA   \n",
       "3  peru_estratos_ingresos.14648  150106092000450  150106         LIMA   \n",
       "4  peru_estratos_ingresos.14649  150106092000080  150106         LIMA   \n",
       "\n",
       "  Provincia    Distrito  Hogares  Población  Estrato  \\\n",
       "0      LIMA  CARABAYLLO        4         10        2   \n",
       "1      LIMA  CARABAYLLO       31        129        2   \n",
       "2      LIMA  CARABAYLLO       14         50        1   \n",
       "3      LIMA  CARABAYLLO       32        149        2   \n",
       "4      LIMA  CARABAYLLO       55        263        2   \n",
       "\n",
       "                                                geom  \n",
       "0  MULTIPOLYGON (((-77.02289224399993 -11.8951647...  \n",
       "1  MULTIPOLYGON (((-77.02352222499997 -11.8947903...  \n",
       "2  MULTIPOLYGON (((-77.07526241299996 -11.8439180...  \n",
       "3  MULTIPOLYGON (((-77.02031777899998 -11.8968804...  \n",
       "4  MULTIPOLYGON (((-77.02249469799995 -11.8977410...  "
      ]
     },
     "execution_count": 10,
     "metadata": {},
     "output_type": "execute_result"
    }
   ],
   "source": [
    "pobreza = pd.read_csv(\"data/BBDD pobreza/peru_estratos_ingresos.csv\")\n",
    "print(pobreza.shape)\n",
    "pobreza.head()"
   ]
  },
  {
   "cell_type": "code",
   "execution_count": 11,
   "metadata": {},
   "outputs": [
    {
     "name": "stdout",
     "output_type": "stream",
     "text": [
      "(126043, 45)\n"
     ]
    },
    {
     "data": {
      "text/html": [
       "<div>\n",
       "<style scoped>\n",
       "    .dataframe tbody tr th:only-of-type {\n",
       "        vertical-align: middle;\n",
       "    }\n",
       "\n",
       "    .dataframe tbody tr th {\n",
       "        vertical-align: top;\n",
       "    }\n",
       "\n",
       "    .dataframe thead th {\n",
       "        text-align: right;\n",
       "    }\n",
       "</style>\n",
       "<table border=\"1\" class=\"dataframe\">\n",
       "  <thead>\n",
       "    <tr style=\"text-align: right;\">\n",
       "      <th></th>\n",
       "      <th>Mz</th>\n",
       "      <th>UBIGEO</th>\n",
       "      <th>AREA</th>\n",
       "      <th>CODCCPP</th>\n",
       "      <th>ZONA</th>\n",
       "      <th>MANZANA_ID</th>\n",
       "      <th>MANZANA_A</th>\n",
       "      <th>T_TOTAL</th>\n",
       "      <th>T_HOMBRES</th>\n",
       "      <th>T_MUJERES</th>\n",
       "      <th>...</th>\n",
       "      <th>pob0a3_dist</th>\n",
       "      <th>pob4a5_mz</th>\n",
       "      <th>pob4a5_dist</th>\n",
       "      <th>distancia_a_centro_05</th>\n",
       "      <th>duracion_a_centro_05</th>\n",
       "      <th>idmanzana</th>\n",
       "      <th>Hogares</th>\n",
       "      <th>Población</th>\n",
       "      <th>Estrato</th>\n",
       "      <th>geom</th>\n",
       "    </tr>\n",
       "  </thead>\n",
       "  <tbody>\n",
       "    <tr>\n",
       "      <th>0</th>\n",
       "      <td>150102000102100023</td>\n",
       "      <td>150102</td>\n",
       "      <td>1</td>\n",
       "      <td>0001</td>\n",
       "      <td>02100</td>\n",
       "      <td>023</td>\n",
       "      <td>None</td>\n",
       "      <td>18.0</td>\n",
       "      <td>7.0</td>\n",
       "      <td>11.0</td>\n",
       "      <td>...</td>\n",
       "      <td>7220.0</td>\n",
       "      <td>2.0</td>\n",
       "      <td>3703.0</td>\n",
       "      <td>5.1257</td>\n",
       "      <td>61.580000</td>\n",
       "      <td>150102021000230</td>\n",
       "      <td>7.0</td>\n",
       "      <td>18.0</td>\n",
       "      <td>2.0</td>\n",
       "      <td>MULTIPOLYGON (((-77.12763 -11.81363, -77.12723...</td>\n",
       "    </tr>\n",
       "    <tr>\n",
       "      <th>1</th>\n",
       "      <td>150102000101101010</td>\n",
       "      <td>150102</td>\n",
       "      <td>1</td>\n",
       "      <td>0001</td>\n",
       "      <td>01101</td>\n",
       "      <td>010</td>\n",
       "      <td>None</td>\n",
       "      <td>31.0</td>\n",
       "      <td>14.0</td>\n",
       "      <td>17.0</td>\n",
       "      <td>...</td>\n",
       "      <td>7220.0</td>\n",
       "      <td>3.0</td>\n",
       "      <td>3703.0</td>\n",
       "      <td>0.5151</td>\n",
       "      <td>6.181667</td>\n",
       "      <td>150102011010100</td>\n",
       "      <td>9.0</td>\n",
       "      <td>31.0</td>\n",
       "      <td>1.0</td>\n",
       "      <td>MULTIPOLYGON (((-77.15185 -11.73780, -77.15151...</td>\n",
       "    </tr>\n",
       "    <tr>\n",
       "      <th>2</th>\n",
       "      <td>150102000100600037</td>\n",
       "      <td>150102</td>\n",
       "      <td>1</td>\n",
       "      <td>0001</td>\n",
       "      <td>00600</td>\n",
       "      <td>037</td>\n",
       "      <td>None</td>\n",
       "      <td>71.0</td>\n",
       "      <td>32.0</td>\n",
       "      <td>39.0</td>\n",
       "      <td>...</td>\n",
       "      <td>7220.0</td>\n",
       "      <td>2.0</td>\n",
       "      <td>3703.0</td>\n",
       "      <td>0.3698</td>\n",
       "      <td>4.436667</td>\n",
       "      <td>150102006000370</td>\n",
       "      <td>20.0</td>\n",
       "      <td>71.0</td>\n",
       "      <td>2.0</td>\n",
       "      <td>MULTIPOLYGON (((-77.16978 -11.77796, -77.16981...</td>\n",
       "    </tr>\n",
       "    <tr>\n",
       "      <th>3</th>\n",
       "      <td>150102000101202048</td>\n",
       "      <td>150102</td>\n",
       "      <td>1</td>\n",
       "      <td>0001</td>\n",
       "      <td>01202</td>\n",
       "      <td>048</td>\n",
       "      <td>None</td>\n",
       "      <td>12.0</td>\n",
       "      <td>5.0</td>\n",
       "      <td>7.0</td>\n",
       "      <td>...</td>\n",
       "      <td>7220.0</td>\n",
       "      <td>NaN</td>\n",
       "      <td>3703.0</td>\n",
       "      <td>0.3591</td>\n",
       "      <td>4.308333</td>\n",
       "      <td>150102012020480</td>\n",
       "      <td>4.0</td>\n",
       "      <td>12.0</td>\n",
       "      <td>1.0</td>\n",
       "      <td>MULTIPOLYGON (((-77.15222 -11.74137, -77.15140...</td>\n",
       "    </tr>\n",
       "    <tr>\n",
       "      <th>4</th>\n",
       "      <td>150102000101202010A</td>\n",
       "      <td>150102</td>\n",
       "      <td>1</td>\n",
       "      <td>0001</td>\n",
       "      <td>01202</td>\n",
       "      <td>010</td>\n",
       "      <td>A</td>\n",
       "      <td>2.0</td>\n",
       "      <td>0.0</td>\n",
       "      <td>2.0</td>\n",
       "      <td>...</td>\n",
       "      <td>NaN</td>\n",
       "      <td>NaN</td>\n",
       "      <td>NaN</td>\n",
       "      <td>1.3167</td>\n",
       "      <td>15.806667</td>\n",
       "      <td>15010201202010A</td>\n",
       "      <td>1.0</td>\n",
       "      <td>2.0</td>\n",
       "      <td>3.0</td>\n",
       "      <td>MULTIPOLYGON (((-77.16253 -11.73364, -77.16255...</td>\n",
       "    </tr>\n",
       "  </tbody>\n",
       "</table>\n",
       "<p>5 rows × 45 columns</p>\n",
       "</div>"
      ],
      "text/plain": [
       "                    Mz  UBIGEO AREA CODCCPP   ZONA MANZANA_ID MANZANA_A  \\\n",
       "0   150102000102100023  150102    1    0001  02100        023      None   \n",
       "1   150102000101101010  150102    1    0001  01101        010      None   \n",
       "2   150102000100600037  150102    1    0001  00600        037      None   \n",
       "3   150102000101202048  150102    1    0001  01202        048      None   \n",
       "4  150102000101202010A  150102    1    0001  01202        010         A   \n",
       "\n",
       "   T_TOTAL  T_HOMBRES  T_MUJERES  ... pob0a3_dist pob4a5_mz pob4a5_dist  \\\n",
       "0     18.0        7.0       11.0  ...      7220.0       2.0      3703.0   \n",
       "1     31.0       14.0       17.0  ...      7220.0       3.0      3703.0   \n",
       "2     71.0       32.0       39.0  ...      7220.0       2.0      3703.0   \n",
       "3     12.0        5.0        7.0  ...      7220.0       NaN      3703.0   \n",
       "4      2.0        0.0        2.0  ...         NaN       NaN         NaN   \n",
       "\n",
       "   distancia_a_centro_05 duracion_a_centro_05        idmanzana Hogares  \\\n",
       "0                 5.1257            61.580000  150102021000230     7.0   \n",
       "1                 0.5151             6.181667  150102011010100     9.0   \n",
       "2                 0.3698             4.436667  150102006000370    20.0   \n",
       "3                 0.3591             4.308333  150102012020480     4.0   \n",
       "4                 1.3167            15.806667  15010201202010A     1.0   \n",
       "\n",
       "  Población Estrato                                               geom  \n",
       "0      18.0     2.0  MULTIPOLYGON (((-77.12763 -11.81363, -77.12723...  \n",
       "1      31.0     1.0  MULTIPOLYGON (((-77.15185 -11.73780, -77.15151...  \n",
       "2      71.0     2.0  MULTIPOLYGON (((-77.16978 -11.77796, -77.16981...  \n",
       "3      12.0     1.0  MULTIPOLYGON (((-77.15222 -11.74137, -77.15140...  \n",
       "4       2.0     3.0  MULTIPOLYGON (((-77.16253 -11.73364, -77.16255...  \n",
       "\n",
       "[5 rows x 45 columns]"
      ]
     },
     "execution_count": 11,
     "metadata": {},
     "output_type": "execute_result"
    }
   ],
   "source": [
    "from shapely import wkt\n",
    "import geopandas as gpd\n",
    "\n",
    "# Convert the 'geom' column from WKT to shapely objects\n",
    "pobreza['geom'] = pobreza['geom'].apply(wkt.loads)\n",
    "\n",
    "# Now create the GeoDataFrame\n",
    "gdf = gpd.GeoDataFrame(pobreza, geometry='geom')\n",
    "\n",
    "manzanas_merged = pd.merge(manzanas_merged, gdf[[\"idmanzana\", \"Hogares\", \"Población\", \"Estrato\", \"geom\"]], left_on='geometry', right_on=\"geom\", how=\"left\")\n",
    "print(manzanas_merged.shape)\n",
    "manzanas_merged.head()"
   ]
  },
  {
   "cell_type": "code",
   "execution_count": 12,
   "metadata": {},
   "outputs": [
    {
     "name": "stdout",
     "output_type": "stream",
     "text": [
      "<class 'geopandas.geodataframe.GeoDataFrame'>\n",
      "RangeIndex: 126043 entries, 0 to 126042\n",
      "Data columns (total 45 columns):\n",
      " #   Column                 Non-Null Count   Dtype   \n",
      "---  ------                 --------------   -----   \n",
      " 0   Mz                     126043 non-null  object  \n",
      " 1   UBIGEO                 126043 non-null  object  \n",
      " 2   AREA                   126043 non-null  object  \n",
      " 3   CODCCPP                126043 non-null  object  \n",
      " 4   ZONA                   126043 non-null  object  \n",
      " 5   MANZANA_ID             123291 non-null  object  \n",
      " 6   MANZANA_A              46601 non-null   object  \n",
      " 7   T_TOTAL                126043 non-null  float64 \n",
      " 8   T_HOMBRES              126043 non-null  float64 \n",
      " 9   T_MUJERES              126043 non-null  float64 \n",
      " 10  LLAVE_MZS              126043 non-null  object  \n",
      " 11  contacto               126043 non-null  object  \n",
      " 12  descargar              126043 non-null  object  \n",
      " 13  whatsapp               126043 non-null  float64 \n",
      " 14  NOMBDEP                126043 non-null  object  \n",
      " 15  NOMBPROV               126043 non-null  object  \n",
      " 16  IDPROV                 126043 non-null  object  \n",
      " 17  ARCHIVO                126043 non-null  object  \n",
      " 18  Nombre                 94193 non-null   object  \n",
      " 19  Apellido               94193 non-null   object  \n",
      " 20  CCDD                   94193 non-null   object  \n",
      " 21  CCPP                   94193 non-null   object  \n",
      " 22  CCDI                   94193 non-null   object  \n",
      " 23  NOMBDIST               94193 non-null   object  \n",
      " 24  CAPITAL                94193 non-null   object  \n",
      " 25  CODIGO                 94193 non-null   object  \n",
      " 26  CNT_CCPP               94193 non-null   float64 \n",
      " 27  DESCRIPCIO             94193 non-null   object  \n",
      " 28  layer                  126043 non-null  object  \n",
      " 29  path                   126043 non-null  object  \n",
      " 30  geometry               126043 non-null  geometry\n",
      " 31  cod_mz                 93444 non-null   object  \n",
      " 32  pob0a5_mz              93444 non-null   float64 \n",
      " 33  pob0a5_dist            93444 non-null   float64 \n",
      " 34  pob0a3_mz              88241 non-null   float64 \n",
      " 35  pob0a3_dist            93444 non-null   float64 \n",
      " 36  pob4a5_mz              78688 non-null   float64 \n",
      " 37  pob4a5_dist            93444 non-null   float64 \n",
      " 38  distancia_a_centro_05  120306 non-null  float64 \n",
      " 39  duracion_a_centro_05   120306 non-null  float64 \n",
      " 40  idmanzana              98639 non-null   object  \n",
      " 41  Hogares                98639 non-null   float64 \n",
      " 42  Población              98639 non-null   float64 \n",
      " 43  Estrato                98639 non-null   float64 \n",
      " 44  geom                   98639 non-null   geometry\n",
      "dtypes: float64(16), geometry(2), object(27)\n",
      "memory usage: 43.3+ MB\n"
     ]
    }
   ],
   "source": [
    "manzanas_merged.info()"
   ]
  },
  {
   "cell_type": "markdown",
   "metadata": {},
   "source": [
    "# Clasificaciones"
   ]
  },
  {
   "cell_type": "markdown",
   "metadata": {},
   "source": [
    "## Opción 1 - Clasificación mediante aprendizaje no supervisado"
   ]
  },
  {
   "cell_type": "markdown",
   "metadata": {},
   "source": [
    "Agrupación de grupos en clusters - k medias"
   ]
  },
  {
   "cell_type": "markdown",
   "metadata": {},
   "source": [
    "+ Preprocesamiento"
   ]
  },
  {
   "cell_type": "code",
   "execution_count": 13,
   "metadata": {},
   "outputs": [],
   "source": [
    "df = pd.DataFrame(manzanas_merged.drop(columns=['Mz', 'UBIGEO', 'AREA', 'CODCCPP', 'ZONA', 'MANZANA_ID', 'MANZANA_A',  'LLAVE_MZS', 'contacto',\n",
    "       'descargar', 'whatsapp', 'NOMBDEP', 'NOMBPROV', 'IDPROV', 'ARCHIVO',\n",
    "       'Nombre', 'Apellido', 'CCDD', 'CCPP', 'CCDI', 'NOMBDIST', 'CAPITAL',\n",
    "       'CODIGO', 'CNT_CCPP', 'DESCRIPCIO', 'layer', 'path', 'idmanzana',\n",
    "       'geom', 'T_TOTAL', 'cod_mz', 'T_HOMBRES', 'T_MUJERES', 'pob0a3_dist', 'pob4a5_dist', 'pob0a5_dist']))\n",
    "\n",
    "# Dejo geometry para dropear despues de quitar nulls"
   ]
  },
  {
   "cell_type": "code",
   "execution_count": 14,
   "metadata": {},
   "outputs": [],
   "source": [
    "df['pob0a5_mz'] = df['pob0a5_mz'].fillna(0)\n",
    "df['pob0a3_mz'] = df['pob0a3_mz'].fillna(0)\n",
    "df['pob4a5_mz'] = df['pob4a5_mz'].fillna(0)\n",
    "df = df.dropna()\n"
   ]
  },
  {
   "cell_type": "markdown",
   "metadata": {},
   "source": [
    "+ Scaling"
   ]
  },
  {
   "cell_type": "code",
   "execution_count": 15,
   "metadata": {},
   "outputs": [],
   "source": [
    "from sklearn.preprocessing import StandardScaler\n",
    "\n",
    "columns_to_scale = ['distancia_a_centro_05', 'duracion_a_centro_05',\n",
    "       'pob0a5_mz', 'pob0a3_mz', 'pob4a5_mz', 'Población',\n",
    "       'Estrato']  \n",
    "\n",
    "scaler = StandardScaler()\n",
    "\n",
    "df_scaled = scaler.fit_transform(df[columns_to_scale])\n",
    "\n"
   ]
  },
  {
   "cell_type": "markdown",
   "metadata": {},
   "source": [
    "k-means study with Elbow method"
   ]
  },
  {
   "cell_type": "code",
   "execution_count": 16,
   "metadata": {},
   "outputs": [
    {
     "name": "stderr",
     "output_type": "stream",
     "text": [
      "c:\\Users\\danid\\anaconda3\\envs\\accesibility_undp\\Lib\\site-packages\\sklearn\\cluster\\_kmeans.py:1416: FutureWarning: The default value of `n_init` will change from 10 to 'auto' in 1.4. Set the value of `n_init` explicitly to suppress the warning\n",
      "  super()._check_params_vs_input(X, default_n_init=10)\n",
      "c:\\Users\\danid\\anaconda3\\envs\\accesibility_undp\\Lib\\site-packages\\sklearn\\cluster\\_kmeans.py:1416: FutureWarning: The default value of `n_init` will change from 10 to 'auto' in 1.4. Set the value of `n_init` explicitly to suppress the warning\n",
      "  super()._check_params_vs_input(X, default_n_init=10)\n",
      "c:\\Users\\danid\\anaconda3\\envs\\accesibility_undp\\Lib\\site-packages\\sklearn\\cluster\\_kmeans.py:1416: FutureWarning: The default value of `n_init` will change from 10 to 'auto' in 1.4. Set the value of `n_init` explicitly to suppress the warning\n",
      "  super()._check_params_vs_input(X, default_n_init=10)\n",
      "c:\\Users\\danid\\anaconda3\\envs\\accesibility_undp\\Lib\\site-packages\\sklearn\\cluster\\_kmeans.py:1416: FutureWarning: The default value of `n_init` will change from 10 to 'auto' in 1.4. Set the value of `n_init` explicitly to suppress the warning\n",
      "  super()._check_params_vs_input(X, default_n_init=10)\n",
      "c:\\Users\\danid\\anaconda3\\envs\\accesibility_undp\\Lib\\site-packages\\sklearn\\cluster\\_kmeans.py:1416: FutureWarning: The default value of `n_init` will change from 10 to 'auto' in 1.4. Set the value of `n_init` explicitly to suppress the warning\n",
      "  super()._check_params_vs_input(X, default_n_init=10)\n",
      "c:\\Users\\danid\\anaconda3\\envs\\accesibility_undp\\Lib\\site-packages\\sklearn\\cluster\\_kmeans.py:1416: FutureWarning: The default value of `n_init` will change from 10 to 'auto' in 1.4. Set the value of `n_init` explicitly to suppress the warning\n",
      "  super()._check_params_vs_input(X, default_n_init=10)\n",
      "c:\\Users\\danid\\anaconda3\\envs\\accesibility_undp\\Lib\\site-packages\\sklearn\\cluster\\_kmeans.py:1416: FutureWarning: The default value of `n_init` will change from 10 to 'auto' in 1.4. Set the value of `n_init` explicitly to suppress the warning\n",
      "  super()._check_params_vs_input(X, default_n_init=10)\n",
      "c:\\Users\\danid\\anaconda3\\envs\\accesibility_undp\\Lib\\site-packages\\sklearn\\cluster\\_kmeans.py:1416: FutureWarning: The default value of `n_init` will change from 10 to 'auto' in 1.4. Set the value of `n_init` explicitly to suppress the warning\n",
      "  super()._check_params_vs_input(X, default_n_init=10)\n",
      "c:\\Users\\danid\\anaconda3\\envs\\accesibility_undp\\Lib\\site-packages\\sklearn\\cluster\\_kmeans.py:1416: FutureWarning: The default value of `n_init` will change from 10 to 'auto' in 1.4. Set the value of `n_init` explicitly to suppress the warning\n",
      "  super()._check_params_vs_input(X, default_n_init=10)\n"
     ]
    }
   ],
   "source": [
    "from sklearn.cluster import KMeans\n",
    "\n",
    "inertia = []\n",
    "k_values = range(1, 10)  # Adjust the range of k to suit your data\n",
    "\n",
    "for k in k_values:\n",
    "    model = KMeans(n_clusters=k, random_state=42)\n",
    "    model.fit(df_scaled)\n",
    "    inertia.append(model.inertia_)\n"
   ]
  },
  {
   "cell_type": "code",
   "execution_count": 17,
   "metadata": {},
   "outputs": [
    {
     "data": {
      "image/png": "[encoded data removed]",
      "text/plain": [
       "<Figure size 800x400 with 1 Axes>"
      ]
     },
     "metadata": {},
     "output_type": "display_data"
    }
   ],
   "source": [
    "plt.figure(figsize=(8, 4))\n",
    "plt.plot(k_values, inertia, 'bo-')\n",
    "plt.xlabel('Number of Clusters, k')\n",
    "plt.ylabel('Inertia')\n",
    "plt.title('The Elbow Method showing the optimal k')\n",
    "plt.show()\n"
   ]
  },
  {
   "cell_type": "code",
   "execution_count": 18,
   "metadata": {},
   "outputs": [
    {
     "name": "stderr",
     "output_type": "stream",
     "text": [
      "c:\\Users\\danid\\anaconda3\\envs\\accesibility_undp\\Lib\\site-packages\\sklearn\\cluster\\_kmeans.py:1416: FutureWarning: The default value of `n_init` will change from 10 to 'auto' in 1.4. Set the value of `n_init` explicitly to suppress the warning\n",
      "  super()._check_params_vs_input(X, default_n_init=10)\n"
     ]
    }
   ],
   "source": [
    "num_clusters = 5\n",
    "kmeans = KMeans(n_clusters=num_clusters, random_state=42)\n",
    "kmeans.fit(df_scaled)\n",
    "clusters = kmeans.labels_\n",
    "\n",
    "df['cluster'] = clusters\n",
    "\n"
   ]
  },
  {
   "cell_type": "code",
   "execution_count": 86,
   "metadata": {},
   "outputs": [
    {
     "data": {
      "text/plain": [
       "cluster\n",
       "1    57726\n",
       "3    26220\n",
       "0    14561\n",
       "2       18\n",
       "4       15\n",
       "Name: count, dtype: int64"
      ]
     },
     "execution_count": 86,
     "metadata": {},
     "output_type": "execute_result"
    }
   ],
   "source": [
    "df.cluster.value_counts()"
   ]
  },
  {
   "cell_type": "code",
   "execution_count": 87,
   "metadata": {},
   "outputs": [],
   "source": [
    "centroids = kmeans.cluster_centers_\n"
   ]
  },
  {
   "cell_type": "code",
   "execution_count": 88,
   "metadata": {},
   "outputs": [
    {
     "data": {
      "text/html": [
       "<div>\n",
       "<style scoped>\n",
       "    .dataframe tbody tr th:only-of-type {\n",
       "        vertical-align: middle;\n",
       "    }\n",
       "\n",
       "    .dataframe tbody tr th {\n",
       "        vertical-align: top;\n",
       "    }\n",
       "\n",
       "    .dataframe thead th {\n",
       "        text-align: right;\n",
       "    }\n",
       "</style>\n",
       "<table border=\"1\" class=\"dataframe\">\n",
       "  <thead>\n",
       "    <tr style=\"text-align: right;\">\n",
       "      <th></th>\n",
       "      <th>distancia_a_centro_05</th>\n",
       "      <th>duracion_a_centro_05</th>\n",
       "      <th>pob0a5_mz</th>\n",
       "      <th>pob0a3_mz</th>\n",
       "      <th>pob4a5_mz</th>\n",
       "      <th>Población</th>\n",
       "      <th>Estrato</th>\n",
       "    </tr>\n",
       "    <tr>\n",
       "      <th>cluster</th>\n",
       "      <th></th>\n",
       "      <th></th>\n",
       "      <th></th>\n",
       "      <th></th>\n",
       "      <th></th>\n",
       "      <th></th>\n",
       "      <th></th>\n",
       "    </tr>\n",
       "  </thead>\n",
       "  <tbody>\n",
       "    <tr>\n",
       "      <th>0</th>\n",
       "      <td>0.252157</td>\n",
       "      <td>3.027419</td>\n",
       "      <td>29.739510</td>\n",
       "      <td>19.123206</td>\n",
       "      <td>10.636220</td>\n",
       "      <td>262.257469</td>\n",
       "      <td>2.822677</td>\n",
       "    </tr>\n",
       "    <tr>\n",
       "      <th>1</th>\n",
       "      <td>0.501212</td>\n",
       "      <td>6.016461</td>\n",
       "      <td>5.990420</td>\n",
       "      <td>3.896823</td>\n",
       "      <td>2.026608</td>\n",
       "      <td>44.548592</td>\n",
       "      <td>1.413834</td>\n",
       "    </tr>\n",
       "    <tr>\n",
       "      <th>2</th>\n",
       "      <td>0.317644</td>\n",
       "      <td>3.817315</td>\n",
       "      <td>527.388889</td>\n",
       "      <td>351.722222</td>\n",
       "      <td>175.722222</td>\n",
       "      <td>4011.388889</td>\n",
       "      <td>3.944444</td>\n",
       "    </tr>\n",
       "    <tr>\n",
       "      <th>3</th>\n",
       "      <td>0.329390</td>\n",
       "      <td>3.957471</td>\n",
       "      <td>7.666323</td>\n",
       "      <td>4.962471</td>\n",
       "      <td>2.657018</td>\n",
       "      <td>92.406751</td>\n",
       "      <td>3.625133</td>\n",
       "    </tr>\n",
       "    <tr>\n",
       "      <th>4</th>\n",
       "      <td>760.971813</td>\n",
       "      <td>9299.486444</td>\n",
       "      <td>6.866667</td>\n",
       "      <td>4.266667</td>\n",
       "      <td>2.466667</td>\n",
       "      <td>70.266667</td>\n",
       "      <td>3.000000</td>\n",
       "    </tr>\n",
       "  </tbody>\n",
       "</table>\n",
       "</div>"
      ],
      "text/plain": [
       "         distancia_a_centro_05  duracion_a_centro_05   pob0a5_mz   pob0a3_mz  \\\n",
       "cluster                                                                        \n",
       "0                     0.252157              3.027419   29.739510   19.123206   \n",
       "1                     0.501212              6.016461    5.990420    3.896823   \n",
       "2                     0.317644              3.817315  527.388889  351.722222   \n",
       "3                     0.329390              3.957471    7.666323    4.962471   \n",
       "4                   760.971813           9299.486444    6.866667    4.266667   \n",
       "\n",
       "          pob4a5_mz    Población   Estrato  \n",
       "cluster                                     \n",
       "0         10.636220   262.257469  2.822677  \n",
       "1          2.026608    44.548592  1.413834  \n",
       "2        175.722222  4011.388889  3.944444  \n",
       "3          2.657018    92.406751  3.625133  \n",
       "4          2.466667    70.266667  3.000000  "
      ]
     },
     "execution_count": 88,
     "metadata": {},
     "output_type": "execute_result"
    }
   ],
   "source": [
    "df[columns_to_scale + ['cluster']].groupby('cluster').mean()\n"
   ]
  },
  {
   "cell_type": "code",
   "execution_count": null,
   "metadata": {},
   "outputs": [
    {
     "data": {
      "text/plain": [
       "distancia_a_centro_05     0.534418\n",
       "duracion_a_centro_05      6.441185\n",
       "pob0a5_mz                10.041070\n",
       "pob0a3_mz                 6.493931\n",
       "pob4a5_mz                 3.498366\n",
       "Población                90.181723\n",
       "Estrato                   2.211112\n",
       "cluster                   1.385042\n",
       "dtype: float64"
      ]
     },
     "execution_count": 97,
     "metadata": {},
     "output_type": "execute_result"
    }
   ],
   "source": [
    "df[columns_to_scale + ['cluster']].mean()"
   ]
  },
  {
   "cell_type": "markdown",
   "metadata": {},
   "source": [
    "Descripción:\n",
    "+ **0**: más cercano a centros, menor a la media; más demanda que la media, más población que la media; estrato medio. 3er cluster en tamaño.\n",
    "+ **1**: distancia a centros media (6 minutos), menor demanda y menor población (50% de la media). Estrato de ingresos bajo. Cluster más numeroso.\n",
    "+  **2**: Cluster no relevante en tamaño (18 casos). Centros muy cercanos, muy alta demanda y gran cantidad de población. Estrato alto.\n",
    "+ **3**: Más cerca de los centros que la media, demanda cercana a la media. Estrato alto. Segundo cluster en tamaño.\n",
    "+ **4**: Cluster no relevante en tamaño (15 casos). Muy lejanos a centros de cuidado, baja demanda, estrato medio."
   ]
  },
  {
   "cell_type": "code",
   "execution_count": 89,
   "metadata": {},
   "outputs": [],
   "source": [
    "geopan = gpd.GeoDataFrame(df, geometry='geometry')"
   ]
  },
  {
   "cell_type": "code",
   "execution_count": null,
   "metadata": {},
   "outputs": [
    {
     "data": {
      "image/png": "[encoded data removed]",
      "text/plain": [
       "<Figure size 640x480 with 1 Axes>"
      ]
     },
     "metadata": {},
     "output_type": "display_data"
    },
    {
     "data": {
      "image/png": "[encoded data removed]",
      "text/plain": [
       "<Figure size 640x480 with 1 Axes>"
      ]
     },
     "metadata": {},
     "output_type": "display_data"
    }
   ],
   "source": [
    "fig, ax = plt.subplots(1, 1)\n",
    "\n",
    "geopan.plot(column='cluster', ax=ax, legend=True, categorical=True)\n",
    "\n",
    "ax.set_title('Clusters')\n",
    "\n",
    "plt.show()"
   ]
  },
  {
   "cell_type": "markdown",
   "metadata": {},
   "source": [
    "El contexto heterogéneo hace difícil la clasificación por clusters - no hay una clara definición de desiertos de cuidado."
   ]
  },
  {
   "cell_type": "markdown",
   "metadata": {},
   "source": [
    "## Opción 2: Tipología empírica usando media y desviaciones estándar"
   ]
  },
  {
   "cell_type": "code",
   "execution_count": 19,
   "metadata": {},
   "outputs": [],
   "source": [
    "df = pd.DataFrame(manzanas_merged.drop(columns=['Mz', 'UBIGEO', 'AREA', 'CODCCPP', 'ZONA', 'MANZANA_ID', 'MANZANA_A',  'LLAVE_MZS', 'contacto',\n",
    "       'descargar', 'whatsapp', 'NOMBDEP', 'NOMBPROV', 'IDPROV', 'ARCHIVO',\n",
    "       'Nombre', 'Apellido', 'CCDD', 'CCPP', 'CCDI', 'NOMBDIST', 'CAPITAL',\n",
    "       'CODIGO', 'CNT_CCPP', 'DESCRIPCIO', 'layer', 'path', 'idmanzana',\n",
    "       'geom', 'T_TOTAL', 'cod_mz', 'T_HOMBRES', 'T_MUJERES', 'pob0a3_dist', 'pob4a5_dist', 'pob0a5_dist']))\n",
    "\n",
    "# Dejo geometry para dropear despues de quitar nulls\n",
    "\n",
    "df['pob0a5_mz'] = df['pob0a5_mz'].fillna(0)\n",
    "df['pob0a3_mz'] = df['pob0a3_mz'].fillna(0)\n",
    "df['pob4a5_mz'] = df['pob4a5_mz'].fillna(0)\n",
    "\n",
    "df = df.dropna()"
   ]
  },
  {
   "cell_type": "markdown",
   "metadata": {},
   "source": [
    "Identificación de outliers:"
   ]
  },
  {
   "cell_type": "code",
   "execution_count": 20,
   "metadata": {},
   "outputs": [
    {
     "name": "stdout",
     "output_type": "stream",
     "text": [
      "(8776, 9)\n"
     ]
    },
    {
     "data": {
      "text/html": [
       "<div>\n",
       "<style scoped>\n",
       "    .dataframe tbody tr th:only-of-type {\n",
       "        vertical-align: middle;\n",
       "    }\n",
       "\n",
       "    .dataframe tbody tr th {\n",
       "        vertical-align: top;\n",
       "    }\n",
       "\n",
       "    .dataframe thead th {\n",
       "        text-align: right;\n",
       "    }\n",
       "</style>\n",
       "<table border=\"1\" class=\"dataframe\">\n",
       "  <thead>\n",
       "    <tr style=\"text-align: right;\">\n",
       "      <th></th>\n",
       "      <th>geometry</th>\n",
       "      <th>pob0a5_mz</th>\n",
       "      <th>pob0a3_mz</th>\n",
       "      <th>pob4a5_mz</th>\n",
       "      <th>distancia_a_centro_05</th>\n",
       "      <th>duracion_a_centro_05</th>\n",
       "      <th>Hogares</th>\n",
       "      <th>Población</th>\n",
       "      <th>Estrato</th>\n",
       "    </tr>\n",
       "  </thead>\n",
       "  <tbody>\n",
       "    <tr>\n",
       "      <th>0</th>\n",
       "      <td>MULTIPOLYGON (((-77.12763 -11.81363, -77.12723...</td>\n",
       "      <td>3.0</td>\n",
       "      <td>2.0</td>\n",
       "      <td>2.0</td>\n",
       "      <td>5.1257</td>\n",
       "      <td>61.580000</td>\n",
       "      <td>7.0</td>\n",
       "      <td>18.0</td>\n",
       "      <td>2.0</td>\n",
       "    </tr>\n",
       "    <tr>\n",
       "      <th>4</th>\n",
       "      <td>MULTIPOLYGON (((-77.16253 -11.73364, -77.16255...</td>\n",
       "      <td>0.0</td>\n",
       "      <td>0.0</td>\n",
       "      <td>0.0</td>\n",
       "      <td>1.3167</td>\n",
       "      <td>15.806667</td>\n",
       "      <td>1.0</td>\n",
       "      <td>2.0</td>\n",
       "      <td>3.0</td>\n",
       "    </tr>\n",
       "    <tr>\n",
       "      <th>6</th>\n",
       "      <td>MULTIPOLYGON (((-77.15786 -11.73418, -77.15812...</td>\n",
       "      <td>9.0</td>\n",
       "      <td>9.0</td>\n",
       "      <td>0.0</td>\n",
       "      <td>0.8894</td>\n",
       "      <td>10.673333</td>\n",
       "      <td>16.0</td>\n",
       "      <td>42.0</td>\n",
       "      <td>1.0</td>\n",
       "    </tr>\n",
       "    <tr>\n",
       "      <th>12</th>\n",
       "      <td>MULTIPOLYGON (((-77.12769 -11.81433, -77.12737...</td>\n",
       "      <td>6.0</td>\n",
       "      <td>0.0</td>\n",
       "      <td>6.0</td>\n",
       "      <td>5.0932</td>\n",
       "      <td>61.191667</td>\n",
       "      <td>14.0</td>\n",
       "      <td>38.0</td>\n",
       "      <td>2.0</td>\n",
       "    </tr>\n",
       "    <tr>\n",
       "      <th>23</th>\n",
       "      <td>MULTIPOLYGON (((-77.18093 -11.77651, -77.18089...</td>\n",
       "      <td>0.0</td>\n",
       "      <td>0.0</td>\n",
       "      <td>0.0</td>\n",
       "      <td>1.2036</td>\n",
       "      <td>14.445000</td>\n",
       "      <td>1.0</td>\n",
       "      <td>4.0</td>\n",
       "      <td>4.0</td>\n",
       "    </tr>\n",
       "  </tbody>\n",
       "</table>\n",
       "</div>"
      ],
      "text/plain": [
       "                                             geometry  pob0a5_mz  pob0a3_mz  \\\n",
       "0   MULTIPOLYGON (((-77.12763 -11.81363, -77.12723...        3.0        2.0   \n",
       "4   MULTIPOLYGON (((-77.16253 -11.73364, -77.16255...        0.0        0.0   \n",
       "6   MULTIPOLYGON (((-77.15786 -11.73418, -77.15812...        9.0        9.0   \n",
       "12  MULTIPOLYGON (((-77.12769 -11.81433, -77.12737...        6.0        0.0   \n",
       "23  MULTIPOLYGON (((-77.18093 -11.77651, -77.18089...        0.0        0.0   \n",
       "\n",
       "    pob4a5_mz  distancia_a_centro_05  duracion_a_centro_05  Hogares  \\\n",
       "0         2.0                 5.1257             61.580000      7.0   \n",
       "4         0.0                 1.3167             15.806667      1.0   \n",
       "6         0.0                 0.8894             10.673333     16.0   \n",
       "12        6.0                 5.0932             61.191667     14.0   \n",
       "23        0.0                 1.2036             14.445000      1.0   \n",
       "\n",
       "    Población  Estrato  \n",
       "0        18.0      2.0  \n",
       "4         2.0      3.0  \n",
       "6        42.0      1.0  \n",
       "12       38.0      2.0  \n",
       "23        4.0      4.0  "
      ]
     },
     "execution_count": 20,
     "metadata": {},
     "output_type": "execute_result"
    }
   ],
   "source": [
    "# Calculate Q1 (25th percentile) and Q3 (75th percentile) of the travel time\n",
    "Q1 = df['duracion_a_centro_05'].quantile(0.25)\n",
    "Q3 = df['duracion_a_centro_05'].quantile(0.75)\n",
    "\n",
    "# Calculate the Interquartile Range (IQR)\n",
    "IQR = Q3 - Q1\n",
    "\n",
    "# Define the bounds for outliers\n",
    "lower_bound = Q1 - 1.5 * IQR\n",
    "upper_bound = Q3 + 1.5 * IQR\n",
    "\n",
    "# Identify outliers\n",
    "outliers = df[(df['duracion_a_centro_05'] < lower_bound) | (df['duracion_a_centro_05'] > upper_bound)]\n",
    "\n",
    "print(outliers.shape)\n",
    "outliers.head()"
   ]
  },
  {
   "cell_type": "code",
   "execution_count": 21,
   "metadata": {},
   "outputs": [
    {
     "data": {
      "text/plain": [
       "<Axes: >"
      ]
     },
     "execution_count": 21,
     "metadata": {},
     "output_type": "execute_result"
    },
    {
     "data": {
      "image/png": "[encoded data removed]",
      "text/plain": [
       "<Figure size 640x480 with 1 Axes>"
      ]
     },
     "metadata": {},
     "output_type": "display_data"
    }
   ],
   "source": [
    "outliers.duracion_a_centro_05.hist()"
   ]
  },
  {
   "cell_type": "code",
   "execution_count": 22,
   "metadata": {},
   "outputs": [
    {
     "data": {
      "text/html": [
       "<div>\n",
       "<style scoped>\n",
       "    .dataframe tbody tr th:only-of-type {\n",
       "        vertical-align: middle;\n",
       "    }\n",
       "\n",
       "    .dataframe tbody tr th {\n",
       "        vertical-align: top;\n",
       "    }\n",
       "\n",
       "    .dataframe thead th {\n",
       "        text-align: right;\n",
       "    }\n",
       "</style>\n",
       "<table border=\"1\" class=\"dataframe\">\n",
       "  <thead>\n",
       "    <tr style=\"text-align: right;\">\n",
       "      <th></th>\n",
       "      <th>pob0a5_mz</th>\n",
       "      <th>pob0a3_mz</th>\n",
       "      <th>pob4a5_mz</th>\n",
       "      <th>distancia_a_centro_05</th>\n",
       "      <th>duracion_a_centro_05</th>\n",
       "      <th>Hogares</th>\n",
       "      <th>Población</th>\n",
       "      <th>Estrato</th>\n",
       "    </tr>\n",
       "  </thead>\n",
       "  <tbody>\n",
       "    <tr>\n",
       "      <th>count</th>\n",
       "      <td>8776.000000</td>\n",
       "      <td>8776.000000</td>\n",
       "      <td>8776.000000</td>\n",
       "      <td>8776.000000</td>\n",
       "      <td>8776.000000</td>\n",
       "      <td>8776.000000</td>\n",
       "      <td>8776.000000</td>\n",
       "      <td>8776.000000</td>\n",
       "    </tr>\n",
       "    <tr>\n",
       "      <th>mean</th>\n",
       "      <td>7.916363</td>\n",
       "      <td>5.153601</td>\n",
       "      <td>2.705447</td>\n",
       "      <td>40.413136</td>\n",
       "      <td>489.810404</td>\n",
       "      <td>17.712625</td>\n",
       "      <td>64.448154</td>\n",
       "      <td>1.881267</td>\n",
       "    </tr>\n",
       "    <tr>\n",
       "      <th>std</th>\n",
       "      <td>11.771667</td>\n",
       "      <td>7.872944</td>\n",
       "      <td>4.318879</td>\n",
       "      <td>108.446026</td>\n",
       "      <td>1318.380601</td>\n",
       "      <td>27.060105</td>\n",
       "      <td>94.557609</td>\n",
       "      <td>1.002236</td>\n",
       "    </tr>\n",
       "    <tr>\n",
       "      <th>min</th>\n",
       "      <td>0.000000</td>\n",
       "      <td>0.000000</td>\n",
       "      <td>0.000000</td>\n",
       "      <td>0.803000</td>\n",
       "      <td>10.390000</td>\n",
       "      <td>1.000000</td>\n",
       "      <td>1.000000</td>\n",
       "      <td>1.000000</td>\n",
       "    </tr>\n",
       "    <tr>\n",
       "      <th>25%</th>\n",
       "      <td>1.000000</td>\n",
       "      <td>1.000000</td>\n",
       "      <td>0.000000</td>\n",
       "      <td>1.029950</td>\n",
       "      <td>12.365000</td>\n",
       "      <td>5.000000</td>\n",
       "      <td>15.000000</td>\n",
       "      <td>1.000000</td>\n",
       "    </tr>\n",
       "    <tr>\n",
       "      <th>50%</th>\n",
       "      <td>5.000000</td>\n",
       "      <td>3.000000</td>\n",
       "      <td>1.000000</td>\n",
       "      <td>1.302500</td>\n",
       "      <td>15.630833</td>\n",
       "      <td>10.000000</td>\n",
       "      <td>34.000000</td>\n",
       "      <td>2.000000</td>\n",
       "    </tr>\n",
       "    <tr>\n",
       "      <th>75%</th>\n",
       "      <td>11.000000</td>\n",
       "      <td>7.000000</td>\n",
       "      <td>4.000000</td>\n",
       "      <td>2.310050</td>\n",
       "      <td>27.720833</td>\n",
       "      <td>22.000000</td>\n",
       "      <td>82.000000</td>\n",
       "      <td>2.000000</td>\n",
       "    </tr>\n",
       "    <tr>\n",
       "      <th>max</th>\n",
       "      <td>572.000000</td>\n",
       "      <td>382.000000</td>\n",
       "      <td>189.000000</td>\n",
       "      <td>872.525900</td>\n",
       "      <td>10639.055000</td>\n",
       "      <td>1170.000000</td>\n",
       "      <td>3899.000000</td>\n",
       "      <td>5.000000</td>\n",
       "    </tr>\n",
       "  </tbody>\n",
       "</table>\n",
       "</div>"
      ],
      "text/plain": [
       "         pob0a5_mz    pob0a3_mz    pob4a5_mz  distancia_a_centro_05  \\\n",
       "count  8776.000000  8776.000000  8776.000000            8776.000000   \n",
       "mean      7.916363     5.153601     2.705447              40.413136   \n",
       "std      11.771667     7.872944     4.318879             108.446026   \n",
       "min       0.000000     0.000000     0.000000               0.803000   \n",
       "25%       1.000000     1.000000     0.000000               1.029950   \n",
       "50%       5.000000     3.000000     1.000000               1.302500   \n",
       "75%      11.000000     7.000000     4.000000               2.310050   \n",
       "max     572.000000   382.000000   189.000000             872.525900   \n",
       "\n",
       "       duracion_a_centro_05      Hogares    Población      Estrato  \n",
       "count           8776.000000  8776.000000  8776.000000  8776.000000  \n",
       "mean             489.810404    17.712625    64.448154     1.881267  \n",
       "std             1318.380601    27.060105    94.557609     1.002236  \n",
       "min               10.390000     1.000000     1.000000     1.000000  \n",
       "25%               12.365000     5.000000    15.000000     1.000000  \n",
       "50%               15.630833    10.000000    34.000000     2.000000  \n",
       "75%               27.720833    22.000000    82.000000     2.000000  \n",
       "max            10639.055000  1170.000000  3899.000000     5.000000  "
      ]
     },
     "execution_count": 22,
     "metadata": {},
     "output_type": "execute_result"
    }
   ],
   "source": [
    "outliers.describe()"
   ]
  },
  {
   "cell_type": "code",
   "execution_count": 23,
   "metadata": {},
   "outputs": [
    {
     "data": {
      "text/html": [
       "<div>\n",
       "<style scoped>\n",
       "    .dataframe tbody tr th:only-of-type {\n",
       "        vertical-align: middle;\n",
       "    }\n",
       "\n",
       "    .dataframe tbody tr th {\n",
       "        vertical-align: top;\n",
       "    }\n",
       "\n",
       "    .dataframe thead th {\n",
       "        text-align: right;\n",
       "    }\n",
       "</style>\n",
       "<table border=\"1\" class=\"dataframe\">\n",
       "  <thead>\n",
       "    <tr style=\"text-align: right;\">\n",
       "      <th></th>\n",
       "      <th>geometry</th>\n",
       "      <th>pob0a5_mz</th>\n",
       "      <th>pob0a3_mz</th>\n",
       "      <th>pob4a5_mz</th>\n",
       "      <th>distancia_a_centro_05</th>\n",
       "      <th>duracion_a_centro_05</th>\n",
       "      <th>Hogares</th>\n",
       "      <th>Población</th>\n",
       "      <th>Estrato</th>\n",
       "    </tr>\n",
       "  </thead>\n",
       "  <tbody>\n",
       "    <tr>\n",
       "      <th>22853</th>\n",
       "      <td>MULTIPOLYGON (((-77.15809 -11.83509, -77.15838...</td>\n",
       "      <td>19.0</td>\n",
       "      <td>15.0</td>\n",
       "      <td>4.0</td>\n",
       "      <td>120.8767</td>\n",
       "      <td>1450.441667</td>\n",
       "      <td>28.0</td>\n",
       "      <td>108.0</td>\n",
       "      <td>1.0</td>\n",
       "    </tr>\n",
       "    <tr>\n",
       "      <th>30319</th>\n",
       "      <td>MULTIPOLYGON (((-76.99757 -11.88233, -76.99728...</td>\n",
       "      <td>5.0</td>\n",
       "      <td>3.0</td>\n",
       "      <td>3.0</td>\n",
       "      <td>872.5259</td>\n",
       "      <td>10639.055000</td>\n",
       "      <td>5.0</td>\n",
       "      <td>18.0</td>\n",
       "      <td>1.0</td>\n",
       "    </tr>\n",
       "    <tr>\n",
       "      <th>35697</th>\n",
       "      <td>MULTIPOLYGON (((-77.04476 -11.89491, -77.04460...</td>\n",
       "      <td>29.0</td>\n",
       "      <td>19.0</td>\n",
       "      <td>11.0</td>\n",
       "      <td>90.0614</td>\n",
       "      <td>1081.571667</td>\n",
       "      <td>71.0</td>\n",
       "      <td>244.0</td>\n",
       "      <td>4.0</td>\n",
       "    </tr>\n",
       "    <tr>\n",
       "      <th>45402</th>\n",
       "      <td>MULTIPOLYGON (((-77.00740 -12.05443, -77.00732...</td>\n",
       "      <td>7.0</td>\n",
       "      <td>5.0</td>\n",
       "      <td>2.0</td>\n",
       "      <td>408.5413</td>\n",
       "      <td>4902.510000</td>\n",
       "      <td>39.0</td>\n",
       "      <td>144.0</td>\n",
       "      <td>3.0</td>\n",
       "    </tr>\n",
       "    <tr>\n",
       "      <th>65141</th>\n",
       "      <td>MULTIPOLYGON (((-76.84342 -11.97222, -76.84324...</td>\n",
       "      <td>1.0</td>\n",
       "      <td>1.0</td>\n",
       "      <td>0.0</td>\n",
       "      <td>90.2623</td>\n",
       "      <td>1083.980000</td>\n",
       "      <td>7.0</td>\n",
       "      <td>15.0</td>\n",
       "      <td>2.0</td>\n",
       "    </tr>\n",
       "    <tr>\n",
       "      <th>...</th>\n",
       "      <td>...</td>\n",
       "      <td>...</td>\n",
       "      <td>...</td>\n",
       "      <td>...</td>\n",
       "      <td>...</td>\n",
       "      <td>...</td>\n",
       "      <td>...</td>\n",
       "      <td>...</td>\n",
       "      <td>...</td>\n",
       "    </tr>\n",
       "    <tr>\n",
       "      <th>124738</th>\n",
       "      <td>MULTIPOLYGON (((-76.93692 -12.16901, -76.93692...</td>\n",
       "      <td>2.0</td>\n",
       "      <td>0.0</td>\n",
       "      <td>2.0</td>\n",
       "      <td>422.6567</td>\n",
       "      <td>5071.906667</td>\n",
       "      <td>3.0</td>\n",
       "      <td>9.0</td>\n",
       "      <td>1.0</td>\n",
       "    </tr>\n",
       "    <tr>\n",
       "      <th>124739</th>\n",
       "      <td>MULTIPOLYGON (((-76.91812 -12.16638, -76.91813...</td>\n",
       "      <td>6.0</td>\n",
       "      <td>2.0</td>\n",
       "      <td>4.0</td>\n",
       "      <td>414.4342</td>\n",
       "      <td>4973.276667</td>\n",
       "      <td>19.0</td>\n",
       "      <td>54.0</td>\n",
       "      <td>2.0</td>\n",
       "    </tr>\n",
       "    <tr>\n",
       "      <th>124740</th>\n",
       "      <td>MULTIPOLYGON (((-76.91389 -12.20689, -76.91403...</td>\n",
       "      <td>3.0</td>\n",
       "      <td>2.0</td>\n",
       "      <td>1.0</td>\n",
       "      <td>399.2003</td>\n",
       "      <td>4790.445000</td>\n",
       "      <td>12.0</td>\n",
       "      <td>36.0</td>\n",
       "      <td>2.0</td>\n",
       "    </tr>\n",
       "    <tr>\n",
       "      <th>124741</th>\n",
       "      <td>MULTIPOLYGON (((-76.90854 -12.22466, -76.90858...</td>\n",
       "      <td>2.0</td>\n",
       "      <td>2.0</td>\n",
       "      <td>0.0</td>\n",
       "      <td>391.9278</td>\n",
       "      <td>4871.100000</td>\n",
       "      <td>14.0</td>\n",
       "      <td>60.0</td>\n",
       "      <td>3.0</td>\n",
       "    </tr>\n",
       "    <tr>\n",
       "      <th>124742</th>\n",
       "      <td>MULTIPOLYGON (((-76.91243 -12.22237, -76.91248...</td>\n",
       "      <td>1.0</td>\n",
       "      <td>1.0</td>\n",
       "      <td>0.0</td>\n",
       "      <td>438.7767</td>\n",
       "      <td>5433.283333</td>\n",
       "      <td>6.0</td>\n",
       "      <td>26.0</td>\n",
       "      <td>3.0</td>\n",
       "    </tr>\n",
       "  </tbody>\n",
       "</table>\n",
       "<p>1158 rows × 9 columns</p>\n",
       "</div>"
      ],
      "text/plain": [
       "                                                 geometry  pob0a5_mz  \\\n",
       "22853   MULTIPOLYGON (((-77.15809 -11.83509, -77.15838...       19.0   \n",
       "30319   MULTIPOLYGON (((-76.99757 -11.88233, -76.99728...        5.0   \n",
       "35697   MULTIPOLYGON (((-77.04476 -11.89491, -77.04460...       29.0   \n",
       "45402   MULTIPOLYGON (((-77.00740 -12.05443, -77.00732...        7.0   \n",
       "65141   MULTIPOLYGON (((-76.84342 -11.97222, -76.84324...        1.0   \n",
       "...                                                   ...        ...   \n",
       "124738  MULTIPOLYGON (((-76.93692 -12.16901, -76.93692...        2.0   \n",
       "124739  MULTIPOLYGON (((-76.91812 -12.16638, -76.91813...        6.0   \n",
       "124740  MULTIPOLYGON (((-76.91389 -12.20689, -76.91403...        3.0   \n",
       "124741  MULTIPOLYGON (((-76.90854 -12.22466, -76.90858...        2.0   \n",
       "124742  MULTIPOLYGON (((-76.91243 -12.22237, -76.91248...        1.0   \n",
       "\n",
       "        pob0a3_mz  pob4a5_mz  distancia_a_centro_05  duracion_a_centro_05  \\\n",
       "22853        15.0        4.0               120.8767           1450.441667   \n",
       "30319         3.0        3.0               872.5259          10639.055000   \n",
       "35697        19.0       11.0                90.0614           1081.571667   \n",
       "45402         5.0        2.0               408.5413           4902.510000   \n",
       "65141         1.0        0.0                90.2623           1083.980000   \n",
       "...           ...        ...                    ...                   ...   \n",
       "124738        0.0        2.0               422.6567           5071.906667   \n",
       "124739        2.0        4.0               414.4342           4973.276667   \n",
       "124740        2.0        1.0               399.2003           4790.445000   \n",
       "124741        2.0        0.0               391.9278           4871.100000   \n",
       "124742        1.0        0.0               438.7767           5433.283333   \n",
       "\n",
       "        Hogares  Población  Estrato  \n",
       "22853      28.0      108.0      1.0  \n",
       "30319       5.0       18.0      1.0  \n",
       "35697      71.0      244.0      4.0  \n",
       "45402      39.0      144.0      3.0  \n",
       "65141       7.0       15.0      2.0  \n",
       "...         ...        ...      ...  \n",
       "124738      3.0        9.0      1.0  \n",
       "124739     19.0       54.0      2.0  \n",
       "124740     12.0       36.0      2.0  \n",
       "124741     14.0       60.0      3.0  \n",
       "124742      6.0       26.0      3.0  \n",
       "\n",
       "[1158 rows x 9 columns]"
      ]
     },
     "execution_count": 23,
     "metadata": {},
     "output_type": "execute_result"
    }
   ],
   "source": [
    "outliers_manual = df[df[\"duracion_a_centro_05\"]>1000]\n",
    "outliers_manual\n"
   ]
  },
  {
   "cell_type": "markdown",
   "metadata": {},
   "source": [
    "Considerando que las distancias son caminando, es factible tener este número de outliers. Por ahora los dejo dentro de la base."
   ]
  },
  {
   "cell_type": "markdown",
   "metadata": {},
   "source": [
    "Scaling:"
   ]
  },
  {
   "cell_type": "code",
   "execution_count": 24,
   "metadata": {},
   "outputs": [
    {
     "data": {
      "text/html": [
       "<div>\n",
       "<style scoped>\n",
       "    .dataframe tbody tr th:only-of-type {\n",
       "        vertical-align: middle;\n",
       "    }\n",
       "\n",
       "    .dataframe tbody tr th {\n",
       "        vertical-align: top;\n",
       "    }\n",
       "\n",
       "    .dataframe thead th {\n",
       "        text-align: right;\n",
       "    }\n",
       "</style>\n",
       "<table border=\"1\" class=\"dataframe\">\n",
       "  <thead>\n",
       "    <tr style=\"text-align: right;\">\n",
       "      <th></th>\n",
       "      <th>distancia_a_centro_05</th>\n",
       "      <th>duracion_a_centro_05</th>\n",
       "      <th>pob0a5_mz</th>\n",
       "      <th>pob0a3_mz</th>\n",
       "      <th>pob4a5_mz</th>\n",
       "      <th>Población</th>\n",
       "      <th>Estrato</th>\n",
       "    </tr>\n",
       "  </thead>\n",
       "  <tbody>\n",
       "    <tr>\n",
       "      <th>0</th>\n",
       "      <td>0.037163</td>\n",
       "      <td>0.035827</td>\n",
       "      <td>-0.496495</td>\n",
       "      <td>-0.470746</td>\n",
       "      <td>-0.293573</td>\n",
       "      <td>-0.586202</td>\n",
       "      <td>-0.179101</td>\n",
       "    </tr>\n",
       "    <tr>\n",
       "      <th>1</th>\n",
       "      <td>-0.097119</td>\n",
       "      <td>-0.096934</td>\n",
       "      <td>-0.284835</td>\n",
       "      <td>-0.365934</td>\n",
       "      <td>-0.097471</td>\n",
       "      <td>-0.480575</td>\n",
       "      <td>-1.027647</td>\n",
       "    </tr>\n",
       "    <tr>\n",
       "      <th>2</th>\n",
       "      <td>-0.101351</td>\n",
       "      <td>-0.101116</td>\n",
       "      <td>-0.073176</td>\n",
       "      <td>0.158124</td>\n",
       "      <td>-0.293573</td>\n",
       "      <td>-0.155567</td>\n",
       "      <td>-0.179101</td>\n",
       "    </tr>\n",
       "    <tr>\n",
       "      <th>3</th>\n",
       "      <td>-0.101663</td>\n",
       "      <td>-0.101424</td>\n",
       "      <td>-0.143729</td>\n",
       "      <td>0.158124</td>\n",
       "      <td>-0.685777</td>\n",
       "      <td>-0.634954</td>\n",
       "      <td>-1.027647</td>\n",
       "    </tr>\n",
       "    <tr>\n",
       "      <th>4</th>\n",
       "      <td>-0.073773</td>\n",
       "      <td>-0.073868</td>\n",
       "      <td>-0.708154</td>\n",
       "      <td>-0.680369</td>\n",
       "      <td>-0.685777</td>\n",
       "      <td>-0.716206</td>\n",
       "      <td>0.669446</td>\n",
       "    </tr>\n",
       "  </tbody>\n",
       "</table>\n",
       "</div>"
      ],
      "text/plain": [
       "   distancia_a_centro_05  duracion_a_centro_05  pob0a5_mz  pob0a3_mz  \\\n",
       "0               0.037163              0.035827  -0.496495  -0.470746   \n",
       "1              -0.097119             -0.096934  -0.284835  -0.365934   \n",
       "2              -0.101351             -0.101116  -0.073176   0.158124   \n",
       "3              -0.101663             -0.101424  -0.143729   0.158124   \n",
       "4              -0.073773             -0.073868  -0.708154  -0.680369   \n",
       "\n",
       "   pob4a5_mz  Población   Estrato  \n",
       "0  -0.293573  -0.586202 -0.179101  \n",
       "1  -0.097471  -0.480575 -1.027647  \n",
       "2  -0.293573  -0.155567 -0.179101  \n",
       "3  -0.685777  -0.634954 -1.027647  \n",
       "4  -0.685777  -0.716206  0.669446  "
      ]
     },
     "execution_count": 24,
     "metadata": {},
     "output_type": "execute_result"
    }
   ],
   "source": [
    "\n",
    "\n",
    "from sklearn.preprocessing import StandardScaler\n",
    "\n",
    "columns_to_scale = ['distancia_a_centro_05', 'duracion_a_centro_05',\n",
    "       'pob0a5_mz', 'pob0a3_mz', 'pob4a5_mz', 'Población',\n",
    "       'Estrato']  \n",
    "\n",
    "scaler = StandardScaler()\n",
    "\n",
    "df_scaled = scaler.fit_transform(df[columns_to_scale])\n",
    "\n",
    "df_scaled = pd.DataFrame(df_scaled, columns=columns_to_scale)\n",
    "\n",
    "df_scaled.head()"
   ]
  },
  {
   "cell_type": "code",
   "execution_count": 25,
   "metadata": {},
   "outputs": [],
   "source": [
    "# Calculo de media y desviacion\n",
    "mean_travel_time = df_scaled['duracion_a_centro_05'].mean()\n",
    "std_travel_time = df_scaled['duracion_a_centro_05'].std()\n",
    "\n",
    "mean_n_children = df_scaled['pob0a5_mz'].mean()\n",
    "std_n_children = df_scaled['pob0a5_mz'].std()\n",
    "\n",
    "# Identificación de manzanas donde tiempo de viaje y demanda están a más de una desviación estándar por encima de la media\n",
    "\n",
    "df_scaled['desierto'] = (df_scaled['duracion_a_centro_05'] > mean_travel_time + std_travel_time).astype(int)\n",
    "\n",
    "df_scaled['desierto_alta_demanda'] = ((df_scaled['duracion_a_centro_05'] > mean_travel_time + std_travel_time) & \n",
    "                               (df_scaled['pob0a5_mz'] > mean_n_children + std_n_children)).astype(int)\n",
    "\n",
    "\n",
    "df_scaled['desierto_baja_demanda'] = ((df_scaled['duracion_a_centro_05'] > mean_travel_time + std_travel_time) & \n",
    "                               (df_scaled['pob0a5_mz'] < mean_n_children - std_n_children)).astype(int)\n",
    "\n",
    "df_scaled['desierto_demanda_media'] = ((df_scaled['duracion_a_centro_05'] > mean_travel_time + std_travel_time) & \n",
    "                               (df_scaled['pob0a5_mz'] < mean_n_children + std_n_children) &\n",
    "                               (df_scaled['pob0a5_mz'] > mean_n_children - std_n_children)).astype(int)"
   ]
  },
  {
   "cell_type": "code",
   "execution_count": 26,
   "metadata": {},
   "outputs": [
    {
     "data": {
      "text/plain": [
       "-4.6183185148829454e-18"
      ]
     },
     "execution_count": 26,
     "metadata": {},
     "output_type": "execute_result"
    }
   ],
   "source": [
    "df_scaled['duracion_a_centro_05'].mean()"
   ]
  },
  {
   "cell_type": "code",
   "execution_count": 27,
   "metadata": {},
   "outputs": [
    {
     "name": "stdout",
     "output_type": "stream",
     "text": [
      "46.63007291857088\n",
      "463.90851735375634\n",
      "2.975\n",
      "420.2534444351855\n"
     ]
    }
   ],
   "source": [
    "# Medias sin normalizar\n",
    "print (df[\"duracion_a_centro_05\"].mean())\n",
    "print (df[\"duracion_a_centro_05\"].mean() + df[\"duracion_a_centro_05\"].std())\n",
    "print (df[\"duracion_a_centro_05\"].median())\n",
    "print (df[\"duracion_a_centro_05\"].median() + df[\"duracion_a_centro_05\"].std())\n"
   ]
  },
  {
   "cell_type": "markdown",
   "metadata": {},
   "source": [
    "Viendo que la presencia de outliers altera tanto las medias y std, es necesario considerar las ventajas de una tipología normativa, donde se marquen los umbrales desde lo teórico."
   ]
  },
  {
   "cell_type": "code",
   "execution_count": 28,
   "metadata": {},
   "outputs": [
    {
     "name": "stdout",
     "output_type": "stream",
     "text": [
      "desierto\n",
      "0    97305\n",
      "1     1161\n",
      "Name: count, dtype: int64\n",
      "desierto_alta_demanda\n",
      "0    98444\n",
      "1       22\n",
      "Name: count, dtype: int64\n",
      "desierto_baja_demanda\n",
      "0    98466\n",
      "Name: count, dtype: int64\n",
      "desierto_demanda_media\n",
      "0    97327\n",
      "1     1139\n",
      "Name: count, dtype: int64\n"
     ]
    }
   ],
   "source": [
    "print(df_scaled.desierto.value_counts())\n",
    "print(df_scaled.desierto_alta_demanda.value_counts())\n",
    "print(df_scaled.desierto_baja_demanda.value_counts())\n",
    "print(df_scaled.desierto_demanda_media.value_counts())"
   ]
  },
  {
   "cell_type": "code",
   "execution_count": 29,
   "metadata": {},
   "outputs": [],
   "source": [
    "df_scaled[\"geometry\"]= df[\"geometry\"]"
   ]
  },
  {
   "cell_type": "code",
   "execution_count": 30,
   "metadata": {},
   "outputs": [],
   "source": [
    "geopan = gpd.GeoDataFrame(df_scaled, geometry='geometry')"
   ]
  },
  {
   "cell_type": "code",
   "execution_count": 31,
   "metadata": {},
   "outputs": [
    {
     "data": {
      "image/png": "[encoded data removed]",
      "text/plain": [
       "<Figure size 640x480 with 1 Axes>"
      ]
     },
     "metadata": {},
     "output_type": "display_data"
    }
   ],
   "source": [
    "import matplotlib.colors\n",
    "\n",
    "# Define a custom color map: red for 1, grey for 0\n",
    "cmap = matplotlib.colors.ListedColormap(['grey', 'red'])\n",
    "\n",
    "# Create a normalization object that maps your data values (0 and 1) to the colormap\n",
    "norm = matplotlib.colors.BoundaryNorm([0, 0.5, 1], cmap.N)\n",
    "\n",
    "fig, ax = plt.subplots(1, 1)\n",
    "\n",
    "# Plot using the custom colormap and normalization\n",
    "geopan.plot(column='desierto', ax=ax, legend=True, categorical=True, cmap=cmap, norm=norm)\n",
    "\n",
    "# Remove longitude and latitude ticks\n",
    "ax.set_xticks([])\n",
    "ax.set_yticks([])\n",
    "\n",
    "ax.set_title('Desiertos de cuidado (NN 0-5)')\n",
    "\n",
    "# Save the figure with high resolution\n",
    "plt.savefig('desiertos_de_cuidado.png', format='png', dpi=1500)\n",
    "\n",
    "plt.show()\n",
    "\n",
    "\n",
    "\n"
   ]
  },
  {
   "cell_type": "markdown",
   "metadata": {},
   "source": [
    "## Opción 3: Tipología mixta (normativa+empírica) de desiertos de cuidado"
   ]
  },
  {
   "cell_type": "markdown",
   "metadata": {},
   "source": [
    "Primero observemos las distribuciones de tiempos de viaje en el mapa."
   ]
  },
  {
   "cell_type": "code",
   "execution_count": 70,
   "metadata": {},
   "outputs": [
    {
     "data": {
      "text/plain": [
       "travel_time_category\n",
       "0-20     95419\n",
       "60+       1485\n",
       "20-40     1302\n",
       "40-60      260\n",
       "Name: count, dtype: int64"
      ]
     },
     "execution_count": 70,
     "metadata": {},
     "output_type": "execute_result"
    }
   ],
   "source": [
    "bins = [0, 20, 40, 60, float('inf')]\n",
    "\n",
    "# Define the labels for the bins\n",
    "labels = ['0-20', '20-40', '40-60', '60+']\n",
    "\n",
    "# Create the categorical variable\n",
    "df['travel_time_category'] = pd.cut(df['duracion_a_centro_05'], bins=bins, labels=labels, include_lowest=True)\n",
    "\n",
    "df.travel_time_category.value_counts()"
   ]
  },
  {
   "cell_type": "code",
   "execution_count": 76,
   "metadata": {},
   "outputs": [],
   "source": [
    "geopan = gpd.GeoDataFrame(df, geometry='geometry')"
   ]
  },
  {
   "cell_type": "code",
   "execution_count": 77,
   "metadata": {},
   "outputs": [
    {
     "data": {
      "image/png": "[encoded data removed]",
      "text/plain": [
       "<Figure size 640x480 with 1 Axes>"
      ]
     },
     "metadata": {},
     "output_type": "display_data"
    }
   ],
   "source": [
    "import matplotlib.colors\n",
    "\n",
    "# Define a custom color map: red for 1, grey for 0\n",
    "cmap = matplotlib.colors.ListedColormap(['grey', 'yellow', 'orange', 'purple'])\n",
    "\n",
    "# Create a normalization object that maps your data values (0 and 1) to the colormap\n",
    "norm = matplotlib.colors.BoundaryNorm([0, 1, 2, 3, 4], cmap.N)\n",
    "\n",
    "fig, ax = plt.subplots(1, 1)\n",
    "\n",
    "# Plot using the custom colormap and normalization\n",
    "geopan.plot(column='travel_time_category', ax=ax, legend=True, categorical=True, cmap=cmap, norm=norm)\n",
    "\n",
    "# Remove longitude and latitude ticks\n",
    "ax.set_xticks([])\n",
    "ax.set_yticks([])\n",
    "\n",
    "ax.set_title('Tiempos de viaje - centros cuidado 0-5')\n",
    "\n",
    "# Save the figure with high resolution\n",
    "plt.savefig('Tiempos de viaje_cat.png', format='png', dpi=1500)\n",
    "\n",
    "plt.show()\n"
   ]
  },
  {
   "cell_type": "markdown",
   "metadata": {},
   "source": [
    "Defino como zonas 'problemáticas' aquellas donde el tiempo caminando es mayor a 20 minutos (considerando que esta caminata se da cargando hijos pequeños). Un 3% de los territorios termina caracterizado como zona a prestarle atención."
   ]
  },
  {
   "cell_type": "code",
   "execution_count": 32,
   "metadata": {},
   "outputs": [
    {
     "data": {
      "text/plain": [
       "desierto\n",
       "0    95419\n",
       "1     3047\n",
       "Name: count, dtype: int64"
      ]
     },
     "execution_count": 32,
     "metadata": {},
     "output_type": "execute_result"
    }
   ],
   "source": [
    "\n",
    "df['desierto'] = (df['duracion_a_centro_05'] > 20).astype(int)\n",
    "df.desierto.value_counts()"
   ]
  },
  {
   "cell_type": "code",
   "execution_count": 33,
   "metadata": {},
   "outputs": [],
   "source": [
    "geopan = gpd.GeoDataFrame(df, geometry='geometry')"
   ]
  },
  {
   "cell_type": "code",
   "execution_count": 97,
   "metadata": {},
   "outputs": [
    {
     "data": {
      "image/png": "[encoded data removed]",
      "text/plain": [
       "<Figure size 640x480 with 1 Axes>"
      ]
     },
     "metadata": {},
     "output_type": "display_data"
    }
   ],
   "source": [
    "import matplotlib.colors\n",
    "\n",
    "# Define a custom color map: red for 1, grey for 0\n",
    "cmap = matplotlib.colors.ListedColormap(['grey', 'red'])\n",
    "\n",
    "# Create a normalization object that maps your data values (0 and 1) to the colormap\n",
    "norm = matplotlib.colors.BoundaryNorm([0, 0.5, 1], cmap.N)\n",
    "\n",
    "fig, ax = plt.subplots(1, 1)\n",
    "\n",
    "# Plot using the custom colormap and normalization\n",
    "geopan.plot(column='desierto', ax=ax, legend=True, categorical=True, cmap=cmap, norm=norm)\n",
    "\n",
    "# Remove longitude and latitude ticks\n",
    "ax.set_xticks([])\n",
    "ax.set_yticks([])\n",
    "\n",
    "ax.set_title('Desiertos de cuidado (NN 0-5)')\n",
    "\n",
    "# Save the figure with high resolution\n",
    "plt.savefig('desiertos_de_cuidado.png', format='png', dpi=1500)\n",
    "\n",
    "plt.show()"
   ]
  },
  {
   "cell_type": "markdown",
   "metadata": {},
   "source": [
    "Para clasificar la población, normalizamos la data y estudiamos criterios empíricos."
   ]
  },
  {
   "cell_type": "code",
   "execution_count": 34,
   "metadata": {},
   "outputs": [
    {
     "name": "stdout",
     "output_type": "stream",
     "text": [
      "7.0\n"
     ]
    },
    {
     "data": {
      "text/plain": [
       "count    98466.000000\n",
       "mean        10.037170\n",
       "std         14.173781\n",
       "min          0.000000\n",
       "25%          3.000000\n",
       "50%          7.000000\n",
       "75%         14.000000\n",
       "max       1827.000000\n",
       "Name: pob0a5_mz, dtype: float64"
      ]
     },
     "execution_count": 34,
     "metadata": {},
     "output_type": "execute_result"
    }
   ],
   "source": [
    "print(df.pob0a5_mz.median())\n",
    "df.pob0a5_mz.describe()\n"
   ]
  },
  {
   "cell_type": "code",
   "execution_count": 35,
   "metadata": {},
   "outputs": [],
   "source": [
    "from sklearn.preprocessing import StandardScaler\n",
    "\n",
    "columns_to_scale = ['pob0a5_mz']  \n",
    "\n",
    "scaler = StandardScaler()\n",
    "\n",
    "df_scaled = scaler.fit_transform(df[columns_to_scale])\n",
    "\n"
   ]
  },
  {
   "cell_type": "code",
   "execution_count": 36,
   "metadata": {},
   "outputs": [],
   "source": [
    "df[\"pob_0a5_mz_normal\"]= df_scaled"
   ]
  },
  {
   "cell_type": "code",
   "execution_count": 37,
   "metadata": {},
   "outputs": [
    {
     "data": {
      "text/plain": [
       "count    9.846600e+04\n",
       "mean    -3.813721e-17\n",
       "std      1.000005e+00\n",
       "min     -7.081541e-01\n",
       "25%     -4.964946e-01\n",
       "50%     -2.142820e-01\n",
       "75%      2.795902e-01\n",
       "max      1.281925e+02\n",
       "Name: pob_0a5_mz_normal, dtype: float64"
      ]
     },
     "execution_count": 37,
     "metadata": {},
     "output_type": "execute_result"
    }
   ],
   "source": [
    "df.pob_0a5_mz_normal.describe()"
   ]
  },
  {
   "cell_type": "markdown",
   "metadata": {},
   "source": [
    "Estudio tres posibilidades:"
   ]
  },
  {
   "cell_type": "code",
   "execution_count": 38,
   "metadata": {},
   "outputs": [],
   "source": [
    "umbral1 = df.pob_0a5_mz_normal.mean()\n",
    "umbral2 = df.pob_0a5_mz_normal.mean() + df.pob0a5_mz.std()\n",
    "umbral3 = df.pob_0a5_mz_normal.median()"
   ]
  },
  {
   "cell_type": "code",
   "execution_count": 41,
   "metadata": {},
   "outputs": [
    {
     "name": "stdout",
     "output_type": "stream",
     "text": [
      "alta_demanda_1\n",
      "0    64135\n",
      "1    34331\n",
      "Name: count, dtype: int64\n",
      "alta_demanda_2\n",
      "0    98437\n",
      "1       29\n",
      "Name: count, dtype: int64\n",
      "alta_demanda_3\n",
      "1    50479\n",
      "0    47987\n",
      "Name: count, dtype: int64\n"
     ]
    }
   ],
   "source": [
    "df['alta_demanda_1'] = (df['pob_0a5_mz_normal'] >= umbral1).astype(int)\n",
    "df['alta_demanda_2'] = (df['pob_0a5_mz_normal'] >= umbral2).astype(int)\n",
    "df['alta_demanda_3'] = (df['pob_0a5_mz_normal'] >= umbral3).astype(int)\n",
    "\n",
    "print(df.alta_demanda_1.value_counts())\n",
    "print(df.alta_demanda_2.value_counts())\n",
    "print(df.alta_demanda_3.value_counts())"
   ]
  },
  {
   "cell_type": "markdown",
   "metadata": {},
   "source": [
    "Marcar como alta demanda los mayores a la media parece razonable - sumarle el SD reduce mucho las manzanas resultantes por la alta heterogeneidad del territorio."
   ]
  },
  {
   "cell_type": "code",
   "execution_count": 42,
   "metadata": {},
   "outputs": [
    {
     "data": {
      "text/plain": [
       "desiert_demanda\n",
       "0    97291\n",
       "1     1175\n",
       "Name: count, dtype: int64"
      ]
     },
     "execution_count": 42,
     "metadata": {},
     "output_type": "execute_result"
    }
   ],
   "source": [
    "df[\"desiert_demanda\"] = df[\"desierto\"] * df[\"alta_demanda_3\"]\n",
    "df.desiert_demanda.value_counts()"
   ]
  },
  {
   "cell_type": "code",
   "execution_count": 43,
   "metadata": {},
   "outputs": [
    {
     "data": {
      "text/plain": [
       "0.012077170550205055"
      ]
     },
     "execution_count": 43,
     "metadata": {},
     "output_type": "execute_result"
    }
   ],
   "source": [
    "df.desiert_demanda.value_counts()[1]/df.desiert_demanda.value_counts()[0]"
   ]
  },
  {
   "cell_type": "markdown",
   "metadata": {},
   "source": [
    "1% de las manzanas se clasifican como desiertos. Sin embargo, son fácilmente identificables en el mapa, lo cual resulta ventajoso para los hacedores de política."
   ]
  },
  {
   "cell_type": "code",
   "execution_count": 49,
   "metadata": {},
   "outputs": [
    {
     "data": {
      "image/png": "[encoded data removed]",
      "text/plain": [
       "<Figure size 640x480 with 1 Axes>"
      ]
     },
     "metadata": {},
     "output_type": "display_data"
    }
   ],
   "source": [
    "geopan = gpd.GeoDataFrame(df, geometry='geometry')\n",
    "\n",
    "# Define a custom color map: red for 1, grey for 0\n",
    "cmap = matplotlib.colors.ListedColormap(['grey', 'red'])\n",
    "\n",
    "# Create a normalization object that maps your data values (0 and 1) to the colormap\n",
    "norm = matplotlib.colors.BoundaryNorm([0, 0.5, 1], cmap.N)\n",
    "\n",
    "fig, ax = plt.subplots(1, 1)\n",
    "\n",
    "# Plot using the custom colormap and normalization\n",
    "geopan.plot(column='desiert_demanda', ax=ax, legend=True, categorical=True, cmap=cmap, norm=norm)\n",
    "\n",
    "# Remove longitude and latitude ticks\n",
    "ax.set_xticks([])\n",
    "ax.set_yticks([])\n",
    "\n",
    "ax.set_title('Desiertos de cuidado (NN 0-5)')\n",
    "\n",
    "# Save the figure with high resolution\n",
    "plt.savefig('figs/desiertos_de_cuidado_alta_demanda.png', format='png', dpi=1500)\n",
    "\n",
    "plt.show()"
   ]
  },
  {
   "cell_type": "code",
   "execution_count": 46,
   "metadata": {},
   "outputs": [],
   "source": [
    "geopan = gpd.GeoDataFrame(df, geometry='geometry')"
   ]
  },
  {
   "cell_type": "code",
   "execution_count": 47,
   "metadata": {},
   "outputs": [
    {
     "data": {
      "text/plain": [
       "Index(['geometry', 'pob0a5_mz', 'pob0a3_mz', 'pob4a5_mz',\n",
       "       'distancia_a_centro_05', 'duracion_a_centro_05', 'Hogares', 'Población',\n",
       "       'Estrato', 'desierto', 'pob_0a5_mz_normal', 'alta_demanda_1',\n",
       "       'alta_demanda_2', 'alta_demanda_3', 'desiert_demanda'],\n",
       "      dtype='object')"
      ]
     },
     "execution_count": 47,
     "metadata": {},
     "output_type": "execute_result"
    }
   ],
   "source": [
    "geopan.columns"
   ]
  },
  {
   "cell_type": "code",
   "execution_count": 48,
   "metadata": {},
   "outputs": [],
   "source": [
    "geopan.to_file('data/results - desiertos/Desiertos cuidado 0a5_ok.geojson', driver='GeoJSON')\n"
   ]
  }
 ],
 "metadata": {
  "kernelspec": {
   "display_name": "accesibility_undp",
   "language": "python",
   "name": "python3"
  },
  "language_info": {
   "codemirror_mode": {
    "name": "ipython",
    "version": 3
   },
   "file_extension": ".py",
   "mimetype": "text/x-python",
   "name": "python",
   "nbconvert_exporter": "python",
   "pygments_lexer": "ipython3",
   "version": "3.12.0"
  }
 },
 "nbformat": 4,
 "nbformat_minor": 2
}
